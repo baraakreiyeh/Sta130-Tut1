{
 "cells": [
  {
   "cell_type": "code",
   "execution_count": 17,
   "id": "1d018542",
   "metadata": {},
   "outputs": [],
   "source": [
    "# 1.\n",
    "\n",
    "import plotly.express as px\n",
    "import plotly.graph_objects as go\n",
    "import seaborn as sns\n",
    "import numpy as np\n",
    "import matplotlib.pyplot as plt\n",
    "from scipy import stats\n",
    "# Load the penguins dataset\n",
    "penguins = sns.load_dataset('penguins')\n",
    "\n",
    "# Filter out rows with missing values in flipper_length_mm and species\n",
    "penguins = penguins.dropna(subset=['flipper_length_mm', 'species'])"
   ]
  },
  {
   "cell_type": "code",
   "execution_count": 18,
   "id": "989519a3",
   "metadata": {},
   "outputs": [
    {
     "data": {
      "application/vnd.plotly.v1+json": {
       "config": {
        "plotlyServerURL": "https://plot.ly"
       },
       "data": [
        {
         "alignmentgroup": "True",
         "bingroup": "x",
         "hovertemplate": "flipper_length_mm=%{x}<br>count=%{y}<extra></extra>",
         "legendgroup": "",
         "marker": {
          "color": "#636efa",
          "pattern": {
           "shape": ""
          }
         },
         "name": "",
         "nbinsx": 20,
         "offsetgroup": "",
         "orientation": "v",
         "showlegend": false,
         "type": "histogram",
         "x": [
          181,
          186,
          195,
          193,
          190,
          181,
          195,
          193,
          190,
          186,
          180,
          182,
          191,
          198,
          185,
          195,
          197,
          184,
          194,
          174,
          180,
          189,
          185,
          180,
          187,
          183,
          187,
          172,
          180,
          178,
          178,
          188,
          184,
          195,
          196,
          190,
          180,
          181,
          184,
          182,
          195,
          186,
          196,
          185,
          190,
          182,
          179,
          190,
          191,
          186,
          188,
          190,
          200,
          187,
          191,
          186,
          193,
          181,
          194,
          185,
          195,
          185,
          192,
          184,
          192,
          195,
          188,
          190,
          198,
          190,
          190,
          196,
          197,
          190,
          195,
          191,
          184,
          187,
          195,
          189,
          196,
          187,
          193,
          191,
          194,
          190,
          189,
          189,
          190,
          202,
          205,
          185,
          186,
          187,
          208,
          190,
          196,
          178,
          192,
          192,
          203,
          183,
          190,
          193,
          184,
          199,
          190,
          181,
          197,
          198,
          191,
          193,
          197,
          191,
          196,
          188,
          199,
          189,
          189,
          187,
          198,
          176,
          202,
          186,
          199,
          191,
          195,
          191,
          210,
          190,
          197,
          193,
          199,
          187,
          190,
          191,
          200,
          185,
          193,
          193,
          187,
          188,
          190,
          192,
          185,
          190,
          184,
          195,
          193,
          187,
          201
         ],
         "xaxis": "x",
         "yaxis": "y"
        }
       ],
       "layout": {
        "annotations": [
         {
          "showarrow": false,
          "text": "Mean",
          "x": 189.95364238410596,
          "xanchor": "right",
          "xref": "x",
          "y": 1,
          "yanchor": "top",
          "yref": "y domain"
         },
         {
          "showarrow": false,
          "text": "Median",
          "x": 190,
          "xanchor": "left",
          "xref": "x",
          "y": 1,
          "yanchor": "top",
          "yref": "y domain"
         },
         {
          "showarrow": false,
          "text": "Range",
          "x": 210,
          "xanchor": "right",
          "xref": "x",
          "y": 1,
          "yanchor": "top",
          "yref": "y domain"
         },
         {
          "showarrow": false,
          "text": "IQR",
          "x": 195,
          "xanchor": "right",
          "xref": "x",
          "y": 1,
          "yanchor": "top",
          "yref": "y domain"
         },
         {
          "showarrow": false,
          "text": "2 Std Dev",
          "x": 203.03255721848856,
          "xanchor": "right",
          "xref": "x",
          "y": 1,
          "yanchor": "top",
          "yref": "y domain"
         }
        ],
        "barmode": "relative",
        "legend": {
         "tracegroupgap": 0
        },
        "shapes": [
         {
          "line": {
           "color": "blue",
           "dash": "dash"
          },
          "type": "line",
          "x0": 189.95364238410596,
          "x1": 189.95364238410596,
          "xref": "x",
          "y0": 0,
          "y1": 1,
          "yref": "y domain"
         },
         {
          "line": {
           "color": "green",
           "dash": "dash"
          },
          "type": "line",
          "x0": 190,
          "x1": 190,
          "xref": "x",
          "y0": 0,
          "y1": 1,
          "yref": "y domain"
         },
         {
          "fillcolor": "LightPink",
          "line": {
           "width": 0
          },
          "opacity": 0.2,
          "type": "rect",
          "x0": 172,
          "x1": 210,
          "xref": "x",
          "y0": 0,
          "y1": 1,
          "yref": "y domain"
         },
         {
          "fillcolor": "LightGreen",
          "line": {
           "width": 0
          },
          "opacity": 0.3,
          "type": "rect",
          "x0": 186,
          "x1": 195,
          "xref": "x",
          "y0": 0,
          "y1": 1,
          "yref": "y domain"
         },
         {
          "fillcolor": "LightBlue",
          "line": {
           "width": 0
          },
          "opacity": 0.2,
          "type": "rect",
          "x0": 176.87472754972336,
          "x1": 203.03255721848856,
          "xref": "x",
          "y0": 0,
          "y1": 1,
          "yref": "y domain"
         }
        ],
        "showlegend": false,
        "template": {
         "data": {
          "bar": [
           {
            "error_x": {
             "color": "#2a3f5f"
            },
            "error_y": {
             "color": "#2a3f5f"
            },
            "marker": {
             "line": {
              "color": "#E5ECF6",
              "width": 0.5
             },
             "pattern": {
              "fillmode": "overlay",
              "size": 10,
              "solidity": 0.2
             }
            },
            "type": "bar"
           }
          ],
          "barpolar": [
           {
            "marker": {
             "line": {
              "color": "#E5ECF6",
              "width": 0.5
             },
             "pattern": {
              "fillmode": "overlay",
              "size": 10,
              "solidity": 0.2
             }
            },
            "type": "barpolar"
           }
          ],
          "carpet": [
           {
            "aaxis": {
             "endlinecolor": "#2a3f5f",
             "gridcolor": "white",
             "linecolor": "white",
             "minorgridcolor": "white",
             "startlinecolor": "#2a3f5f"
            },
            "baxis": {
             "endlinecolor": "#2a3f5f",
             "gridcolor": "white",
             "linecolor": "white",
             "minorgridcolor": "white",
             "startlinecolor": "#2a3f5f"
            },
            "type": "carpet"
           }
          ],
          "choropleth": [
           {
            "colorbar": {
             "outlinewidth": 0,
             "ticks": ""
            },
            "type": "choropleth"
           }
          ],
          "contour": [
           {
            "colorbar": {
             "outlinewidth": 0,
             "ticks": ""
            },
            "colorscale": [
             [
              0,
              "#0d0887"
             ],
             [
              0.1111111111111111,
              "#46039f"
             ],
             [
              0.2222222222222222,
              "#7201a8"
             ],
             [
              0.3333333333333333,
              "#9c179e"
             ],
             [
              0.4444444444444444,
              "#bd3786"
             ],
             [
              0.5555555555555556,
              "#d8576b"
             ],
             [
              0.6666666666666666,
              "#ed7953"
             ],
             [
              0.7777777777777778,
              "#fb9f3a"
             ],
             [
              0.8888888888888888,
              "#fdca26"
             ],
             [
              1,
              "#f0f921"
             ]
            ],
            "type": "contour"
           }
          ],
          "contourcarpet": [
           {
            "colorbar": {
             "outlinewidth": 0,
             "ticks": ""
            },
            "type": "contourcarpet"
           }
          ],
          "heatmap": [
           {
            "colorbar": {
             "outlinewidth": 0,
             "ticks": ""
            },
            "colorscale": [
             [
              0,
              "#0d0887"
             ],
             [
              0.1111111111111111,
              "#46039f"
             ],
             [
              0.2222222222222222,
              "#7201a8"
             ],
             [
              0.3333333333333333,
              "#9c179e"
             ],
             [
              0.4444444444444444,
              "#bd3786"
             ],
             [
              0.5555555555555556,
              "#d8576b"
             ],
             [
              0.6666666666666666,
              "#ed7953"
             ],
             [
              0.7777777777777778,
              "#fb9f3a"
             ],
             [
              0.8888888888888888,
              "#fdca26"
             ],
             [
              1,
              "#f0f921"
             ]
            ],
            "type": "heatmap"
           }
          ],
          "heatmapgl": [
           {
            "colorbar": {
             "outlinewidth": 0,
             "ticks": ""
            },
            "colorscale": [
             [
              0,
              "#0d0887"
             ],
             [
              0.1111111111111111,
              "#46039f"
             ],
             [
              0.2222222222222222,
              "#7201a8"
             ],
             [
              0.3333333333333333,
              "#9c179e"
             ],
             [
              0.4444444444444444,
              "#bd3786"
             ],
             [
              0.5555555555555556,
              "#d8576b"
             ],
             [
              0.6666666666666666,
              "#ed7953"
             ],
             [
              0.7777777777777778,
              "#fb9f3a"
             ],
             [
              0.8888888888888888,
              "#fdca26"
             ],
             [
              1,
              "#f0f921"
             ]
            ],
            "type": "heatmapgl"
           }
          ],
          "histogram": [
           {
            "marker": {
             "pattern": {
              "fillmode": "overlay",
              "size": 10,
              "solidity": 0.2
             }
            },
            "type": "histogram"
           }
          ],
          "histogram2d": [
           {
            "colorbar": {
             "outlinewidth": 0,
             "ticks": ""
            },
            "colorscale": [
             [
              0,
              "#0d0887"
             ],
             [
              0.1111111111111111,
              "#46039f"
             ],
             [
              0.2222222222222222,
              "#7201a8"
             ],
             [
              0.3333333333333333,
              "#9c179e"
             ],
             [
              0.4444444444444444,
              "#bd3786"
             ],
             [
              0.5555555555555556,
              "#d8576b"
             ],
             [
              0.6666666666666666,
              "#ed7953"
             ],
             [
              0.7777777777777778,
              "#fb9f3a"
             ],
             [
              0.8888888888888888,
              "#fdca26"
             ],
             [
              1,
              "#f0f921"
             ]
            ],
            "type": "histogram2d"
           }
          ],
          "histogram2dcontour": [
           {
            "colorbar": {
             "outlinewidth": 0,
             "ticks": ""
            },
            "colorscale": [
             [
              0,
              "#0d0887"
             ],
             [
              0.1111111111111111,
              "#46039f"
             ],
             [
              0.2222222222222222,
              "#7201a8"
             ],
             [
              0.3333333333333333,
              "#9c179e"
             ],
             [
              0.4444444444444444,
              "#bd3786"
             ],
             [
              0.5555555555555556,
              "#d8576b"
             ],
             [
              0.6666666666666666,
              "#ed7953"
             ],
             [
              0.7777777777777778,
              "#fb9f3a"
             ],
             [
              0.8888888888888888,
              "#fdca26"
             ],
             [
              1,
              "#f0f921"
             ]
            ],
            "type": "histogram2dcontour"
           }
          ],
          "mesh3d": [
           {
            "colorbar": {
             "outlinewidth": 0,
             "ticks": ""
            },
            "type": "mesh3d"
           }
          ],
          "parcoords": [
           {
            "line": {
             "colorbar": {
              "outlinewidth": 0,
              "ticks": ""
             }
            },
            "type": "parcoords"
           }
          ],
          "pie": [
           {
            "automargin": true,
            "type": "pie"
           }
          ],
          "scatter": [
           {
            "fillpattern": {
             "fillmode": "overlay",
             "size": 10,
             "solidity": 0.2
            },
            "type": "scatter"
           }
          ],
          "scatter3d": [
           {
            "line": {
             "colorbar": {
              "outlinewidth": 0,
              "ticks": ""
             }
            },
            "marker": {
             "colorbar": {
              "outlinewidth": 0,
              "ticks": ""
             }
            },
            "type": "scatter3d"
           }
          ],
          "scattercarpet": [
           {
            "marker": {
             "colorbar": {
              "outlinewidth": 0,
              "ticks": ""
             }
            },
            "type": "scattercarpet"
           }
          ],
          "scattergeo": [
           {
            "marker": {
             "colorbar": {
              "outlinewidth": 0,
              "ticks": ""
             }
            },
            "type": "scattergeo"
           }
          ],
          "scattergl": [
           {
            "marker": {
             "colorbar": {
              "outlinewidth": 0,
              "ticks": ""
             }
            },
            "type": "scattergl"
           }
          ],
          "scattermapbox": [
           {
            "marker": {
             "colorbar": {
              "outlinewidth": 0,
              "ticks": ""
             }
            },
            "type": "scattermapbox"
           }
          ],
          "scatterpolar": [
           {
            "marker": {
             "colorbar": {
              "outlinewidth": 0,
              "ticks": ""
             }
            },
            "type": "scatterpolar"
           }
          ],
          "scatterpolargl": [
           {
            "marker": {
             "colorbar": {
              "outlinewidth": 0,
              "ticks": ""
             }
            },
            "type": "scatterpolargl"
           }
          ],
          "scatterternary": [
           {
            "marker": {
             "colorbar": {
              "outlinewidth": 0,
              "ticks": ""
             }
            },
            "type": "scatterternary"
           }
          ],
          "surface": [
           {
            "colorbar": {
             "outlinewidth": 0,
             "ticks": ""
            },
            "colorscale": [
             [
              0,
              "#0d0887"
             ],
             [
              0.1111111111111111,
              "#46039f"
             ],
             [
              0.2222222222222222,
              "#7201a8"
             ],
             [
              0.3333333333333333,
              "#9c179e"
             ],
             [
              0.4444444444444444,
              "#bd3786"
             ],
             [
              0.5555555555555556,
              "#d8576b"
             ],
             [
              0.6666666666666666,
              "#ed7953"
             ],
             [
              0.7777777777777778,
              "#fb9f3a"
             ],
             [
              0.8888888888888888,
              "#fdca26"
             ],
             [
              1,
              "#f0f921"
             ]
            ],
            "type": "surface"
           }
          ],
          "table": [
           {
            "cells": {
             "fill": {
              "color": "#EBF0F8"
             },
             "line": {
              "color": "white"
             }
            },
            "header": {
             "fill": {
              "color": "#C8D4E3"
             },
             "line": {
              "color": "white"
             }
            },
            "type": "table"
           }
          ]
         },
         "layout": {
          "annotationdefaults": {
           "arrowcolor": "#2a3f5f",
           "arrowhead": 0,
           "arrowwidth": 1
          },
          "autotypenumbers": "strict",
          "coloraxis": {
           "colorbar": {
            "outlinewidth": 0,
            "ticks": ""
           }
          },
          "colorscale": {
           "diverging": [
            [
             0,
             "#8e0152"
            ],
            [
             0.1,
             "#c51b7d"
            ],
            [
             0.2,
             "#de77ae"
            ],
            [
             0.3,
             "#f1b6da"
            ],
            [
             0.4,
             "#fde0ef"
            ],
            [
             0.5,
             "#f7f7f7"
            ],
            [
             0.6,
             "#e6f5d0"
            ],
            [
             0.7,
             "#b8e186"
            ],
            [
             0.8,
             "#7fbc41"
            ],
            [
             0.9,
             "#4d9221"
            ],
            [
             1,
             "#276419"
            ]
           ],
           "sequential": [
            [
             0,
             "#0d0887"
            ],
            [
             0.1111111111111111,
             "#46039f"
            ],
            [
             0.2222222222222222,
             "#7201a8"
            ],
            [
             0.3333333333333333,
             "#9c179e"
            ],
            [
             0.4444444444444444,
             "#bd3786"
            ],
            [
             0.5555555555555556,
             "#d8576b"
            ],
            [
             0.6666666666666666,
             "#ed7953"
            ],
            [
             0.7777777777777778,
             "#fb9f3a"
            ],
            [
             0.8888888888888888,
             "#fdca26"
            ],
            [
             1,
             "#f0f921"
            ]
           ],
           "sequentialminus": [
            [
             0,
             "#0d0887"
            ],
            [
             0.1111111111111111,
             "#46039f"
            ],
            [
             0.2222222222222222,
             "#7201a8"
            ],
            [
             0.3333333333333333,
             "#9c179e"
            ],
            [
             0.4444444444444444,
             "#bd3786"
            ],
            [
             0.5555555555555556,
             "#d8576b"
            ],
            [
             0.6666666666666666,
             "#ed7953"
            ],
            [
             0.7777777777777778,
             "#fb9f3a"
            ],
            [
             0.8888888888888888,
             "#fdca26"
            ],
            [
             1,
             "#f0f921"
            ]
           ]
          },
          "colorway": [
           "#636efa",
           "#EF553B",
           "#00cc96",
           "#ab63fa",
           "#FFA15A",
           "#19d3f3",
           "#FF6692",
           "#B6E880",
           "#FF97FF",
           "#FECB52"
          ],
          "font": {
           "color": "#2a3f5f"
          },
          "geo": {
           "bgcolor": "white",
           "lakecolor": "white",
           "landcolor": "#E5ECF6",
           "showlakes": true,
           "showland": true,
           "subunitcolor": "white"
          },
          "hoverlabel": {
           "align": "left"
          },
          "hovermode": "closest",
          "mapbox": {
           "style": "light"
          },
          "paper_bgcolor": "white",
          "plot_bgcolor": "#E5ECF6",
          "polar": {
           "angularaxis": {
            "gridcolor": "white",
            "linecolor": "white",
            "ticks": ""
           },
           "bgcolor": "#E5ECF6",
           "radialaxis": {
            "gridcolor": "white",
            "linecolor": "white",
            "ticks": ""
           }
          },
          "scene": {
           "xaxis": {
            "backgroundcolor": "#E5ECF6",
            "gridcolor": "white",
            "gridwidth": 2,
            "linecolor": "white",
            "showbackground": true,
            "ticks": "",
            "zerolinecolor": "white"
           },
           "yaxis": {
            "backgroundcolor": "#E5ECF6",
            "gridcolor": "white",
            "gridwidth": 2,
            "linecolor": "white",
            "showbackground": true,
            "ticks": "",
            "zerolinecolor": "white"
           },
           "zaxis": {
            "backgroundcolor": "#E5ECF6",
            "gridcolor": "white",
            "gridwidth": 2,
            "linecolor": "white",
            "showbackground": true,
            "ticks": "",
            "zerolinecolor": "white"
           }
          },
          "shapedefaults": {
           "line": {
            "color": "#2a3f5f"
           }
          },
          "ternary": {
           "aaxis": {
            "gridcolor": "white",
            "linecolor": "white",
            "ticks": ""
           },
           "baxis": {
            "gridcolor": "white",
            "linecolor": "white",
            "ticks": ""
           },
           "bgcolor": "#E5ECF6",
           "caxis": {
            "gridcolor": "white",
            "linecolor": "white",
            "ticks": ""
           }
          },
          "title": {
           "x": 0.05
          },
          "xaxis": {
           "automargin": true,
           "gridcolor": "white",
           "linecolor": "white",
           "ticks": "",
           "title": {
            "standoff": 15
           },
           "zerolinecolor": "white",
           "zerolinewidth": 2
          },
          "yaxis": {
           "automargin": true,
           "gridcolor": "white",
           "linecolor": "white",
           "ticks": "",
           "title": {
            "standoff": 15
           },
           "zerolinecolor": "white",
           "zerolinewidth": 2
          }
         }
        },
        "title": {
         "text": "Flipper Length for Adelie"
        },
        "xaxis": {
         "anchor": "y",
         "domain": [
          0,
          1
         ],
         "title": {
          "text": "Flipper Length (mm)"
         }
        },
        "yaxis": {
         "anchor": "x",
         "domain": [
          0,
          1
         ],
         "title": {
          "text": "Count"
         }
        }
       }
      },
      "text/html": [
       "<div>                            <div id=\"c15390a1-fe29-4140-8df6-45b491047575\" class=\"plotly-graph-div\" style=\"height:525px; width:100%;\"></div>            <script type=\"text/javascript\">                require([\"plotly\"], function(Plotly) {                    window.PLOTLYENV=window.PLOTLYENV || {};                                    if (document.getElementById(\"c15390a1-fe29-4140-8df6-45b491047575\")) {                    Plotly.newPlot(                        \"c15390a1-fe29-4140-8df6-45b491047575\",                        [{\"alignmentgroup\":\"True\",\"bingroup\":\"x\",\"hovertemplate\":\"flipper_length_mm=%{x}\\u003cbr\\u003ecount=%{y}\\u003cextra\\u003e\\u003c\\u002fextra\\u003e\",\"legendgroup\":\"\",\"marker\":{\"color\":\"#636efa\",\"pattern\":{\"shape\":\"\"}},\"name\":\"\",\"nbinsx\":20,\"offsetgroup\":\"\",\"orientation\":\"v\",\"showlegend\":false,\"x\":[181.0,186.0,195.0,193.0,190.0,181.0,195.0,193.0,190.0,186.0,180.0,182.0,191.0,198.0,185.0,195.0,197.0,184.0,194.0,174.0,180.0,189.0,185.0,180.0,187.0,183.0,187.0,172.0,180.0,178.0,178.0,188.0,184.0,195.0,196.0,190.0,180.0,181.0,184.0,182.0,195.0,186.0,196.0,185.0,190.0,182.0,179.0,190.0,191.0,186.0,188.0,190.0,200.0,187.0,191.0,186.0,193.0,181.0,194.0,185.0,195.0,185.0,192.0,184.0,192.0,195.0,188.0,190.0,198.0,190.0,190.0,196.0,197.0,190.0,195.0,191.0,184.0,187.0,195.0,189.0,196.0,187.0,193.0,191.0,194.0,190.0,189.0,189.0,190.0,202.0,205.0,185.0,186.0,187.0,208.0,190.0,196.0,178.0,192.0,192.0,203.0,183.0,190.0,193.0,184.0,199.0,190.0,181.0,197.0,198.0,191.0,193.0,197.0,191.0,196.0,188.0,199.0,189.0,189.0,187.0,198.0,176.0,202.0,186.0,199.0,191.0,195.0,191.0,210.0,190.0,197.0,193.0,199.0,187.0,190.0,191.0,200.0,185.0,193.0,193.0,187.0,188.0,190.0,192.0,185.0,190.0,184.0,195.0,193.0,187.0,201.0],\"xaxis\":\"x\",\"yaxis\":\"y\",\"type\":\"histogram\"}],                        {\"template\":{\"data\":{\"histogram2dcontour\":[{\"type\":\"histogram2dcontour\",\"colorbar\":{\"outlinewidth\":0,\"ticks\":\"\"},\"colorscale\":[[0.0,\"#0d0887\"],[0.1111111111111111,\"#46039f\"],[0.2222222222222222,\"#7201a8\"],[0.3333333333333333,\"#9c179e\"],[0.4444444444444444,\"#bd3786\"],[0.5555555555555556,\"#d8576b\"],[0.6666666666666666,\"#ed7953\"],[0.7777777777777778,\"#fb9f3a\"],[0.8888888888888888,\"#fdca26\"],[1.0,\"#f0f921\"]]}],\"choropleth\":[{\"type\":\"choropleth\",\"colorbar\":{\"outlinewidth\":0,\"ticks\":\"\"}}],\"histogram2d\":[{\"type\":\"histogram2d\",\"colorbar\":{\"outlinewidth\":0,\"ticks\":\"\"},\"colorscale\":[[0.0,\"#0d0887\"],[0.1111111111111111,\"#46039f\"],[0.2222222222222222,\"#7201a8\"],[0.3333333333333333,\"#9c179e\"],[0.4444444444444444,\"#bd3786\"],[0.5555555555555556,\"#d8576b\"],[0.6666666666666666,\"#ed7953\"],[0.7777777777777778,\"#fb9f3a\"],[0.8888888888888888,\"#fdca26\"],[1.0,\"#f0f921\"]]}],\"heatmap\":[{\"type\":\"heatmap\",\"colorbar\":{\"outlinewidth\":0,\"ticks\":\"\"},\"colorscale\":[[0.0,\"#0d0887\"],[0.1111111111111111,\"#46039f\"],[0.2222222222222222,\"#7201a8\"],[0.3333333333333333,\"#9c179e\"],[0.4444444444444444,\"#bd3786\"],[0.5555555555555556,\"#d8576b\"],[0.6666666666666666,\"#ed7953\"],[0.7777777777777778,\"#fb9f3a\"],[0.8888888888888888,\"#fdca26\"],[1.0,\"#f0f921\"]]}],\"heatmapgl\":[{\"type\":\"heatmapgl\",\"colorbar\":{\"outlinewidth\":0,\"ticks\":\"\"},\"colorscale\":[[0.0,\"#0d0887\"],[0.1111111111111111,\"#46039f\"],[0.2222222222222222,\"#7201a8\"],[0.3333333333333333,\"#9c179e\"],[0.4444444444444444,\"#bd3786\"],[0.5555555555555556,\"#d8576b\"],[0.6666666666666666,\"#ed7953\"],[0.7777777777777778,\"#fb9f3a\"],[0.8888888888888888,\"#fdca26\"],[1.0,\"#f0f921\"]]}],\"contourcarpet\":[{\"type\":\"contourcarpet\",\"colorbar\":{\"outlinewidth\":0,\"ticks\":\"\"}}],\"contour\":[{\"type\":\"contour\",\"colorbar\":{\"outlinewidth\":0,\"ticks\":\"\"},\"colorscale\":[[0.0,\"#0d0887\"],[0.1111111111111111,\"#46039f\"],[0.2222222222222222,\"#7201a8\"],[0.3333333333333333,\"#9c179e\"],[0.4444444444444444,\"#bd3786\"],[0.5555555555555556,\"#d8576b\"],[0.6666666666666666,\"#ed7953\"],[0.7777777777777778,\"#fb9f3a\"],[0.8888888888888888,\"#fdca26\"],[1.0,\"#f0f921\"]]}],\"surface\":[{\"type\":\"surface\",\"colorbar\":{\"outlinewidth\":0,\"ticks\":\"\"},\"colorscale\":[[0.0,\"#0d0887\"],[0.1111111111111111,\"#46039f\"],[0.2222222222222222,\"#7201a8\"],[0.3333333333333333,\"#9c179e\"],[0.4444444444444444,\"#bd3786\"],[0.5555555555555556,\"#d8576b\"],[0.6666666666666666,\"#ed7953\"],[0.7777777777777778,\"#fb9f3a\"],[0.8888888888888888,\"#fdca26\"],[1.0,\"#f0f921\"]]}],\"mesh3d\":[{\"type\":\"mesh3d\",\"colorbar\":{\"outlinewidth\":0,\"ticks\":\"\"}}],\"scatter\":[{\"fillpattern\":{\"fillmode\":\"overlay\",\"size\":10,\"solidity\":0.2},\"type\":\"scatter\"}],\"parcoords\":[{\"type\":\"parcoords\",\"line\":{\"colorbar\":{\"outlinewidth\":0,\"ticks\":\"\"}}}],\"scatterpolargl\":[{\"type\":\"scatterpolargl\",\"marker\":{\"colorbar\":{\"outlinewidth\":0,\"ticks\":\"\"}}}],\"bar\":[{\"error_x\":{\"color\":\"#2a3f5f\"},\"error_y\":{\"color\":\"#2a3f5f\"},\"marker\":{\"line\":{\"color\":\"#E5ECF6\",\"width\":0.5},\"pattern\":{\"fillmode\":\"overlay\",\"size\":10,\"solidity\":0.2}},\"type\":\"bar\"}],\"scattergeo\":[{\"type\":\"scattergeo\",\"marker\":{\"colorbar\":{\"outlinewidth\":0,\"ticks\":\"\"}}}],\"scatterpolar\":[{\"type\":\"scatterpolar\",\"marker\":{\"colorbar\":{\"outlinewidth\":0,\"ticks\":\"\"}}}],\"histogram\":[{\"marker\":{\"pattern\":{\"fillmode\":\"overlay\",\"size\":10,\"solidity\":0.2}},\"type\":\"histogram\"}],\"scattergl\":[{\"type\":\"scattergl\",\"marker\":{\"colorbar\":{\"outlinewidth\":0,\"ticks\":\"\"}}}],\"scatter3d\":[{\"type\":\"scatter3d\",\"line\":{\"colorbar\":{\"outlinewidth\":0,\"ticks\":\"\"}},\"marker\":{\"colorbar\":{\"outlinewidth\":0,\"ticks\":\"\"}}}],\"scattermapbox\":[{\"type\":\"scattermapbox\",\"marker\":{\"colorbar\":{\"outlinewidth\":0,\"ticks\":\"\"}}}],\"scatterternary\":[{\"type\":\"scatterternary\",\"marker\":{\"colorbar\":{\"outlinewidth\":0,\"ticks\":\"\"}}}],\"scattercarpet\":[{\"type\":\"scattercarpet\",\"marker\":{\"colorbar\":{\"outlinewidth\":0,\"ticks\":\"\"}}}],\"carpet\":[{\"aaxis\":{\"endlinecolor\":\"#2a3f5f\",\"gridcolor\":\"white\",\"linecolor\":\"white\",\"minorgridcolor\":\"white\",\"startlinecolor\":\"#2a3f5f\"},\"baxis\":{\"endlinecolor\":\"#2a3f5f\",\"gridcolor\":\"white\",\"linecolor\":\"white\",\"minorgridcolor\":\"white\",\"startlinecolor\":\"#2a3f5f\"},\"type\":\"carpet\"}],\"table\":[{\"cells\":{\"fill\":{\"color\":\"#EBF0F8\"},\"line\":{\"color\":\"white\"}},\"header\":{\"fill\":{\"color\":\"#C8D4E3\"},\"line\":{\"color\":\"white\"}},\"type\":\"table\"}],\"barpolar\":[{\"marker\":{\"line\":{\"color\":\"#E5ECF6\",\"width\":0.5},\"pattern\":{\"fillmode\":\"overlay\",\"size\":10,\"solidity\":0.2}},\"type\":\"barpolar\"}],\"pie\":[{\"automargin\":true,\"type\":\"pie\"}]},\"layout\":{\"autotypenumbers\":\"strict\",\"colorway\":[\"#636efa\",\"#EF553B\",\"#00cc96\",\"#ab63fa\",\"#FFA15A\",\"#19d3f3\",\"#FF6692\",\"#B6E880\",\"#FF97FF\",\"#FECB52\"],\"font\":{\"color\":\"#2a3f5f\"},\"hovermode\":\"closest\",\"hoverlabel\":{\"align\":\"left\"},\"paper_bgcolor\":\"white\",\"plot_bgcolor\":\"#E5ECF6\",\"polar\":{\"bgcolor\":\"#E5ECF6\",\"angularaxis\":{\"gridcolor\":\"white\",\"linecolor\":\"white\",\"ticks\":\"\"},\"radialaxis\":{\"gridcolor\":\"white\",\"linecolor\":\"white\",\"ticks\":\"\"}},\"ternary\":{\"bgcolor\":\"#E5ECF6\",\"aaxis\":{\"gridcolor\":\"white\",\"linecolor\":\"white\",\"ticks\":\"\"},\"baxis\":{\"gridcolor\":\"white\",\"linecolor\":\"white\",\"ticks\":\"\"},\"caxis\":{\"gridcolor\":\"white\",\"linecolor\":\"white\",\"ticks\":\"\"}},\"coloraxis\":{\"colorbar\":{\"outlinewidth\":0,\"ticks\":\"\"}},\"colorscale\":{\"sequential\":[[0.0,\"#0d0887\"],[0.1111111111111111,\"#46039f\"],[0.2222222222222222,\"#7201a8\"],[0.3333333333333333,\"#9c179e\"],[0.4444444444444444,\"#bd3786\"],[0.5555555555555556,\"#d8576b\"],[0.6666666666666666,\"#ed7953\"],[0.7777777777777778,\"#fb9f3a\"],[0.8888888888888888,\"#fdca26\"],[1.0,\"#f0f921\"]],\"sequentialminus\":[[0.0,\"#0d0887\"],[0.1111111111111111,\"#46039f\"],[0.2222222222222222,\"#7201a8\"],[0.3333333333333333,\"#9c179e\"],[0.4444444444444444,\"#bd3786\"],[0.5555555555555556,\"#d8576b\"],[0.6666666666666666,\"#ed7953\"],[0.7777777777777778,\"#fb9f3a\"],[0.8888888888888888,\"#fdca26\"],[1.0,\"#f0f921\"]],\"diverging\":[[0,\"#8e0152\"],[0.1,\"#c51b7d\"],[0.2,\"#de77ae\"],[0.3,\"#f1b6da\"],[0.4,\"#fde0ef\"],[0.5,\"#f7f7f7\"],[0.6,\"#e6f5d0\"],[0.7,\"#b8e186\"],[0.8,\"#7fbc41\"],[0.9,\"#4d9221\"],[1,\"#276419\"]]},\"xaxis\":{\"gridcolor\":\"white\",\"linecolor\":\"white\",\"ticks\":\"\",\"title\":{\"standoff\":15},\"zerolinecolor\":\"white\",\"automargin\":true,\"zerolinewidth\":2},\"yaxis\":{\"gridcolor\":\"white\",\"linecolor\":\"white\",\"ticks\":\"\",\"title\":{\"standoff\":15},\"zerolinecolor\":\"white\",\"automargin\":true,\"zerolinewidth\":2},\"scene\":{\"xaxis\":{\"backgroundcolor\":\"#E5ECF6\",\"gridcolor\":\"white\",\"linecolor\":\"white\",\"showbackground\":true,\"ticks\":\"\",\"zerolinecolor\":\"white\",\"gridwidth\":2},\"yaxis\":{\"backgroundcolor\":\"#E5ECF6\",\"gridcolor\":\"white\",\"linecolor\":\"white\",\"showbackground\":true,\"ticks\":\"\",\"zerolinecolor\":\"white\",\"gridwidth\":2},\"zaxis\":{\"backgroundcolor\":\"#E5ECF6\",\"gridcolor\":\"white\",\"linecolor\":\"white\",\"showbackground\":true,\"ticks\":\"\",\"zerolinecolor\":\"white\",\"gridwidth\":2}},\"shapedefaults\":{\"line\":{\"color\":\"#2a3f5f\"}},\"annotationdefaults\":{\"arrowcolor\":\"#2a3f5f\",\"arrowhead\":0,\"arrowwidth\":1},\"geo\":{\"bgcolor\":\"white\",\"landcolor\":\"#E5ECF6\",\"subunitcolor\":\"white\",\"showland\":true,\"showlakes\":true,\"lakecolor\":\"white\"},\"title\":{\"x\":0.05},\"mapbox\":{\"style\":\"light\"}}},\"xaxis\":{\"anchor\":\"y\",\"domain\":[0.0,1.0],\"title\":{\"text\":\"Flipper Length (mm)\"}},\"yaxis\":{\"anchor\":\"x\",\"domain\":[0.0,1.0],\"title\":{\"text\":\"Count\"}},\"legend\":{\"tracegroupgap\":0},\"title\":{\"text\":\"Flipper Length for Adelie\"},\"barmode\":\"relative\",\"shapes\":[{\"line\":{\"color\":\"blue\",\"dash\":\"dash\"},\"type\":\"line\",\"x0\":189.95364238410596,\"x1\":189.95364238410596,\"xref\":\"x\",\"y0\":0,\"y1\":1,\"yref\":\"y domain\"},{\"line\":{\"color\":\"green\",\"dash\":\"dash\"},\"type\":\"line\",\"x0\":190.0,\"x1\":190.0,\"xref\":\"x\",\"y0\":0,\"y1\":1,\"yref\":\"y domain\"},{\"fillcolor\":\"LightPink\",\"line\":{\"width\":0},\"opacity\":0.2,\"type\":\"rect\",\"x0\":172.0,\"x1\":210.0,\"xref\":\"x\",\"y0\":0,\"y1\":1,\"yref\":\"y domain\"},{\"fillcolor\":\"LightGreen\",\"line\":{\"width\":0},\"opacity\":0.3,\"type\":\"rect\",\"x0\":186.0,\"x1\":195.0,\"xref\":\"x\",\"y0\":0,\"y1\":1,\"yref\":\"y domain\"},{\"fillcolor\":\"LightBlue\",\"line\":{\"width\":0},\"opacity\":0.2,\"type\":\"rect\",\"x0\":176.87472754972336,\"x1\":203.03255721848856,\"xref\":\"x\",\"y0\":0,\"y1\":1,\"yref\":\"y domain\"}],\"annotations\":[{\"showarrow\":false,\"text\":\"Mean\",\"x\":189.95364238410596,\"xanchor\":\"right\",\"xref\":\"x\",\"y\":1,\"yanchor\":\"top\",\"yref\":\"y domain\"},{\"showarrow\":false,\"text\":\"Median\",\"x\":190.0,\"xanchor\":\"left\",\"xref\":\"x\",\"y\":1,\"yanchor\":\"top\",\"yref\":\"y domain\"},{\"showarrow\":false,\"text\":\"Range\",\"x\":210.0,\"xanchor\":\"right\",\"xref\":\"x\",\"y\":1,\"yanchor\":\"top\",\"yref\":\"y domain\"},{\"showarrow\":false,\"text\":\"IQR\",\"x\":195.0,\"xanchor\":\"right\",\"xref\":\"x\",\"y\":1,\"yanchor\":\"top\",\"yref\":\"y domain\"},{\"showarrow\":false,\"text\":\"2 Std Dev\",\"x\":203.03255721848856,\"xanchor\":\"right\",\"xref\":\"x\",\"y\":1,\"yanchor\":\"top\",\"yref\":\"y domain\"}],\"showlegend\":false},                        {\"responsive\": true}                    ).then(function(){\n",
       "                            \n",
       "var gd = document.getElementById('c15390a1-fe29-4140-8df6-45b491047575');\n",
       "var x = new MutationObserver(function (mutations, observer) {{\n",
       "        var display = window.getComputedStyle(gd).display;\n",
       "        if (!display || display === 'none') {{\n",
       "            console.log([gd, 'removed!']);\n",
       "            Plotly.purge(gd);\n",
       "            observer.disconnect();\n",
       "        }}\n",
       "}});\n",
       "\n",
       "// Listen for the removal of the full notebook cells\n",
       "var notebookContainer = gd.closest('#notebook-container');\n",
       "if (notebookContainer) {{\n",
       "    x.observe(notebookContainer, {childList: true});\n",
       "}}\n",
       "\n",
       "// Listen for the clearing of the current output cell\n",
       "var outputEl = gd.closest('.output');\n",
       "if (outputEl) {{\n",
       "    x.observe(outputEl, {childList: true});\n",
       "}}\n",
       "\n",
       "                        })                };                });            </script>        </div>"
      ]
     },
     "metadata": {},
     "output_type": "display_data"
    },
    {
     "data": {
      "application/vnd.plotly.v1+json": {
       "config": {
        "plotlyServerURL": "https://plot.ly"
       },
       "data": [
        {
         "alignmentgroup": "True",
         "bingroup": "x",
         "hovertemplate": "flipper_length_mm=%{x}<br>count=%{y}<extra></extra>",
         "legendgroup": "",
         "marker": {
          "color": "#636efa",
          "pattern": {
           "shape": ""
          }
         },
         "name": "",
         "nbinsx": 20,
         "offsetgroup": "",
         "orientation": "v",
         "showlegend": false,
         "type": "histogram",
         "x": [
          192,
          196,
          193,
          188,
          197,
          198,
          178,
          197,
          195,
          198,
          193,
          194,
          185,
          201,
          190,
          201,
          197,
          181,
          190,
          195,
          181,
          191,
          187,
          193,
          195,
          197,
          200,
          200,
          191,
          205,
          187,
          201,
          187,
          203,
          195,
          199,
          195,
          210,
          192,
          205,
          210,
          187,
          196,
          196,
          196,
          201,
          190,
          212,
          187,
          198,
          199,
          201,
          193,
          203,
          187,
          197,
          191,
          203,
          202,
          194,
          206,
          189,
          195,
          207,
          202,
          193,
          210,
          198
         ],
         "xaxis": "x",
         "yaxis": "y"
        }
       ],
       "layout": {
        "annotations": [
         {
          "showarrow": false,
          "text": "Mean",
          "x": 195.8235294117647,
          "xanchor": "right",
          "xref": "x",
          "y": 1,
          "yanchor": "top",
          "yref": "y domain"
         },
         {
          "showarrow": false,
          "text": "Median",
          "x": 196,
          "xanchor": "left",
          "xref": "x",
          "y": 1,
          "yanchor": "top",
          "yref": "y domain"
         },
         {
          "showarrow": false,
          "text": "Range",
          "x": 212,
          "xanchor": "right",
          "xref": "x",
          "y": 1,
          "yanchor": "top",
          "yref": "y domain"
         },
         {
          "showarrow": false,
          "text": "IQR",
          "x": 201,
          "xanchor": "right",
          "xref": "x",
          "y": 1,
          "yanchor": "top",
          "yref": "y domain"
         },
         {
          "showarrow": false,
          "text": "2 Std Dev",
          "x": 210.08731792892098,
          "xanchor": "right",
          "xref": "x",
          "y": 1,
          "yanchor": "top",
          "yref": "y domain"
         }
        ],
        "barmode": "relative",
        "legend": {
         "tracegroupgap": 0
        },
        "shapes": [
         {
          "line": {
           "color": "blue",
           "dash": "dash"
          },
          "type": "line",
          "x0": 195.8235294117647,
          "x1": 195.8235294117647,
          "xref": "x",
          "y0": 0,
          "y1": 1,
          "yref": "y domain"
         },
         {
          "line": {
           "color": "green",
           "dash": "dash"
          },
          "type": "line",
          "x0": 196,
          "x1": 196,
          "xref": "x",
          "y0": 0,
          "y1": 1,
          "yref": "y domain"
         },
         {
          "fillcolor": "LightPink",
          "line": {
           "width": 0
          },
          "opacity": 0.2,
          "type": "rect",
          "x0": 178,
          "x1": 212,
          "xref": "x",
          "y0": 0,
          "y1": 1,
          "yref": "y domain"
         },
         {
          "fillcolor": "LightGreen",
          "line": {
           "width": 0
          },
          "opacity": 0.3,
          "type": "rect",
          "x0": 191,
          "x1": 201,
          "xref": "x",
          "y0": 0,
          "y1": 1,
          "yref": "y domain"
         },
         {
          "fillcolor": "LightBlue",
          "line": {
           "width": 0
          },
          "opacity": 0.2,
          "type": "rect",
          "x0": 181.5597408946084,
          "x1": 210.08731792892098,
          "xref": "x",
          "y0": 0,
          "y1": 1,
          "yref": "y domain"
         }
        ],
        "showlegend": false,
        "template": {
         "data": {
          "bar": [
           {
            "error_x": {
             "color": "#2a3f5f"
            },
            "error_y": {
             "color": "#2a3f5f"
            },
            "marker": {
             "line": {
              "color": "#E5ECF6",
              "width": 0.5
             },
             "pattern": {
              "fillmode": "overlay",
              "size": 10,
              "solidity": 0.2
             }
            },
            "type": "bar"
           }
          ],
          "barpolar": [
           {
            "marker": {
             "line": {
              "color": "#E5ECF6",
              "width": 0.5
             },
             "pattern": {
              "fillmode": "overlay",
              "size": 10,
              "solidity": 0.2
             }
            },
            "type": "barpolar"
           }
          ],
          "carpet": [
           {
            "aaxis": {
             "endlinecolor": "#2a3f5f",
             "gridcolor": "white",
             "linecolor": "white",
             "minorgridcolor": "white",
             "startlinecolor": "#2a3f5f"
            },
            "baxis": {
             "endlinecolor": "#2a3f5f",
             "gridcolor": "white",
             "linecolor": "white",
             "minorgridcolor": "white",
             "startlinecolor": "#2a3f5f"
            },
            "type": "carpet"
           }
          ],
          "choropleth": [
           {
            "colorbar": {
             "outlinewidth": 0,
             "ticks": ""
            },
            "type": "choropleth"
           }
          ],
          "contour": [
           {
            "colorbar": {
             "outlinewidth": 0,
             "ticks": ""
            },
            "colorscale": [
             [
              0,
              "#0d0887"
             ],
             [
              0.1111111111111111,
              "#46039f"
             ],
             [
              0.2222222222222222,
              "#7201a8"
             ],
             [
              0.3333333333333333,
              "#9c179e"
             ],
             [
              0.4444444444444444,
              "#bd3786"
             ],
             [
              0.5555555555555556,
              "#d8576b"
             ],
             [
              0.6666666666666666,
              "#ed7953"
             ],
             [
              0.7777777777777778,
              "#fb9f3a"
             ],
             [
              0.8888888888888888,
              "#fdca26"
             ],
             [
              1,
              "#f0f921"
             ]
            ],
            "type": "contour"
           }
          ],
          "contourcarpet": [
           {
            "colorbar": {
             "outlinewidth": 0,
             "ticks": ""
            },
            "type": "contourcarpet"
           }
          ],
          "heatmap": [
           {
            "colorbar": {
             "outlinewidth": 0,
             "ticks": ""
            },
            "colorscale": [
             [
              0,
              "#0d0887"
             ],
             [
              0.1111111111111111,
              "#46039f"
             ],
             [
              0.2222222222222222,
              "#7201a8"
             ],
             [
              0.3333333333333333,
              "#9c179e"
             ],
             [
              0.4444444444444444,
              "#bd3786"
             ],
             [
              0.5555555555555556,
              "#d8576b"
             ],
             [
              0.6666666666666666,
              "#ed7953"
             ],
             [
              0.7777777777777778,
              "#fb9f3a"
             ],
             [
              0.8888888888888888,
              "#fdca26"
             ],
             [
              1,
              "#f0f921"
             ]
            ],
            "type": "heatmap"
           }
          ],
          "heatmapgl": [
           {
            "colorbar": {
             "outlinewidth": 0,
             "ticks": ""
            },
            "colorscale": [
             [
              0,
              "#0d0887"
             ],
             [
              0.1111111111111111,
              "#46039f"
             ],
             [
              0.2222222222222222,
              "#7201a8"
             ],
             [
              0.3333333333333333,
              "#9c179e"
             ],
             [
              0.4444444444444444,
              "#bd3786"
             ],
             [
              0.5555555555555556,
              "#d8576b"
             ],
             [
              0.6666666666666666,
              "#ed7953"
             ],
             [
              0.7777777777777778,
              "#fb9f3a"
             ],
             [
              0.8888888888888888,
              "#fdca26"
             ],
             [
              1,
              "#f0f921"
             ]
            ],
            "type": "heatmapgl"
           }
          ],
          "histogram": [
           {
            "marker": {
             "pattern": {
              "fillmode": "overlay",
              "size": 10,
              "solidity": 0.2
             }
            },
            "type": "histogram"
           }
          ],
          "histogram2d": [
           {
            "colorbar": {
             "outlinewidth": 0,
             "ticks": ""
            },
            "colorscale": [
             [
              0,
              "#0d0887"
             ],
             [
              0.1111111111111111,
              "#46039f"
             ],
             [
              0.2222222222222222,
              "#7201a8"
             ],
             [
              0.3333333333333333,
              "#9c179e"
             ],
             [
              0.4444444444444444,
              "#bd3786"
             ],
             [
              0.5555555555555556,
              "#d8576b"
             ],
             [
              0.6666666666666666,
              "#ed7953"
             ],
             [
              0.7777777777777778,
              "#fb9f3a"
             ],
             [
              0.8888888888888888,
              "#fdca26"
             ],
             [
              1,
              "#f0f921"
             ]
            ],
            "type": "histogram2d"
           }
          ],
          "histogram2dcontour": [
           {
            "colorbar": {
             "outlinewidth": 0,
             "ticks": ""
            },
            "colorscale": [
             [
              0,
              "#0d0887"
             ],
             [
              0.1111111111111111,
              "#46039f"
             ],
             [
              0.2222222222222222,
              "#7201a8"
             ],
             [
              0.3333333333333333,
              "#9c179e"
             ],
             [
              0.4444444444444444,
              "#bd3786"
             ],
             [
              0.5555555555555556,
              "#d8576b"
             ],
             [
              0.6666666666666666,
              "#ed7953"
             ],
             [
              0.7777777777777778,
              "#fb9f3a"
             ],
             [
              0.8888888888888888,
              "#fdca26"
             ],
             [
              1,
              "#f0f921"
             ]
            ],
            "type": "histogram2dcontour"
           }
          ],
          "mesh3d": [
           {
            "colorbar": {
             "outlinewidth": 0,
             "ticks": ""
            },
            "type": "mesh3d"
           }
          ],
          "parcoords": [
           {
            "line": {
             "colorbar": {
              "outlinewidth": 0,
              "ticks": ""
             }
            },
            "type": "parcoords"
           }
          ],
          "pie": [
           {
            "automargin": true,
            "type": "pie"
           }
          ],
          "scatter": [
           {
            "fillpattern": {
             "fillmode": "overlay",
             "size": 10,
             "solidity": 0.2
            },
            "type": "scatter"
           }
          ],
          "scatter3d": [
           {
            "line": {
             "colorbar": {
              "outlinewidth": 0,
              "ticks": ""
             }
            },
            "marker": {
             "colorbar": {
              "outlinewidth": 0,
              "ticks": ""
             }
            },
            "type": "scatter3d"
           }
          ],
          "scattercarpet": [
           {
            "marker": {
             "colorbar": {
              "outlinewidth": 0,
              "ticks": ""
             }
            },
            "type": "scattercarpet"
           }
          ],
          "scattergeo": [
           {
            "marker": {
             "colorbar": {
              "outlinewidth": 0,
              "ticks": ""
             }
            },
            "type": "scattergeo"
           }
          ],
          "scattergl": [
           {
            "marker": {
             "colorbar": {
              "outlinewidth": 0,
              "ticks": ""
             }
            },
            "type": "scattergl"
           }
          ],
          "scattermapbox": [
           {
            "marker": {
             "colorbar": {
              "outlinewidth": 0,
              "ticks": ""
             }
            },
            "type": "scattermapbox"
           }
          ],
          "scatterpolar": [
           {
            "marker": {
             "colorbar": {
              "outlinewidth": 0,
              "ticks": ""
             }
            },
            "type": "scatterpolar"
           }
          ],
          "scatterpolargl": [
           {
            "marker": {
             "colorbar": {
              "outlinewidth": 0,
              "ticks": ""
             }
            },
            "type": "scatterpolargl"
           }
          ],
          "scatterternary": [
           {
            "marker": {
             "colorbar": {
              "outlinewidth": 0,
              "ticks": ""
             }
            },
            "type": "scatterternary"
           }
          ],
          "surface": [
           {
            "colorbar": {
             "outlinewidth": 0,
             "ticks": ""
            },
            "colorscale": [
             [
              0,
              "#0d0887"
             ],
             [
              0.1111111111111111,
              "#46039f"
             ],
             [
              0.2222222222222222,
              "#7201a8"
             ],
             [
              0.3333333333333333,
              "#9c179e"
             ],
             [
              0.4444444444444444,
              "#bd3786"
             ],
             [
              0.5555555555555556,
              "#d8576b"
             ],
             [
              0.6666666666666666,
              "#ed7953"
             ],
             [
              0.7777777777777778,
              "#fb9f3a"
             ],
             [
              0.8888888888888888,
              "#fdca26"
             ],
             [
              1,
              "#f0f921"
             ]
            ],
            "type": "surface"
           }
          ],
          "table": [
           {
            "cells": {
             "fill": {
              "color": "#EBF0F8"
             },
             "line": {
              "color": "white"
             }
            },
            "header": {
             "fill": {
              "color": "#C8D4E3"
             },
             "line": {
              "color": "white"
             }
            },
            "type": "table"
           }
          ]
         },
         "layout": {
          "annotationdefaults": {
           "arrowcolor": "#2a3f5f",
           "arrowhead": 0,
           "arrowwidth": 1
          },
          "autotypenumbers": "strict",
          "coloraxis": {
           "colorbar": {
            "outlinewidth": 0,
            "ticks": ""
           }
          },
          "colorscale": {
           "diverging": [
            [
             0,
             "#8e0152"
            ],
            [
             0.1,
             "#c51b7d"
            ],
            [
             0.2,
             "#de77ae"
            ],
            [
             0.3,
             "#f1b6da"
            ],
            [
             0.4,
             "#fde0ef"
            ],
            [
             0.5,
             "#f7f7f7"
            ],
            [
             0.6,
             "#e6f5d0"
            ],
            [
             0.7,
             "#b8e186"
            ],
            [
             0.8,
             "#7fbc41"
            ],
            [
             0.9,
             "#4d9221"
            ],
            [
             1,
             "#276419"
            ]
           ],
           "sequential": [
            [
             0,
             "#0d0887"
            ],
            [
             0.1111111111111111,
             "#46039f"
            ],
            [
             0.2222222222222222,
             "#7201a8"
            ],
            [
             0.3333333333333333,
             "#9c179e"
            ],
            [
             0.4444444444444444,
             "#bd3786"
            ],
            [
             0.5555555555555556,
             "#d8576b"
            ],
            [
             0.6666666666666666,
             "#ed7953"
            ],
            [
             0.7777777777777778,
             "#fb9f3a"
            ],
            [
             0.8888888888888888,
             "#fdca26"
            ],
            [
             1,
             "#f0f921"
            ]
           ],
           "sequentialminus": [
            [
             0,
             "#0d0887"
            ],
            [
             0.1111111111111111,
             "#46039f"
            ],
            [
             0.2222222222222222,
             "#7201a8"
            ],
            [
             0.3333333333333333,
             "#9c179e"
            ],
            [
             0.4444444444444444,
             "#bd3786"
            ],
            [
             0.5555555555555556,
             "#d8576b"
            ],
            [
             0.6666666666666666,
             "#ed7953"
            ],
            [
             0.7777777777777778,
             "#fb9f3a"
            ],
            [
             0.8888888888888888,
             "#fdca26"
            ],
            [
             1,
             "#f0f921"
            ]
           ]
          },
          "colorway": [
           "#636efa",
           "#EF553B",
           "#00cc96",
           "#ab63fa",
           "#FFA15A",
           "#19d3f3",
           "#FF6692",
           "#B6E880",
           "#FF97FF",
           "#FECB52"
          ],
          "font": {
           "color": "#2a3f5f"
          },
          "geo": {
           "bgcolor": "white",
           "lakecolor": "white",
           "landcolor": "#E5ECF6",
           "showlakes": true,
           "showland": true,
           "subunitcolor": "white"
          },
          "hoverlabel": {
           "align": "left"
          },
          "hovermode": "closest",
          "mapbox": {
           "style": "light"
          },
          "paper_bgcolor": "white",
          "plot_bgcolor": "#E5ECF6",
          "polar": {
           "angularaxis": {
            "gridcolor": "white",
            "linecolor": "white",
            "ticks": ""
           },
           "bgcolor": "#E5ECF6",
           "radialaxis": {
            "gridcolor": "white",
            "linecolor": "white",
            "ticks": ""
           }
          },
          "scene": {
           "xaxis": {
            "backgroundcolor": "#E5ECF6",
            "gridcolor": "white",
            "gridwidth": 2,
            "linecolor": "white",
            "showbackground": true,
            "ticks": "",
            "zerolinecolor": "white"
           },
           "yaxis": {
            "backgroundcolor": "#E5ECF6",
            "gridcolor": "white",
            "gridwidth": 2,
            "linecolor": "white",
            "showbackground": true,
            "ticks": "",
            "zerolinecolor": "white"
           },
           "zaxis": {
            "backgroundcolor": "#E5ECF6",
            "gridcolor": "white",
            "gridwidth": 2,
            "linecolor": "white",
            "showbackground": true,
            "ticks": "",
            "zerolinecolor": "white"
           }
          },
          "shapedefaults": {
           "line": {
            "color": "#2a3f5f"
           }
          },
          "ternary": {
           "aaxis": {
            "gridcolor": "white",
            "linecolor": "white",
            "ticks": ""
           },
           "baxis": {
            "gridcolor": "white",
            "linecolor": "white",
            "ticks": ""
           },
           "bgcolor": "#E5ECF6",
           "caxis": {
            "gridcolor": "white",
            "linecolor": "white",
            "ticks": ""
           }
          },
          "title": {
           "x": 0.05
          },
          "xaxis": {
           "automargin": true,
           "gridcolor": "white",
           "linecolor": "white",
           "ticks": "",
           "title": {
            "standoff": 15
           },
           "zerolinecolor": "white",
           "zerolinewidth": 2
          },
          "yaxis": {
           "automargin": true,
           "gridcolor": "white",
           "linecolor": "white",
           "ticks": "",
           "title": {
            "standoff": 15
           },
           "zerolinecolor": "white",
           "zerolinewidth": 2
          }
         }
        },
        "title": {
         "text": "Flipper Length for Chinstrap"
        },
        "xaxis": {
         "anchor": "y",
         "domain": [
          0,
          1
         ],
         "title": {
          "text": "Flipper Length (mm)"
         }
        },
        "yaxis": {
         "anchor": "x",
         "domain": [
          0,
          1
         ],
         "title": {
          "text": "Count"
         }
        }
       }
      },
      "text/html": [
       "<div>                            <div id=\"1841f2f0-95c2-4e77-924b-1879a2233d91\" class=\"plotly-graph-div\" style=\"height:525px; width:100%;\"></div>            <script type=\"text/javascript\">                require([\"plotly\"], function(Plotly) {                    window.PLOTLYENV=window.PLOTLYENV || {};                                    if (document.getElementById(\"1841f2f0-95c2-4e77-924b-1879a2233d91\")) {                    Plotly.newPlot(                        \"1841f2f0-95c2-4e77-924b-1879a2233d91\",                        [{\"alignmentgroup\":\"True\",\"bingroup\":\"x\",\"hovertemplate\":\"flipper_length_mm=%{x}\\u003cbr\\u003ecount=%{y}\\u003cextra\\u003e\\u003c\\u002fextra\\u003e\",\"legendgroup\":\"\",\"marker\":{\"color\":\"#636efa\",\"pattern\":{\"shape\":\"\"}},\"name\":\"\",\"nbinsx\":20,\"offsetgroup\":\"\",\"orientation\":\"v\",\"showlegend\":false,\"x\":[192.0,196.0,193.0,188.0,197.0,198.0,178.0,197.0,195.0,198.0,193.0,194.0,185.0,201.0,190.0,201.0,197.0,181.0,190.0,195.0,181.0,191.0,187.0,193.0,195.0,197.0,200.0,200.0,191.0,205.0,187.0,201.0,187.0,203.0,195.0,199.0,195.0,210.0,192.0,205.0,210.0,187.0,196.0,196.0,196.0,201.0,190.0,212.0,187.0,198.0,199.0,201.0,193.0,203.0,187.0,197.0,191.0,203.0,202.0,194.0,206.0,189.0,195.0,207.0,202.0,193.0,210.0,198.0],\"xaxis\":\"x\",\"yaxis\":\"y\",\"type\":\"histogram\"}],                        {\"template\":{\"data\":{\"histogram2dcontour\":[{\"type\":\"histogram2dcontour\",\"colorbar\":{\"outlinewidth\":0,\"ticks\":\"\"},\"colorscale\":[[0.0,\"#0d0887\"],[0.1111111111111111,\"#46039f\"],[0.2222222222222222,\"#7201a8\"],[0.3333333333333333,\"#9c179e\"],[0.4444444444444444,\"#bd3786\"],[0.5555555555555556,\"#d8576b\"],[0.6666666666666666,\"#ed7953\"],[0.7777777777777778,\"#fb9f3a\"],[0.8888888888888888,\"#fdca26\"],[1.0,\"#f0f921\"]]}],\"choropleth\":[{\"type\":\"choropleth\",\"colorbar\":{\"outlinewidth\":0,\"ticks\":\"\"}}],\"histogram2d\":[{\"type\":\"histogram2d\",\"colorbar\":{\"outlinewidth\":0,\"ticks\":\"\"},\"colorscale\":[[0.0,\"#0d0887\"],[0.1111111111111111,\"#46039f\"],[0.2222222222222222,\"#7201a8\"],[0.3333333333333333,\"#9c179e\"],[0.4444444444444444,\"#bd3786\"],[0.5555555555555556,\"#d8576b\"],[0.6666666666666666,\"#ed7953\"],[0.7777777777777778,\"#fb9f3a\"],[0.8888888888888888,\"#fdca26\"],[1.0,\"#f0f921\"]]}],\"heatmap\":[{\"type\":\"heatmap\",\"colorbar\":{\"outlinewidth\":0,\"ticks\":\"\"},\"colorscale\":[[0.0,\"#0d0887\"],[0.1111111111111111,\"#46039f\"],[0.2222222222222222,\"#7201a8\"],[0.3333333333333333,\"#9c179e\"],[0.4444444444444444,\"#bd3786\"],[0.5555555555555556,\"#d8576b\"],[0.6666666666666666,\"#ed7953\"],[0.7777777777777778,\"#fb9f3a\"],[0.8888888888888888,\"#fdca26\"],[1.0,\"#f0f921\"]]}],\"heatmapgl\":[{\"type\":\"heatmapgl\",\"colorbar\":{\"outlinewidth\":0,\"ticks\":\"\"},\"colorscale\":[[0.0,\"#0d0887\"],[0.1111111111111111,\"#46039f\"],[0.2222222222222222,\"#7201a8\"],[0.3333333333333333,\"#9c179e\"],[0.4444444444444444,\"#bd3786\"],[0.5555555555555556,\"#d8576b\"],[0.6666666666666666,\"#ed7953\"],[0.7777777777777778,\"#fb9f3a\"],[0.8888888888888888,\"#fdca26\"],[1.0,\"#f0f921\"]]}],\"contourcarpet\":[{\"type\":\"contourcarpet\",\"colorbar\":{\"outlinewidth\":0,\"ticks\":\"\"}}],\"contour\":[{\"type\":\"contour\",\"colorbar\":{\"outlinewidth\":0,\"ticks\":\"\"},\"colorscale\":[[0.0,\"#0d0887\"],[0.1111111111111111,\"#46039f\"],[0.2222222222222222,\"#7201a8\"],[0.3333333333333333,\"#9c179e\"],[0.4444444444444444,\"#bd3786\"],[0.5555555555555556,\"#d8576b\"],[0.6666666666666666,\"#ed7953\"],[0.7777777777777778,\"#fb9f3a\"],[0.8888888888888888,\"#fdca26\"],[1.0,\"#f0f921\"]]}],\"surface\":[{\"type\":\"surface\",\"colorbar\":{\"outlinewidth\":0,\"ticks\":\"\"},\"colorscale\":[[0.0,\"#0d0887\"],[0.1111111111111111,\"#46039f\"],[0.2222222222222222,\"#7201a8\"],[0.3333333333333333,\"#9c179e\"],[0.4444444444444444,\"#bd3786\"],[0.5555555555555556,\"#d8576b\"],[0.6666666666666666,\"#ed7953\"],[0.7777777777777778,\"#fb9f3a\"],[0.8888888888888888,\"#fdca26\"],[1.0,\"#f0f921\"]]}],\"mesh3d\":[{\"type\":\"mesh3d\",\"colorbar\":{\"outlinewidth\":0,\"ticks\":\"\"}}],\"scatter\":[{\"fillpattern\":{\"fillmode\":\"overlay\",\"size\":10,\"solidity\":0.2},\"type\":\"scatter\"}],\"parcoords\":[{\"type\":\"parcoords\",\"line\":{\"colorbar\":{\"outlinewidth\":0,\"ticks\":\"\"}}}],\"scatterpolargl\":[{\"type\":\"scatterpolargl\",\"marker\":{\"colorbar\":{\"outlinewidth\":0,\"ticks\":\"\"}}}],\"bar\":[{\"error_x\":{\"color\":\"#2a3f5f\"},\"error_y\":{\"color\":\"#2a3f5f\"},\"marker\":{\"line\":{\"color\":\"#E5ECF6\",\"width\":0.5},\"pattern\":{\"fillmode\":\"overlay\",\"size\":10,\"solidity\":0.2}},\"type\":\"bar\"}],\"scattergeo\":[{\"type\":\"scattergeo\",\"marker\":{\"colorbar\":{\"outlinewidth\":0,\"ticks\":\"\"}}}],\"scatterpolar\":[{\"type\":\"scatterpolar\",\"marker\":{\"colorbar\":{\"outlinewidth\":0,\"ticks\":\"\"}}}],\"histogram\":[{\"marker\":{\"pattern\":{\"fillmode\":\"overlay\",\"size\":10,\"solidity\":0.2}},\"type\":\"histogram\"}],\"scattergl\":[{\"type\":\"scattergl\",\"marker\":{\"colorbar\":{\"outlinewidth\":0,\"ticks\":\"\"}}}],\"scatter3d\":[{\"type\":\"scatter3d\",\"line\":{\"colorbar\":{\"outlinewidth\":0,\"ticks\":\"\"}},\"marker\":{\"colorbar\":{\"outlinewidth\":0,\"ticks\":\"\"}}}],\"scattermapbox\":[{\"type\":\"scattermapbox\",\"marker\":{\"colorbar\":{\"outlinewidth\":0,\"ticks\":\"\"}}}],\"scatterternary\":[{\"type\":\"scatterternary\",\"marker\":{\"colorbar\":{\"outlinewidth\":0,\"ticks\":\"\"}}}],\"scattercarpet\":[{\"type\":\"scattercarpet\",\"marker\":{\"colorbar\":{\"outlinewidth\":0,\"ticks\":\"\"}}}],\"carpet\":[{\"aaxis\":{\"endlinecolor\":\"#2a3f5f\",\"gridcolor\":\"white\",\"linecolor\":\"white\",\"minorgridcolor\":\"white\",\"startlinecolor\":\"#2a3f5f\"},\"baxis\":{\"endlinecolor\":\"#2a3f5f\",\"gridcolor\":\"white\",\"linecolor\":\"white\",\"minorgridcolor\":\"white\",\"startlinecolor\":\"#2a3f5f\"},\"type\":\"carpet\"}],\"table\":[{\"cells\":{\"fill\":{\"color\":\"#EBF0F8\"},\"line\":{\"color\":\"white\"}},\"header\":{\"fill\":{\"color\":\"#C8D4E3\"},\"line\":{\"color\":\"white\"}},\"type\":\"table\"}],\"barpolar\":[{\"marker\":{\"line\":{\"color\":\"#E5ECF6\",\"width\":0.5},\"pattern\":{\"fillmode\":\"overlay\",\"size\":10,\"solidity\":0.2}},\"type\":\"barpolar\"}],\"pie\":[{\"automargin\":true,\"type\":\"pie\"}]},\"layout\":{\"autotypenumbers\":\"strict\",\"colorway\":[\"#636efa\",\"#EF553B\",\"#00cc96\",\"#ab63fa\",\"#FFA15A\",\"#19d3f3\",\"#FF6692\",\"#B6E880\",\"#FF97FF\",\"#FECB52\"],\"font\":{\"color\":\"#2a3f5f\"},\"hovermode\":\"closest\",\"hoverlabel\":{\"align\":\"left\"},\"paper_bgcolor\":\"white\",\"plot_bgcolor\":\"#E5ECF6\",\"polar\":{\"bgcolor\":\"#E5ECF6\",\"angularaxis\":{\"gridcolor\":\"white\",\"linecolor\":\"white\",\"ticks\":\"\"},\"radialaxis\":{\"gridcolor\":\"white\",\"linecolor\":\"white\",\"ticks\":\"\"}},\"ternary\":{\"bgcolor\":\"#E5ECF6\",\"aaxis\":{\"gridcolor\":\"white\",\"linecolor\":\"white\",\"ticks\":\"\"},\"baxis\":{\"gridcolor\":\"white\",\"linecolor\":\"white\",\"ticks\":\"\"},\"caxis\":{\"gridcolor\":\"white\",\"linecolor\":\"white\",\"ticks\":\"\"}},\"coloraxis\":{\"colorbar\":{\"outlinewidth\":0,\"ticks\":\"\"}},\"colorscale\":{\"sequential\":[[0.0,\"#0d0887\"],[0.1111111111111111,\"#46039f\"],[0.2222222222222222,\"#7201a8\"],[0.3333333333333333,\"#9c179e\"],[0.4444444444444444,\"#bd3786\"],[0.5555555555555556,\"#d8576b\"],[0.6666666666666666,\"#ed7953\"],[0.7777777777777778,\"#fb9f3a\"],[0.8888888888888888,\"#fdca26\"],[1.0,\"#f0f921\"]],\"sequentialminus\":[[0.0,\"#0d0887\"],[0.1111111111111111,\"#46039f\"],[0.2222222222222222,\"#7201a8\"],[0.3333333333333333,\"#9c179e\"],[0.4444444444444444,\"#bd3786\"],[0.5555555555555556,\"#d8576b\"],[0.6666666666666666,\"#ed7953\"],[0.7777777777777778,\"#fb9f3a\"],[0.8888888888888888,\"#fdca26\"],[1.0,\"#f0f921\"]],\"diverging\":[[0,\"#8e0152\"],[0.1,\"#c51b7d\"],[0.2,\"#de77ae\"],[0.3,\"#f1b6da\"],[0.4,\"#fde0ef\"],[0.5,\"#f7f7f7\"],[0.6,\"#e6f5d0\"],[0.7,\"#b8e186\"],[0.8,\"#7fbc41\"],[0.9,\"#4d9221\"],[1,\"#276419\"]]},\"xaxis\":{\"gridcolor\":\"white\",\"linecolor\":\"white\",\"ticks\":\"\",\"title\":{\"standoff\":15},\"zerolinecolor\":\"white\",\"automargin\":true,\"zerolinewidth\":2},\"yaxis\":{\"gridcolor\":\"white\",\"linecolor\":\"white\",\"ticks\":\"\",\"title\":{\"standoff\":15},\"zerolinecolor\":\"white\",\"automargin\":true,\"zerolinewidth\":2},\"scene\":{\"xaxis\":{\"backgroundcolor\":\"#E5ECF6\",\"gridcolor\":\"white\",\"linecolor\":\"white\",\"showbackground\":true,\"ticks\":\"\",\"zerolinecolor\":\"white\",\"gridwidth\":2},\"yaxis\":{\"backgroundcolor\":\"#E5ECF6\",\"gridcolor\":\"white\",\"linecolor\":\"white\",\"showbackground\":true,\"ticks\":\"\",\"zerolinecolor\":\"white\",\"gridwidth\":2},\"zaxis\":{\"backgroundcolor\":\"#E5ECF6\",\"gridcolor\":\"white\",\"linecolor\":\"white\",\"showbackground\":true,\"ticks\":\"\",\"zerolinecolor\":\"white\",\"gridwidth\":2}},\"shapedefaults\":{\"line\":{\"color\":\"#2a3f5f\"}},\"annotationdefaults\":{\"arrowcolor\":\"#2a3f5f\",\"arrowhead\":0,\"arrowwidth\":1},\"geo\":{\"bgcolor\":\"white\",\"landcolor\":\"#E5ECF6\",\"subunitcolor\":\"white\",\"showland\":true,\"showlakes\":true,\"lakecolor\":\"white\"},\"title\":{\"x\":0.05},\"mapbox\":{\"style\":\"light\"}}},\"xaxis\":{\"anchor\":\"y\",\"domain\":[0.0,1.0],\"title\":{\"text\":\"Flipper Length (mm)\"}},\"yaxis\":{\"anchor\":\"x\",\"domain\":[0.0,1.0],\"title\":{\"text\":\"Count\"}},\"legend\":{\"tracegroupgap\":0},\"title\":{\"text\":\"Flipper Length for Chinstrap\"},\"barmode\":\"relative\",\"shapes\":[{\"line\":{\"color\":\"blue\",\"dash\":\"dash\"},\"type\":\"line\",\"x0\":195.8235294117647,\"x1\":195.8235294117647,\"xref\":\"x\",\"y0\":0,\"y1\":1,\"yref\":\"y domain\"},{\"line\":{\"color\":\"green\",\"dash\":\"dash\"},\"type\":\"line\",\"x0\":196.0,\"x1\":196.0,\"xref\":\"x\",\"y0\":0,\"y1\":1,\"yref\":\"y domain\"},{\"fillcolor\":\"LightPink\",\"line\":{\"width\":0},\"opacity\":0.2,\"type\":\"rect\",\"x0\":178.0,\"x1\":212.0,\"xref\":\"x\",\"y0\":0,\"y1\":1,\"yref\":\"y domain\"},{\"fillcolor\":\"LightGreen\",\"line\":{\"width\":0},\"opacity\":0.3,\"type\":\"rect\",\"x0\":191.0,\"x1\":201.0,\"xref\":\"x\",\"y0\":0,\"y1\":1,\"yref\":\"y domain\"},{\"fillcolor\":\"LightBlue\",\"line\":{\"width\":0},\"opacity\":0.2,\"type\":\"rect\",\"x0\":181.5597408946084,\"x1\":210.08731792892098,\"xref\":\"x\",\"y0\":0,\"y1\":1,\"yref\":\"y domain\"}],\"annotations\":[{\"showarrow\":false,\"text\":\"Mean\",\"x\":195.8235294117647,\"xanchor\":\"right\",\"xref\":\"x\",\"y\":1,\"yanchor\":\"top\",\"yref\":\"y domain\"},{\"showarrow\":false,\"text\":\"Median\",\"x\":196.0,\"xanchor\":\"left\",\"xref\":\"x\",\"y\":1,\"yanchor\":\"top\",\"yref\":\"y domain\"},{\"showarrow\":false,\"text\":\"Range\",\"x\":212.0,\"xanchor\":\"right\",\"xref\":\"x\",\"y\":1,\"yanchor\":\"top\",\"yref\":\"y domain\"},{\"showarrow\":false,\"text\":\"IQR\",\"x\":201.0,\"xanchor\":\"right\",\"xref\":\"x\",\"y\":1,\"yanchor\":\"top\",\"yref\":\"y domain\"},{\"showarrow\":false,\"text\":\"2 Std Dev\",\"x\":210.08731792892098,\"xanchor\":\"right\",\"xref\":\"x\",\"y\":1,\"yanchor\":\"top\",\"yref\":\"y domain\"}],\"showlegend\":false},                        {\"responsive\": true}                    ).then(function(){\n",
       "                            \n",
       "var gd = document.getElementById('1841f2f0-95c2-4e77-924b-1879a2233d91');\n",
       "var x = new MutationObserver(function (mutations, observer) {{\n",
       "        var display = window.getComputedStyle(gd).display;\n",
       "        if (!display || display === 'none') {{\n",
       "            console.log([gd, 'removed!']);\n",
       "            Plotly.purge(gd);\n",
       "            observer.disconnect();\n",
       "        }}\n",
       "}});\n",
       "\n",
       "// Listen for the removal of the full notebook cells\n",
       "var notebookContainer = gd.closest('#notebook-container');\n",
       "if (notebookContainer) {{\n",
       "    x.observe(notebookContainer, {childList: true});\n",
       "}}\n",
       "\n",
       "// Listen for the clearing of the current output cell\n",
       "var outputEl = gd.closest('.output');\n",
       "if (outputEl) {{\n",
       "    x.observe(outputEl, {childList: true});\n",
       "}}\n",
       "\n",
       "                        })                };                });            </script>        </div>"
      ]
     },
     "metadata": {},
     "output_type": "display_data"
    },
    {
     "data": {
      "application/vnd.plotly.v1+json": {
       "config": {
        "plotlyServerURL": "https://plot.ly"
       },
       "data": [
        {
         "alignmentgroup": "True",
         "bingroup": "x",
         "hovertemplate": "flipper_length_mm=%{x}<br>count=%{y}<extra></extra>",
         "legendgroup": "",
         "marker": {
          "color": "#636efa",
          "pattern": {
           "shape": ""
          }
         },
         "name": "",
         "nbinsx": 20,
         "offsetgroup": "",
         "orientation": "v",
         "showlegend": false,
         "type": "histogram",
         "x": [
          211,
          230,
          210,
          218,
          215,
          210,
          211,
          219,
          209,
          215,
          214,
          216,
          214,
          213,
          210,
          217,
          210,
          221,
          209,
          222,
          218,
          215,
          213,
          215,
          215,
          215,
          216,
          215,
          210,
          220,
          222,
          209,
          207,
          230,
          220,
          220,
          213,
          219,
          208,
          208,
          208,
          225,
          210,
          216,
          222,
          217,
          210,
          225,
          213,
          215,
          210,
          220,
          210,
          225,
          217,
          220,
          208,
          220,
          208,
          224,
          208,
          221,
          214,
          231,
          219,
          230,
          214,
          229,
          220,
          223,
          216,
          221,
          221,
          217,
          216,
          230,
          209,
          220,
          215,
          223,
          212,
          221,
          212,
          224,
          212,
          228,
          218,
          218,
          212,
          230,
          218,
          228,
          212,
          224,
          214,
          226,
          216,
          222,
          203,
          225,
          219,
          228,
          215,
          228,
          216,
          215,
          210,
          219,
          208,
          209,
          216,
          229,
          213,
          230,
          217,
          230,
          217,
          222,
          214,
          215,
          222,
          212,
          213
         ],
         "xaxis": "x",
         "yaxis": "y"
        }
       ],
       "layout": {
        "annotations": [
         {
          "showarrow": false,
          "text": "Mean",
          "x": 217.1869918699187,
          "xanchor": "right",
          "xref": "x",
          "y": 1,
          "yanchor": "top",
          "yref": "y domain"
         },
         {
          "showarrow": false,
          "text": "Median",
          "x": 216,
          "xanchor": "left",
          "xref": "x",
          "y": 1,
          "yanchor": "top",
          "yref": "y domain"
         },
         {
          "showarrow": false,
          "text": "Range",
          "x": 231,
          "xanchor": "right",
          "xref": "x",
          "y": 1,
          "yanchor": "top",
          "yref": "y domain"
         },
         {
          "showarrow": false,
          "text": "IQR",
          "x": 221,
          "xanchor": "right",
          "xref": "x",
          "y": 1,
          "yanchor": "top",
          "yref": "y domain"
         },
         {
          "showarrow": false,
          "text": "2 Std Dev",
          "x": 230.1569435072666,
          "xanchor": "right",
          "xref": "x",
          "y": 1,
          "yanchor": "top",
          "yref": "y domain"
         }
        ],
        "barmode": "relative",
        "legend": {
         "tracegroupgap": 0
        },
        "shapes": [
         {
          "line": {
           "color": "blue",
           "dash": "dash"
          },
          "type": "line",
          "x0": 217.1869918699187,
          "x1": 217.1869918699187,
          "xref": "x",
          "y0": 0,
          "y1": 1,
          "yref": "y domain"
         },
         {
          "line": {
           "color": "green",
           "dash": "dash"
          },
          "type": "line",
          "x0": 216,
          "x1": 216,
          "xref": "x",
          "y0": 0,
          "y1": 1,
          "yref": "y domain"
         },
         {
          "fillcolor": "LightPink",
          "line": {
           "width": 0
          },
          "opacity": 0.2,
          "type": "rect",
          "x0": 203,
          "x1": 231,
          "xref": "x",
          "y0": 0,
          "y1": 1,
          "yref": "y domain"
         },
         {
          "fillcolor": "LightGreen",
          "line": {
           "width": 0
          },
          "opacity": 0.3,
          "type": "rect",
          "x0": 212,
          "x1": 221,
          "xref": "x",
          "y0": 0,
          "y1": 1,
          "yref": "y domain"
         },
         {
          "fillcolor": "LightBlue",
          "line": {
           "width": 0
          },
          "opacity": 0.2,
          "type": "rect",
          "x0": 204.2170402325708,
          "x1": 230.1569435072666,
          "xref": "x",
          "y0": 0,
          "y1": 1,
          "yref": "y domain"
         }
        ],
        "showlegend": false,
        "template": {
         "data": {
          "bar": [
           {
            "error_x": {
             "color": "#2a3f5f"
            },
            "error_y": {
             "color": "#2a3f5f"
            },
            "marker": {
             "line": {
              "color": "#E5ECF6",
              "width": 0.5
             },
             "pattern": {
              "fillmode": "overlay",
              "size": 10,
              "solidity": 0.2
             }
            },
            "type": "bar"
           }
          ],
          "barpolar": [
           {
            "marker": {
             "line": {
              "color": "#E5ECF6",
              "width": 0.5
             },
             "pattern": {
              "fillmode": "overlay",
              "size": 10,
              "solidity": 0.2
             }
            },
            "type": "barpolar"
           }
          ],
          "carpet": [
           {
            "aaxis": {
             "endlinecolor": "#2a3f5f",
             "gridcolor": "white",
             "linecolor": "white",
             "minorgridcolor": "white",
             "startlinecolor": "#2a3f5f"
            },
            "baxis": {
             "endlinecolor": "#2a3f5f",
             "gridcolor": "white",
             "linecolor": "white",
             "minorgridcolor": "white",
             "startlinecolor": "#2a3f5f"
            },
            "type": "carpet"
           }
          ],
          "choropleth": [
           {
            "colorbar": {
             "outlinewidth": 0,
             "ticks": ""
            },
            "type": "choropleth"
           }
          ],
          "contour": [
           {
            "colorbar": {
             "outlinewidth": 0,
             "ticks": ""
            },
            "colorscale": [
             [
              0,
              "#0d0887"
             ],
             [
              0.1111111111111111,
              "#46039f"
             ],
             [
              0.2222222222222222,
              "#7201a8"
             ],
             [
              0.3333333333333333,
              "#9c179e"
             ],
             [
              0.4444444444444444,
              "#bd3786"
             ],
             [
              0.5555555555555556,
              "#d8576b"
             ],
             [
              0.6666666666666666,
              "#ed7953"
             ],
             [
              0.7777777777777778,
              "#fb9f3a"
             ],
             [
              0.8888888888888888,
              "#fdca26"
             ],
             [
              1,
              "#f0f921"
             ]
            ],
            "type": "contour"
           }
          ],
          "contourcarpet": [
           {
            "colorbar": {
             "outlinewidth": 0,
             "ticks": ""
            },
            "type": "contourcarpet"
           }
          ],
          "heatmap": [
           {
            "colorbar": {
             "outlinewidth": 0,
             "ticks": ""
            },
            "colorscale": [
             [
              0,
              "#0d0887"
             ],
             [
              0.1111111111111111,
              "#46039f"
             ],
             [
              0.2222222222222222,
              "#7201a8"
             ],
             [
              0.3333333333333333,
              "#9c179e"
             ],
             [
              0.4444444444444444,
              "#bd3786"
             ],
             [
              0.5555555555555556,
              "#d8576b"
             ],
             [
              0.6666666666666666,
              "#ed7953"
             ],
             [
              0.7777777777777778,
              "#fb9f3a"
             ],
             [
              0.8888888888888888,
              "#fdca26"
             ],
             [
              1,
              "#f0f921"
             ]
            ],
            "type": "heatmap"
           }
          ],
          "heatmapgl": [
           {
            "colorbar": {
             "outlinewidth": 0,
             "ticks": ""
            },
            "colorscale": [
             [
              0,
              "#0d0887"
             ],
             [
              0.1111111111111111,
              "#46039f"
             ],
             [
              0.2222222222222222,
              "#7201a8"
             ],
             [
              0.3333333333333333,
              "#9c179e"
             ],
             [
              0.4444444444444444,
              "#bd3786"
             ],
             [
              0.5555555555555556,
              "#d8576b"
             ],
             [
              0.6666666666666666,
              "#ed7953"
             ],
             [
              0.7777777777777778,
              "#fb9f3a"
             ],
             [
              0.8888888888888888,
              "#fdca26"
             ],
             [
              1,
              "#f0f921"
             ]
            ],
            "type": "heatmapgl"
           }
          ],
          "histogram": [
           {
            "marker": {
             "pattern": {
              "fillmode": "overlay",
              "size": 10,
              "solidity": 0.2
             }
            },
            "type": "histogram"
           }
          ],
          "histogram2d": [
           {
            "colorbar": {
             "outlinewidth": 0,
             "ticks": ""
            },
            "colorscale": [
             [
              0,
              "#0d0887"
             ],
             [
              0.1111111111111111,
              "#46039f"
             ],
             [
              0.2222222222222222,
              "#7201a8"
             ],
             [
              0.3333333333333333,
              "#9c179e"
             ],
             [
              0.4444444444444444,
              "#bd3786"
             ],
             [
              0.5555555555555556,
              "#d8576b"
             ],
             [
              0.6666666666666666,
              "#ed7953"
             ],
             [
              0.7777777777777778,
              "#fb9f3a"
             ],
             [
              0.8888888888888888,
              "#fdca26"
             ],
             [
              1,
              "#f0f921"
             ]
            ],
            "type": "histogram2d"
           }
          ],
          "histogram2dcontour": [
           {
            "colorbar": {
             "outlinewidth": 0,
             "ticks": ""
            },
            "colorscale": [
             [
              0,
              "#0d0887"
             ],
             [
              0.1111111111111111,
              "#46039f"
             ],
             [
              0.2222222222222222,
              "#7201a8"
             ],
             [
              0.3333333333333333,
              "#9c179e"
             ],
             [
              0.4444444444444444,
              "#bd3786"
             ],
             [
              0.5555555555555556,
              "#d8576b"
             ],
             [
              0.6666666666666666,
              "#ed7953"
             ],
             [
              0.7777777777777778,
              "#fb9f3a"
             ],
             [
              0.8888888888888888,
              "#fdca26"
             ],
             [
              1,
              "#f0f921"
             ]
            ],
            "type": "histogram2dcontour"
           }
          ],
          "mesh3d": [
           {
            "colorbar": {
             "outlinewidth": 0,
             "ticks": ""
            },
            "type": "mesh3d"
           }
          ],
          "parcoords": [
           {
            "line": {
             "colorbar": {
              "outlinewidth": 0,
              "ticks": ""
             }
            },
            "type": "parcoords"
           }
          ],
          "pie": [
           {
            "automargin": true,
            "type": "pie"
           }
          ],
          "scatter": [
           {
            "fillpattern": {
             "fillmode": "overlay",
             "size": 10,
             "solidity": 0.2
            },
            "type": "scatter"
           }
          ],
          "scatter3d": [
           {
            "line": {
             "colorbar": {
              "outlinewidth": 0,
              "ticks": ""
             }
            },
            "marker": {
             "colorbar": {
              "outlinewidth": 0,
              "ticks": ""
             }
            },
            "type": "scatter3d"
           }
          ],
          "scattercarpet": [
           {
            "marker": {
             "colorbar": {
              "outlinewidth": 0,
              "ticks": ""
             }
            },
            "type": "scattercarpet"
           }
          ],
          "scattergeo": [
           {
            "marker": {
             "colorbar": {
              "outlinewidth": 0,
              "ticks": ""
             }
            },
            "type": "scattergeo"
           }
          ],
          "scattergl": [
           {
            "marker": {
             "colorbar": {
              "outlinewidth": 0,
              "ticks": ""
             }
            },
            "type": "scattergl"
           }
          ],
          "scattermapbox": [
           {
            "marker": {
             "colorbar": {
              "outlinewidth": 0,
              "ticks": ""
             }
            },
            "type": "scattermapbox"
           }
          ],
          "scatterpolar": [
           {
            "marker": {
             "colorbar": {
              "outlinewidth": 0,
              "ticks": ""
             }
            },
            "type": "scatterpolar"
           }
          ],
          "scatterpolargl": [
           {
            "marker": {
             "colorbar": {
              "outlinewidth": 0,
              "ticks": ""
             }
            },
            "type": "scatterpolargl"
           }
          ],
          "scatterternary": [
           {
            "marker": {
             "colorbar": {
              "outlinewidth": 0,
              "ticks": ""
             }
            },
            "type": "scatterternary"
           }
          ],
          "surface": [
           {
            "colorbar": {
             "outlinewidth": 0,
             "ticks": ""
            },
            "colorscale": [
             [
              0,
              "#0d0887"
             ],
             [
              0.1111111111111111,
              "#46039f"
             ],
             [
              0.2222222222222222,
              "#7201a8"
             ],
             [
              0.3333333333333333,
              "#9c179e"
             ],
             [
              0.4444444444444444,
              "#bd3786"
             ],
             [
              0.5555555555555556,
              "#d8576b"
             ],
             [
              0.6666666666666666,
              "#ed7953"
             ],
             [
              0.7777777777777778,
              "#fb9f3a"
             ],
             [
              0.8888888888888888,
              "#fdca26"
             ],
             [
              1,
              "#f0f921"
             ]
            ],
            "type": "surface"
           }
          ],
          "table": [
           {
            "cells": {
             "fill": {
              "color": "#EBF0F8"
             },
             "line": {
              "color": "white"
             }
            },
            "header": {
             "fill": {
              "color": "#C8D4E3"
             },
             "line": {
              "color": "white"
             }
            },
            "type": "table"
           }
          ]
         },
         "layout": {
          "annotationdefaults": {
           "arrowcolor": "#2a3f5f",
           "arrowhead": 0,
           "arrowwidth": 1
          },
          "autotypenumbers": "strict",
          "coloraxis": {
           "colorbar": {
            "outlinewidth": 0,
            "ticks": ""
           }
          },
          "colorscale": {
           "diverging": [
            [
             0,
             "#8e0152"
            ],
            [
             0.1,
             "#c51b7d"
            ],
            [
             0.2,
             "#de77ae"
            ],
            [
             0.3,
             "#f1b6da"
            ],
            [
             0.4,
             "#fde0ef"
            ],
            [
             0.5,
             "#f7f7f7"
            ],
            [
             0.6,
             "#e6f5d0"
            ],
            [
             0.7,
             "#b8e186"
            ],
            [
             0.8,
             "#7fbc41"
            ],
            [
             0.9,
             "#4d9221"
            ],
            [
             1,
             "#276419"
            ]
           ],
           "sequential": [
            [
             0,
             "#0d0887"
            ],
            [
             0.1111111111111111,
             "#46039f"
            ],
            [
             0.2222222222222222,
             "#7201a8"
            ],
            [
             0.3333333333333333,
             "#9c179e"
            ],
            [
             0.4444444444444444,
             "#bd3786"
            ],
            [
             0.5555555555555556,
             "#d8576b"
            ],
            [
             0.6666666666666666,
             "#ed7953"
            ],
            [
             0.7777777777777778,
             "#fb9f3a"
            ],
            [
             0.8888888888888888,
             "#fdca26"
            ],
            [
             1,
             "#f0f921"
            ]
           ],
           "sequentialminus": [
            [
             0,
             "#0d0887"
            ],
            [
             0.1111111111111111,
             "#46039f"
            ],
            [
             0.2222222222222222,
             "#7201a8"
            ],
            [
             0.3333333333333333,
             "#9c179e"
            ],
            [
             0.4444444444444444,
             "#bd3786"
            ],
            [
             0.5555555555555556,
             "#d8576b"
            ],
            [
             0.6666666666666666,
             "#ed7953"
            ],
            [
             0.7777777777777778,
             "#fb9f3a"
            ],
            [
             0.8888888888888888,
             "#fdca26"
            ],
            [
             1,
             "#f0f921"
            ]
           ]
          },
          "colorway": [
           "#636efa",
           "#EF553B",
           "#00cc96",
           "#ab63fa",
           "#FFA15A",
           "#19d3f3",
           "#FF6692",
           "#B6E880",
           "#FF97FF",
           "#FECB52"
          ],
          "font": {
           "color": "#2a3f5f"
          },
          "geo": {
           "bgcolor": "white",
           "lakecolor": "white",
           "landcolor": "#E5ECF6",
           "showlakes": true,
           "showland": true,
           "subunitcolor": "white"
          },
          "hoverlabel": {
           "align": "left"
          },
          "hovermode": "closest",
          "mapbox": {
           "style": "light"
          },
          "paper_bgcolor": "white",
          "plot_bgcolor": "#E5ECF6",
          "polar": {
           "angularaxis": {
            "gridcolor": "white",
            "linecolor": "white",
            "ticks": ""
           },
           "bgcolor": "#E5ECF6",
           "radialaxis": {
            "gridcolor": "white",
            "linecolor": "white",
            "ticks": ""
           }
          },
          "scene": {
           "xaxis": {
            "backgroundcolor": "#E5ECF6",
            "gridcolor": "white",
            "gridwidth": 2,
            "linecolor": "white",
            "showbackground": true,
            "ticks": "",
            "zerolinecolor": "white"
           },
           "yaxis": {
            "backgroundcolor": "#E5ECF6",
            "gridcolor": "white",
            "gridwidth": 2,
            "linecolor": "white",
            "showbackground": true,
            "ticks": "",
            "zerolinecolor": "white"
           },
           "zaxis": {
            "backgroundcolor": "#E5ECF6",
            "gridcolor": "white",
            "gridwidth": 2,
            "linecolor": "white",
            "showbackground": true,
            "ticks": "",
            "zerolinecolor": "white"
           }
          },
          "shapedefaults": {
           "line": {
            "color": "#2a3f5f"
           }
          },
          "ternary": {
           "aaxis": {
            "gridcolor": "white",
            "linecolor": "white",
            "ticks": ""
           },
           "baxis": {
            "gridcolor": "white",
            "linecolor": "white",
            "ticks": ""
           },
           "bgcolor": "#E5ECF6",
           "caxis": {
            "gridcolor": "white",
            "linecolor": "white",
            "ticks": ""
           }
          },
          "title": {
           "x": 0.05
          },
          "xaxis": {
           "automargin": true,
           "gridcolor": "white",
           "linecolor": "white",
           "ticks": "",
           "title": {
            "standoff": 15
           },
           "zerolinecolor": "white",
           "zerolinewidth": 2
          },
          "yaxis": {
           "automargin": true,
           "gridcolor": "white",
           "linecolor": "white",
           "ticks": "",
           "title": {
            "standoff": 15
           },
           "zerolinecolor": "white",
           "zerolinewidth": 2
          }
         }
        },
        "title": {
         "text": "Flipper Length for Gentoo"
        },
        "xaxis": {
         "anchor": "y",
         "domain": [
          0,
          1
         ],
         "title": {
          "text": "Flipper Length (mm)"
         }
        },
        "yaxis": {
         "anchor": "x",
         "domain": [
          0,
          1
         ],
         "title": {
          "text": "Count"
         }
        }
       }
      },
      "text/html": [
       "<div>                            <div id=\"fdc18279-0f6d-4261-9717-b29cfc70ce74\" class=\"plotly-graph-div\" style=\"height:525px; width:100%;\"></div>            <script type=\"text/javascript\">                require([\"plotly\"], function(Plotly) {                    window.PLOTLYENV=window.PLOTLYENV || {};                                    if (document.getElementById(\"fdc18279-0f6d-4261-9717-b29cfc70ce74\")) {                    Plotly.newPlot(                        \"fdc18279-0f6d-4261-9717-b29cfc70ce74\",                        [{\"alignmentgroup\":\"True\",\"bingroup\":\"x\",\"hovertemplate\":\"flipper_length_mm=%{x}\\u003cbr\\u003ecount=%{y}\\u003cextra\\u003e\\u003c\\u002fextra\\u003e\",\"legendgroup\":\"\",\"marker\":{\"color\":\"#636efa\",\"pattern\":{\"shape\":\"\"}},\"name\":\"\",\"nbinsx\":20,\"offsetgroup\":\"\",\"orientation\":\"v\",\"showlegend\":false,\"x\":[211.0,230.0,210.0,218.0,215.0,210.0,211.0,219.0,209.0,215.0,214.0,216.0,214.0,213.0,210.0,217.0,210.0,221.0,209.0,222.0,218.0,215.0,213.0,215.0,215.0,215.0,216.0,215.0,210.0,220.0,222.0,209.0,207.0,230.0,220.0,220.0,213.0,219.0,208.0,208.0,208.0,225.0,210.0,216.0,222.0,217.0,210.0,225.0,213.0,215.0,210.0,220.0,210.0,225.0,217.0,220.0,208.0,220.0,208.0,224.0,208.0,221.0,214.0,231.0,219.0,230.0,214.0,229.0,220.0,223.0,216.0,221.0,221.0,217.0,216.0,230.0,209.0,220.0,215.0,223.0,212.0,221.0,212.0,224.0,212.0,228.0,218.0,218.0,212.0,230.0,218.0,228.0,212.0,224.0,214.0,226.0,216.0,222.0,203.0,225.0,219.0,228.0,215.0,228.0,216.0,215.0,210.0,219.0,208.0,209.0,216.0,229.0,213.0,230.0,217.0,230.0,217.0,222.0,214.0,215.0,222.0,212.0,213.0],\"xaxis\":\"x\",\"yaxis\":\"y\",\"type\":\"histogram\"}],                        {\"template\":{\"data\":{\"histogram2dcontour\":[{\"type\":\"histogram2dcontour\",\"colorbar\":{\"outlinewidth\":0,\"ticks\":\"\"},\"colorscale\":[[0.0,\"#0d0887\"],[0.1111111111111111,\"#46039f\"],[0.2222222222222222,\"#7201a8\"],[0.3333333333333333,\"#9c179e\"],[0.4444444444444444,\"#bd3786\"],[0.5555555555555556,\"#d8576b\"],[0.6666666666666666,\"#ed7953\"],[0.7777777777777778,\"#fb9f3a\"],[0.8888888888888888,\"#fdca26\"],[1.0,\"#f0f921\"]]}],\"choropleth\":[{\"type\":\"choropleth\",\"colorbar\":{\"outlinewidth\":0,\"ticks\":\"\"}}],\"histogram2d\":[{\"type\":\"histogram2d\",\"colorbar\":{\"outlinewidth\":0,\"ticks\":\"\"},\"colorscale\":[[0.0,\"#0d0887\"],[0.1111111111111111,\"#46039f\"],[0.2222222222222222,\"#7201a8\"],[0.3333333333333333,\"#9c179e\"],[0.4444444444444444,\"#bd3786\"],[0.5555555555555556,\"#d8576b\"],[0.6666666666666666,\"#ed7953\"],[0.7777777777777778,\"#fb9f3a\"],[0.8888888888888888,\"#fdca26\"],[1.0,\"#f0f921\"]]}],\"heatmap\":[{\"type\":\"heatmap\",\"colorbar\":{\"outlinewidth\":0,\"ticks\":\"\"},\"colorscale\":[[0.0,\"#0d0887\"],[0.1111111111111111,\"#46039f\"],[0.2222222222222222,\"#7201a8\"],[0.3333333333333333,\"#9c179e\"],[0.4444444444444444,\"#bd3786\"],[0.5555555555555556,\"#d8576b\"],[0.6666666666666666,\"#ed7953\"],[0.7777777777777778,\"#fb9f3a\"],[0.8888888888888888,\"#fdca26\"],[1.0,\"#f0f921\"]]}],\"heatmapgl\":[{\"type\":\"heatmapgl\",\"colorbar\":{\"outlinewidth\":0,\"ticks\":\"\"},\"colorscale\":[[0.0,\"#0d0887\"],[0.1111111111111111,\"#46039f\"],[0.2222222222222222,\"#7201a8\"],[0.3333333333333333,\"#9c179e\"],[0.4444444444444444,\"#bd3786\"],[0.5555555555555556,\"#d8576b\"],[0.6666666666666666,\"#ed7953\"],[0.7777777777777778,\"#fb9f3a\"],[0.8888888888888888,\"#fdca26\"],[1.0,\"#f0f921\"]]}],\"contourcarpet\":[{\"type\":\"contourcarpet\",\"colorbar\":{\"outlinewidth\":0,\"ticks\":\"\"}}],\"contour\":[{\"type\":\"contour\",\"colorbar\":{\"outlinewidth\":0,\"ticks\":\"\"},\"colorscale\":[[0.0,\"#0d0887\"],[0.1111111111111111,\"#46039f\"],[0.2222222222222222,\"#7201a8\"],[0.3333333333333333,\"#9c179e\"],[0.4444444444444444,\"#bd3786\"],[0.5555555555555556,\"#d8576b\"],[0.6666666666666666,\"#ed7953\"],[0.7777777777777778,\"#fb9f3a\"],[0.8888888888888888,\"#fdca26\"],[1.0,\"#f0f921\"]]}],\"surface\":[{\"type\":\"surface\",\"colorbar\":{\"outlinewidth\":0,\"ticks\":\"\"},\"colorscale\":[[0.0,\"#0d0887\"],[0.1111111111111111,\"#46039f\"],[0.2222222222222222,\"#7201a8\"],[0.3333333333333333,\"#9c179e\"],[0.4444444444444444,\"#bd3786\"],[0.5555555555555556,\"#d8576b\"],[0.6666666666666666,\"#ed7953\"],[0.7777777777777778,\"#fb9f3a\"],[0.8888888888888888,\"#fdca26\"],[1.0,\"#f0f921\"]]}],\"mesh3d\":[{\"type\":\"mesh3d\",\"colorbar\":{\"outlinewidth\":0,\"ticks\":\"\"}}],\"scatter\":[{\"fillpattern\":{\"fillmode\":\"overlay\",\"size\":10,\"solidity\":0.2},\"type\":\"scatter\"}],\"parcoords\":[{\"type\":\"parcoords\",\"line\":{\"colorbar\":{\"outlinewidth\":0,\"ticks\":\"\"}}}],\"scatterpolargl\":[{\"type\":\"scatterpolargl\",\"marker\":{\"colorbar\":{\"outlinewidth\":0,\"ticks\":\"\"}}}],\"bar\":[{\"error_x\":{\"color\":\"#2a3f5f\"},\"error_y\":{\"color\":\"#2a3f5f\"},\"marker\":{\"line\":{\"color\":\"#E5ECF6\",\"width\":0.5},\"pattern\":{\"fillmode\":\"overlay\",\"size\":10,\"solidity\":0.2}},\"type\":\"bar\"}],\"scattergeo\":[{\"type\":\"scattergeo\",\"marker\":{\"colorbar\":{\"outlinewidth\":0,\"ticks\":\"\"}}}],\"scatterpolar\":[{\"type\":\"scatterpolar\",\"marker\":{\"colorbar\":{\"outlinewidth\":0,\"ticks\":\"\"}}}],\"histogram\":[{\"marker\":{\"pattern\":{\"fillmode\":\"overlay\",\"size\":10,\"solidity\":0.2}},\"type\":\"histogram\"}],\"scattergl\":[{\"type\":\"scattergl\",\"marker\":{\"colorbar\":{\"outlinewidth\":0,\"ticks\":\"\"}}}],\"scatter3d\":[{\"type\":\"scatter3d\",\"line\":{\"colorbar\":{\"outlinewidth\":0,\"ticks\":\"\"}},\"marker\":{\"colorbar\":{\"outlinewidth\":0,\"ticks\":\"\"}}}],\"scattermapbox\":[{\"type\":\"scattermapbox\",\"marker\":{\"colorbar\":{\"outlinewidth\":0,\"ticks\":\"\"}}}],\"scatterternary\":[{\"type\":\"scatterternary\",\"marker\":{\"colorbar\":{\"outlinewidth\":0,\"ticks\":\"\"}}}],\"scattercarpet\":[{\"type\":\"scattercarpet\",\"marker\":{\"colorbar\":{\"outlinewidth\":0,\"ticks\":\"\"}}}],\"carpet\":[{\"aaxis\":{\"endlinecolor\":\"#2a3f5f\",\"gridcolor\":\"white\",\"linecolor\":\"white\",\"minorgridcolor\":\"white\",\"startlinecolor\":\"#2a3f5f\"},\"baxis\":{\"endlinecolor\":\"#2a3f5f\",\"gridcolor\":\"white\",\"linecolor\":\"white\",\"minorgridcolor\":\"white\",\"startlinecolor\":\"#2a3f5f\"},\"type\":\"carpet\"}],\"table\":[{\"cells\":{\"fill\":{\"color\":\"#EBF0F8\"},\"line\":{\"color\":\"white\"}},\"header\":{\"fill\":{\"color\":\"#C8D4E3\"},\"line\":{\"color\":\"white\"}},\"type\":\"table\"}],\"barpolar\":[{\"marker\":{\"line\":{\"color\":\"#E5ECF6\",\"width\":0.5},\"pattern\":{\"fillmode\":\"overlay\",\"size\":10,\"solidity\":0.2}},\"type\":\"barpolar\"}],\"pie\":[{\"automargin\":true,\"type\":\"pie\"}]},\"layout\":{\"autotypenumbers\":\"strict\",\"colorway\":[\"#636efa\",\"#EF553B\",\"#00cc96\",\"#ab63fa\",\"#FFA15A\",\"#19d3f3\",\"#FF6692\",\"#B6E880\",\"#FF97FF\",\"#FECB52\"],\"font\":{\"color\":\"#2a3f5f\"},\"hovermode\":\"closest\",\"hoverlabel\":{\"align\":\"left\"},\"paper_bgcolor\":\"white\",\"plot_bgcolor\":\"#E5ECF6\",\"polar\":{\"bgcolor\":\"#E5ECF6\",\"angularaxis\":{\"gridcolor\":\"white\",\"linecolor\":\"white\",\"ticks\":\"\"},\"radialaxis\":{\"gridcolor\":\"white\",\"linecolor\":\"white\",\"ticks\":\"\"}},\"ternary\":{\"bgcolor\":\"#E5ECF6\",\"aaxis\":{\"gridcolor\":\"white\",\"linecolor\":\"white\",\"ticks\":\"\"},\"baxis\":{\"gridcolor\":\"white\",\"linecolor\":\"white\",\"ticks\":\"\"},\"caxis\":{\"gridcolor\":\"white\",\"linecolor\":\"white\",\"ticks\":\"\"}},\"coloraxis\":{\"colorbar\":{\"outlinewidth\":0,\"ticks\":\"\"}},\"colorscale\":{\"sequential\":[[0.0,\"#0d0887\"],[0.1111111111111111,\"#46039f\"],[0.2222222222222222,\"#7201a8\"],[0.3333333333333333,\"#9c179e\"],[0.4444444444444444,\"#bd3786\"],[0.5555555555555556,\"#d8576b\"],[0.6666666666666666,\"#ed7953\"],[0.7777777777777778,\"#fb9f3a\"],[0.8888888888888888,\"#fdca26\"],[1.0,\"#f0f921\"]],\"sequentialminus\":[[0.0,\"#0d0887\"],[0.1111111111111111,\"#46039f\"],[0.2222222222222222,\"#7201a8\"],[0.3333333333333333,\"#9c179e\"],[0.4444444444444444,\"#bd3786\"],[0.5555555555555556,\"#d8576b\"],[0.6666666666666666,\"#ed7953\"],[0.7777777777777778,\"#fb9f3a\"],[0.8888888888888888,\"#fdca26\"],[1.0,\"#f0f921\"]],\"diverging\":[[0,\"#8e0152\"],[0.1,\"#c51b7d\"],[0.2,\"#de77ae\"],[0.3,\"#f1b6da\"],[0.4,\"#fde0ef\"],[0.5,\"#f7f7f7\"],[0.6,\"#e6f5d0\"],[0.7,\"#b8e186\"],[0.8,\"#7fbc41\"],[0.9,\"#4d9221\"],[1,\"#276419\"]]},\"xaxis\":{\"gridcolor\":\"white\",\"linecolor\":\"white\",\"ticks\":\"\",\"title\":{\"standoff\":15},\"zerolinecolor\":\"white\",\"automargin\":true,\"zerolinewidth\":2},\"yaxis\":{\"gridcolor\":\"white\",\"linecolor\":\"white\",\"ticks\":\"\",\"title\":{\"standoff\":15},\"zerolinecolor\":\"white\",\"automargin\":true,\"zerolinewidth\":2},\"scene\":{\"xaxis\":{\"backgroundcolor\":\"#E5ECF6\",\"gridcolor\":\"white\",\"linecolor\":\"white\",\"showbackground\":true,\"ticks\":\"\",\"zerolinecolor\":\"white\",\"gridwidth\":2},\"yaxis\":{\"backgroundcolor\":\"#E5ECF6\",\"gridcolor\":\"white\",\"linecolor\":\"white\",\"showbackground\":true,\"ticks\":\"\",\"zerolinecolor\":\"white\",\"gridwidth\":2},\"zaxis\":{\"backgroundcolor\":\"#E5ECF6\",\"gridcolor\":\"white\",\"linecolor\":\"white\",\"showbackground\":true,\"ticks\":\"\",\"zerolinecolor\":\"white\",\"gridwidth\":2}},\"shapedefaults\":{\"line\":{\"color\":\"#2a3f5f\"}},\"annotationdefaults\":{\"arrowcolor\":\"#2a3f5f\",\"arrowhead\":0,\"arrowwidth\":1},\"geo\":{\"bgcolor\":\"white\",\"landcolor\":\"#E5ECF6\",\"subunitcolor\":\"white\",\"showland\":true,\"showlakes\":true,\"lakecolor\":\"white\"},\"title\":{\"x\":0.05},\"mapbox\":{\"style\":\"light\"}}},\"xaxis\":{\"anchor\":\"y\",\"domain\":[0.0,1.0],\"title\":{\"text\":\"Flipper Length (mm)\"}},\"yaxis\":{\"anchor\":\"x\",\"domain\":[0.0,1.0],\"title\":{\"text\":\"Count\"}},\"legend\":{\"tracegroupgap\":0},\"title\":{\"text\":\"Flipper Length for Gentoo\"},\"barmode\":\"relative\",\"shapes\":[{\"line\":{\"color\":\"blue\",\"dash\":\"dash\"},\"type\":\"line\",\"x0\":217.1869918699187,\"x1\":217.1869918699187,\"xref\":\"x\",\"y0\":0,\"y1\":1,\"yref\":\"y domain\"},{\"line\":{\"color\":\"green\",\"dash\":\"dash\"},\"type\":\"line\",\"x0\":216.0,\"x1\":216.0,\"xref\":\"x\",\"y0\":0,\"y1\":1,\"yref\":\"y domain\"},{\"fillcolor\":\"LightPink\",\"line\":{\"width\":0},\"opacity\":0.2,\"type\":\"rect\",\"x0\":203.0,\"x1\":231.0,\"xref\":\"x\",\"y0\":0,\"y1\":1,\"yref\":\"y domain\"},{\"fillcolor\":\"LightGreen\",\"line\":{\"width\":0},\"opacity\":0.3,\"type\":\"rect\",\"x0\":212.0,\"x1\":221.0,\"xref\":\"x\",\"y0\":0,\"y1\":1,\"yref\":\"y domain\"},{\"fillcolor\":\"LightBlue\",\"line\":{\"width\":0},\"opacity\":0.2,\"type\":\"rect\",\"x0\":204.2170402325708,\"x1\":230.1569435072666,\"xref\":\"x\",\"y0\":0,\"y1\":1,\"yref\":\"y domain\"}],\"annotations\":[{\"showarrow\":false,\"text\":\"Mean\",\"x\":217.1869918699187,\"xanchor\":\"right\",\"xref\":\"x\",\"y\":1,\"yanchor\":\"top\",\"yref\":\"y domain\"},{\"showarrow\":false,\"text\":\"Median\",\"x\":216.0,\"xanchor\":\"left\",\"xref\":\"x\",\"y\":1,\"yanchor\":\"top\",\"yref\":\"y domain\"},{\"showarrow\":false,\"text\":\"Range\",\"x\":231.0,\"xanchor\":\"right\",\"xref\":\"x\",\"y\":1,\"yanchor\":\"top\",\"yref\":\"y domain\"},{\"showarrow\":false,\"text\":\"IQR\",\"x\":221.0,\"xanchor\":\"right\",\"xref\":\"x\",\"y\":1,\"yanchor\":\"top\",\"yref\":\"y domain\"},{\"showarrow\":false,\"text\":\"2 Std Dev\",\"x\":230.1569435072666,\"xanchor\":\"right\",\"xref\":\"x\",\"y\":1,\"yanchor\":\"top\",\"yref\":\"y domain\"}],\"showlegend\":false},                        {\"responsive\": true}                    ).then(function(){\n",
       "                            \n",
       "var gd = document.getElementById('fdc18279-0f6d-4261-9717-b29cfc70ce74');\n",
       "var x = new MutationObserver(function (mutations, observer) {{\n",
       "        var display = window.getComputedStyle(gd).display;\n",
       "        if (!display || display === 'none') {{\n",
       "            console.log([gd, 'removed!']);\n",
       "            Plotly.purge(gd);\n",
       "            observer.disconnect();\n",
       "        }}\n",
       "}});\n",
       "\n",
       "// Listen for the removal of the full notebook cells\n",
       "var notebookContainer = gd.closest('#notebook-container');\n",
       "if (notebookContainer) {{\n",
       "    x.observe(notebookContainer, {childList: true});\n",
       "}}\n",
       "\n",
       "// Listen for the clearing of the current output cell\n",
       "var outputEl = gd.closest('.output');\n",
       "if (outputEl) {{\n",
       "    x.observe(outputEl, {childList: true});\n",
       "}}\n",
       "\n",
       "                        })                };                });            </script>        </div>"
      ]
     },
     "metadata": {},
     "output_type": "display_data"
    }
   ],
   "source": [
    "# 1. \n",
    "\n",
    "def plot_flipper_length_with_annotations(df, species_name):\n",
    "    # Filter data for the species\n",
    "    species_data = df[df['species'] == species_name]\n",
    "    flipper_length = species_data['flipper_length_mm']\n",
    "\n",
    "    # Calculate statistical properties\n",
    "    mean = flipper_length.mean()\n",
    "    median = flipper_length.median()\n",
    "    std_dev = flipper_length.std()\n",
    "    min_val = flipper_length.min()\n",
    "    max_val = flipper_length.max()\n",
    "    q1 = np.percentile(flipper_length, 25)\n",
    "    q3 = np.percentile(flipper_length, 75)\n",
    "    lower_bound = mean - 2 * std_dev\n",
    "    upper_bound = mean + 2 * std_dev\n",
    "\n",
    "    # Create histogram\n",
    "    fig = px.histogram(species_data, x='flipper_length_mm', nbins=20, title=f'Flipper Length for {species_name}')\n",
    "\n",
    "    # Add mean and median lines\n",
    "    fig.add_vline(x=mean, line=dict(color='blue', dash='dash'), annotation_text='Mean', annotation_position='top left')\n",
    "    fig.add_vline(x=median, line=dict(color='green', dash='dash'), annotation_text='Median', annotation_position='top right')\n",
    "\n",
    "    # Add rectangles for ranges\n",
    "    # Add rectangle for the range (min to max)\n",
    "    fig.add_vrect(x0=min_val, x1=max_val, fillcolor=\"LightPink\", opacity=0.2, line_width=0, annotation_text='Range')\n",
    "    \n",
    "    # Add rectangle for the IQR (Q1 to Q3)\n",
    "    fig.add_vrect(x0=q1, x1=q3, fillcolor=\"LightGreen\", opacity=0.3, line_width=0, annotation_text='IQR')\n",
    "    \n",
    "    # Add rectangle for two standard deviations from the mean\n",
    "    fig.add_vrect(x0=lower_bound, x1=upper_bound, fillcolor=\"LightBlue\", opacity=0.2, line_width=0, annotation_text='2 Std Dev')\n",
    "\n",
    "    # Update layout\n",
    "    fig.update_layout(showlegend=False, xaxis_title='Flipper Length (mm)', yaxis_title='Count')\n",
    "\n",
    "    fig.show()\n",
    "\n",
    "# Plot for each species\n",
    "for species in penguins['species'].unique():\n",
    "    plot_flipper_length_with_annotations(penguins, species)"
   ]
  },
  {
   "cell_type": "code",
   "execution_count": 19,
   "id": "35c2a769",
   "metadata": {},
   "outputs": [],
   "source": [
    "def plot_flipper_length_kde(df, species_name, ax):\n",
    "    species_df = df[df['species'] == species_name]\n",
    "    \n",
    "    # Plot KDE of flipper length\n",
    "    species_df['flipper_length_mm'].plot(kind='kde', ax=ax, label=f'{species_name} KDE')\n",
    "    \n",
    "    # Calculate key statistics\n",
    "    mean_val = species_df['flipper_length_mm'].mean()\n",
    "    median_val = species_df['flipper_length_mm'].median()\n",
    "    min_val = species_df['flipper_length_mm'].min()\n",
    "    max_val = species_df['flipper_length_mm'].max()\n",
    "    q1 = species_df['flipper_length_mm'].quantile(0.25)\n",
    "    q3 = species_df['flipper_length_mm'].quantile(0.75)\n",
    "    std_dev = species_df['flipper_length_mm'].std()\n",
    "    lower_bound = mean_val - 2 * std_dev\n",
    "    upper_bound = mean_val + 2 * std_dev\n",
    "    \n",
    "    # Add vertical lines for mean and median\n",
    "    ax.axvline(mean_val, color='blue', linestyle='--', label='Mean')\n",
    "    ax.axvline(median_val, color='orange', linestyle=':', label='Median')\n",
    "    \n",
    "    # Shade areas for range, IQR, and 2 standard deviations\n",
    "    ax.fill_betweenx([0, ax.get_ylim()[1]], min_val, max_val, color='lightpink', alpha=0.3, label='Range')\n",
    "    ax.fill_betweenx([0, ax.get_ylim()[1]], q1, q3, color='lightgreen', alpha=0.3, label='IQR')\n",
    "    ax.fill_betweenx([0, ax.get_ylim()[1]], lower_bound, upper_bound, color='lightblue', alpha=0.3, label='2 Std Dev')\n",
    "    \n",
    "    # Add labels and legend\n",
    "    ax.set_title(f'Flipper Length Distribution - {species_name}')\n",
    "    ax.set_xlabel('Flipper Length (mm)')\n",
    "    ax.set_ylabel('Density')\n",
    "    ax.legend()\n"
   ]
  },
  {
   "cell_type": "code",
   "execution_count": 20,
   "id": "501438bc",
   "metadata": {},
   "outputs": [
    {
     "data": {
      "image/png": "[encoded data removed]",
      "text/plain": [
       "<Figure size 1500x500 with 3 Axes>"
      ]
     },
     "metadata": {},
     "output_type": "display_data"
    }
   ],
   "source": [
    "# 2.\n",
    "\n",
    "species_data = {\n",
    "    'Adelie': {'mean': 190, 'median': 189, 'std': 5, 'iqr': (185, 195), 'range': (175, 205)},\n",
    "    'Chinstrap': {'mean': 195, 'median': 193, 'std': 6, 'iqr': (190, 200), 'range': (180, 210)},\n",
    "    'Gentoo': {'mean': 220, 'median': 219, 'std': 7, 'iqr': (215, 225), 'range': (200, 230)}\n",
    "}\n",
    "\n",
    "# Create the KDE plots\n",
    "fig, axes = plt.subplots(1, 3, figsize=(15, 5))\n",
    "\n",
    "for i, (species, stats) in enumerate(species_data.items()):\n",
    "    ax = axes[i]\n",
    "    mean = stats['mean']\n",
    "    median = stats['median']\n",
    "    std = stats['std']\n",
    "    iqr_low, iqr_high = stats['iqr']\n",
    "    range_low, range_high = stats['range']\n",
    "    \n",
    "    # Generate random flipper length data for demonstration\n",
    "    flipper_lengths = np.random.normal(loc=mean, scale=std, size=1000)\n",
    "    \n",
    "    # Plot KDE\n",
    "    sns.kdeplot(flipper_lengths, ax=ax, color='blue', label='KDE')\n",
    "    \n",
    "    # Add mean, median, range, IQR, and 2 std dev lines/rectangles\n",
    "    ax.axvline(mean, color='blue', linestyle='--', linewidth=2, label='Mean')\n",
    "    ax.axvline(median, color='green', linestyle='--', linewidth=2, label='Median')\n",
    "    \n",
    "    # Range shading\n",
    "    ax.axvspan(range_low, range_high, color='red', alpha=0.2, label='Range')\n",
    "    \n",
    "    # IQR shading\n",
    "    ax.axvspan(iqr_low, iqr_high, color='green', alpha=0.2, label='IQR')\n",
    "    \n",
    "    # 2 standard deviations shading\n",
    "    ax.axvspan(mean - 2*std, mean + 2*std, color='blue', alpha=0.1, label='2 Std Dev')\n",
    "    \n",
    "    # Set titles and labels\n",
    "    ax.set_title(f'Flipper Length KDE for {species}')\n",
    "    ax.set_xlabel('Flipper Length (mm)')\n",
    "    ax.set_ylabel('Density')\n",
    "    \n",
    "    # Expand x-axis limits slightly\n",
    "    ax.set_xlim(range_low - 10, range_high + 10)\n",
    "    \n",
    "# Adjust the legend so it doesn't overlap the plot area\n",
    "handles, labels = ax.get_legend_handles_labels()\n",
    "fig.legend(handles, labels, loc='upper center', ncol=6)\n",
    "\n",
    "# Adjust layout for better spacing\n",
    "plt.tight_layout(rect=[0, 0, 1, 0.95])\n",
    "plt.show()"
   ]
  },
  {
   "cell_type": "code",
   "execution_count": 21,
   "id": "bdaf7719",
   "metadata": {},
   "outputs": [],
   "source": [
    "# 3 I prefer blox plots over Histograms and Kernals if I am trying to find/visuallize outliers or if I am trying to compare\n",
    "# many different groups of data as blox plots are very compact and precise. They provided a concise summary of data and other\n",
    "# statistical metrics. Though blox plots lack when trying to show the shape or distrubution of data. I would prefer Histograms\n",
    "# primarly only over Blox fruits if I am trying to see the shape or distrubtuion of data where blox plots can not acturatly\n",
    "# communicate it. It easily communicates shape, can be adjusted using bins, and is easy to read. Though it has cons\n",
    "# like how it requires some knowledge about bins and how bins need to be adjusted for different data, hard to compare multiple\n",
    "# data groups, and representing distrubution in a very unsmooth manner. I would prefer kernal density estimators over histrograms\n",
    "# and even more then blox plots for represention data distrubution shape smoothly. KDE's have almost the same pros as histograms\n",
    "# but represent data even better in a more smooth manner, they can handle smaller datasets very well, and you do not encounter any\n",
    "# problems with bins, The only few minimal cons are that it is slightly confusing and hard to interpert if you have zero\n",
    "# experince with KDE's, there might be problems with bandwith sensetivity, and it doesn't show a value for a count of exact\n",
    "# frequencies. Me and chagpt had a very good overlap of pros and cons but lacked in cons a little bit."
   ]
  },
  {
   "cell_type": "code",
   "execution_count": 22,
   "id": "e759c596",
   "metadata": {},
   "outputs": [
    {
     "data": {
      "application/vnd.plotly.v1+json": {
       "config": {
        "plotlyServerURL": "https://plot.ly"
       },
       "data": [
        {
         "marker": {
          "line": {
           "color": "black",
           "width": 1
          }
         },
         "name": "A",
         "nbinsx": 30,
         "type": "histogram",
         "x": [
          5.45407548968859,
          1.7677018615686124,
          8.68671546773693,
          8.255835072155023,
          4.96931120081684,
          5.819105521810144,
          9.062993128647,
          9.565242637420457,
          0.7184394603409361,
          1.8087774444766092,
          2.3217964565816507,
          4.571535038159508,
          5.948564868180135,
          2.2468458530590807,
          5.8505560659001175,
          5.503757143908694,
          1.3375048412593527,
          9.486804087335775,
          1.252235009679854,
          7.218596902988211,
          5.8261332765566305,
          3.3110059672806322,
          0.9667431326542197,
          8.680760998952033,
          0.4646516912379606,
          0.9119035291002897,
          0.592262227399678,
          4.811740406820778,
          7.820168237786833,
          1.0776945366123114,
          5.362666727076254,
          5.793945376745012,
          0.20950472522649033,
          8.344664423401472,
          0.0735655826311099,
          3.6087295009156084,
          9.519088963632212,
          2.224467077022809,
          9.020508803201624,
          9.696579111613925,
          1.5878009718760755,
          0.722464105785694,
          9.043898166713275,
          7.354187940606849,
          8.943748202349036,
          0.0012736221568776518,
          4.456322379378797,
          3.7772670770138306,
          3.893904779486097,
          1.5832578644673334,
          6.649288616565555,
          2.764633769495537,
          6.312105422190953,
          1.6143846489786684,
          4.582735724425787,
          1.050064987187831,
          7.745036454821613,
          2.2682120058817,
          0.4557170153165391,
          3.8315595992878815,
          8.863031649426365,
          7.155414452049334,
          7.329847951887832,
          4.127399732905188,
          2.547815689752624,
          4.003143837442892,
          4.76163056375774,
          5.843142347440853,
          9.676418663344123,
          8.101357809087128,
          3.136635297293049,
          9.904741115586443,
          3.798978732289421,
          3.376338172520741,
          9.757215067594913,
          8.169504181871691,
          1.1358232940325774,
          7.819496988213304,
          8.513125982472497,
          9.615944406694076,
          3.190625794596831,
          6.113744252570034,
          2.69634801092433,
          5.20611254476544,
          5.5573750906662545,
          7.210497583449992,
          6.2318629206356,
          2.274842770538376,
          5.160415938076801,
          3.336870384417593,
          1.6590686498351814,
          4.726147242147636,
          1.2644768431283837,
          0.16991457781377117,
          7.7239947029694145,
          1.3783844953954894,
          9.243961094953413,
          0.7158561347425196,
          3.5597797084951432,
          2.665309442422028,
          5.3222736174567995,
          0.75389992448744,
          9.970066946159957,
          0.8584650690546913,
          4.595143745553097,
          7.406732295397482,
          1.2242965581617338,
          4.487340454702268,
          5.5344030604740055,
          7.338616836941711,
          6.122191687266421,
          8.759366601470276,
          2.5267420827691223,
          7.673922552321337,
          4.211916986096332,
          1.8856303356365545,
          2.333254472765347,
          2.0879440315803754,
          2.6748626988118787,
          7.010131097865858,
          5.728486880109182,
          7.476707984507392,
          0.6264972969291771,
          2.71108755710351,
          5.948620017126798,
          3.7024532550328617,
          4.855935850076984,
          4.566845383365452,
          7.337961206225616,
          4.074781990132566,
          2.9834262254395782,
          5.853902874476656,
          3.7679210977438093,
          5.939410696037694,
          2.9688300282727598,
          4.354364996394514,
          5.170197304349566,
          7.954804746306249,
          2.392244986191886,
          7.480822413071372,
          5.804740713337528,
          4.610550349367186,
          9.435685098942457,
          2.3210596858508445,
          6.509381481242085,
          8.454777759233064,
          3.6404951258021057,
          4.909269200624608,
          3.0012498035260893,
          7.860156154722376,
          2.5213511680284952,
          7.977135050931238,
          0.5078942960661148,
          7.71396099287877,
          8.419500865942085,
          8.54442487947756,
          1.3909574516144363,
          0.2653827790452923,
          9.934985059950174,
          7.3206810989214315,
          9.5635919705331,
          4.3238563803358225,
          5.813532715232465,
          7.023568008846625,
          4.787995054832608,
          1.840356713224508,
          4.018342247159417,
          4.241941877355927,
          0.2738353284808459,
          1.7996740317112747,
          8.390419055908001,
          2.805956496890153,
          7.436060037392967,
          1.2109969320644354,
          6.782764249796399,
          7.917547678651367,
          2.6002174977475545,
          1.1993809767301167,
          5.273518840781449,
          4.87625252390568,
          7.925846750483585,
          4.39141046179536,
          1.1155891340771507,
          6.658313068616215,
          7.64446362878264,
          8.699212213496427,
          9.527184476270708,
          4.736553690561157,
          8.154440326712418,
          9.756937273828761,
          8.315626344905333,
          6.644008632695161,
          5.35793309809272,
          9.272776739082415,
          3.1947094171119925,
          6.0146534043895175,
          1.5921484523861362,
          0.7568251569089757,
          6.617906099598069,
          3.0712412925247587,
          3.1713089671685504,
          8.468593468968338,
          0.9317981499405459,
          7.37303985404091,
          7.401521062120844,
          1.5216297453109195,
          6.2409438435941444,
          1.9628603524058141,
          1.4001089615058637,
          5.393068029083762,
          1.5314457588685737,
          0.8643427810372029,
          6.513056691299268,
          5.648346318781833,
          2.7851429394143823,
          7.342653537815175,
          5.827861285571462,
          2.2685209519809026,
          4.261174632991171,
          3.660345218644294,
          3.0010965234678455,
          7.239551517647494,
          3.3249546360437865,
          1.9329320058426869,
          5.686975209922064,
          3.3197587844529863,
          2.7452384552818465,
          4.9444920129424546,
          6.037222999621777,
          7.047100111960367,
          3.8983524178460147,
          0.6402033782152317,
          3.318837078610742,
          1.2394466061021736,
          4.659513112370028,
          4.8047006834011,
          8.646071087027734,
          1.6344425225242332,
          0.5950700406243192,
          6.157667679378314,
          6.0150037979949165,
          7.69584719387823,
          1.9472762476070604,
          8.42400783786847,
          9.983557706988366,
          4.275928951439191,
          2.550461764797208,
          1.2817916987684985,
          9.472882264557033,
          9.206094591989913,
          9.199727647429121,
          8.902137388547208,
          6.69621343291632,
          1.2385399976278644,
          3.897962586775768,
          9.906135733738898,
          8.971545284470928,
          5.515161811100603,
          0.9095818733637651,
          1.6719551252914389,
          3.9171338970653844,
          4.372780384316912,
          2.2581294105415517,
          8.702837777064637,
          3.691817361627664,
          1.7553744317519193,
          0.6080451382748109,
          2.12856240724816,
          6.6743422310477785,
          9.26278367826811,
          2.903001440837997,
          1.278931752141882,
          5.4058026271346105,
          0.7487884760593722,
          9.274781418828713,
          9.06672813143066,
          3.730172623248605,
          8.107181903202328,
          9.22745740836478,
          2.2042047633602326,
          4.384425407862976,
          4.62024971264246,
          0.41591597349949994,
          9.448780058665005,
          7.369799515043265,
          1.1155474631655737,
          2.0691545606812456,
          6.485339025312995,
          4.955467245547961,
          3.6295783565293194,
          0.9420646460782889,
          7.553319623862374,
          9.820807655198314,
          2.1945858127387172,
          9.609174545205322,
          2.3721595810255556,
          6.929010343603707,
          9.940202510649408,
          6.044224630605221,
          8.1036217933621,
          7.2184474416761475,
          7.158184220273593,
          8.696530028551376,
          2.0182417195853164,
          2.654997490261831,
          9.165462469270853,
          4.831783356301762,
          0.5954776556206942,
          1.670516004372432,
          9.358655045298386,
          4.014658661076882,
          8.055371075589443,
          0.39656342813041756,
          3.385743889581667,
          0.9072860736860378,
          5.938147446049202,
          6.978775398184986,
          1.424270171540113,
          0.2675828756579979,
          5.574247142587701,
          6.085700271017397,
          6.676878426012256,
          5.486114640672193,
          6.616971284833738,
          7.372828544013592,
          4.9230692441842026,
          8.523832377166041,
          4.723636282302288,
          8.79637697844322,
          3.7329537803119783,
          1.2831752512837014,
          5.130080264625341,
          4.160629212217669,
          9.876473157354035,
          9.830504328256827,
          5.306556529209129,
          5.816599781160363,
          0.05436583166512632,
          1.6588466684841774,
          8.299911979277553,
          6.263034280857449,
          7.72659634091545,
          5.970234881860385,
          2.0256344441699605,
          7.313572620314035,
          0.696770466209522,
          2.4360219121456317,
          1.09955179167061,
          0.9666039664193415,
          4.588574330458789,
          0.12251611012109143,
          6.963199801822687,
          5.461601459601214,
          8.177002784006104,
          8.998957907770532,
          0.013724714296505791,
          8.527351051537064,
          6.764665206449862,
          2.179116624304415,
          6.633268078062164,
          7.926221642114806,
          5.187876320804082,
          2.316114325099167,
          0.7031246241164213,
          9.877065638623554,
          7.863323810417496,
          9.539994276190985,
          8.977538466882393,
          6.977876043419641,
          8.117110715090034,
          2.616082067434593,
          1.8116873469398176,
          7.489001668617053,
          8.979803860672838,
          5.188193747029092,
          0.9192854608033274,
          3.3528564631567837,
          1.9632890739904818,
          0.3363544099582916,
          6.518371922156794,
          4.001907210126231,
          8.432642845750866,
          6.374584546753173,
          5.863135283790864,
          4.584914050909444,
          0.1824978331537208,
          0.9115826699168339,
          5.489138612705426,
          8.42736532584879,
          3.274295624848155,
          1.3671307287829793,
          9.672939371245882,
          6.675885839896779,
          3.4897628967408933,
          6.003222968579144,
          0.40397959238395287,
          4.607934439107585,
          4.820849267576749,
          4.587661542544986,
          2.9019393302417074,
          5.445285924630696,
          5.959444591103646,
          3.647008168861914,
          5.663288458611467,
          7.504747724333642,
          5.831917300587496,
          4.210184800013752,
          7.073470783339121,
          7.569268680130298,
          1.9250099190240566,
          6.199724558150882,
          1.2224439111345153,
          3.6215177250603094,
          6.6099863168342745,
          3.62558136308869,
          9.461782278216335,
          1.7331711214952472,
          7.667955139972328,
          2.18378429364418,
          1.4440617359201025,
          7.5832641703472214,
          0.9589366947418754,
          7.524378123969813,
          3.5177114468880877,
          2.949261476103757,
          0.736020094249572,
          9.798556713027365,
          0.4102646155867129,
          5.8584924339511755,
          0.5001541864571102,
          7.259374873125241,
          1.163785595972061,
          3.6618526342163014,
          4.504033735271504,
          0.37314750933609586,
          4.958940524217892,
          4.741774780929852,
          5.582859858390008,
          3.182904385076031,
          6.424987839490073,
          7.398126961385859,
          5.851929881818508,
          8.809083085189604,
          6.260969213505811,
          4.936443805076193,
          9.242144776778808,
          8.963460721046907,
          6.329848164287714,
          6.464949549173339,
          1.3654777102265792,
          4.083364183113968,
          1.0537439732117193,
          7.06245159105347,
          7.022959179092099,
          1.3208300433300668,
          9.652527240142891,
          3.673455891669227,
          6.111785824959707,
          6.130351814182968,
          7.605078703676522,
          6.734228885846348,
          4.976581089307367,
          2.2552640452942008,
          1.000070315091861,
          7.651780132526217,
          5.720021136201568,
          0.12715742540696517,
          0.9110122037476254,
          1.0498723307775248,
          5.70962896975389,
          4.872238169385328,
          4.275715085741073,
          7.485080111103435,
          1.5694899723810574,
          7.401055334271277,
          9.838013164235527,
          3.739880146889425,
          6.4487801760788805,
          7.968805436209079,
          4.514106036418491,
          1.3468868032455228,
          4.365743958959039,
          0.0501259030419432,
          8.5908403977837,
          0.6470950347271498,
          5.783215727010752,
          1.962798116412745,
          0.9717273921244285,
          1.5769733809161834,
          0.6058078190282323,
          1.3513156575009588,
          7.233280239492103,
          9.739988144598104,
          5.782194344807871,
          6.646717217720878,
          8.28153457299376,
          3.306133016732896,
          9.007142800116272,
          6.541840809740535,
          2.3185293682712294,
          1.0679305590563282,
          5.146667598663744,
          7.725097421746937,
          8.17285322048716,
          1.532095983335764,
          2.270209813456503,
          1.053667941298615,
          6.47112649309869,
          1.790128599251224,
          0.45408213892398464,
          9.687572821967454,
          5.308633986584703,
          0.9268112433435849,
          4.892269137842905,
          5.515123422362277,
          7.245116480390221,
          6.044151842555602,
          0.7103197229664959,
          9.478870791138597,
          5.2073975443609495,
          7.699026669453904,
          3.275154699808743,
          2.0249393118620884,
          3.6397416008552517,
          6.309409640931745,
          6.072405136442085,
          7.99393470744291,
          7.98756707093089,
          6.453824791550517,
          6.150580578166892,
          4.764504571948941,
          3.063984385515747,
          8.036580246671072,
          0.11342347378655027,
          3.70684736718631,
          1.9306334187529761,
          2.489698328626492,
          9.165959413061112,
          2.3346182677741076,
          0.5739632985222665,
          1.5890184007050223,
          2.1288835535641026,
          8.99076078306697,
          3.831902174361481,
          6.510822955042135,
          7.691590001119385,
          6.33658955506076,
          6.504349059768466,
          6.827107712739551,
          1.8625096362943916,
          6.409505978094715,
          5.064392289237859,
          1.2940346996276286,
          8.765264496898794,
          7.039874694812527,
          3.4717106394706887,
          0.8899860525152536,
          0.517303930299875,
          0.9246594126591801,
          0.25339897527279165,
          7.938535788441097,
          3.932054514595679,
          4.799332128223486,
          2.459728543687051,
          3.9336893798311587,
          1.421446411167927,
          4.201353433767347,
          2.6138942681417254,
          1.2506017564355076,
          0.6818691715452885,
          0.528665019561726,
          1.2432052909899294,
          6.796558721894926,
          7.261282039324791,
          9.72423128913116,
          5.0420484417777445,
          9.446954816889933,
          6.1357407134908515,
          7.201717739890793,
          3.8661185087049676,
          7.367925770584531,
          3.5573449342870003,
          1.753528887529432,
          6.618211189213214,
          6.2109328080931006,
          9.782044390061156,
          7.537382871944871,
          4.598663105477208,
          6.600472843028248,
          2.187369471893481,
          7.473656388761278,
          5.7133070939663275,
          0.9853630762389898,
          7.69294961332826,
          9.738417207953955,
          4.879875315100168,
          9.123806478104411,
          5.251344688774471,
          1.5832766709877089,
          8.10742683081924,
          1.5969392411826366,
          7.349492701526971,
          2.0989539994298134,
          0.402584359294047,
          5.496956800114756,
          7.820913851089189,
          1.449826971613536,
          4.259754304848906,
          8.947125582791061,
          6.018588029929223,
          1.4328064147119257,
          4.4468217030722315,
          5.790555849605359,
          6.852018924698461,
          3.0565297227315313,
          0.6738330665497261,
          4.9018290007176,
          0.5228823926736381,
          3.1798136271057387,
          5.421187633078692,
          6.996338744371967,
          5.307726946740589,
          8.478051674341463,
          2.203237874585584,
          1.0865100844499342,
          0.7154361215158989,
          4.535083916322257,
          0.9084905458678783,
          2.228122187293585,
          5.383134075349357,
          2.8155011742275837,
          2.9643629186578258,
          2.1940906927071477,
          2.619416915291919,
          9.296070316758158,
          9.025009576172515,
          3.8843221439439835,
          5.738186039727687,
          0.6686228654375137,
          4.126151414423841,
          5.381170281786197,
          6.390461352417038,
          7.175155936834318,
          1.2479417174716145,
          1.16510314002379,
          5.4569196891308,
          4.519895412244602,
          9.315105637572302,
          9.337888707784161,
          2.916640179905979,
          6.462059572413508,
          4.175196371373819,
          4.370937993279598,
          0.30484860563968263,
          5.203830337651727,
          8.875451756232241,
          4.108458796556739,
          6.6251089031397425,
          6.5166651579355275,
          5.82492037984485,
          7.404755975957845,
          8.940684715125682,
          7.877485926660284,
          4.213221704390916,
          3.693024819064805,
          5.650192162648945,
          7.953699720572089,
          8.510577352288106,
          5.143496406128644,
          3.4447760497639646,
          5.931948888024557,
          1.2455712433970578,
          6.878788093115706,
          2.307885915000678,
          6.873149032519929,
          6.399328251401723,
          3.5919652834132867,
          5.960166385186603,
          1.904706948267243,
          0.516200013933602,
          8.458228999614324,
          8.08627508688014,
          0.4344186731831301,
          6.180616802349373,
          4.485700112875534,
          7.455199094948545,
          5.665913420789106,
          0.8431260876365743,
          3.499613788773365,
          3.142952362105614,
          3.059299148717826,
          9.7412436299032,
          2.346423305684555,
          5.487203402506635,
          3.4549864779542627,
          7.13415345574391,
          1.5201417460338174,
          9.387275169366099,
          6.712499756136867,
          5.619392639203259,
          7.350328901934294,
          8.006433744855133,
          1.1242475786144102,
          2.396160278194095,
          9.41732924176561,
          8.269252927053461,
          0.6807009744133585,
          5.0073597869869735,
          6.271222293495649,
          6.200674996341169,
          1.9726702500281845,
          1.986888134553525,
          0.8023687472746732,
          7.307196218180713,
          5.869436643818875,
          3.914031252545941,
          6.888568997093964,
          6.990086650603983,
          4.823414082618578,
          8.217614984092616,
          2.7494470809241456,
          3.910381875237351,
          4.885583554620005,
          7.952650089276504,
          4.258491411441179,
          6.029733937739459,
          8.771455244518483,
          6.64285074885726,
          2.1229389109775454,
          6.761670225619207,
          0.9743106026464587,
          6.550984468023896,
          8.54247126558622,
          4.213160088634989,
          2.136729432083102,
          4.59111388993925,
          9.64504972746246,
          5.590090768646913,
          0.2145650830646162,
          5.334747892471899,
          1.5885697406689692,
          3.9487308235955254,
          1.3702123349012207,
          6.136650521614678,
          7.151697882478759,
          5.103232029903079,
          4.138459187997702,
          7.480960639380699,
          9.908100306953552,
          6.4219151361869296,
          5.094964519191625,
          4.693090449550432,
          6.9959346742174136,
          9.441605476749107,
          9.070829704519326,
          7.677324341755174,
          3.419024112031085,
          6.914620439751045,
          4.137127031116216,
          1.8692228004224665,
          0.18226617976470183,
          7.783947691471344,
          5.102182736039778,
          1.4611560781973132,
          7.598787960266348,
          3.316965721914106,
          4.0419553556702255,
          3.553764558772967,
          9.786253756197016,
          1.5668810900398522,
          1.6837702323869441,
          4.099628815731473,
          4.085985053908118,
          5.262007523232711,
          1.9257583411912749,
          5.110071862040312,
          7.84395015016673,
          0.9974229622968334,
          5.279339753864618,
          0.34381520236816177,
          1.1951336849542693,
          4.870849267765828,
          3.1310427909627316,
          9.003642768688257,
          7.262834998415836,
          3.6317676240475407,
          6.974584476856258,
          9.2833100262477,
          9.962320990622398,
          8.2403915103923,
          8.116311865379888,
          2.600661562954966,
          3.2206789849455966,
          3.3042087348075477,
          5.757757422597177,
          6.413711180430246,
          0.5375499189959432,
          3.2286573006533716,
          2.575517952902305,
          9.706435244445967,
          0.1753127764187501,
          1.935216083592739,
          0.82640759419775,
          6.098730995100203,
          0.9392440992515094,
          8.641280901230054,
          2.6085843002019606,
          2.3372165345145524,
          8.838440792046272,
          7.033511708485807,
          3.8039001111075033,
          2.0725945962949464,
          6.116725081093852,
          6.247159598198218,
          5.11878838190577,
          1.1991256788266824,
          5.928082500741327,
          9.556529765919331,
          4.696420171679076,
          7.122352792546286,
          9.171320618754953,
          8.800005182658786,
          9.505043919615524,
          6.475800463098434,
          6.335005223031196,
          5.972859291030841,
          8.262176028093469,
          9.450249716688374,
          9.023894620599567,
          9.732161401411073,
          1.7319254127660921,
          0.8977646402940753,
          3.2771472492341793,
          1.9452058828817698,
          4.661342603370215,
          8.047426782693185,
          0.02477427305533908,
          0.4427695648773122,
          0.9559769422176112,
          6.8038030838026184,
          8.360689688002639,
          4.587518265130608,
          7.531226204000626,
          1.900682491564304,
          8.16648581346455,
          9.660577764968098,
          7.434918025784612,
          5.582116943096704,
          4.276053186180528,
          7.2921794301243175,
          1.5239672480477318,
          2.3187850007004664,
          4.076588852491152,
          9.044801536367514,
          8.786044564431345,
          6.946161766649212,
          4.563199443635332,
          4.083597081323003,
          7.613377882602999,
          2.55159133091707,
          3.1534693343584443,
          2.395816707799525,
          9.154459417983967,
          2.8630299203753804,
          7.134051576184516,
          2.411625721088141,
          5.3121376400631,
          8.828396431773335,
          6.752224686059538,
          9.237166966659332,
          9.43354369980675,
          4.500961647243998,
          5.854217868732113,
          5.866505579860197,
          9.74620738669857,
          6.369447693511521,
          0.13928767912130047,
          4.703883315630809,
          8.52411171728691,
          2.845660345031973,
          0.5116780723252701,
          3.701850899838025,
          9.237960736655527,
          7.981501741669749,
          9.189732491395025,
          3.956000984033409,
          6.2574411588723375,
          3.097115706779612,
          5.301016031719909,
          7.0544979596730535,
          9.392823755512095,
          3.2715551132137852,
          8.14360394590331,
          1.1798722831855346,
          3.6525935853404867,
          6.514163991966845,
          2.203482634310067,
          8.75621893432929,
          9.57713470454291,
          8.768593992196681,
          1.1947158195758911,
          6.716131849732121,
          9.01511778814504,
          2.6947391120492936,
          8.648083837456117,
          8.345021357481508,
          4.717234842122904,
          7.574871363552006,
          2.2028953361460557,
          1.521610320274157,
          4.84068697783974,
          4.386846617116626,
          7.919502450738118,
          1.4606806231657798,
          2.456324109447613,
          7.79179162923628,
          4.8380902597147335,
          3.1338962630854894,
          1.023871634879494,
          7.157368097329432,
          2.678579979892819,
          6.238659016775285,
          6.997155155306106,
          9.341809950332092,
          3.277425773417253,
          3.7708348305976456,
          0.5292662798529457,
          1.1051652184876581,
          5.042655965704764,
          5.250635103428703,
          6.728385007327393,
          9.08010241908068,
          0.8312899357916792,
          8.162150710403516,
          0.9637790287725989,
          0.7833575376408852,
          0.41380809998755264,
          7.174127899182725,
          3.2850048793649256,
          6.468103163832447,
          8.698268380523213,
          7.347765569711001,
          6.1873808568836015,
          0.4646872032318716,
          2.8692920243871245,
          7.392575991766033,
          4.039302647614491,
          8.502427340730685,
          5.5493589262535465,
          5.507307815821542,
          4.322309991213828,
          1.5242004601006287,
          4.458022356698855,
          6.482065657533819,
          6.5746689623403745,
          8.952533890961593,
          0.2534852909848806,
          5.4395824448170496,
          0.32801706779086337,
          5.479855659988168,
          3.350690000030452,
          9.633973834958056,
          8.903152184961895,
          7.0309613461039255,
          0.40410303435171047,
          4.467284936563444,
          7.668803459950254,
          2.4796005643739774,
          6.768311856376808,
          4.865936595317103,
          6.774962033432475,
          8.210666120974292,
          5.784373937559879,
          1.7961868354458543,
          2.6727692063075925,
          8.560775053893844,
          1.6544231657611586,
          8.60105653000074,
          6.375877015494622,
          7.718306215039973,
          2.864385108378289,
          6.838042169219096,
          5.935584784383398,
          5.050254008258817,
          0.279585501468933,
          4.01453549836952,
          9.542227728097,
          4.345772189596774,
          8.848943384538314,
          9.63426852821849,
          9.66131287122473,
          0.26792334585393984,
          1.4466519008328238,
          2.44342229208684,
          2.185590133288635,
          4.664379932327392,
          5.449452098074479,
          3.4084793544812597,
          8.558579953315462,
          3.0612131618021565,
          0.021800149629842558,
          3.1657669077339436,
          5.322096574822625,
          3.0220888239418384,
          9.848790726516523,
          0.21482186615212728,
          5.833082568426242,
          8.90574309032801,
          1.9343297811338689,
          3.9120152456944988,
          1.8845396231744838,
          7.659619025175688,
          1.0381176694680638,
          5.420466882715338,
          2.367786889559851,
          1.1229540165233798,
          5.7704625587400376,
          8.982221230600777,
          2.6442774873516726,
          3.5542885775976316,
          2.8798076102779535,
          9.672654580451118,
          9.637563436300354,
          0.36849063645604474,
          5.25890873592709,
          6.796582257945584,
          8.445352387758053,
          4.731891432466818,
          7.056285958083432,
          7.8863874812895585,
          3.576843584760562,
          1.4883979916769496,
          8.708437278746228,
          1.350015329469123,
          3.529735405743036,
          0.7972786893188855,
          0.4543575885358375,
          0.771759474274567,
          6.2787618249760815,
          0.5534365666795116,
          1.188566012300617,
          4.957909820955613,
          2.0402047109318397,
          6.440537055478757,
          2.948040939249502,
          0.5010993377738582,
          8.618770256539335,
          6.113607573079828,
          9.149329004415266,
          2.9614760204007293,
          9.111021267931463,
          1.5540930676369324,
          7.853785155439361,
          7.64922265858687,
          0.846706388138202,
          5.980186155900822,
          5.308235194976376,
          0.9656697897096245,
          8.657005432429099,
          6.777659192736181,
          4.300371541839829,
          7.796355230330483,
          8.775775682257402,
          5.276294813679591,
          5.383539065851713,
          8.899138264944927,
          8.310894728203191,
          6.207740992375513,
          4.339533954849324,
          9.443216638247831,
          2.344977693592062,
          4.303739104380288,
          5.324385031325053,
          2.2971717642482794,
          7.72903819878691,
          1.66257609988959,
          5.704148222158598,
          3.959106227602226,
          3.8604912573823755,
          0.10818880158088184,
          7.031330123226304,
          4.029830880794913,
          1.4061529530950034,
          8.429416280712221,
          8.297847034168498,
          8.087933629167509,
          5.769177466944915,
          2.8469350497213517,
          8.853339576610919,
          2.638367627900454,
          4.501563254603638,
          0.5495108440617635,
          6.401759048720047,
          4.780267058510955,
          3.7360352733661486,
          3.678107145573021,
          4.693595471690731,
          2.8946156478783767,
          1.8252585610581962,
          3.774281267105507,
          5.19513643425822,
          5.667138374167296,
          4.751093038121141,
          8.041382967532101,
          0.6358723237696384,
          9.135192348315305,
          0.19201370912749205,
          5.044065525211334,
          7.782743338260582,
          3.6053497964246803,
          5.315795506081976,
          6.475128180413091,
          1.3825285125552023,
          0.8646855683808452,
          6.22973581087776,
          6.550195508019217,
          6.183831034628621,
          1.9746541306187293,
          5.521043330971365,
          8.206135775372909,
          5.382470624892617,
          9.552145341189021,
          2.8771799329499146,
          5.902009154657368,
          1.440838418680822,
          4.959313473623347,
          9.68969578536859,
          5.682677476802568,
          1.7071860512918668,
          1.0046795947734566,
          2.5361475937468825,
          6.125782198156498,
          1.581381142851428,
          0.9557124644701964,
          4.257123919833337,
          2.1220790294596115,
          3.867520973286347,
          0.1805880129210491,
          8.796639817406394,
          1.4946842080227751,
          7.293944127685421,
          1.8437541902475163,
          7.901276910563126,
          7.119688509819042,
          4.184955909154066,
          1.8412984970200563,
          6.055682826396952,
          0.43366418956055974,
          9.300725677837887,
          5.8845545691352985,
          2.3018701772394423,
          9.0732049552034,
          1.3198559795002063,
          6.540381428733096,
          1.9077799120542394,
          7.6794733626368705,
          7.7783298665424265,
          4.7341617789258645,
          6.995962932172915,
          7.786186947490256,
          2.8162040753684225,
          5.864992777106761,
          6.033722325337436,
          3.9332369349887006,
          2.437290847546345,
          5.089660084208145,
          7.859900829371896,
          1.1756264647818149,
          1.5147900099882416,
          0.889609680405421,
          9.497461349083375,
          8.657569886207401,
          8.412890334581848,
          1.6666988048113174,
          1.7583025372506589,
          7.939936367459385,
          0.01321734497594429,
          4.8675189279300755,
          0.5895752492780937,
          3.1132800880707725,
          6.56475677827062,
          5.218045958128386,
          3.104977868377113,
          0.9677302791056974,
          4.81359943424391,
          3.5251705670186304,
          8.868804262599193,
          4.003173376740743,
          0.9829551528133929,
          4.801313659782542,
          9.84013555675277,
          1.6611690406781654,
          5.19952658913641,
          3.5791497732212543,
          2.4701371411719677,
          6.762693741669023,
          5.135223822571454,
          7.03897005736462,
          5.149973245905128,
          3.6365449843249054,
          9.406675200694513,
          2.0636025837131666,
          7.013751857783608,
          7.610056185062099,
          2.5423199910816106,
          1.1952452689145132,
          0.1921478668062948,
          2.8028793137947314,
          5.427496751434288,
          9.131030341705266,
          4.186871610708661,
          3.7889817134046764,
          4.031247529257955,
          7.679425943518288,
          0.9364436043373026,
          6.043336297303937,
          2.5403429532211907,
          0.27933751870728774,
          7.539422473799121,
          6.965800582672241,
          1.860837422608862,
          6.0084923028687385,
          5.757515957609042,
          4.052829525810388,
          9.298948117464253,
          7.495938815278508,
          0.7473314102094109,
          4.975082734509493,
          8.539697207585313,
          1.006686386183604,
          0.42224395948141535,
          1.3386339345123044,
          7.3636612648115305,
          1.5586962899625223,
          7.225386805772999,
          7.318017970922515,
          6.050857360166431,
          1.4636688590189273,
          5.313074749223183,
          5.421672118418752,
          4.175962155462116,
          7.575675194782283,
          5.501875215018721,
          1.5333097774803695,
          0.8153344804525486,
          9.840903248947706,
          0.20967773147132163,
          8.849657756677997,
          3.367534272241819,
          6.171137065790044,
          2.8872844335425185,
          6.424530127930806,
          1.154917486213003,
          8.252270944179793,
          0.26266282055080525,
          9.568992229155484,
          5.057151063848801,
          9.697985277836441,
          5.035194328405622,
          7.947313348328714,
          2.1055638843477844,
          5.970869735237868,
          9.36208751163804,
          3.255194416954411,
          0.019260265975590274,
          2.712299357258506,
          9.273460281535183,
          8.309932176684223,
          2.2268637305415497,
          2.6228832782858067,
          3.0868209581772064,
          7.431990300107811,
          2.808272741708758,
          8.070645510251325,
          3.4345494002067243,
          3.727252763708985,
          4.605581629472702,
          9.053016050831081,
          7.300197950125539,
          7.815640614243598,
          7.275077029691561,
          4.617126147476096,
          2.7343873479812366,
          6.633246249016709,
          2.5514549033265546,
          1.9097973977533955,
          8.548120048850858,
          8.854902016918754,
          7.75850619318509,
          5.698805523040896,
          8.31345393649633,
          7.715577599979095,
          8.303454976314976,
          1.7035379249010951,
          3.0581765050391443,
          1.4578852022336197,
          1.3098922073875008,
          7.874232786140784,
          5.782542571617447,
          5.697852057919723,
          7.645902848619166,
          4.9011756515247304,
          2.0206029769170817,
          6.669476121317245,
          4.357069877501693,
          4.068881502723998,
          0.04891002312762405,
          6.100807672330847,
          0.13659389119743404,
          4.519663884489122,
          5.516234469060118,
          5.737739670030656,
          2.925925253257753,
          8.410866583475592,
          9.468575597192277,
          9.966012295036071,
          1.968151277270117,
          0.6868933790010412,
          1.2019028955117383,
          1.5568455608228182,
          7.132187302017249,
          9.797378558492873,
          8.677552906602495,
          1.3233786539858206,
          9.144208591399718,
          4.153625721245351,
          3.015398341908883,
          3.278372051905868,
          6.438087416485313,
          1.134810906675231,
          3.3743875570738044,
          9.742808098469958,
          1.9063500332905214,
          7.424204511255765,
          9.200821728344497,
          9.117832249343543,
          3.1859325903760984,
          2.5607108639120324,
          1.5975431622884861,
          0.9445888395994617,
          6.375609828844039,
          0.6381506523214453,
          1.023343764300646,
          0.9770216159074152,
          2.635386287670186,
          1.7141527423133418,
          8.240609547704453,
          6.601076581896223,
          5.26099483388617,
          0.7675605505584182,
          1.4564386274350238,
          0.6205403712250601,
          9.878152204556802,
          4.8604656074044,
          2.579609721494869,
          9.038600992030009,
          9.228540749525765,
          5.489889520580865,
          7.995138859232166,
          7.316618371773665,
          8.593173702829727,
          8.414689087024747,
          3.352954596167974,
          9.145616520948638,
          0.2589971127938895,
          2.288233632801069,
          7.736461274894638,
          2.858652902513054,
          6.684027043116112,
          2.524732308242885,
          5.214580720456249,
          0.9557698029519679,
          8.247451475891204,
          2.443381314959947,
          5.435917966286992,
          4.142818788037495,
          9.908745266019043,
          3.7795218411272256,
          9.145681560313326,
          9.797793969368557,
          7.476152124754011,
          6.349170539511849,
          2.799118652517707,
          1.2657904413735876,
          5.288248957398208,
          2.739175938804318,
          5.505789935685486,
          5.331377992916941,
          6.313944629893639,
          4.117612201327232,
          6.794289012021128,
          6.964217516964972,
          6.016455604414839,
          1.056627208943245,
          3.5019308890449894,
          0.808329534143809,
          9.975551824027615,
          0.3121606674526023,
          6.743248458428827,
          0.4352754448040552,
          7.833282985563017,
          6.021755506312566,
          3.1344376173702324,
          1.8028029482717767,
          5.199715685804982,
          9.1991124282157,
          9.733163091071813,
          5.064040047826586,
          1.9510454327177273,
          3.910207603418443,
          8.941215232711913,
          3.279100501650122,
          1.8744848408990034,
          6.579874402384704,
          0.2924477916295809,
          0.11692027983102427,
          8.388484798979029,
          0.30203069060076526,
          5.304212033437313,
          5.406783752255933,
          0.35789492549312296,
          2.2456317447902263,
          4.752479250314768,
          3.261253679734184,
          8.568024117290312,
          1.240747281814678,
          2.985843880590785,
          7.120021257537431,
          0.7694679540026206,
          1.5334822432031214,
          6.9875427299268384,
          3.5146607153138887,
          7.31948811592491,
          9.980732508295592,
          1.3378269673431231,
          0.9911302832320024,
          1.3951862612139487,
          2.7191713086321756,
          3.4321242183702627,
          0.256494278858459,
          0.8850695629418526,
          1.5654098797400584,
          0.620685958656666,
          2.6410106726460016,
          9.297514771696513,
          8.053820378429826,
          0.23960404687177195,
          5.006082905656459,
          5.285068431997862,
          5.221495611363415,
          3.8522111405733437,
          9.68500235292701,
          2.268519235322475,
          8.304332697554342,
          7.210105990665259,
          2.00925933854031,
          1.658504274640944,
          6.034126254123059,
          6.460964961723339,
          7.025665631626355,
          3.2189531927779704,
          5.171967637436683,
          6.118739885112316,
          7.334993322259478,
          9.463776842935985,
          5.958212329091555,
          2.138687107765053,
          8.366936768576329,
          9.829881960763597,
          7.4084228412633335,
          4.338800232338734,
          0.7572992678454504,
          3.81869932826549,
          4.721207613409371,
          0.9160195664750648,
          0.5463333707786711,
          7.433034446477858,
          8.719245473645877,
          9.567042552865413,
          9.331243679539542,
          8.420767282579291,
          5.629237385175854,
          8.366857960552661,
          3.1633433148532375,
          5.094252874340838,
          2.9998265107081057,
          7.676214593927377,
          1.2685012280122876,
          7.004981332360658,
          4.873527199445089,
          8.87416292949084,
          9.207499317657682,
          2.7537513563480553,
          7.953281427987068,
          4.989804960721865,
          0.5816556184370769,
          7.574960404830548,
          9.008917244543053,
          7.165023224881244,
          4.590327028162312
         ],
         "xaxis": "x",
         "xbins": {
          "end": 10,
          "start": 0
         },
         "yaxis": "y"
        },
        {
         "marker": {
          "line": {
           "color": "black",
           "width": 1
          }
         },
         "name": "B",
         "nbinsx": 15,
         "type": "histogram",
         "x": [
          4.9767774736508485,
          3.1001748191835947,
          3.9522171064910934,
          4.214392239209995,
          6.422901940620628,
          2.904405862118796,
          6.908046132020157,
          6.370326340277719,
          5.377432493870868,
          4.819139989297348,
          5.35449127289781,
          4.64238469031988,
          5.195448279310908,
          4.012198285996544,
          4.469641269222784,
          3.6147431766051907,
          5.4654100849331515,
          5.054103348169712,
          4.951813101972094,
          4.4140647952324255,
          5.29320439157655,
          6.685497357685646,
          2.0788103661465693,
          5.624995437764986,
          5.192198058720404,
          2.184499453750238,
          5.455341571698622,
          6.940890836545027,
          4.2084055905066595,
          6.252343214769715,
          6.544083746899538,
          5.796501353067079,
          6.397329093513344,
          3.6235062997819174,
          4.130226530269524,
          5.450791674176122,
          5.453425149329386,
          3.1400365624253386,
          5.79998683320332,
          6.01037077825127,
          4.166259382804848,
          4.280252672322846,
          3.8706307604091417,
          3.6248244888712104,
          7.054483652731636,
          5.144965919497535,
          5.365200030651515,
          5.273545506124472,
          4.431965886221029,
          3.7134498115857184,
          5.0747975067913,
          6.161544396817774,
          4.005168980547552,
          6.536648132453744,
          3.920400371687869,
          3.6587879701557298,
          8.879979513634524,
          4.507320631956534,
          4.885243372020776,
          5.721474962324042,
          6.4825964006118095,
          8.252177838576426,
          3.6244642564859317,
          5.114296415389645,
          3.7148614117650407,
          6.304975043058784,
          5.635548690104544,
          5.459344841755089,
          7.103747761870815,
          6.56616233350098,
          4.579852554088468,
          5.792002692258203,
          6.2399089104705485,
          5.251668796174587,
          4.794001653022181,
          4.578194709624025,
          6.42550312481171,
          2.774982628653243,
          4.397235380795801,
          6.156186833428276,
          5.906863252489448,
          3.386144785785177,
          6.953860387934307,
          4.918455809573606,
          2.6837552207699513,
          5.418267510679629,
          6.799057346864871,
          5.271390996306055,
          3.2473676662196054,
          3.982079483133349,
          6.376783663432848,
          5.2155655440364095,
          4.185038972284938,
          3.2832107972581106,
          5.084084031650806,
          5.191228182404801,
          2.557609653874829,
          4.3875909272199145,
          5.878847679137201,
          5.842419316113865,
          3.1898431401307064,
          4.267758708252352,
          4.166586155143366,
          6.697365876111485,
          3.4248868937190506,
          3.2453672492375185,
          6.189149317633701,
          5.281046029221972,
          8.18097699011309,
          5.260452162749238,
          5.959112938947489,
          4.925603268225687,
          5.5790766948943356,
          6.8851031901549495,
          5.897106897168082,
          5.531841665214923,
          6.374981964182919,
          5.082631771026807,
          4.889419967830577,
          6.686311788342806,
          6.566195934553256,
          2.980260065857738,
          3.8509651297975815,
          4.843290239952893,
          6.84578779305027,
          2.1512418898535257,
          3.8939933324727534,
          6.045019439726255,
          1.3386936561007472,
          5.950900591392793,
          4.260555952692816,
          4.458605639068065,
          4.914908107147195,
          6.847643146916422,
          2.480106734179363,
          4.2016160515424925,
          7.800912048979938,
          5.586329886279895,
          4.675482162758617,
          4.417713781992267,
          4.3082136685819625,
          2.7203035286764936,
          6.999951779564584,
          5.636188928428316,
          6.367498520497139,
          5.962765323242294,
          3.9260425216326187,
          6.679443709712573,
          5.212542471237679,
          5.801711970271969,
          6.453597136353064,
          5.6469697921721,
          0.7899772165302759,
          2.1869592857416533,
          5.023263802350725,
          3.039499631356035,
          4.156072662892756,
          5.240892989776842,
          4.94848981822419,
          3.547569007403714,
          5.308961972269947,
          3.3446297265168443,
          5.262314507943934,
          4.4275853219821775,
          5.629769228858525,
          6.668256944182188,
          4.090982266121492,
          6.914718842879029,
          5.7475644803636605,
          3.9077111470943837,
          3.364291681294447,
          4.03247996199268,
          5.139825616310128,
          5.79692778410966,
          5.0562970750947125,
          4.933035317360025,
          5.7950016355408,
          5.48852739553548,
          6.737673908410658,
          5.411251051070397,
          -0.7463238828523755,
          6.065748254892802,
          4.118193216965449,
          4.9219728602219845,
          5.000966469303932,
          4.491596493250357,
          5.4958072253293775,
          6.0844645020323345,
          5.985881508720684,
          7.923484392705509,
          4.302513071876065,
          7.086391290502139,
          4.3207205498409635,
          7.035496884146092,
          6.962193950746931,
          2.838525770723754,
          5.930528692378545,
          3.2560183732328465,
          5.686924655784894,
          6.291100773742551,
          6.87340691963732,
          2.1421406315697453,
          3.848038481624763,
          6.155857246202387,
          7.551179997152998,
          6.218554502166648,
          4.261283403364324,
          6.379366932450556,
          4.904058205289252,
          5.044297634627471,
          5.70828460662002,
          5.239238270577158,
          6.341455208388086,
          6.13124914658802,
          5.48184721014412,
          4.259917777197273,
          7.52297131281173,
          5.959034360383326,
          5.440510857282897,
          1.562609186743742,
          6.515660713050928,
          4.507316074246747,
          6.84164274832683,
          2.9395140908231916,
          6.32307019166444,
          4.93536084718791,
          5.838588511950421,
          4.233750329072157,
          6.836999964746765,
          6.49615682699975,
          4.819997011870356,
          4.115793184967479,
          5.641533886557808,
          3.847385289179235,
          5.102322963839761,
          3.4838734602303667,
          6.929335512448409,
          3.4668834023462085,
          5.472265057094869,
          5.15399395436998,
          3.837709404228003,
          6.65035667847193,
          8.544919372417477,
          6.78966542377699,
          4.390577969616152,
          5.5169125396530205,
          5.264600870721319,
          2.3903113558277056,
          4.6392620338842825,
          6.410403377985276,
          5.441760980675637,
          3.2231058438914943,
          7.13077067976875,
          5.55305272307647,
          5.417426327666856,
          4.62856734295694,
          5.537159812373546,
          2.6169965167632547,
          6.042847324827742,
          3.820511710304662,
          4.597603799848758,
          3.9667276217001994,
          4.135123628720082,
          5.079140185689397,
          3.3089800954160395,
          3.1233474514863975,
          3.597399540564246,
          7.083684274537028,
          4.411069792220459,
          3.0021478965007997,
          3.7004031710663825,
          5.780427054705936,
          3.7738115303133095,
          3.539983499013532,
          5.558871731995444,
          4.2252958158116884,
          3.158327564410607,
          2.876619123222349,
          4.693808748659783,
          4.498758979156312,
          3.7189644853835877,
          4.871607925612054,
          4.3449271677816235,
          2.7096725697744413,
          5.354741806262151,
          7.077487313006156,
          3.6265463069697965,
          4.380769349278552,
          4.287607755238781,
          6.218576363169833,
          6.229567312250685,
          6.150898686077614,
          6.665768632738999,
          4.22490445790085,
          4.889290390713953,
          5.874550928158486,
          5.273520266589999,
          3.7979779372453075,
          7.185455078946809,
          3.865290438157747,
          7.213085138147338,
          3.9691207415683945,
          7.468847034714823,
          5.595269478871013,
          2.7620324267439123,
          5.416029085337863,
          4.3998376214682065,
          4.983481608756335,
          4.381050040506661,
          5.669874207458618,
          6.925636917864155,
          4.492230755793717,
          4.3764347563785035,
          4.215366051687016,
          6.006054422509029,
          3.4459470124946323,
          6.243637928724681,
          5.9659951996342215,
          6.7185002745266225,
          2.9831631678425157,
          1.5564607895455271,
          3.3944030700039622,
          5.459066549729512,
          3.891506207156982,
          6.1639573344904655,
          3.808853553124093,
          7.31101832231853,
          3.730125499903866,
          4.423359849482465,
          5.649643107926645,
          4.063395184988133,
          7.002175948520704,
          6.84303591133825,
          5.836167899886525,
          6.255618559411124,
          4.064042011734928,
          6.302971015930219,
          5.895317885552416,
          3.7528043394938493,
          5.5902445246187344,
          4.743282604179049,
          5.3247311846290915,
          3.6189556202539412,
          4.444023894538207,
          3.0415090046735322,
          4.678538539555242,
          7.694796469089804,
          2.232711615452244,
          5.193088807210748,
          6.448921111517468,
          7.429311501621461,
          5.691227430477125,
          3.5902976679793848,
          3.881843257427178,
          4.518067498447723,
          5.906071943483726,
          4.966455840355461,
          4.664063337063771,
          2.9927649206242855,
          4.7276980328561375,
          4.2140497307080045,
          3.971356217245999,
          3.0231933279397936,
          5.248455553182351,
          5.592678001580902,
          4.1059274553653164,
          8.312164959025331,
          2.911660937055838,
          5.557244021914456,
          4.363435768962298,
          2.3525922359143867,
          5.366633455264411,
          4.538412504525109,
          3.4306173652694314,
          1.7019564915899004,
          6.5653880213053775,
          2.33659134037052,
          4.159030549372258,
          2.15089901746178,
          4.595727662894948,
          4.494383285191065,
          5.6337187709487715,
          6.8823880945389035,
          2.3484116442491207,
          6.045822191883117,
          4.6376494240842,
          5.8456209979463205,
          6.771895879806603,
          6.3775586275820935,
          6.727807226570269,
          3.003096145723851,
          6.084737673971497,
          6.301086240694595,
          2.5703210127163,
          3.939346778620396,
          4.106817687230786,
          4.537234965872383,
          6.473801589737897,
          6.2320130011505945,
          7.162541498523165,
          2.7146991899046595,
          5.432516278961017,
          4.617098811543874,
          3.925861739648946,
          4.64370246901565,
          5.343980271014935,
          3.5445993194179075,
          4.097578982262401,
          6.986875127174642,
          4.877246068292098,
          3.461883928248283,
          2.2640261142796154,
          4.12183327416204,
          3.7663691561613977,
          3.0353507849768153,
          2.8967103398222704,
          5.792139117131038,
          1.8414537586876816,
          2.444782004677879,
          4.535099560950351,
          4.2485826920195935,
          6.06102252075731,
          6.709534307302768,
          5.202781959779118,
          5.98118637707485,
          2.3080680367256603,
          7.562170140165986,
          3.8317013624187126,
          4.4776939107393705,
          1.198400026306837,
          4.091869965502508,
          3.2303797233039218,
          4.873277071405037,
          4.1589857601064155,
          4.453341761948387,
          4.623287396853259,
          6.809055474946789,
          6.0897631405076575,
          4.712587190395601,
          2.5211846315288344,
          3.5540569172835275,
          5.781190780844549,
          4.7571671745529445,
          5.837842416639722,
          4.013712411866185,
          6.269484438861019,
          5.903757666653043,
          9.254142817981768,
          4.765456092900287,
          6.126748956866,
          7.406802526307782,
          6.137517076792341,
          4.870753089866504,
          4.621040601750165,
          3.9460629043594158,
          6.295883111107686,
          5.019934253158631,
          4.64632078486711,
          6.314136259200803,
          5.108762449154021,
          0.8803200512836797,
          5.896168397722475,
          2.8830502160039684,
          6.115256188045496,
          5.862989726852842,
          7.046564129069802,
          7.310549257862618,
          6.3331801876195675,
          7.736825395438602,
          4.6318571497434355,
          3.910222000413818,
          7.1903508107013465,
          4.787284283539608,
          5.33087239535696,
          2.628392402531266,
          5.230928630798862,
          6.650303591153226,
          4.251454721200899,
          5.183824930872931,
          6.305627146125129,
          7.322194904434629,
          2.0838727124921137,
          1.9099536161096857,
          5.454708267906708,
          6.6107965142794685,
          4.897545950032849,
          5.853384276677303,
          5.800504170743051,
          3.640512536338079,
          6.526624697958649,
          4.372211520915719,
          5.240261900627751,
          5.3510703911350825,
          5.953030108709411,
          5.421858769444068,
          2.410955552576256,
          7.742764651634412,
          6.720919556876973,
          5.989378257044159,
          7.744736497229132,
          3.2409298504475705,
          7.642024746129341,
          4.93832299135065,
          6.483254502782848,
          6.13023789501262,
          2.9100246969568895,
          4.574671674675206,
          5.739285023823713,
          4.288249153704638,
          4.217974078874918,
          5.820027486686316,
          3.416617589461338,
          6.5768855619661375,
          7.400698698499524,
          5.7867300250502165,
          5.008416389299856,
          4.829011433037548,
          3.807774404082604,
          3.7362222204043127,
          2.2130599196295786,
          3.758354978218853,
          5.288658629916293,
          4.873885443686618,
          5.8400986358860605,
          5.183389240121437,
          7.783219568195504,
          6.35480985063726,
          6.699791413162231,
          3.226199541174169,
          2.906872880729124,
          3.042366145802614,
          4.342448875998939,
          4.515661847433525,
          6.571045552637342,
          6.632790706485045,
          6.231788080590583,
          5.740882612008608,
          5.778946323958095,
          5.118686393085556,
          4.053739851677153,
          4.951173691008771,
          4.316950376815743,
          5.736644724763036,
          5.4816359075833665,
          5.383590101175833,
          3.3932908321286672,
          6.480839261702831,
          6.791002633361428,
          5.002902693010633,
          5.354020570307061,
          5.867737000220128,
          4.228331916798021,
          5.847488754350575,
          6.58652024854284,
          5.888568891079336,
          4.556330148153286,
          5.851660394110003,
          5.941960760252929,
          7.218360831709502,
          6.974195839650317,
          8.543311701150602,
          5.767872794323564,
          1.867961401528257,
          4.9557135922443205,
          3.6678345305960884,
          6.903703350759649,
          3.43320640894462,
          3.9404486907215635,
          6.270569795834748,
          5.9224355108901054,
          4.229279280995251,
          4.005405925004162,
          4.649281900441231,
          1.3933885108722421,
          5.004641150511626,
          9.008684277877387,
          8.47087564870608,
          4.446899446116525,
          3.885181508693832,
          5.085726980241708,
          5.030052519153421,
          4.1090725215161665,
          5.161026011679507,
          5.837511490260935,
          4.849239520229098,
          5.171916155504357,
          6.141050669992737,
          4.031524489028212,
          4.1067218689428975,
          5.947307114472786,
          3.9545487458787107,
          4.706154356492463,
          6.330607937812557,
          5.192592795224013,
          5.063447504865313,
          7.2486147605988265,
          2.5861182915311334,
          7.087422974635777,
          3.96884089687736,
          6.154133747432169,
          3.5732668261758445,
          5.0322328802784995,
          5.604201759001997,
          7.64807251659815,
          5.79244075268309,
          3.217548832996796,
          4.8799064216951,
          3.0670457047094772,
          6.171495797193131,
          4.93379274688501,
          2.7223904932712446,
          4.496919634679187,
          5.3714769577884836,
          4.0089195347354565,
          4.941078110484246,
          6.759129830241754,
          3.2588692707999103,
          7.396864019601316,
          5.218588664764198,
          6.66519171822066,
          5.718141498253321,
          7.123819863149969,
          3.861215792576381,
          4.465958466636367,
          4.820602016105581,
          3.6487095667308136,
          5.280217492615571,
          5.821108539274686,
          5.468704955956061,
          6.0083813504691514,
          5.276964578424523,
          1.806388946996278,
          5.773409421796872,
          4.761421375225779,
          6.02060944842631,
          6.756118140993129,
          6.81167385468255,
          5.50999814559973,
          6.065449036394601,
          6.830706698365974,
          5.816105897362556,
          4.17626443233872,
          6.290589440638966,
          6.1379704694834345,
          5.6965345087034365,
          3.3056153016435665,
          3.15834358351329,
          2.1247864015785054,
          3.903940808452682,
          4.692591339237652,
          2.706174958571439,
          4.699465041857467,
          6.310805029010414,
          6.3216367177379755,
          5.864570084309198,
          4.246232962518616,
          4.6037791715016905,
          5.256554633604183,
          4.563347264879842,
          5.004723917029596,
          2.865524389096974,
          3.2485499898978536,
          3.278034954706898,
          5.306408368307548,
          3.3479275603240355,
          4.155818058586621,
          4.81378602408719,
          5.90376789193088,
          8.109841525489456,
          1.7382129394731196,
          5.802070195469743,
          5.463440007945666,
          6.900774272476875,
          7.954890504648181,
          5.920998257432567,
          4.763662961516125,
          6.918817754440919,
          4.5287694134431105,
          8.952398538904655,
          6.49557121553484,
          7.317445699333641,
          4.33721155212648,
          6.781066625729666,
          3.4046631516043813,
          5.5390105155107605,
          6.112256676796499,
          5.0963919701679,
          5.114238015279024,
          7.725452534496764,
          4.7531273136405465,
          4.98510397381915,
          1.6064630920188838,
          6.58238047475894,
          4.80841038963478,
          2.992663015508449,
          6.548924222887516,
          6.387316392047897,
          5.811746170282639,
          1.7738718634061543,
          3.8823266041153808,
          3.7488287320650455,
          4.333710584507207,
          4.716419566553273,
          5.937036373654717,
          6.798047548131985,
          7.1021374512127124,
          6.471770192364815,
          5.985182036749587,
          5.9674658404666365,
          5.663562996961717,
          3.6173168349288525,
          4.947668110601061,
          3.9601679838570742,
          4.247090354133895,
          6.255938061725917,
          5.1825285780378945,
          6.792363337832695,
          7.327166889878063,
          4.004658395392141,
          3.465393064363325,
          3.209893482409338,
          5.436401948860803,
          6.056149220266157,
          1.9210900192138745,
          5.061435371254547,
          4.6016495595296485,
          6.172527163116325,
          4.90097193662764,
          5.3195278829285,
          4.190774779816355,
          4.0097436260039965,
          3.709407207515895,
          3.882702555323244,
          2.0965639547909762,
          4.537001118437734,
          2.3608859926535066,
          5.154834159631344,
          5.26077588196134,
          3.9343843562507343,
          4.579852266328411,
          5.286729252995804,
          3.2942530467838,
          5.981124765360397,
          4.159936998535525,
          3.840492854483054,
          5.509818703189723,
          4.344929570994736,
          6.8104891315264355,
          6.4083952834156195,
          7.061080992172153,
          3.261249053831745,
          4.97119745974617,
          6.298843214610809,
          4.28171421127444,
          4.363656028718686,
          5.377404990083726,
          5.797077382354613,
          4.225557773321376,
          3.4147031537548926,
          4.362304145968485,
          2.1898875675777245,
          3.354186666004641,
          6.630826359697021,
          5.12296862988238,
          6.078729376165596,
          3.165821498657531,
          4.086228843770934,
          6.053994987166605,
          3.6049622920482287,
          5.840563180193126,
          5.713440632266602,
          3.0955371204162425,
          4.830228558408527,
          3.8139316304179505,
          4.310276422549633,
          3.4927421791924074,
          5.754922595930805,
          4.604341768678729,
          6.149762817744224,
          6.339885914381342,
          3.9861874847440255,
          1.172122578087249,
          3.927632208632215,
          6.160824633604481,
          4.975478566544727,
          4.535578554227053,
          4.211333161721656,
          7.879420918949514,
          6.799293922359218,
          5.849934578489699,
          5.494623821914696,
          0.9909040175686146,
          2.609697306342103,
          3.144060396717457,
          2.28464315200054,
          5.705454635372114,
          4.296121328156728,
          4.1990692289434435,
          7.007450232858808,
          4.786993191135495,
          4.543186466087004,
          5.533594321219428,
          4.941790605519749,
          3.4804364140074764,
          2.9711718596642407,
          3.8226874408913547,
          5.869072816932623,
          6.3250294455152,
          1.2683817632546326,
          6.2823456231674175,
          4.226282663065067,
          4.579376606221068,
          3.3347843760668985,
          6.558099033889848,
          7.374479843565866,
          7.1392970200809,
          4.823046603924885,
          6.011147692724274,
          3.9695353751092917,
          5.951386191494943,
          6.160160187702175,
          5.397503790442558,
          6.88782150196395,
          1.029813373233707,
          5.994684014520858,
          4.638847714064019,
          5.703243978389837,
          4.758568919354428,
          7.067975697154548,
          6.098859022950067,
          7.629035722591265,
          4.769115516597553,
          7.068427932262701,
          7.260542679930618,
          4.383104871826934,
          5.585223977754419,
          7.2677793548902745,
          3.335421924722411,
          5.7064215319963925,
          6.8518831099463755,
          4.968861659266729,
          4.868816327317188,
          2.2799795674301877,
          2.824910150491698,
          4.27916946674325,
          6.879286852029187,
          5.725686635202887,
          6.384050417687683,
          4.07193726770919,
          6.069244610068216,
          8.431658385484614,
          3.938532767120639,
          5.870931065017613,
          4.140794123252472,
          5.8348721482767365,
          3.163052111135262,
          6.675602960042969,
          2.568578532284865,
          4.569283582816316,
          7.878536054577683,
          6.971375691313638,
          4.381635737637037,
          6.127618132765279,
          3.537187346404171,
          6.120197557969065,
          5.367831141478051,
          5.6188256116683695,
          2.564051037948635,
          3.827510982798174,
          3.9297351018108415,
          3.722977333071105,
          6.1230891785504244,
          4.916550391487776,
          2.1817238547592277,
          6.312376911247161,
          4.632083197214289,
          7.840741652759707,
          6.990377539871459,
          5.909701350145049,
          3.7411523917224456,
          5.955254427031527,
          4.080454614751245,
          2.769282605591333,
          3.8491809725166504,
          1.9043292669672156,
          6.20576513508583,
          4.201197740842054,
          3.91917760462053,
          5.199311688999494,
          4.057793378360326,
          1.8086127937331806,
          4.208566913372591,
          5.566496872843269,
          6.316105526837327,
          5.672959897595586,
          7.994681177119938,
          4.957334629689011,
          4.935913898373818,
          3.4542255192997997,
          5.250181537813791,
          5.64702521327098,
          3.5639226115643403,
          5.296961922383428,
          6.5445604242942546,
          7.388578807982241,
          6.405012923230553,
          3.7243575825550446,
          3.3647863793301567,
          4.757763725952205,
          4.494999152379896,
          5.298235626153796,
          4.530023215499657,
          4.139651927958343,
          2.7752707527834226,
          4.6760189693948195,
          3.944575403211389,
          5.963980052711081,
          6.917685135967869,
          3.205041005577958,
          3.865607947097277,
          4.899476106253804,
          3.019389442162172,
          3.857783833015042,
          3.690986693992644,
          5.188309575579127,
          7.127248939546333,
          5.450740070614151,
          5.664625745812531,
          4.070332195728492,
          3.7254849664683176,
          5.208124187474666,
          3.006203086693196,
          5.8696985053494295,
          2.9731139677785894,
          3.4431734549414506,
          5.404286105095407,
          8.179598652208295,
          4.368372617070311,
          6.052559036961471,
          6.729525474930762,
          7.432733674844172,
          4.842526369112061,
          5.507507036070198,
          6.259125508929765,
          6.976567218476395,
          5.757056821054025,
          2.602687074512147,
          7.0171458425920665,
          3.832798928324793,
          2.911213165933173,
          3.3124733072452215,
          4.951856431936981,
          6.453093664386595,
          8.045085513454186,
          5.024010223007196,
          6.595019806722074,
          5.401401140413763,
          2.988234300537903,
          0.08439557483664206,
          1.358005281528257,
          4.655047965076911,
          4.254976736574357,
          5.5950835351168555,
          3.903530040382586,
          5.834381268316716,
          6.027699806251317,
          7.343302961662248,
          4.846279910501733,
          4.535693946668801,
          5.130000376286438,
          7.367479560366922,
          3.6400633433631913,
          4.926704968308135,
          7.982495256686367,
          4.781536287429018,
          2.679352176424671,
          3.9043026998624932,
          6.863749404086367,
          5.055259391684859,
          5.223296420692962,
          3.08704554987224,
          2.948101905241111,
          4.830251855273738,
          1.0809826539955187,
          4.801238866424019,
          7.957598514130042,
          6.78995156088046,
          7.508539725010074,
          3.032987293505415,
          2.9380454539202323,
          3.9657130039583204,
          2.725432449353586,
          5.536376900817817,
          6.516716821313878,
          4.873650110615551,
          7.149200928250982,
          5.1040284979888755,
          7.150283600891402,
          5.955311855455415,
          5.407282503542966,
          7.073703854191462,
          3.975658049199084,
          4.69517627289638,
          6.672010457743685,
          6.87265876916918,
          3.1366904917548224,
          6.480557235393244,
          5.198801897499892,
          2.9543430619868336,
          4.648166309548107,
          4.748632112734045,
          5.228085080817149,
          6.735218102612543,
          5.243372748950931,
          7.089977812652918,
          3.645158005908555,
          8.02199427605007,
          7.2574219763456504,
          4.823843264873033,
          3.7901797776692043,
          5.009326835957333,
          6.597934562011398,
          4.37227810673607,
          4.48284999773279,
          3.5198786813662593,
          5.116384214066504,
          2.0674008992536,
          4.779787946342703,
          5.499656366706348,
          5.535349840685054,
          5.89635759448641,
          -0.11198003236286347,
          5.303787523523759,
          2.8872521923531984,
          4.499169172284438,
          4.8305895665832495,
          7.863962564769459,
          5.137756585250362,
          3.9910901592105716,
          4.11081003252159,
          7.465292738510083,
          6.313482014816435,
          6.795660890286582,
          6.374364096518296,
          4.804195255908932,
          6.500142767081473,
          3.26861182235571,
          6.830437378823511,
          8.578141301952021,
          6.129681285420913,
          3.180206593901942,
          4.7886668728570605,
          2.7762211403678885,
          6.372681367154881,
          3.735335753016381,
          4.56734069400455,
          5.577469401686648,
          7.9787710517557215,
          6.561119121958998,
          5.857331205665684,
          4.593313485641903,
          6.850983943529522,
          5.778595551820507,
          4.484228103827205,
          4.460322955568906,
          5.841254989693461,
          5.912314590645236,
          3.9349523531648507,
          4.1358776577628955,
          6.462356833398429,
          2.7438713698713975,
          5.087779803365635,
          6.504717191367878,
          6.595512343497973,
          6.157874375396287,
          5.365041881627304,
          3.5564963883862015,
          2.4707521682314244,
          5.15633696490937,
          2.460064263288764,
          6.1589627533385185,
          2.8991707763093117,
          3.771096876223069,
          7.497758825040264,
          4.628577203813456,
          4.906291286037722,
          5.107541849349078,
          7.337731515189427,
          4.036607021153847,
          2.9330460747098224,
          5.034635796196671,
          4.706254458955153,
          3.409761529303892,
          5.593589677961406,
          5.609852200444318,
          3.7446755825817,
          5.590738567362964,
          4.468870228183153,
          4.586043247134257,
          4.506376082346018,
          2.9668955572186038,
          3.5333109962858895,
          2.636806079557882,
          5.5343611099923535,
          2.4840166269854915,
          3.769788642838232,
          1.7835193653765984,
          4.040440055930382,
          7.2371700393338,
          3.372459741617969,
          8.081506487534657,
          3.918377174215789,
          5.144292097352815,
          6.428582451922148,
          4.392745659574195,
          7.978926126270979,
          5.335919328209928,
          6.0499968246129106,
          4.6783082336873125,
          5.402926403869514,
          5.728886255620584,
          5.0868629744878175,
          6.697028657513375,
          3.391114872614329,
          2.1929248020486565,
          6.2219912570995906,
          5.393067324009519,
          7.703530977823233,
          6.107305529943719,
          6.2852677737391485,
          6.644208430998942,
          4.960742317721973,
          4.851593421044979,
          5.598467827739917,
          5.5140287573983615,
          4.51070731540705,
          4.658236727095927,
          4.532130386550691,
          2.871316961978122,
          4.037134569649051,
          5.389284068677024,
          3.2815970456360453,
          4.5807714587611486,
          1.3997883786202205,
          5.482212139000181,
          5.119523211681671,
          5.541252605684111,
          4.158431354015308,
          4.947736933345406,
          5.725535103136314,
          6.03846566609266,
          3.6884978690250465,
          5.282506492589939,
          3.7747453658943817,
          5.644683044778556,
          5.583565173775177,
          4.51400002964951,
          5.748297134868571,
          3.6970779912821174,
          4.8302247791496935,
          4.586636758742634,
          5.073399492891564,
          8.11586460293001,
          2.884150603314314,
          4.897487623481191,
          3.731663483938009,
          5.888585954759595,
          2.745236413572692,
          4.562184800111049,
          4.9032911084182365,
          5.25616909351058,
          4.252068619153375,
          5.80478230309945,
          6.005450997993342,
          8.330492397528438,
          7.354847370467062,
          3.7537590520316853,
          4.043158347043633,
          5.47370806918273,
          3.7313989614274528,
          3.9505661438168795,
          7.0053073433633095,
          3.3757070344997055,
          5.358806878403793,
          7.0491667043180275,
          6.051772611701031,
          2.1964336864645406,
          3.264750296458102,
          5.381056770333591,
          6.882357800590366,
          6.871654225233131,
          4.647793881069251,
          3.251351658093677,
          3.6895015636009028,
          3.750594967676782,
          7.8857475975734594,
          5.894065845977215,
          4.023889824470358,
          5.1486047364858925,
          5.196374919561366,
          6.240480368276084,
          5.630959326437243,
          1.9143971808442686,
          6.6492588681295315,
          5.760046714766569,
          3.8313126895615772,
          5.372748339042067,
          3.1374238198731614,
          5.830742932653022,
          6.75419120732853,
          2.2898944606402383,
          6.387613559167901,
          4.931737327178116,
          6.398861225608543,
          3.051673344951319,
          4.27509920641259,
          4.798582761701142,
          5.454447024160092,
          5.796269167996419,
          3.659407724010948,
          3.6325849396246292,
          4.472026476167576,
          6.007681412845462,
          3.6890026080549596,
          3.6599128454843584,
          4.569082879363277,
          6.007416945312053,
          6.727514804353293,
          5.699617743233546,
          5.298763857090519,
          6.0696736215041796,
          2.1822989358642495,
          4.082794818738607,
          4.935145615675626,
          5.496209990161337,
          6.9959834604504,
          4.916335478568225,
          5.28744164048904,
          5.623820379005461,
          4.760504037321455,
          5.704210146314928,
          5.901969187128283,
          3.0603721651388045,
          4.1415970029470985,
          3.8597263371362613,
          7.919870600274783,
          4.19424862776726,
          4.68929891192568,
          5.21893092828372,
          8.053175991963235,
          7.151280683869258,
          3.181472084015411,
          5.349645814004742,
          5.107818486304506,
          7.503630883681341,
          2.304273232607298,
          6.620628465828851,
          3.493654328702108,
          2.8666377566327323,
          4.931818178024031,
          6.973140508295696,
          5.714091885806908,
          7.410221614990808,
          3.9797985195961347,
          5.6201743600243965,
          3.4043471940149206,
          3.404123942922074,
          7.173092611017672,
          2.5817575425398473,
          4.810274838499369,
          7.506953236080539,
          5.326687810313531,
          3.7204702250466117,
          5.328050348409026,
          6.212383333345154,
          3.2833838505406283,
          7.661955918506363,
          8.123976124396798,
          2.6350125539390614,
          4.227057968046645,
          1.903541961246308,
          3.6382858031193104,
          6.0409724683113115,
          4.0659589427854925,
          6.246583549365804,
          5.229737305462278,
          4.59709532541045,
          7.6671269103162905,
          4.065195922903712,
          4.53949675111253,
          6.346724171080964,
          6.324661835899518,
          2.107199112258555,
          6.719193636135785,
          4.8204647401365195,
          5.338494875897397,
          3.285281320499168,
          4.725208219841489,
          6.769891141675684,
          8.247858567347466,
          4.281428738726705,
          6.5990479067913235,
          6.385269576359887,
          6.181140267383865,
          6.694022936880492,
          5.8216979625146745,
          3.0187744188863963,
          5.7825000596547556,
          6.044134297768084,
          5.403837506185692,
          5.110785783913194,
          4.738560406287222,
          3.623075363471289,
          5.938754854317965,
          6.6062997331818325,
          6.057130221969297,
          2.9572599273314886,
          3.0492606699810696,
          5.184719169905806,
          6.453704133481262,
          5.554685843916589,
          3.449736399324903,
          6.242678365862451,
          4.7995032217410944,
          4.2573984896855075,
          3.8238953065677252,
          4.445901193536037,
          3.712094224705016,
          5.153379374464598,
          2.391859269874537,
          6.855037179140648,
          5.42351327326058,
          3.630138448977827,
          3.5936682475800357,
          6.918085533281357,
          5.359344557235956,
          5.49212781570822,
          3.3625216477735598,
          4.841874907464588,
          6.189538557701129,
          3.6933891504801455,
          3.859017636066862,
          7.796065661919018,
          5.640938448634428,
          5.537886067732116,
          4.706099396192256,
          4.043711812207719,
          5.6525656906226525,
          4.393844617648807,
          5.481029486392009,
          7.116382129941631,
          7.39365550598758,
          5.886981074348577,
          4.765225879419817,
          4.688678432695295,
          5.5484746912251435,
          5.184617792047224,
          4.541420679850306,
          4.691189610044919,
          3.795329726190757,
          6.741292386766812,
          4.046111071915443,
          4.660524787091279,
          2.835132019109403,
          5.388004540478277,
          4.358770142136921,
          5.160089103469587,
          5.6772229282773585,
          6.698970253454608,
          6.1924249037543095,
          6.507071935750463,
          5.370048532172863,
          5.231727970309833,
          7.810446252976037,
          3.8784073488811392,
          4.883167101626814,
          3.9012628680285957,
          4.371977849925284,
          4.635594712709394,
          6.5256211184755974,
          1.9042020313478742,
          2.22448817918951,
          6.189227275785766,
          4.128567645901118,
          5.873093835688048,
          8.829886191275033,
          4.5442025491306435,
          4.779191198721315,
          4.795963817957558,
          4.536493274043555,
          4.28168106596645,
          4.900029348281338,
          4.69995141807035,
          5.4177899863384935,
          5.795232340157311,
          5.15146969428269,
          5.421419405344277,
          6.5390944993081455,
          5.472047167747803,
          3.2575660485911673,
          5.624995584787635,
          7.876551410332948,
          5.901951560673464,
          3.048170136495376,
          7.7143354724487025,
          3.061504330419821,
          2.0772062019964577,
          7.462999144005588,
          0.2444307238006287,
          1.0148627757237558,
          4.206942594171443,
          6.1009760651783616,
          3.7706816790101936,
          4.479124473436952,
          3.2736995050108355,
          3.1279591512901854,
          5.970042773842968,
          3.2718985787642967,
          5.7304668560568235,
          5.590759257277519,
          5.407758638916047,
          6.8373976316454605,
          5.102484742338721,
          5.806539074072015,
          1.8377816018979147,
          5.3095416431235325,
          7.615300956026243,
          3.537063392060203,
          7.658016274909887,
          5.250110911259651,
          8.144477528039303,
          6.523998452500013,
          5.682936510166156,
          2.2459364103018222,
          5.674377731120307,
          5.033577658592239,
          3.8713553488030925,
          7.558369636185111,
          5.109193257542195,
          4.075172142511695,
          5.682778414542372,
          4.379672145654175,
          3.0912226273536763,
          3.6652338580832566,
          3.9309316986325222,
          6.318250581832965,
          4.012340332792161,
          4.965500303843244,
          4.490109956239573,
          6.034163595147205,
          2.9131462645439945,
          3.0629592568563067,
          5.111237302910442,
          4.50252264467068,
          3.6269642308108176,
          5.032125423533189,
          5.363273787889072,
          4.191325458699859,
          3.862408537844808,
          6.767698165020549,
          4.461142512424207,
          5.765794845430222,
          2.9397231600251885,
          5.885869718400796,
          3.42153033298419,
          5.181151523256913,
          5.796890041305297,
          6.805736682944296,
          5.625269189700409,
          3.2920756438974017,
          4.120976999116945,
          4.214569376952923,
          3.8356210485998976,
          3.3231807097156567,
          5.4547883848038605,
          2.316439259416835,
          7.582007188220697,
          4.439198118377103,
          3.6000888412535703,
          2.4444048801679807,
          6.051132353410334,
          6.082803076897265,
          5.634863961374824,
          4.6752784316056895,
          4.2791206713060825,
          4.213589456465376,
          2.733085023052662,
          4.601156786084991,
          5.027416134037777,
          5.865475874366164,
          4.095847932094109,
          3.4292321341763605,
          4.738227180238692,
          3.1763865890915204,
          3.486113030384583,
          5.310434700463863,
          5.133893928432735,
          6.939973060917748,
          4.332691064933881,
          4.485823090988481
         ],
         "xaxis": "x2",
         "xbins": {
          "end": 10,
          "start": 0
         },
         "yaxis": "y2"
        },
        {
         "marker": {
          "line": {
           "color": "black",
           "width": 1
          }
         },
         "name": "C",
         "nbinsx": 45,
         "type": "histogram",
         "x": [
          2.0045541107559033,
          2.219990798219571,
          2.4016512622840027,
          1.8445330091735674,
          1.5699303508994755,
          1.9115141810364427,
          2.185855378719515,
          1.4803890560488853,
          1.6189897846189232,
          1.630974980188111,
          1.7076676838463276,
          2.1020620981634957,
          2.081205075920758,
          2.064090375932206,
          1.6145735664777325,
          1.7362273435269275,
          2.186004994883408,
          2.0458845895741713,
          2.2583930603623434,
          2.1071678416818953,
          2.2650583472512955,
          1.6779738253082868,
          2.144249885128398,
          2.20807979287248,
          2.2185570843770575,
          1.902537920436322,
          2.254809777298635,
          1.7260352435753565,
          1.8330053895613285,
          1.6858540916749294,
          2.2559704099610256,
          2.195023150187321,
          2.01136344671824,
          2.1859731247903573,
          1.2731150958568356,
          2.0321546478957844,
          1.688950240712598,
          2.0847741390879753,
          1.7839452528094457,
          2.129176218960089,
          1.9344517195020199,
          1.7901244829680105,
          2.343786144915081,
          2.208905877365628,
          2.2372382882611634,
          2.257442917429812,
          1.659997204032601,
          1.7619116987007146,
          1.7295426831518224,
          2.1626946648034178,
          1.9848518902448178,
          1.5551487722511816,
          2.05896803111833,
          1.795800497496223,
          2.22430183525721,
          2.1070835646288733,
          1.9714286657332243,
          2.595932111510615,
          1.9447382414899506,
          2.3047529014069443,
          2.0285409387090594,
          2.349838649663714,
          1.9524873899661201,
          1.9635299711518908,
          1.860377100536887,
          1.9202071315309936,
          2.238256785464067,
          2.0778300438187953,
          1.8019911494387773,
          2.2812373589474886,
          1.8645596946966416,
          1.891844803392453,
          2.1749760818904456,
          1.641130201265001,
          2.055929416849463,
          1.7279864857724654,
          1.9512207524432903,
          2.1269212824129773,
          1.7444919698021062,
          1.848623287122747,
          1.95203247568267,
          1.8987278975698332,
          1.9580139980563647,
          2.005473117606649,
          2.000913827912451,
          1.7286784796240005,
          1.577668063185569,
          2.3526440220838807,
          1.7439528010928615,
          2.163258745651533,
          1.9746700636619954,
          1.924445784153374,
          1.6996614906472294,
          2.0263576084459607,
          2.0271991357056285,
          1.9451920616999634,
          2.4842956108263,
          2.0863731706832733,
          1.863569586865991,
          1.3733807310707786,
          2.3098036170521623,
          1.5579236131242336,
          2.077754812296906,
          2.3084071593657667,
          2.373455499594615,
          1.580462216851458,
          1.9610369773168594,
          2.1282661030130106,
          2.261544958975808,
          1.9191288205936603,
          1.9598666994943332,
          1.5806348126376482,
          2.0524573062688107,
          1.8604845342787997,
          2.1936442998393155,
          1.338003722547198,
          1.884942570799547,
          2.097168931874447,
          2.1476351174216606,
          2.1759456075128565,
          2.1087013790572064,
          2.037355248236542,
          1.6751728571236193,
          1.799990479214321,
          2.023845229720021,
          1.7033769778161116,
          2.0168914046330517,
          1.6367894945985917,
          2.2897039638468493,
          1.9892613365871366,
          2.0456689307109523,
          2.5373958732408517,
          1.7935452198980724,
          1.6828160153943996,
          2.1258679997218963,
          1.7635846267514192,
          2.0358642126587005,
          1.767749501153012,
          2.1006744656043606,
          2.1850569783983698,
          1.910544094996884,
          1.653681255657163,
          1.9436800680564041,
          2.10510890425264,
          1.3607261829900343,
          2.2528565733965626,
          1.7676853438782358,
          1.8546570609953026,
          2.466771282268012,
          1.7267293552769079,
          1.9366111946710312,
          1.7359124719421748,
          2.4868781394267483,
          1.7532279836456055,
          2.606779602798589,
          1.6595691570564282,
          1.8143697937684955,
          2.0909838371494125,
          2.0211558723729612,
          2.1466404805239225,
          2.0019476687058337,
          2.0828255786023244,
          2.1362264220214997,
          2.164716312806581,
          2.22663676146075,
          1.9027437502906717,
          2.1401711309501907,
          1.704211933581293,
          1.8752170263300292,
          2.1910841854714076,
          2.2026036460527227,
          2.358739097318727,
          2.0365842437871553,
          1.7948120410191857,
          1.8527034035610324,
          2.062010006304846,
          2.330903188731925,
          1.8557390892865082,
          1.7652629122709436,
          1.8425740577829044,
          2.2039322838553375,
          2.3021338495657875,
          2.1021878843737305,
          2.2400790288209342,
          1.7929499772244308,
          2.336612476072868,
          1.7187507944605014,
          2.0935802879634617,
          2.4714499299849844,
          1.9862382899824533,
          1.9671119469359941,
          1.8368086779477406,
          2.150636349946711,
          1.912198058347846,
          2.438715088562104,
          2.177157729907436,
          2.2632470702325915,
          2.0438006345832327,
          2.1783483569099937,
          1.9105803427109298,
          2.2907476407335294,
          1.6551740338052108,
          2.651720002876102,
          2.2290348581542045,
          1.6765509934071279,
          1.7815481832298357,
          2.2080164551298656,
          1.8673975726788832,
          2.0162637122487372,
          1.632130748929029,
          2.0347737265469092,
          2.1565908644464855,
          1.6449118854163238,
          1.3617731754422202,
          1.786887853011275,
          1.9035677474992085,
          1.5754581373055552,
          2.0642785588525068,
          1.8990477738789977,
          1.770522093227933,
          1.705993773179753,
          1.7932288176501372,
          1.7084995350470282,
          1.925688891921633,
          2.2380383069943766,
          2.133901333565695,
          1.624671281204724,
          1.869363768986251,
          1.764592429410885,
          2.374121188768817,
          2.4660926602599376,
          2.184558343606112,
          1.9056408224450807,
          1.722029850859365,
          1.5757948134898545,
          1.975994062580126,
          1.746304176856131,
          1.5226708740315424,
          2.2439574189928604,
          2.2496541039220777,
          2.172840663918068,
          1.6930912206452946,
          1.719302508090895,
          2.138603139130302,
          1.8219324958411405,
          1.9235139377110368,
          1.784637997444449,
          2.4990323577283036,
          2.096616700376775,
          2.211425381207293,
          1.796897658427732,
          1.7730989303073765,
          2.214923212254206,
          2.1184478891516827,
          1.858293978650372,
          1.997564621041313,
          2.0920214004389317,
          2.0783298669946055,
          2.3607961464952045,
          1.6778853419129827,
          1.8106955857221763,
          1.880721065620222,
          2.075189206436165,
          1.8874338389093308,
          1.9966148845941902,
          1.65270120086454,
          2.2382137920224547,
          1.962297423126109,
          1.5099551113701208,
          1.8809427366490619,
          2.0053517228058437,
          2.1266768383285424,
          2.083051607382357,
          2.0941640793808007,
          2.216585722340486,
          1.9827264351017568,
          2.1174348392601856,
          2.031216001984811,
          1.6099542982948685,
          2.0627635791626293,
          1.7231989431057728,
          1.9936660690625783,
          1.9096124305143825,
          1.9890135280562515,
          2.314414193862875,
          1.9018826332626366,
          2.346674305867741,
          2.3780484713656938,
          1.7606161177228374,
          2.0375417403418563,
          2.0147126922096574,
          1.6734522124031932,
          1.960341992832378,
          2.149154443792266,
          1.9458789260286948,
          2.2308701007231635,
          1.6470285091530912,
          2.342974152549999,
          2.469307966533788,
          2.106382512790903,
          2.317008139767558,
          1.5133810284828253,
          2.125027045610336,
          2.3993829455082594,
          1.5903703187176044,
          2.260152732877392,
          1.597706670263051,
          2.372007877777515,
          2.334185605419565,
          1.9500868387893833,
          1.7139834639052474,
          1.7568377470820793,
          1.6280137509012464,
          1.8212250115036124,
          2.013894816548963,
          1.7664832461514575,
          2.464952188900262,
          2.0762520593424996,
          1.8939325814441135,
          2.3048987285736215,
          2.3936233274270293,
          2.0476634206042563,
          2.1622235121994513,
          2.1275616541746833,
          1.8860166887812564,
          2.5192406562212493,
          1.69826592747521,
          1.8540039891441458,
          2.1790030029312826,
          2.1393951511956333,
          1.7313119302445323,
          1.75476512037102,
          1.6774845590174894,
          1.634076626968047,
          1.9687405284895356,
          1.7227540240264307,
          2.1112077584391957,
          1.7531577430498348,
          1.7809782390816866,
          2.1461743272491742,
          1.9399788470826707,
          2.0458632972601256,
          1.6094091780990607,
          1.703950841978175,
          1.7548117156841543,
          1.6911415168027806,
          1.8347342941715339,
          1.9379649192027244,
          1.5348641564981762,
          2.3279258115041355,
          1.8878241314653437,
          2.438184830213093,
          2.036378407941215,
          2.2798972809754976,
          2.187926709294044,
          2.2014435520302347,
          2.5984431654545492,
          1.9920387052887796,
          1.780109116082844,
          1.8142730701238192,
          1.9819838276016215,
          1.8962120097214883,
          1.9847497348606484,
          1.9835409073898302,
          1.6860641669853687,
          2.242232514758934,
          1.9666802978510802,
          1.8462660849511374,
          2.1205964060025164,
          1.8940279596416365,
          2.307041038471185,
          2.041855757602619,
          1.6994220240089126,
          1.567528759020271,
          1.8709073013175925,
          2.1984230188494074,
          2.126581819019439,
          1.626033649767181,
          2.1031806005576548,
          2.0238429656977965,
          1.8552278107998543,
          2.025381970206767,
          2.176857996887699,
          2.0298054133612995,
          1.7923942293548996,
          2.0662245182323327,
          1.748395971652421,
          2.2073412584100356,
          1.4820343550060633,
          2.055290774301645,
          2.3603126471325684,
          1.841741779013177,
          2.350562811742532,
          1.900394220192757,
          1.752661226069723,
          1.979773429350271,
          2.2439552900821713,
          1.6010711084846192,
          1.5994404180047215,
          1.797389231672834,
          1.5870240275511622,
          1.7814382707486436,
          1.796909435608565,
          1.8692666493605388,
          1.8788084910568181,
          1.9221316974665934,
          2.1246792658273277,
          2.0942695654569268,
          2.2748125534968366,
          1.8237896412102623,
          1.6793129866935697,
          2.3831669266702775,
          1.8387115832036471,
          2.3501196643678166,
          2.6088201079225857,
          2.259527854086787,
          2.0317975917631323,
          2.0460469180561796,
          2.523335422678943,
          1.8476439925681094,
          1.906199201919534,
          2.0451483390404097,
          2.162949677799307,
          2.178078089235875,
          1.7981082033022084,
          2.0813839549004816,
          1.794283572135693,
          2.576578151532923,
          2.281815564698358,
          1.9362131173771657,
          2.2679984411907244,
          2.0049580128914597,
          2.1003238913409077,
          1.9901144273667497,
          1.8819798616093055,
          1.9918567527690683,
          2.33502613505161,
          1.7513043306495444,
          1.6306349778152456,
          2.1097312872653453,
          2.2113238354416205,
          2.227218613742059,
          1.911951424293772,
          1.9889362222389908,
          2.189659132805036,
          1.774870980649764,
          1.5335530154198234,
          1.6371051334006863,
          2.1595379809877135,
          2.0756499304207776,
          2.2407053008130746,
          1.76794347050061,
          2.348153361317249,
          2.1434958563493485,
          1.327136399358011,
          1.8783370287624552,
          1.8878797061995438,
          1.777564091959492,
          1.8819425739796665,
          2.5086057127639974,
          1.8199952609040573,
          2.4736276509566526,
          2.260257092378718,
          1.921700003844937,
          2.13923619473742,
          1.9222003843784012,
          1.7102898007425054,
          2.1155464922837974,
          1.9937216313455624,
          1.7828694203307383,
          2.1029563459616254,
          1.946425893855814,
          1.5457904778372387,
          2.415187197106887,
          2.0464566438212164,
          1.8016443744168136,
          2.0560809417315395,
          1.4824586780451967,
          1.5947585730722924,
          2.4095941810585906,
          1.8346863380392207,
          2.2122123189146268,
          1.92403610685824,
          1.653984813747865,
          2.212503286440024,
          2.005518836825894,
          1.9446552804932227,
          2.198771955016987,
          2.4875301238451315,
          1.6514857806575314,
          1.769023269675029,
          1.7363668076085754,
          1.9633469485541963,
          2.113111130036771,
          1.7221395193826181,
          1.6030013747683494,
          2.607730715754644,
          1.8806994602963503,
          2.5218164054044863,
          1.8941193334691826,
          1.7958954845494806,
          1.8002962713477013,
          2.0599363296317916,
          2.2730464462388618,
          2.51178011671667,
          2.1096821799841194,
          1.9081973630989566,
          1.8391806767931955,
          2.25753708719497,
          2.094733938373679,
          2.3180709517022575,
          2.0570128470971105,
          2.191075351796274,
          1.5994744719445906,
          1.8375541843526553,
          1.9833102288651574,
          2.1502620106276655,
          2.3956085551218926,
          1.8554588619351267,
          1.9138149491576586,
          2.3363657867750196,
          2.1184468595248083,
          2.30761594166641,
          1.9551267177540714,
          2.034594749478393,
          1.5573602781143605,
          2.2112473051330377,
          2.2961030396202187,
          2.0404598356024883,
          2.120894182374602,
          2.1376270488123783,
          1.9225705500674501,
          2.054770609690937,
          1.9663958985027397,
          2.6170969926528063,
          2.0219497416357775,
          1.8059917358880198,
          2.0054973963380807,
          2.233357834478307,
          1.9085321215075663,
          2.134406556401771,
          1.849614368777522,
          1.7697402170390932,
          1.8144545227601752,
          1.6870489702719504,
          2.2133745815920656,
          2.2403351058909937,
          1.81123577699661,
          1.5943247846909534,
          1.7497164198430089,
          1.746561040641212,
          2.105224309804643,
          2.112482897990759,
          1.6049820157343495,
          2.132908095227021,
          2.0102819177666373,
          2.057914488038481,
          2.109883493561916,
          1.9864020280625647,
          1.836127449471307,
          2.02393900106207,
          1.9723242438939608,
          2.153261527317464,
          1.8560097117582606,
          1.7067822390118732,
          2.077452661635259,
          2.1895094576682976,
          1.9519931830630397,
          2.530252776191813,
          2.1007338952839314,
          2.4931180503391284,
          2.270511766415429,
          1.9852351688531304,
          2.200165540176698,
          2.003205431183272,
          1.8245603558720211,
          2.0292389216086675,
          1.866812504828461,
          1.95784078244201,
          1.9066523025555102,
          2.551305244082997,
          2.059800518952178,
          1.8269402161405461,
          2.4319306798248737,
          2.157979555721288,
          1.674616496226469,
          1.8885880158266857,
          1.9336415166726804,
          2.1908332332609524,
          2.527096222015957,
          2.994103483803738,
          1.8132765319052766,
          1.7590083660840523,
          1.8381288527186255,
          1.941005625739957,
          2.1040322916703795,
          2.125529418819335,
          2.0756562324525207,
          1.6474786836519026,
          2.078903134813409,
          1.4206445692241028,
          2.295276017307317,
          2.372855416246876,
          2.22886382271914,
          2.4260489861816725,
          2.2824226135746004,
          1.8080864802758234,
          2.2377743620603368,
          1.9524884944807661,
          1.4997109874667256,
          2.2133996901913653,
          1.9502838475781363,
          1.909598704236653,
          1.3773362509688267,
          2.2236315195208887,
          2.042051231699261,
          1.9618151053546098,
          1.6066972340909302,
          2.1544449203640172,
          2.012954046003828,
          2.3488663589475323,
          2.4378650769321273,
          1.867326302327056,
          1.9820033213487895,
          2.207226642740008,
          1.8113589751451578,
          2.181780755154169,
          2.098461225929001,
          2.1020497349620944,
          2.018344513874972,
          1.927893750103545,
          1.757349003668787,
          2.1177300342669447,
          2.254413086838091,
          2.2589796160997797,
          2.00908662362194,
          2.455690397376974,
          2.1369738716719704,
          2.009108574996258,
          2.2579792523677282,
          1.862865053398594,
          2.339386146343107,
          2.4029356139524314,
          1.4826350617292388,
          2.1695288264935892,
          1.7424862751962618,
          1.9331172401206231,
          2.0402777290626193,
          2.185267170048357,
          2.332027646710978,
          1.907965329971727,
          2.0041051422665346,
          1.290804958527771,
          2.4653908261452746,
          2.399314090438443,
          1.617797455797338,
          2.0955989817010265,
          1.6046467619157134,
          1.8812232368179558,
          1.9572632741057903,
          1.840573326910259,
          2.1020013146285397,
          1.9189948503491072,
          1.7829803997006135,
          1.7671063190210938,
          1.921874867115279,
          1.9863292325995552,
          1.7851295134235192,
          1.7577258684528099,
          2.332801586482438,
          2.2175555929644717,
          2.265762554036341,
          2.0479298908734593,
          1.6181577706037344,
          2.4245156984446403,
          2.2308129053437327,
          1.9895171549795436,
          1.8541444470257609,
          1.8937463693744352,
          2.215481368332315,
          1.983801285190899,
          1.8721480532833517,
          2.471196358311847,
          1.8363794109902423,
          2.221081821537429,
          2.215498368195378,
          1.8215737290595513,
          1.5756580529287332,
          2.0069082080449436,
          2.8502816602874406,
          1.6474316702254268,
          2.1587686695092265,
          1.6382561764745933,
          2.407265696067944,
          1.9014101001357726,
          2.019217807537878,
          2.1568774678303364,
          2.021506510283896,
          2.182960343589583,
          2.287346268143275,
          2.1294230774348084,
          2.101962557487796,
          2.2421667679934054,
          2.280317353206218,
          2.1125881463708067,
          1.8354144263715515,
          2.446711639218819,
          1.9466610573771266,
          1.6624522871277363,
          1.9995669297267702,
          1.8357755947723318,
          2.239174383736432,
          1.8905816392243364,
          2.2443601088587597,
          1.6561195337496466,
          1.8134423137310964,
          1.9342213807740283,
          2.2011949141260985,
          1.8781980037234083,
          1.695418820913907,
          2.2308224157848366,
          2.059908064730076,
          1.8738052061331583,
          1.8914936309490136,
          2.112907256901258,
          2.2953264461815297,
          2.281334891523931,
          1.779767741478337,
          1.607398538165428,
          2.0770856029204796,
          1.8521925330625426,
          2.2977671176372407,
          2.1425050461880923,
          1.8077195527065961,
          2.244945831180229,
          1.9718738643482676,
          2.082958497888854,
          1.9278908739375338,
          1.8417358148025131,
          2.2756220723448233,
          1.8195754198484708,
          2.2103083411051943,
          1.965798486665936,
          1.4851034401274017,
          1.456815308020492,
          1.7480901566674716,
          2.1674783167059357,
          2.0209015900589664,
          2.177754990911237,
          2.3083850060513695,
          7.5996986778281554,
          8.42216855788713,
          7.624441322633284,
          7.4502232881696315,
          8.28939949724865,
          7.925638024372693,
          7.82040588798933,
          8.254172380424698,
          8.764487145204477,
          7.792832512200092,
          8.356276338908625,
          7.978685506077281,
          7.927778282982575,
          7.769399540455666,
          7.115112729597074,
          8.479759098142415,
          7.52454409242425,
          8.693525615427511,
          8.831216555752599,
          8.705573426358727,
          7.864675285354378,
          8.589735735208224,
          7.6850468976073705,
          7.703201874209931,
          8.124183155136246,
          7.842554828130848,
          7.625678684524493,
          8.582975994426532,
          7.722893529659531,
          8.100234300067502,
          7.000603343532472,
          8.192941037250645,
          8.13818714471698,
          7.750368819354702,
          7.802939226545159,
          8.040952301037583,
          8.011143832742164,
          7.710271154304553,
          7.674074088946135,
          8.116645634580948,
          8.579832940512116,
          7.116605511057841,
          8.708347155422171,
          7.674270427666534,
          8.880056470265473,
          8.367107912476259,
          8.084328412857438,
          8.061641380893896,
          7.731487908654972,
          8.047121303534055,
          8.215413526547,
          8.394325121993521,
          7.825635186388053,
          7.927171607504598,
          7.998672693854686,
          7.750890674631475,
          6.349782387840987,
          8.1168953424482,
          8.610972925938166,
          8.458213374332184,
          8.338630143856323,
          8.632309502785922,
          8.4439795775683,
          8.252166232880114,
          8.233280910344746,
          7.5184156809884755,
          7.982270350451424,
          8.771006385231475,
          7.280413441745487,
          7.697869886567303,
          7.805900007657107,
          7.36777058903911,
          8.400624700462469,
          7.789866754204325,
          8.20800065214175,
          8.683110045506174,
          8.076598228300798,
          7.627282363280534,
          7.929487101525864,
          7.84962410779612,
          7.539379701109407,
          8.349189746926603,
          7.7906401007564785,
          7.724523805561211,
          8.443158042320611,
          7.539628695296931,
          9.129393267001502,
          8.285947558950795,
          7.965020820365018,
          8.213087036304028,
          7.601407071615128,
          8.365297831556578,
          8.606515395490362,
          8.25637695936638,
          7.179744534611965,
          8.133431338302156,
          8.184965323866516,
          7.727985124271299,
          8.274646808234307,
          7.557978879504198,
          8.67212822072093,
          7.856518124019995,
          8.025100563116796,
          8.304817380087814,
          8.135952837376353,
          7.475711095091132,
          8.134934264707315,
          7.754767576937,
          7.983129064567966,
          8.963611140908169,
          7.44652231548339,
          8.498774393312893,
          7.6859575826807935,
          8.428809904893825,
          8.057559438060272,
          7.499929699480645,
          8.166581833158366,
          8.0385628058997,
          8.56159548598117,
          8.87721275591981,
          8.036549056387958,
          7.455001760398002,
          8.37598062026483,
          7.98456218144406,
          9.263220955284607,
          8.184438395016207,
          8.265462438249616,
          7.598026363827141,
          6.53809340420168,
          7.89999793680097,
          6.954470420364801,
          7.745628314904493,
          8.614752299672482,
          8.51427050762407,
          7.304568524374625,
          7.899360707667788,
          8.71747695363296,
          7.320396192565121,
          7.153122815195041,
          7.981605589030134,
          8.086834938765271,
          8.32648460024745,
          7.911266118172978,
          8.535447526145902,
          7.595149359334619,
          8.302297787188898,
          8.027060792972051,
          9.000924058047046,
          8.932111826091463,
          7.9986216101251575,
          8.35933539882401,
          8.1941448652389,
          8.226179470159435,
          7.510735156610797,
          7.533419591425806,
          7.581922921255227,
          7.859268537420746,
          7.641458850564258,
          7.931819873367159,
          7.8985267939994195,
          8.66563954198278,
          8.10582481654759,
          8.187139935683529,
          8.53522585409675,
          7.886713719649864,
          6.717624069068951,
          7.9350930945043405,
          7.743905592683995,
          8.052918193728065,
          8.229786668208622,
          7.91566769118692,
          7.687428691130901,
          7.642977848193325,
          8.336695224342405,
          7.7958856595086035,
          8.46121633856662,
          8.826432359619723,
          7.675512243095682,
          7.011429977725592,
          7.94731853910483,
          9.230008429914152,
          7.900593708343588,
          7.6060220011682,
          7.64631909789931,
          8.112405068174146,
          8.016222550248388,
          8.084759199789021,
          8.453766235075937,
          8.330794122576133,
          9.072854425770329,
          8.266151821213299,
          7.9535600631167656,
          8.186211697129629,
          8.471396947007488,
          7.802476855352955,
          7.610548858193379,
          7.285242461413266,
          8.286735174395641,
          7.865061306380162,
          8.125699624020305,
          7.8155701497411165,
          8.669808668839273,
          8.26745742504929,
          7.943776869048351,
          7.3489147222230375,
          7.866499947221221,
          8.264704673942969,
          8.073429178759403,
          7.954630519793851,
          8.283075258128541,
          8.476764387574956,
          6.4315552530189155,
          8.480273934182499,
          7.563848433653907,
          8.239922006124916,
          8.356222698221629,
          8.018655939047537,
          7.9879233180455325,
          6.9379979646860015,
          7.773140152183933,
          8.762327771077564,
          7.334462282330664,
          7.972625866898559,
          8.862335596749292,
          8.762061097123881,
          7.49277749301048,
          8.637154053913077,
          8.586514292272971,
          8.467489461745394,
          7.515460824754028,
          8.462599033921293,
          8.288296344387646,
          7.737514031749471,
          7.852358817509625,
          8.170698224911439,
          7.376615385300985,
          6.885366858333774,
          7.561022055903376,
          8.03483511070461,
          9.053257208363785,
          9.02584805924424,
          8.199284393293507,
          8.12787904372017,
          7.787553588350942,
          7.71415699523531,
          7.031144524340309,
          7.233417841863751,
          7.264874795181882,
          7.985744090930168,
          7.6175207488561325,
          8.684968385490588,
          8.3998138032484,
          8.606894675195067,
          7.87174840305197,
          7.5544101705545295,
          7.6117102821780644,
          7.152528271537494,
          7.2851772686934835,
          8.424488587286838,
          7.285309859741639,
          8.349474863735049,
          7.933734286617724,
          7.969658665851899,
          7.776329061882966,
          8.833805922576152,
          8.273976066904911,
          7.577132227673421,
          8.363938606817861,
          7.727365112852469,
          7.438486596107088,
          7.812449806832091,
          8.093807109662189,
          8.419303123645426,
          8.17486493893071,
          7.358205130957047,
          7.93494683634147,
          8.203623468078499,
          8.728210221256248,
          8.043804807510956,
          7.699337933971008,
          7.343312887861126,
          7.089239970446091,
          8.501495959805029,
          7.392507823553413,
          8.636172556248976,
          7.798821389154346,
          8.027591659758604,
          7.558758031232586,
          8.298397286882011,
          7.268962096856155,
          7.703804341473038,
          8.611343313896827,
          8.114327564181394,
          8.185367787248024,
          8.207561846235297,
          7.717674470504979,
          8.81094319383847,
          8.468015958176183,
          8.464880966324625,
          8.342624179577033,
          8.395126057716094,
          8.342795403214502,
          7.766202873928792,
          8.911006093122635,
          7.506562059545283,
          8.087522187475885,
          6.8116303418258335,
          7.5992471130533925,
          7.420311971164905,
          8.027978830204338,
          6.467106620518605,
          8.444614880192422,
          7.86569524920071,
          8.243311280955139,
          7.702030013989184,
          8.346760812025192,
          7.685634570714859,
          7.5897982980873735,
          8.452383601106916,
          7.514397573331441,
          7.616596563620938,
          7.596595988748394,
          8.110921511034483,
          8.125295383953574,
          7.675799868666905,
          8.951348903044194,
          6.78142915526147,
          7.998887146578545,
          7.958932755584059,
          8.227991133635863,
          7.743320753356455,
          7.331842551097869,
          7.665329258121334,
          8.163116424644244,
          9.229692071427777,
          8.904433039416825,
          7.566020086602158,
          7.63610213471405,
          7.702825250189527,
          8.756859178020672,
          7.831128653369568,
          8.116888144995528,
          7.632786032133474,
          8.216468981486887,
          7.856301403600544,
          7.765214012269766,
          7.938680830732951,
          7.694497786180594,
          7.781646665671239,
          8.313114172223155,
          8.735540256385772,
          7.248688463374055,
          8.037345151933044,
          8.049647647770287,
          8.559018188519413,
          7.174886721796059,
          8.054737011600068,
          7.102633182583788,
          7.609572281846334,
          8.490690903412355,
          8.072248987160705,
          7.8421118366232765,
          8.43365776558755,
          8.0227886983367,
          8.870989723727265,
          7.850233714222068,
          7.425357907145228,
          8.432410871597463,
          8.19082291184072,
          8.499255932429657,
          8.043930608790143,
          7.659954366844992,
          8.214571034203422,
          7.433120286613059,
          8.287851280615499,
          7.867494832335318,
          8.275940579258783,
          8.489941852970011,
          7.985741478218612,
          7.928791031740894,
          7.505111327561189,
          7.491289433214102,
          6.9619519478886005,
          8.706992651174007,
          8.591980343659426,
          8.319094227165134,
          7.944592034263474,
          8.164761337826448,
          7.168068288275651,
          7.798244189943529,
          7.5024888445432865,
          8.368966689811687,
          7.972307198125015,
          7.946996507863654,
          7.788229074935041,
          7.309797844401896,
          8.755000652011935,
          9.119561138262961,
          7.951723225443239,
          9.409984012220281,
          8.044079652586245,
          8.590155137689475,
          9.059224674011018,
          8.149958594089084,
          6.9883485455556364,
          8.273319092998488,
          7.621335508295751,
          7.879502710634642,
          7.240400051263233,
          8.35998157087006,
          8.260392058275482,
          7.41638145743871,
          8.270462410898501,
          9.255551655380003,
          7.659679232417584,
          8.658485504161607,
          8.090033059283378,
          8.193723185758973,
          8.56953020652655,
          7.560619404755666,
          8.143819257417336,
          7.679909659807297,
          8.712183001636452,
          8.186081488487885,
          8.84589337149607,
          8.474994259384182,
          7.215921792810957,
          8.619270785956942,
          8.117706725426379,
          8.284757373807517,
          8.777997232343106,
          7.377975351882225,
          6.922160811428917,
          8.380469604626871,
          7.985859508895384,
          7.594195221701247,
          8.54153840539055,
          7.381095321845203,
          7.887860228639912,
          8.63712934995538,
          7.627508989894068,
          7.613294119931556,
          8.74058196190294,
          8.110852033809662,
          7.879765898324925,
          6.927089367973408,
          7.881816012838693,
          7.338103091165432,
          7.75494441898975,
          8.303498832024436,
          8.076388830466573,
          8.297666132970132,
          8.941427708552736,
          7.978864591392704,
          7.250545283104667,
          8.186658447276338,
          7.903443873623496,
          8.006783206385366,
          8.856775488381855,
          8.843292406400598,
          8.0621035687916,
          8.126274288957887,
          7.885915850824433,
          8.085524452189143,
          8.123065952733146,
          8.415299109401222,
          8.454270629714422,
          8.506291296133634,
          6.710867570178257,
          8.390367899138656,
          7.681571462678136,
          8.39177279460973,
          8.614612321659736,
          7.769219122821486,
          7.786424751225543,
          8.455111088434172,
          7.945593928823209,
          8.1045876143923,
          8.257324924920416,
          6.554758790541929,
          8.434376806160277,
          7.626692738014672,
          8.66025402622849,
          8.35912040857726,
          8.625670533789263,
          7.551659688789703,
          6.8362129148323865,
          7.600750862387826,
          8.28486948081985,
          9.129567761551005,
          8.064902715127685,
          7.87416858474783,
          8.470895682926754,
          7.6911168130952605,
          7.839150561125817,
          8.557066251431115,
          7.832927389116089,
          9.093384529108699,
          8.125189475535002,
          8.210310550166058,
          7.731024936335791,
          7.5883644782308,
          7.264738017092756,
          7.665957463672572,
          7.449420150622483,
          8.818125860443407,
          7.703197658980733,
          7.3098963614822186,
          8.882889601579155,
          7.169254187078007,
          8.340545957422009,
          7.832006581106621,
          7.17942894447107,
          8.273097036272947,
          8.287194155346047,
          7.5800100736993405,
          6.891494902415976,
          7.626470072506802,
          8.52807381192107,
          8.149495916436244,
          7.05037023940705,
          8.902018639026652,
          7.452481579494732,
          7.736414983999309,
          7.399574075663249,
          7.4441994403369165,
          8.008233719769327,
          8.413553999424323,
          7.816835227997719,
          7.559520621654985,
          7.81331396352352,
          7.978788290078142,
          8.407287137472633,
          9.007913948984728,
          8.201122888579178,
          8.041849549045166,
          8.667051130027167,
          7.583308528002087,
          8.540423061353446,
          8.287846735766761,
          8.725153089216896,
          7.921235501438422,
          8.460660333340355,
          8.0745438582275,
          7.740421689794406,
          7.032158920935071,
          8.252904096545707,
          8.3987146742919,
          7.791995678759905,
          7.952824236732611,
          7.901944627439905,
          8.190164656115691,
          8.031415891641462,
          8.899206321727409,
          8.63613578124633,
          8.06082318339077,
          7.770541965301134,
          7.47760414681332,
          7.9945677181309005,
          8.495196007973721,
          8.43451112484908,
          8.657045572839648,
          7.808881001086771,
          7.415704629638622,
          9.04843534596182,
          7.466655468229108,
          7.688400523655672,
          6.710753537441034,
          6.723733023944248,
          8.338441065308404,
          8.42246021596343,
          8.399858167960573,
          8.393438326292989,
          8.558986892559506,
          7.742913795595767,
          7.867114652126929,
          7.583593769929273,
          8.567295618992143,
          8.477097726051944,
          7.291361817222488,
          7.834906322347999,
          7.440788729014969,
          7.380101584722,
          7.50633516104688,
          7.55981412892389,
          7.645835314676477,
          8.242482828009859,
          7.740202897184422,
          9.103577214785082,
          7.365193602776656,
          7.747720076521688,
          7.350281768229817,
          7.885735574026469,
          7.4858386275845215,
          7.9292582067688215,
          8.143621193641826,
          7.494336125021327,
          8.27624217258499,
          8.199098225342137,
          8.39419894912227,
          8.53014474744885,
          8.324702682569981,
          7.3185263219354075,
          8.03744402502154,
          8.572473106990381,
          7.486611441344692,
          8.633736848014003,
          7.824419048474131,
          8.076705959711747,
          8.338492717341119,
          8.507988963956109,
          7.9374460137448875,
          7.512133839246393,
          7.742310044027064,
          9.200086334499666,
          8.953933104724086,
          7.825446936101378,
          7.099133235637297,
          7.684185449841772,
          7.427201305209023,
          7.528404105331709,
          7.788197185900768,
          8.619057220226988,
          8.042925258554567,
          9.049990868538577,
          7.699264682830886,
          8.274821454466293,
          6.981206706339707,
          9.084913249721543,
          7.931606798135287,
          8.927775261308234,
          7.213998232168021,
          7.487176075822078,
          8.425073787697281,
          8.406593313274863,
          8.434421653840614,
          8.050984352394416,
          8.486454443663636,
          7.673884879167571,
          8.102836499356778,
          7.522819076671461,
          7.116133986484449,
          7.350702974521633,
          8.1931988521489,
          7.879424901899537,
          7.317533991113146,
          9.24190081628211,
          7.362884170445291,
          7.88319855289886,
          6.90537077669463,
          8.924075347085074,
          7.655205645633296,
          7.647403501618032,
          7.944377478798946,
          8.165407308755746,
          8.740463301102286,
          7.7483055949035835,
          9.047479645123415,
          8.052351258456389,
          7.983672502683712,
          8.190043903545536,
          7.516788309482489,
          7.62239294870855,
          8.486573754435518,
          8.378911570593433,
          8.817799570982856,
          8.028965350528091,
          8.137025598990663,
          8.27091488800551,
          7.666753402155496,
          8.663394024839578,
          7.369763801400137,
          8.199847354979317,
          7.768651397425214,
          7.98619931157685,
          7.745561167612372,
          7.6856825345609305,
          8.682987107802754,
          7.68985928776449,
          7.5864086552400885,
          8.376657116435057,
          7.923792473422337,
          6.847832595974441,
          7.789286471877009,
          7.868893169721464,
          7.385780330293523,
          7.574908700271667,
          7.426614804364463,
          7.965068130506878,
          6.893541658246187,
          7.900551589299239,
          7.659728847668688,
          8.01770864375626,
          8.065312932075612,
          7.956205582099827,
          8.044368973174372,
          8.147484351025708,
          7.570754136358738,
          8.358009565246224,
          7.376906085371841,
          8.20927327723775,
          7.77674272923288,
          8.06624249148476,
          7.560134145785078,
          7.3293578057550794,
          7.715552309418432,
          7.675507020072182,
          8.355161693441003,
          7.380249368929597,
          7.804445638977374,
          7.8490090555364365,
          9.001618316006919,
          8.03062809746148,
          8.650689653070966,
          8.268650430211132,
          7.295665571648713,
          8.277599897078655,
          7.604736665100804,
          8.524237171993695,
          7.986967057634067,
          7.6823927410080985,
          8.82138010577634,
          8.66642131760716,
          8.311925862050204,
          7.805990379101793,
          7.235867754002356,
          7.766779270265593,
          7.52182176301006,
          8.268441304154015,
          7.628995652338548,
          7.744814822776895,
          8.440600137371185,
          7.238523219167087,
          7.082444902862474,
          7.237068918815471,
          7.336138222663828,
          7.788031506347474,
          8.176721221898585,
          7.87100182743499,
          7.609863071124054,
          8.203126210091977,
          8.449168328113547,
          9.043363559331741,
          7.953651843129957,
          7.817546101909949,
          8.244381406300185,
          7.84162685228182,
          7.454787592303261,
          8.008836202213123,
          7.706187059826461
         ],
         "xaxis": "x3",
         "xbins": {
          "end": 10,
          "start": 0
         },
         "yaxis": "y3"
        },
        {
         "marker": {
          "line": {
           "color": "black",
           "width": 1
          }
         },
         "name": "D",
         "nbinsx": 15,
         "type": "histogram",
         "x": [
          6.353089945470574,
          6.075657176939433,
          6.234637739003148,
          6.136843623178371,
          5.490323160296228,
          6.271136401860637,
          5.831007116301721,
          5.435201113730857,
          5.818749945038462,
          6.529599415985712,
          6.075686750528246,
          5.699167260462256,
          6.152309422347421,
          6.182027948792515,
          5.5449163418241705,
          5.165619982607854,
          6.227606159893489,
          6.030417813652434,
          5.036640629302716,
          5.36329620845048,
          5.683172879500674,
          6.332497845027327,
          6.398329587311098,
          6.261380516511892,
          6.295793658706381,
          6.2388608720559935,
          5.138081656468333,
          5.992917491237347,
          6.843437665294175,
          5.779562264152514,
          5.755567434381229,
          5.783866014403168,
          5.780021726210364,
          5.807986058117851,
          6.115284797415717,
          5.027390121967931,
          6.611808410859811,
          4.6575588701416,
          6.4719769442700725,
          5.6590433005301835,
          4.874743734789969,
          4.882039581013098,
          7.2365657109689145,
          5.845098740545461,
          5.772167483023278,
          6.726210654915828,
          6.1532217436573475,
          5.860426275689229,
          5.967226031578437,
          5.611988215483982,
          5.2320771736964256,
          6.534362677449452,
          6.5184210095956026,
          5.79699611432694,
          6.444117935756619,
          6.335927468973504,
          5.801404893087798,
          5.718058785567194,
          5.888538198415407,
          5.4139942744281875,
          6.036760022447735,
          5.985344695235904,
          6.399362482928919,
          7.008312955118213,
          6.178189047986407,
          5.715063273470127,
          5.810820878037182,
          5.591695772096843,
          6.849055902652329,
          6.153891828877295,
          6.134403839830262,
          5.913132603263978,
          5.530601124540066,
          5.845335182535787,
          6.455198169246985,
          5.7229395092201045,
          5.720516573284751,
          6.8141139090708265,
          5.611110542205701,
          6.4071501523040775,
          6.1429867681947785,
          6.867759528268781,
          5.329313399687738,
          5.994985755239664,
          6.183971657090681,
          6.372264963612025,
          5.87421917102342,
          5.449320110124355,
          6.174594731361461,
          5.334456841270381,
          6.455081276989138,
          5.106022833157234,
          6.502601033015283,
          6.070234299767817,
          6.413362046653013,
          5.436284322303389,
          6.126777939180137,
          6.747862091019072,
          5.625164481711592,
          5.589044791749304,
          5.3212197082775985,
          5.446728954303939,
          5.855796093311591,
          6.123747093199823,
          6.23242180362728,
          5.587221138733389,
          5.433740654674918,
          5.671093611805065,
          5.590033707884915,
          6.642083247151339,
          5.523354080446521,
          6.134474386900395,
          5.900504956901987,
          6.141159180280069,
          6.6313236067318915,
          7.120230372751587,
          5.956159776516617,
          4.934632033253578,
          5.46125551146907,
          6.193308954673397,
          5.365148281873008,
          5.2827737981387495,
          6.281839152313777,
          5.632845686624697,
          6.689248432048769,
          5.923139911976959,
          5.830107764459497,
          6.429706885940686,
          5.395071118806419,
          6.205005750632118,
          6.850106159549652,
          6.971826167979264,
          6.065775754770247,
          7.231107316819703,
          5.522075503618989,
          6.467407878479774,
          6.907579077043103,
          5.748938646498388,
          6.003635946793689,
          5.24340028681388,
          6.461311374614448,
          6.05741646137286,
          5.985772408493695,
          5.516027768351727,
          5.842900800446148,
          5.829693189325184,
          5.882159414849464,
          6.795572925083035,
          5.729556060326209,
          6.297619440624193,
          6.034763592674033,
          5.947514242077119,
          6.232649393762148,
          5.762778590345066,
          5.922397869600134,
          5.701516751420213,
          6.190803557379816,
          5.78176532687308,
          5.677115611882387,
          6.111206942272119,
          5.37861747857264,
          5.818928548673601,
          5.489364520829129,
          6.787776330691938,
          5.6200664341448,
          5.146449690703461,
          5.8631396308740396,
          6.928534618236967,
          5.995937279497579,
          6.090480367243232,
          5.43562561814467,
          6.495678556998686,
          6.193084653651908,
          5.489106513008558,
          6.442718916302273,
          6.335764473917049,
          5.874574435850527,
          5.9489170069002375,
          5.657880336130207,
          5.7202874461349795,
          5.716086894201292,
          6.268294935589812,
          7.400423379934861,
          5.866989428997039,
          5.925317059740102,
          6.2278676252932605,
          5.779736973918009,
          5.698075810625192,
          6.266633948797261,
          6.482841177334173,
          5.777829732346517,
          6.476764457214847,
          6.260589473691366,
          6.465404705359291,
          5.468757454334651,
          5.52294954376985,
          5.711428061570246,
          5.332806375530818,
          5.1852301276659345,
          6.34425128387518,
          6.605464089030191,
          7.079172964505018,
          6.472896927907003,
          5.78440583001154,
          5.242714990641954,
          4.956332866759585,
          5.839364500398028,
          5.495352462937586,
          5.88283673805499,
          6.1711872931378595,
          6.080944189699207,
          5.896137204723493,
          6.161160127727959,
          6.067978706805805,
          6.043644096957795,
          5.883674607700433,
          5.289556938888699,
          5.821913453042172,
          5.463279406316833,
          4.719799388034254,
          5.175083090609114,
          6.084629700641253,
          5.262312501190006,
          5.961441314817061,
          5.765855706828929,
          5.133187722811327,
          7.007615647969574,
          5.750896915788551,
          6.316816666286754,
          6.1976140166207,
          5.899542079145526,
          5.6551533614319,
          6.427271642110652,
          6.602232641551444,
          6.633348080418931,
          5.013702708138894,
          6.607475725702961,
          5.972130136655485,
          6.4213485540239335,
          6.491790510608461,
          5.5655684438424995,
          5.879114895378592,
          5.680024298540946,
          5.429063443163719,
          6.410691394421354,
          6.319951912276802,
          5.607005747834575,
          5.8912239648552625,
          6.2251965205545154,
          5.058657525286656,
          6.710348637993092,
          6.181017019357605,
          5.820334348275032,
          5.88831781431412,
          6.539527086122849,
          6.229872279684662,
          6.1982602617118605,
          5.967334120203313,
          6.473249714561322,
          5.563801224243082,
          6.3331373126080885,
          5.812160484133633,
          5.242258148522014,
          4.8684028182647445,
          5.988194967541584,
          6.101907798478101,
          6.014807671518004,
          6.336309631578407,
          6.0047926995187275,
          6.3810041739928,
          5.40781045086984,
          4.989271924351074,
          5.782456607402288,
          6.009443861343613,
          5.8576643143523,
          5.403177779869763,
          5.958421775255013,
          5.960162520168612,
          6.411949170986543,
          5.917353602482654,
          6.081395693820799,
          5.643855865755988,
          7.187315886608616,
          6.064360806100806,
          5.3020248346374235,
          6.141150715706895,
          6.065891279316879,
          6.246706678512578,
          5.427397303732081,
          6.530663383062362,
          5.7813770940202245,
          6.6229029684561365,
          5.755809691881876,
          5.2228416883877555,
          5.923385733346104,
          6.119709031997979,
          5.605225290562068,
          5.686405463886605,
          6.172737894804855,
          5.376560268326708,
          5.826933435960744,
          6.7083584189526615,
          5.837788423108529,
          5.720507278662809,
          5.104753170746024,
          5.835196012325037,
          6.757572413559695,
          5.6535354171676815,
          5.468110334137161,
          5.147083553252965,
          6.147584089467032,
          6.572640684479194,
          5.708421100716151,
          5.766666062005894,
          5.541364390238428,
          6.033179763004912,
          6.3541308251096345,
          6.0414109860780165,
          6.2102646658112635,
          6.1932407075138975,
          5.77012119746821,
          5.879930122569977,
          5.754637053213078,
          6.161550317696538,
          5.643522990945217,
          5.567463112520788,
          6.4260993085892855,
          6.04637522663376,
          6.853419615171822,
          6.204874275725157,
          5.45076299260273,
          5.936238162035929,
          5.965509188460652,
          5.825827374820716,
          5.766791818125848,
          5.431623624523439,
          6.192924955853276,
          6.174818083331894,
          6.087827903459856,
          6.378763118204302,
          6.0077197784761545,
          6.556685019912406,
          6.838047366487615,
          5.127778237350897,
          5.254933323996683,
          5.946666693748358,
          5.88774951724442,
          6.26640915942725,
          5.3266738304151335,
          6.5011066462884415,
          5.502467624690728,
          5.16272701677275,
          6.411258960387933,
          6.100124445879308,
          5.551152950405715,
          6.087713449333802,
          6.405283096085053,
          5.585210516816418,
          5.746635339033432,
          6.181446361714232,
          5.56576147280305,
          4.788657292785134,
          5.761299410083615,
          6.734760098334603,
          6.021464863316107,
          5.827812229650222,
          5.836546687507369,
          6.341338458307776,
          5.766193973793576,
          5.360234456216185,
          6.460551733408703,
          6.10924320657026,
          5.720127505593137,
          6.133385888952354,
          6.448998750487264,
          5.87394896624114,
          5.592653426436703,
          5.630050199512054,
          6.078179381837281,
          5.902707925102528,
          4.984741073927669,
          5.099592539753131,
          6.391967444663738,
          5.988779544659224,
          5.419477853084259,
          5.691132110773884,
          5.869970201831629,
          5.42876295790318,
          5.840125672726937,
          5.363033674961916,
          6.321118459378243,
          5.567703097123731,
          6.247189756555227,
          5.9936892131676345,
          6.471689698768804,
          5.587201343567104,
          5.434366442211863,
          4.957444630591803,
          5.7384747756630015,
          5.285346983199308,
          6.031067396626646,
          5.382913745436478,
          6.478433145438949,
          6.006522182395666,
          6.125732966114155,
          5.909616841689965,
          6.195601383551778,
          5.799380678066218,
          6.072761063833439,
          5.944808740692129,
          5.710526687038474,
          6.584810882481596,
          5.988192546796024,
          5.61571558957121,
          6.124093657418587,
          6.228739146412756,
          7.294174925180327,
          6.022588557491696,
          5.724804531584937,
          5.972393386518187,
          6.193895396065894,
          5.642792075853196,
          5.831560761508183,
          5.717960920865417,
          6.34475909085803,
          6.1279576254679435,
          6.367762785832821,
          6.660625707936808,
          5.6223197141515655,
          5.217654050463066,
          6.397287267456616,
          7.236092648701927,
          6.653767679096919,
          6.042037952884333,
          5.9424180398696,
          5.7217710357838945,
          5.941931870775581,
          6.173279937517584,
          5.576994922649703,
          6.184600153187082,
          6.489576239884029,
          5.4355309367641995,
          5.421978794657844,
          6.5797773528461425,
          6.690711181316414,
          6.8722597207160945,
          6.297629212373264,
          6.076296899087615,
          5.751394579197319,
          6.228379593905301,
          5.178129568163149,
          6.222747932224501,
          6.2696966632283795,
          6.400839298891662,
          6.323633916734634,
          5.71006058592681,
          5.385020880514678,
          5.442271735850031,
          6.542938331580213,
          7.343611442293639,
          6.7345981337510334,
          6.177573802695954,
          6.0662925231795874,
          5.976767515494359,
          4.869637431274847,
          5.880388869503153,
          6.143961708731732,
          5.901625638746897,
          5.255864031403704,
          6.285358298506548,
          6.212412222648414,
          5.665239156313801,
          6.198507941385536,
          6.558447308055099,
          5.619549137675155,
          4.958744609313543,
          5.71128907892136,
          6.2255885641373805,
          5.315514979431279,
          5.969203168034197,
          6.016015168421224,
          6.752725105760008,
          6.2209185226799155,
          6.460166095374901,
          6.0183562992107005,
          5.973935325179745,
          6.005948049926638,
          6.8288150455003125,
          6.08491497261146,
          5.726949841715579,
          7.194736910138101,
          5.139194652125261,
          6.198031452677901,
          6.381946673970544,
          5.61574035609022,
          5.985446865687398,
          5.475257483179404,
          5.81403768086521,
          5.825768205248739,
          5.18878352923008,
          5.567958559099969,
          5.646193899854529,
          6.866428198509069,
          5.982484361478956,
          5.1327397271922885,
          6.160017106579029,
          5.6249333694755475,
          6.576375077896718,
          5.599106473863503,
          5.7240127841954855,
          6.265492802046973,
          5.57694794577923,
          5.997277252839395,
          6.6101086684791905,
          4.837146548335346,
          5.475570608446725,
          6.211035724824724,
          5.805730763326061,
          6.345894262572769,
          6.384640530612414,
          6.29132938249902,
          5.747181567709727,
          6.864743999681241,
          6.082695957960711,
          5.873697941539219,
          5.275794947026252,
          5.737241719242186,
          6.49548870870134,
          6.210280901619954,
          6.1996200155703205,
          6.277919033953876,
          5.953130848320059,
          6.439378630281716,
          6.81973889448108,
          6.102203516558813,
          5.601772300518053,
          5.7298524563022974,
          6.225404684196377,
          6.020171330054694,
          5.771016357101673,
          5.050897442134854,
          6.24838181679702,
          5.770679031534904,
          5.945710511895631,
          6.4196628438942165,
          6.042247933422303,
          6.911251609604988,
          5.5256249287561205,
          5.841325512759694,
          6.496024740595713,
          5.5148193394127984,
          5.642432152145445,
          5.377067877688649,
          5.939778953011645,
          5.222808160100847,
          7.185660059386155,
          5.491264134476513,
          6.260384055845458,
          6.065392815453133,
          5.816560429862833,
          6.093421748633406,
          6.654650807697478,
          6.070059795069021,
          6.305221970947316,
          6.718111830090758,
          5.9208683598469785,
          5.7654699996331855,
          6.276119903860227,
          5.556564177211974,
          5.865268532006026,
          6.602056220165522,
          5.510130042805646,
          6.338858605330551,
          5.784137505510425,
          6.151554906065227,
          6.472335761462637,
          5.668642103957483,
          6.7553082277792535,
          6.26950199081676,
          7.006807663667095,
          6.67549173975797,
          5.983954190238594,
          5.337885851019226,
          6.748843750936164,
          6.729261458595617,
          6.160490945655646,
          5.589778364100247,
          6.28265341591519,
          6.461186801283951,
          5.856138853501166,
          6.791812411648478,
          5.606345065522952,
          4.798192998541371,
          6.509430718026858,
          5.272206727421039,
          5.641339133792581,
          6.0742713308555505,
          5.344743164476706,
          6.704827737802231,
          5.477610149928787,
          6.470528666169542,
          6.306059553425467,
          5.37063726637159,
          5.821532107612383,
          6.200606060171949,
          6.199069207581293,
          5.870038540751124,
          6.64878137985283,
          5.957650029094522,
          6.369809323495683,
          5.883751117866862,
          5.698511754805732,
          5.257515854154903,
          5.9229324841197695,
          5.9576555504813875,
          6.4179493436381465,
          5.8260480989844075,
          5.195783724049368,
          5.796332633227172,
          5.624453878676202,
          4.962672168813795,
          6.63178262780578,
          6.083405193999745,
          5.9074528874424255,
          5.65131514519641,
          6.7118416343612655,
          6.447945331222889,
          6.633234670840191,
          6.061415137089752,
          5.5998373764748175,
          6.035928246645427,
          5.268415452894068,
          5.975928626752159,
          6.281428018207514,
          5.971703134264614,
          5.489867035952407,
          5.575606853798133,
          6.337712631968678,
          5.873812745046456,
          5.8999485275997126,
          6.317870785169505,
          6.277593278998929,
          6.066137215058738,
          6.726422894471594,
          6.270596616490529,
          6.804169333884958,
          5.158996761958864,
          6.016160309141644,
          6.043999721486896,
          5.370613755555019,
          5.584713740329719,
          6.8955534844160615,
          5.235696933673627,
          5.849774063121185,
          5.367029265273948,
          5.777890455592115,
          5.953822908959707,
          7.042435412655546,
          5.712983146214085,
          6.664212615591369,
          6.372928056391244,
          6.917455241309441,
          6.681971286669571,
          6.0699839142556815,
          7.642055618126547,
          5.800972435298531,
          5.792579460092373,
          6.034615181100635,
          6.726753604787154,
          6.0258025101588135,
          6.091277120092441,
          6.425906692250969,
          6.736407811716113,
          5.8105841403011445,
          6.081221141941433,
          6.1475068604912675,
          6.712739274021151,
          5.544972781754304,
          6.13396539256941,
          5.919722056803753,
          5.862803974729797,
          6.5720677998870105,
          6.619170938108564,
          5.558428891854584,
          5.583778907439796,
          5.404390807850748,
          6.8214901223695685,
          5.541696078732641,
          5.684370991036649,
          6.37575084934362,
          5.698617471652208,
          6.093867212398191,
          5.943423874437576,
          5.980613785684131,
          5.663651296961191,
          4.9419727105721165,
          6.220965397299461,
          5.894755294809297,
          5.09005068775396,
          4.997175009113887,
          6.054331451401707,
          6.37423099837621,
          5.957387820107322,
          6.753753031383412,
          6.976443297664044,
          5.806497407422852,
          5.519855333345337,
          5.406409615708208,
          5.431841823443836,
          5.763990900472947,
          6.107920710445349,
          6.228303103564687,
          5.739062088990765,
          5.695800668800986,
          6.653875112062954,
          5.921491316858852,
          5.956303033649937,
          5.400880309092605,
          6.097587360747847,
          5.867172072088366,
          5.740327845964185,
          5.5822740764746595,
          6.052258145620129,
          5.7948056480293975,
          6.372641576580125,
          5.371945209038893,
          6.32966257915094,
          5.1133256508088945,
          6.508024078523043,
          5.858666640918237,
          6.221635981323647,
          6.394403232217944,
          5.67024466627833,
          5.27791240768552,
          6.365833865581538,
          6.156213887418137,
          6.18760529443466,
          6.343290955213729,
          5.73295102475241,
          5.117182734577035,
          6.378637162448038,
          5.8988392375284695,
          5.277431184728174,
          5.646875495811567,
          6.527413303411089,
          6.00001493113382,
          6.760480622705858,
          6.070682688144526,
          5.287599105833955,
          6.336095939339018,
          5.997637524503916,
          6.073873695419582,
          6.544046490251147,
          6.544984195383972,
          6.028514179879753,
          5.6193070520485415,
          5.604067991467207,
          6.765180016216568,
          5.650189379662017,
          6.4038478261172,
          5.6447837418654805,
          5.952550431715531,
          5.442963286400907,
          5.3529568739520474,
          6.2148815438535,
          5.886718372175541,
          5.565387199162613,
          5.859652091618704,
          6.856708743181113,
          6.7128375392901845,
          6.039302107695284,
          6.805802040853551,
          6.092626254700007,
          5.883509215216957,
          6.1580677219018485,
          6.42880304423908,
          5.614233227249467,
          6.427120530442128,
          6.110947720942651,
          5.816773550509115,
          6.7656730142299555,
          5.723459077949972,
          5.653531259303261,
          5.885396001472467,
          5.911156011190363,
          5.87226639354444,
          7.256108824978661,
          6.00247523362192,
          6.031854133801931,
          5.65298683269821,
          6.246285466491207,
          5.884364377920414,
          4.954702611662771,
          6.841529101819068,
          5.837998189778168,
          6.7969193927738445,
          6.056415561832113,
          5.828740815208451,
          5.644787837255466,
          6.667954048507038,
          5.617393707325864,
          4.950216189410186,
          6.15412409115488,
          5.8842795742040135,
          6.678259865114405,
          5.927724080044684,
          6.0211340980067085,
          6.389535421596936,
          5.70293565687516,
          6.608739715047506,
          6.190561479697679,
          5.996946628602193,
          6.431269563203289,
          5.940689377272567,
          6.074624034541433,
          6.140394694376464,
          6.374556918066725,
          5.905668738093008,
          6.717424192472594,
          5.833004396299131,
          5.257802192905476,
          6.245999732415652,
          5.917352325679752,
          5.150230823567969,
          5.783911285526479,
          5.846141385381007,
          6.031219839509258,
          5.86375211708542,
          6.576400031040613,
          6.255886147534349,
          5.772516377984676,
          6.9564081450207045,
          5.7751015640298355,
          6.668686348451907,
          5.694565846434259,
          5.378646040065203,
          5.675689009737247,
          5.954194385719676,
          6.466334910973789,
          6.169954906952155,
          6.29300688285945,
          5.354022157810648,
          5.996137034884721,
          4.756151448918629,
          5.680291208938464,
          6.172185002652489,
          5.795271475837103,
          5.802948629185173,
          6.554354369995697,
          5.895224278743031,
          5.7488969847818145,
          6.317635064850201,
          6.186984925488803,
          5.646082453043913,
          7.078340914972598,
          6.229980312090523,
          6.067211041788196,
          5.309882810500936,
          6.135723106201359,
          6.187793502406057,
          6.800600486572702,
          5.658182226316227,
          6.137382467812698,
          5.587509981239653,
          5.971593378178427,
          5.725119894198776,
          6.2892957298838,
          5.90582011543334,
          5.78612967501198,
          5.381396216453157,
          7.182866120006622,
          6.340365522781524,
          5.689702783848274,
          6.312135129589276,
          6.258570414990201,
          6.058658078690641,
          6.33329725476848,
          5.940918330241316,
          6.981802396690886,
          5.086096699508046,
          6.246578382722964,
          7.1066777352714485,
          6.243111370019259,
          5.942699390609709,
          6.741521260298746,
          6.03701979332004,
          6.2753716693589405,
          6.03154026046289,
          6.359150131747793,
          6.361743309782376,
          6.549001143341687,
          5.847299733704169,
          5.964555256249715,
          4.994724158590229,
          5.624000248187784,
          5.888927027343291,
          5.479316982462607,
          6.22972496525006,
          4.813686313169749,
          6.9895745966954355,
          5.283418777796904,
          5.919565053913615,
          5.379296110966776,
          5.949883187931223,
          6.651162281516712,
          5.738610947658557,
          5.881461151487841,
          5.582836806944428,
          5.545103504907111,
          6.0649930793069196,
          5.818243428280103,
          7.207361848923366,
          5.414988085164323,
          5.973190177147511,
          5.7428526572853915,
          5.849604218256604,
          5.405387761181973,
          6.358619045031748,
          5.277054440321258,
          6.095494401032301,
          6.097467319957718,
          5.96994899922918,
          5.907867120843936,
          5.598892162261782,
          6.3008563226283805,
          6.611327608410931,
          6.192381638094649,
          6.275685447552002,
          5.315319329643073,
          6.588472656486132,
          5.869088219464235,
          5.679181778070882,
          5.815510001506128,
          7.420353448740901,
          5.67287844016083,
          6.401607514620644,
          6.2693294168608915,
          6.726084336059325,
          5.827183100588407,
          6.080105364253831,
          5.078207834374287,
          6.120806118376918,
          6.7101376191032625,
          5.739285371589768,
          6.032996785722174,
          5.989395626252187,
          6.182670184219452,
          6.2480641017047365,
          5.197484610446277,
          7.2592012390509915,
          6.060021763419589,
          5.7499317895944895,
          6.146455133793742,
          5.031032016243018,
          6.088276398479882,
          6.411607344634891,
          6.797915298746373,
          5.594285548696385,
          6.095669529921945,
          6.535818382694966,
          5.817434212953212,
          6.224306849260547,
          5.900499750540473,
          5.1846924594822665,
          5.495446692396745,
          6.60074958921593,
          6.2064934389330615,
          6.56638805739735,
          5.579004092517307,
          6.2414721056250135,
          6.477342656351484,
          5.795556750929909,
          5.969320920372626,
          5.34147683769663,
          5.449482846155181,
          5.39657866160778,
          6.07289291112894,
          6.58451007870935,
          5.420643353283666,
          6.3355581043267435,
          6.228644775726328,
          5.951452263391831,
          5.953094263381607,
          6.544378006163331,
          5.4074113025017665,
          5.995713384569789,
          5.741193405227005,
          5.927218300616319,
          6.224244925243677,
          6.289069998232926,
          5.354509445785808,
          5.785348804994294,
          5.6292858358536275,
          6.260361619104066,
          6.029056693962582,
          6.221889267535171,
          5.939382055355931,
          5.775350775691005,
          6.347482192237188,
          5.660906584374733,
          5.832890460534905,
          6.588675575487216,
          5.429206326737194,
          5.635989542751496,
          4.658592527347161,
          6.097750150324584,
          5.557777286811769,
          5.5899597796087095,
          5.996563108662113,
          5.809376861959003,
          5.46505964403321,
          6.0105715286003285,
          6.948591006326824,
          5.853739188499365,
          5.490549382832342,
          5.894915021759983,
          5.840901159095818,
          6.089113169457891,
          6.370701336075522,
          5.225071735383999,
          5.45647151987255,
          5.888072302001334,
          5.81546102509291,
          6.333851795897919,
          6.288042155159984,
          5.998851501254592,
          6.5189008879928,
          6.041973467512556,
          7.046195964956442,
          5.81951666644538,
          6.1684137065052935,
          6.068545324277431,
          6.409631565020284,
          6.143299833061894,
          6.208907569985788,
          6.287555324376684,
          5.9313880378732176,
          5.705764275420983,
          5.965039168663727,
          6.322521089715844,
          6.034867656760732,
          6.407366812654773,
          6.153837221829936,
          5.460191992345809,
          6.197346293065338,
          5.911509793671146,
          6.733211160283796,
          6.040880208393168,
          6.5205325069990865,
          5.445091044531807,
          6.020555845867823,
          5.3967724905682495,
          5.726144003032962,
          6.1195040900415405,
          6.1539254237330905,
          6.393162634397416,
          6.182368879221424,
          6.082531710796041,
          5.653985905574195,
          5.4781658901450365,
          5.350267798013956,
          5.3986042495017665,
          4.997637663596634,
          5.710202644016709,
          6.212347500603987,
          6.159565804135052,
          5.7933196246096825,
          6.177741751763518,
          5.61665609534185,
          6.751123232491571,
          6.450748222588563,
          5.965798871183707,
          6.16933930841532,
          6.810328937199605,
          6.675283462731858,
          6.142075853861954,
          7.044625342095458,
          6.3473126449267605,
          5.82110749839932,
          6.494499411911718,
          6.153581704789386,
          5.370648643149648,
          6.009145181972129,
          5.165008108282746,
          5.8651030410116185,
          5.858802722648981,
          6.430742911690229,
          6.798538041328776,
          6.953162148287796,
          6.007427212627411,
          6.091588006070084,
          6.054650334409495,
          6.707708614573226,
          6.379404385211996,
          5.988346688276804,
          7.265793614363155,
          6.055315238795475,
          5.737773063054102,
          6.714282287946063,
          5.948358514190173,
          6.411735003693982,
          5.423593259088103,
          5.044633857046577,
          6.390573575709845,
          5.38611352376961,
          6.50448696731011,
          6.799981658960444,
          5.770974205988042,
          5.670235723966356,
          6.040694654152796,
          6.344829427657709,
          5.7236613366325635,
          5.149767350350664,
          6.422279792948735,
          5.645662203995215,
          6.3190924453732,
          5.892029653993717,
          5.890627439082866,
          5.983563282590974,
          6.209000332847552,
          6.087760920093448,
          5.202566041683456,
          6.0351476561918584,
          5.530706929319983,
          6.0568154049335154,
          6.374761339730368,
          5.537670019502938,
          5.760101268770915,
          5.557296284803643,
          6.2490718592979215,
          5.7415776315091716,
          6.029618880916087,
          5.8579898427718575,
          5.919575745777261,
          6.010694371868444,
          6.38127030512505,
          5.97776364817364,
          5.978596896825591,
          5.029911064206575,
          6.383764610152987,
          4.706780432463482,
          6.292696424924552,
          6.206125616840335,
          5.747648483054523,
          6.85852650137744,
          7.006303735011874,
          6.281419867035062,
          6.457435978678987,
          6.690539872025529,
          6.491051737855674,
          5.5558419625483095,
          6.189723370464884,
          6.295280049128849,
          5.966590836546056,
          6.0207058569410865,
          5.931867746146145,
          7.15240662889289,
          5.943365082147063,
          6.180893478616193,
          5.898172919582058,
          6.052637530188335,
          6.377795111218658,
          5.351954924025045,
          5.673515442250772,
          6.112160464797584,
          5.782383949739111,
          5.176665533498243,
          6.594474910030025,
          5.853712978408949,
          6.125168868978388,
          5.66821783204486,
          6.095029527587615,
          6.319797769408094,
          5.036976614765303,
          6.326612923031725,
          5.503659287197017,
          5.481702233265226,
          6.279719840902389,
          5.705564364820894,
          5.778281266394265,
          5.958163504425285,
          5.859452006155991,
          5.98715726147088,
          6.024632710505195,
          6.602049621728656,
          5.7070920153209235,
          6.348793437355143,
          6.120042569566274,
          5.137311353134139,
          6.181870778264756,
          6.122298778972202,
          6.250743880264779,
          6.0369172989133455,
          5.926737089954181,
          5.565227310534977,
          5.84884182906359,
          5.870775232054989,
          6.137752247901189,
          6.059864449698888,
          5.636078802978307,
          6.970993916634676,
          5.624200785187816,
          6.812157166811405,
          6.8327383045259555,
          5.567117084379326,
          5.807486178125492,
          6.385224361380779,
          5.9742669355072,
          5.333682434956009,
          5.798538711244626,
          6.76458212772271,
          5.4028526298661435,
          5.199399381586634,
          6.592019032045827,
          6.079813442504181,
          5.29033187778032,
          5.297977265887934,
          6.3675945472623585,
          5.528683951118665,
          5.56503897421345,
          6.208406724999451,
          6.135817401443301,
          6.1898257337291485,
          5.961065798929904,
          6.406119511592713,
          5.803381445016207,
          5.433596005159392,
          5.050373153473662,
          5.635712181643019,
          5.532248351120809,
          5.110897467747406,
          5.925783699349288,
          6.304463355039474,
          5.399484114009241,
          6.362218875187195,
          6.0982076221915245,
          5.498189249762261,
          6.034943068195893,
          6.012849041321685,
          5.268211339818949,
          5.692524131823473,
          5.613034186746654,
          6.134191428481919,
          5.865482061426334,
          6.18083299416114,
          5.366886330137693,
          6.155600201556413,
          5.703930752973005,
          6.052601631836582,
          6.142220947922747,
          5.723286097958681,
          6.212595885945278,
          5.787307655330528,
          6.599595343545927,
          5.8412693726999825,
          7.208320349128971,
          5.4668819144403304,
          6.46887377383626,
          5.571151467709866,
          6.078132625948514,
          6.200789068454092,
          5.302512910148171,
          6.37101220160416,
          5.821416309821036,
          5.8099696454540855,
          5.97359438490731,
          5.487733274074913,
          6.78429418598225,
          5.88459723381595,
          5.144034616577644,
          6.335699823890092,
          6.644878390292799,
          6.904483632371259,
          5.860744299684831,
          6.687453119511562,
          6.405003343163935,
          5.948987139760369,
          5.623834691682262,
          5.406913206428206,
          6.22486410241857,
          6.614197533679486,
          6.730669873722459,
          6.113404043594251,
          6.46619802874527,
          6.098345144819225,
          5.496369407992899,
          5.939639862838898,
          6.31823525971266,
          6.604054668211922,
          5.514118535388961,
          6.30089402105566,
          5.630680223244459,
          5.973313964763266,
          5.991638915224113,
          5.237800071244928,
          5.884443778518149,
          6.060443932730685,
          6.053069570359516,
          6.4242368609039415,
          5.992662273315728,
          5.247972281398988,
          5.775958524708316,
          6.036853148581676,
          6.796188434430258,
          6.887460305363485,
          6.301023383815373,
          6.202151054483558,
          5.454320789361006,
          5.353068770678817,
          5.445284356070962,
          5.153890495262793,
          7.134106045556123,
          6.058568746379452,
          5.234734417041293,
          5.953970510478219,
          6.054454015248148,
          6.713645240662456,
          5.7783267843474055,
          6.064011864664519,
          5.485958591709762,
          5.35420069020725,
          6.471769213942512,
          5.641447397289025,
          5.887687019312843,
          6.524727398032606,
          6.292790890073719,
          5.657710029567111,
          5.9893008923894335,
          5.746863124993417,
          5.745069069937953,
          6.351508923936067,
          4.836681355085739,
          5.7734400807841295,
          6.340213859437637,
          5.43431859752178,
          6.383978364028193,
          6.351292511106489,
          4.7918028954214416,
          5.392391445870158,
          5.373729035222221,
          6.156727476916987,
          5.797931521291362,
          5.974530413165465,
          6.139272167955473,
          6.0015826574271065,
          5.469381369705224,
          5.41911216607977,
          6.043551555088175,
          5.491914077821611,
          6.180111024162253,
          6.268963763687809,
          6.187140544625766,
          6.31773963911969,
          6.190719735875607,
          5.781688913776673,
          5.706040359015568,
          5.878478743845829,
          6.323886446514669,
          6.187514175918175,
          6.909296775341613,
          6.095109571555322,
          5.96030087007589,
          6.224671893451538,
          5.603550083377861,
          6.499122584264183,
          5.54548497049281,
          5.947722212103872,
          5.5134116015051235,
          6.155363426356603,
          6.176826280860093,
          6.151155939779735,
          5.4250433850271245,
          6.242908854709352,
          5.250293580207672,
          5.935482430947425,
          5.521475319771895,
          6.39308166746832,
          6.3002028110943495,
          5.249706670596858,
          5.76279700711524,
          5.868495192252892,
          6.282493117548216,
          5.5531407690093575,
          5.893413024836337,
          5.869646132004361,
          5.602182659455826,
          5.548294144646483,
          7.0318930890451465,
          5.859642359876265,
          5.701882629704457,
          5.4587708759649605,
          5.365816446823044,
          5.753893690356293,
          5.263336134078809,
          5.318986140187337,
          5.295386197896819,
          6.608335715716093,
          5.549216905634524,
          5.916457091872369,
          6.308604144031336,
          6.1634045150175805,
          5.284015310034037,
          5.544383059062592,
          6.1771873801154475,
          6.476644297522084,
          5.998911707858149,
          5.668378088532004,
          6.413654579643063,
          6.2832610981296915,
          7.107269103498368,
          5.943818267671698,
          5.437259098342402,
          7.008441738767345,
          5.133897312433863,
          6.453800851668495,
          4.621355839223886,
          6.146775655898278,
          6.352787895068161,
          6.03437835678787,
          5.525585497691188,
          6.338641518731444,
          6.483215432358119,
          6.378784638291015,
          5.437116173784061,
          5.879689821185068,
          6.420830033784687,
          5.7680543207770745,
          4.938958854554248,
          5.980846358313298,
          5.949376764024773,
          6.161793387255175,
          6.338781839993546,
          5.991264850960609,
          6.77803982953183,
          5.896750355508204,
          6.765403855284503,
          5.91679845551632,
          6.027641180333708,
          5.429806793794217,
          6.196964608367559,
          5.672385901024901,
          5.874492881832443,
          5.7599190557478535,
          6.168716272966543,
          6.738478211025838,
          6.001786537712452,
          6.5000466514678195,
          6.150857282737013,
          5.77543241056188,
          5.602353682083711,
          6.402218033246521,
          6.649987901560235,
          6.126539865651458,
          5.958058546619722,
          5.642526306721568,
          5.483340929674991,
          5.600703477534055,
          6.0372308806117045,
          6.755564621931284,
          6.003861757230974,
          6.069586935258143,
          5.269645582941895,
          5.5770717125670775,
          5.746406682679309,
          6.220072212902839,
          5.468660798748447,
          6.282500247357845,
          6.213734403878898,
          5.407449063791645,
          6.873213903772321,
          6.458827105863106,
          6.055003825444012,
          6.0127647958471835,
          6.971910182870675,
          5.4072196672499295,
          5.715663124890733,
          6.554924492289333,
          6.180145077680573,
          5.497564609483633,
          6.5724032300689155,
          6.6615316502219875,
          6.447338973711496,
          6.93495761133494,
          6.424179154477807,
          6.116333858526321,
          5.629089354310408,
          6.080720675676206,
          5.665501292929884,
          6.31632471358198,
          6.769710316249882,
          5.715186403702615,
          6.945523162814467,
          4.965320066921315,
          6.816826194186154,
          6.0902832814756875,
          6.070181573495647,
          7.293603087898447,
          5.554470253524961,
          6.113546083066556,
          6.014636304638053
         ],
         "xaxis": "x4",
         "xbins": {
          "end": 10,
          "start": 0
         },
         "yaxis": "y4"
        }
       ],
       "layout": {
        "height": 300,
        "template": {
         "data": {
          "bar": [
           {
            "error_x": {
             "color": "#2a3f5f"
            },
            "error_y": {
             "color": "#2a3f5f"
            },
            "marker": {
             "line": {
              "color": "#E5ECF6",
              "width": 0.5
             },
             "pattern": {
              "fillmode": "overlay",
              "size": 10,
              "solidity": 0.2
             }
            },
            "type": "bar"
           }
          ],
          "barpolar": [
           {
            "marker": {
             "line": {
              "color": "#E5ECF6",
              "width": 0.5
             },
             "pattern": {
              "fillmode": "overlay",
              "size": 10,
              "solidity": 0.2
             }
            },
            "type": "barpolar"
           }
          ],
          "carpet": [
           {
            "aaxis": {
             "endlinecolor": "#2a3f5f",
             "gridcolor": "white",
             "linecolor": "white",
             "minorgridcolor": "white",
             "startlinecolor": "#2a3f5f"
            },
            "baxis": {
             "endlinecolor": "#2a3f5f",
             "gridcolor": "white",
             "linecolor": "white",
             "minorgridcolor": "white",
             "startlinecolor": "#2a3f5f"
            },
            "type": "carpet"
           }
          ],
          "choropleth": [
           {
            "colorbar": {
             "outlinewidth": 0,
             "ticks": ""
            },
            "type": "choropleth"
           }
          ],
          "contour": [
           {
            "colorbar": {
             "outlinewidth": 0,
             "ticks": ""
            },
            "colorscale": [
             [
              0,
              "#0d0887"
             ],
             [
              0.1111111111111111,
              "#46039f"
             ],
             [
              0.2222222222222222,
              "#7201a8"
             ],
             [
              0.3333333333333333,
              "#9c179e"
             ],
             [
              0.4444444444444444,
              "#bd3786"
             ],
             [
              0.5555555555555556,
              "#d8576b"
             ],
             [
              0.6666666666666666,
              "#ed7953"
             ],
             [
              0.7777777777777778,
              "#fb9f3a"
             ],
             [
              0.8888888888888888,
              "#fdca26"
             ],
             [
              1,
              "#f0f921"
             ]
            ],
            "type": "contour"
           }
          ],
          "contourcarpet": [
           {
            "colorbar": {
             "outlinewidth": 0,
             "ticks": ""
            },
            "type": "contourcarpet"
           }
          ],
          "heatmap": [
           {
            "colorbar": {
             "outlinewidth": 0,
             "ticks": ""
            },
            "colorscale": [
             [
              0,
              "#0d0887"
             ],
             [
              0.1111111111111111,
              "#46039f"
             ],
             [
              0.2222222222222222,
              "#7201a8"
             ],
             [
              0.3333333333333333,
              "#9c179e"
             ],
             [
              0.4444444444444444,
              "#bd3786"
             ],
             [
              0.5555555555555556,
              "#d8576b"
             ],
             [
              0.6666666666666666,
              "#ed7953"
             ],
             [
              0.7777777777777778,
              "#fb9f3a"
             ],
             [
              0.8888888888888888,
              "#fdca26"
             ],
             [
              1,
              "#f0f921"
             ]
            ],
            "type": "heatmap"
           }
          ],
          "heatmapgl": [
           {
            "colorbar": {
             "outlinewidth": 0,
             "ticks": ""
            },
            "colorscale": [
             [
              0,
              "#0d0887"
             ],
             [
              0.1111111111111111,
              "#46039f"
             ],
             [
              0.2222222222222222,
              "#7201a8"
             ],
             [
              0.3333333333333333,
              "#9c179e"
             ],
             [
              0.4444444444444444,
              "#bd3786"
             ],
             [
              0.5555555555555556,
              "#d8576b"
             ],
             [
              0.6666666666666666,
              "#ed7953"
             ],
             [
              0.7777777777777778,
              "#fb9f3a"
             ],
             [
              0.8888888888888888,
              "#fdca26"
             ],
             [
              1,
              "#f0f921"
             ]
            ],
            "type": "heatmapgl"
           }
          ],
          "histogram": [
           {
            "marker": {
             "pattern": {
              "fillmode": "overlay",
              "size": 10,
              "solidity": 0.2
             }
            },
            "type": "histogram"
           }
          ],
          "histogram2d": [
           {
            "colorbar": {
             "outlinewidth": 0,
             "ticks": ""
            },
            "colorscale": [
             [
              0,
              "#0d0887"
             ],
             [
              0.1111111111111111,
              "#46039f"
             ],
             [
              0.2222222222222222,
              "#7201a8"
             ],
             [
              0.3333333333333333,
              "#9c179e"
             ],
             [
              0.4444444444444444,
              "#bd3786"
             ],
             [
              0.5555555555555556,
              "#d8576b"
             ],
             [
              0.6666666666666666,
              "#ed7953"
             ],
             [
              0.7777777777777778,
              "#fb9f3a"
             ],
             [
              0.8888888888888888,
              "#fdca26"
             ],
             [
              1,
              "#f0f921"
             ]
            ],
            "type": "histogram2d"
           }
          ],
          "histogram2dcontour": [
           {
            "colorbar": {
             "outlinewidth": 0,
             "ticks": ""
            },
            "colorscale": [
             [
              0,
              "#0d0887"
             ],
             [
              0.1111111111111111,
              "#46039f"
             ],
             [
              0.2222222222222222,
              "#7201a8"
             ],
             [
              0.3333333333333333,
              "#9c179e"
             ],
             [
              0.4444444444444444,
              "#bd3786"
             ],
             [
              0.5555555555555556,
              "#d8576b"
             ],
             [
              0.6666666666666666,
              "#ed7953"
             ],
             [
              0.7777777777777778,
              "#fb9f3a"
             ],
             [
              0.8888888888888888,
              "#fdca26"
             ],
             [
              1,
              "#f0f921"
             ]
            ],
            "type": "histogram2dcontour"
           }
          ],
          "mesh3d": [
           {
            "colorbar": {
             "outlinewidth": 0,
             "ticks": ""
            },
            "type": "mesh3d"
           }
          ],
          "parcoords": [
           {
            "line": {
             "colorbar": {
              "outlinewidth": 0,
              "ticks": ""
             }
            },
            "type": "parcoords"
           }
          ],
          "pie": [
           {
            "automargin": true,
            "type": "pie"
           }
          ],
          "scatter": [
           {
            "fillpattern": {
             "fillmode": "overlay",
             "size": 10,
             "solidity": 0.2
            },
            "type": "scatter"
           }
          ],
          "scatter3d": [
           {
            "line": {
             "colorbar": {
              "outlinewidth": 0,
              "ticks": ""
             }
            },
            "marker": {
             "colorbar": {
              "outlinewidth": 0,
              "ticks": ""
             }
            },
            "type": "scatter3d"
           }
          ],
          "scattercarpet": [
           {
            "marker": {
             "colorbar": {
              "outlinewidth": 0,
              "ticks": ""
             }
            },
            "type": "scattercarpet"
           }
          ],
          "scattergeo": [
           {
            "marker": {
             "colorbar": {
              "outlinewidth": 0,
              "ticks": ""
             }
            },
            "type": "scattergeo"
           }
          ],
          "scattergl": [
           {
            "marker": {
             "colorbar": {
              "outlinewidth": 0,
              "ticks": ""
             }
            },
            "type": "scattergl"
           }
          ],
          "scattermapbox": [
           {
            "marker": {
             "colorbar": {
              "outlinewidth": 0,
              "ticks": ""
             }
            },
            "type": "scattermapbox"
           }
          ],
          "scatterpolar": [
           {
            "marker": {
             "colorbar": {
              "outlinewidth": 0,
              "ticks": ""
             }
            },
            "type": "scatterpolar"
           }
          ],
          "scatterpolargl": [
           {
            "marker": {
             "colorbar": {
              "outlinewidth": 0,
              "ticks": ""
             }
            },
            "type": "scatterpolargl"
           }
          ],
          "scatterternary": [
           {
            "marker": {
             "colorbar": {
              "outlinewidth": 0,
              "ticks": ""
             }
            },
            "type": "scatterternary"
           }
          ],
          "surface": [
           {
            "colorbar": {
             "outlinewidth": 0,
             "ticks": ""
            },
            "colorscale": [
             [
              0,
              "#0d0887"
             ],
             [
              0.1111111111111111,
              "#46039f"
             ],
             [
              0.2222222222222222,
              "#7201a8"
             ],
             [
              0.3333333333333333,
              "#9c179e"
             ],
             [
              0.4444444444444444,
              "#bd3786"
             ],
             [
              0.5555555555555556,
              "#d8576b"
             ],
             [
              0.6666666666666666,
              "#ed7953"
             ],
             [
              0.7777777777777778,
              "#fb9f3a"
             ],
             [
              0.8888888888888888,
              "#fdca26"
             ],
             [
              1,
              "#f0f921"
             ]
            ],
            "type": "surface"
           }
          ],
          "table": [
           {
            "cells": {
             "fill": {
              "color": "#EBF0F8"
             },
             "line": {
              "color": "white"
             }
            },
            "header": {
             "fill": {
              "color": "#C8D4E3"
             },
             "line": {
              "color": "white"
             }
            },
            "type": "table"
           }
          ]
         },
         "layout": {
          "annotationdefaults": {
           "arrowcolor": "#2a3f5f",
           "arrowhead": 0,
           "arrowwidth": 1
          },
          "autotypenumbers": "strict",
          "coloraxis": {
           "colorbar": {
            "outlinewidth": 0,
            "ticks": ""
           }
          },
          "colorscale": {
           "diverging": [
            [
             0,
             "#8e0152"
            ],
            [
             0.1,
             "#c51b7d"
            ],
            [
             0.2,
             "#de77ae"
            ],
            [
             0.3,
             "#f1b6da"
            ],
            [
             0.4,
             "#fde0ef"
            ],
            [
             0.5,
             "#f7f7f7"
            ],
            [
             0.6,
             "#e6f5d0"
            ],
            [
             0.7,
             "#b8e186"
            ],
            [
             0.8,
             "#7fbc41"
            ],
            [
             0.9,
             "#4d9221"
            ],
            [
             1,
             "#276419"
            ]
           ],
           "sequential": [
            [
             0,
             "#0d0887"
            ],
            [
             0.1111111111111111,
             "#46039f"
            ],
            [
             0.2222222222222222,
             "#7201a8"
            ],
            [
             0.3333333333333333,
             "#9c179e"
            ],
            [
             0.4444444444444444,
             "#bd3786"
            ],
            [
             0.5555555555555556,
             "#d8576b"
            ],
            [
             0.6666666666666666,
             "#ed7953"
            ],
            [
             0.7777777777777778,
             "#fb9f3a"
            ],
            [
             0.8888888888888888,
             "#fdca26"
            ],
            [
             1,
             "#f0f921"
            ]
           ],
           "sequentialminus": [
            [
             0,
             "#0d0887"
            ],
            [
             0.1111111111111111,
             "#46039f"
            ],
            [
             0.2222222222222222,
             "#7201a8"
            ],
            [
             0.3333333333333333,
             "#9c179e"
            ],
            [
             0.4444444444444444,
             "#bd3786"
            ],
            [
             0.5555555555555556,
             "#d8576b"
            ],
            [
             0.6666666666666666,
             "#ed7953"
            ],
            [
             0.7777777777777778,
             "#fb9f3a"
            ],
            [
             0.8888888888888888,
             "#fdca26"
            ],
            [
             1,
             "#f0f921"
            ]
           ]
          },
          "colorway": [
           "#636efa",
           "#EF553B",
           "#00cc96",
           "#ab63fa",
           "#FFA15A",
           "#19d3f3",
           "#FF6692",
           "#B6E880",
           "#FF97FF",
           "#FECB52"
          ],
          "font": {
           "color": "#2a3f5f"
          },
          "geo": {
           "bgcolor": "white",
           "lakecolor": "white",
           "landcolor": "#E5ECF6",
           "showlakes": true,
           "showland": true,
           "subunitcolor": "white"
          },
          "hoverlabel": {
           "align": "left"
          },
          "hovermode": "closest",
          "mapbox": {
           "style": "light"
          },
          "paper_bgcolor": "white",
          "plot_bgcolor": "#E5ECF6",
          "polar": {
           "angularaxis": {
            "gridcolor": "white",
            "linecolor": "white",
            "ticks": ""
           },
           "bgcolor": "#E5ECF6",
           "radialaxis": {
            "gridcolor": "white",
            "linecolor": "white",
            "ticks": ""
           }
          },
          "scene": {
           "xaxis": {
            "backgroundcolor": "#E5ECF6",
            "gridcolor": "white",
            "gridwidth": 2,
            "linecolor": "white",
            "showbackground": true,
            "ticks": "",
            "zerolinecolor": "white"
           },
           "yaxis": {
            "backgroundcolor": "#E5ECF6",
            "gridcolor": "white",
            "gridwidth": 2,
            "linecolor": "white",
            "showbackground": true,
            "ticks": "",
            "zerolinecolor": "white"
           },
           "zaxis": {
            "backgroundcolor": "#E5ECF6",
            "gridcolor": "white",
            "gridwidth": 2,
            "linecolor": "white",
            "showbackground": true,
            "ticks": "",
            "zerolinecolor": "white"
           }
          },
          "shapedefaults": {
           "line": {
            "color": "#2a3f5f"
           }
          },
          "ternary": {
           "aaxis": {
            "gridcolor": "white",
            "linecolor": "white",
            "ticks": ""
           },
           "baxis": {
            "gridcolor": "white",
            "linecolor": "white",
            "ticks": ""
           },
           "bgcolor": "#E5ECF6",
           "caxis": {
            "gridcolor": "white",
            "linecolor": "white",
            "ticks": ""
           }
          },
          "title": {
           "x": 0.05
          },
          "xaxis": {
           "automargin": true,
           "gridcolor": "white",
           "linecolor": "white",
           "ticks": "",
           "title": {
            "standoff": 15
           },
           "zerolinecolor": "white",
           "zerolinewidth": 2
          },
          "yaxis": {
           "automargin": true,
           "gridcolor": "white",
           "linecolor": "white",
           "ticks": "",
           "title": {
            "standoff": 15
           },
           "zerolinecolor": "white",
           "zerolinewidth": 2
          }
         }
        },
        "title": {
         "text": "Row of Histograms"
        },
        "width": 750,
        "xaxis": {
         "anchor": "y",
         "domain": [
          0,
          0.2125
         ],
         "range": [
          -0.5,
          10.5
         ],
         "title": {
          "text": "A"
         }
        },
        "xaxis2": {
         "anchor": "y2",
         "domain": [
          0.2625,
          0.475
         ],
         "range": [
          -0.5,
          10.5
         ],
         "title": {
          "text": "B"
         }
        },
        "xaxis3": {
         "anchor": "y3",
         "domain": [
          0.525,
          0.7375
         ],
         "range": [
          -0.5,
          10.5
         ],
         "title": {
          "text": "C"
         }
        },
        "xaxis4": {
         "anchor": "y4",
         "domain": [
          0.7875,
          1
         ],
         "range": [
          -0.5,
          10.5
         ],
         "title": {
          "text": "D"
         }
        },
        "yaxis": {
         "anchor": "x",
         "domain": [
          0,
          1
         ]
        },
        "yaxis2": {
         "anchor": "x2",
         "domain": [
          0,
          1
         ]
        },
        "yaxis3": {
         "anchor": "x3",
         "domain": [
          0,
          1
         ]
        },
        "yaxis4": {
         "anchor": "x4",
         "domain": [
          0,
          1
         ]
        }
       }
      },
      "text/html": [
       "<div>                            <div id=\"6b87ba95-5e7a-4e5a-a3e9-66b270bcdd67\" class=\"plotly-graph-div\" style=\"height:300px; width:750px;\"></div>            <script type=\"text/javascript\">                require([\"plotly\"], function(Plotly) {                    window.PLOTLYENV=window.PLOTLYENV || {};                                    if (document.getElementById(\"6b87ba95-5e7a-4e5a-a3e9-66b270bcdd67\")) {                    Plotly.newPlot(                        \"6b87ba95-5e7a-4e5a-a3e9-66b270bcdd67\",                        [{\"marker\":{\"line\":{\"color\":\"black\",\"width\":1}},\"name\":\"A\",\"nbinsx\":30,\"x\":[5.45407548968859,1.7677018615686124,8.68671546773693,8.255835072155023,4.96931120081684,5.819105521810144,9.062993128647,9.565242637420457,0.7184394603409361,1.8087774444766092,2.3217964565816507,4.571535038159508,5.948564868180135,2.2468458530590807,5.8505560659001175,5.503757143908694,1.3375048412593527,9.486804087335775,1.252235009679854,7.218596902988211,5.8261332765566305,3.3110059672806322,0.9667431326542197,8.680760998952033,0.4646516912379606,0.9119035291002897,0.592262227399678,4.811740406820778,7.820168237786833,1.0776945366123114,5.362666727076254,5.793945376745012,0.20950472522649033,8.344664423401472,0.0735655826311099,3.6087295009156084,9.519088963632212,2.224467077022809,9.020508803201624,9.696579111613925,1.5878009718760755,0.722464105785694,9.043898166713275,7.354187940606849,8.943748202349036,0.0012736221568776518,4.456322379378797,3.7772670770138306,3.893904779486097,1.5832578644673334,6.649288616565555,2.764633769495537,6.312105422190953,1.6143846489786684,4.582735724425787,1.050064987187831,7.745036454821613,2.2682120058817,0.4557170153165391,3.8315595992878815,8.863031649426365,7.155414452049334,7.329847951887832,4.127399732905188,2.547815689752624,4.003143837442892,4.76163056375774,5.843142347440853,9.676418663344123,8.101357809087128,3.136635297293049,9.904741115586443,3.798978732289421,3.376338172520741,9.757215067594913,8.169504181871691,1.1358232940325774,7.819496988213304,8.513125982472497,9.615944406694076,3.190625794596831,6.113744252570034,2.69634801092433,5.20611254476544,5.5573750906662545,7.210497583449992,6.2318629206356,2.274842770538376,5.160415938076801,3.336870384417593,1.6590686498351814,4.726147242147636,1.2644768431283837,0.16991457781377117,7.7239947029694145,1.3783844953954894,9.243961094953413,0.7158561347425196,3.5597797084951432,2.665309442422028,5.3222736174567995,0.75389992448744,9.970066946159957,0.8584650690546913,4.595143745553097,7.406732295397482,1.2242965581617338,4.487340454702268,5.5344030604740055,7.338616836941711,6.122191687266421,8.759366601470276,2.5267420827691223,7.673922552321337,4.211916986096332,1.8856303356365545,2.333254472765347,2.0879440315803754,2.6748626988118787,7.010131097865858,5.728486880109182,7.476707984507392,0.6264972969291771,2.71108755710351,5.948620017126798,3.7024532550328617,4.855935850076984,4.566845383365452,7.337961206225616,4.074781990132566,2.9834262254395782,5.853902874476656,3.7679210977438093,5.939410696037694,2.9688300282727598,4.354364996394514,5.170197304349566,7.954804746306249,2.392244986191886,7.480822413071372,5.804740713337528,4.610550349367186,9.435685098942457,2.3210596858508445,6.509381481242085,8.454777759233064,3.6404951258021057,4.909269200624608,3.0012498035260893,7.860156154722376,2.5213511680284952,7.977135050931238,0.5078942960661148,7.71396099287877,8.419500865942085,8.54442487947756,1.3909574516144363,0.2653827790452923,9.934985059950174,7.3206810989214315,9.5635919705331,4.3238563803358225,5.813532715232465,7.023568008846625,4.787995054832608,1.840356713224508,4.018342247159417,4.241941877355927,0.2738353284808459,1.7996740317112747,8.390419055908001,2.805956496890153,7.436060037392967,1.2109969320644354,6.782764249796399,7.917547678651367,2.6002174977475545,1.1993809767301167,5.273518840781449,4.87625252390568,7.925846750483585,4.39141046179536,1.1155891340771507,6.658313068616215,7.64446362878264,8.699212213496427,9.527184476270708,4.736553690561157,8.154440326712418,9.756937273828761,8.315626344905333,6.644008632695161,5.35793309809272,9.272776739082415,3.1947094171119925,6.0146534043895175,1.5921484523861362,0.7568251569089757,6.617906099598069,3.0712412925247587,3.1713089671685504,8.468593468968338,0.9317981499405459,7.37303985404091,7.401521062120844,1.5216297453109195,6.2409438435941444,1.9628603524058141,1.4001089615058637,5.393068029083762,1.5314457588685737,0.8643427810372029,6.513056691299268,5.648346318781833,2.7851429394143823,7.342653537815175,5.827861285571462,2.2685209519809026,4.261174632991171,3.660345218644294,3.0010965234678455,7.239551517647494,3.3249546360437865,1.9329320058426869,5.686975209922064,3.3197587844529863,2.7452384552818465,4.9444920129424546,6.037222999621777,7.047100111960367,3.8983524178460147,0.6402033782152317,3.318837078610742,1.2394466061021736,4.659513112370028,4.8047006834011,8.646071087027734,1.6344425225242332,0.5950700406243192,6.157667679378314,6.0150037979949165,7.69584719387823,1.9472762476070604,8.42400783786847,9.983557706988366,4.275928951439191,2.550461764797208,1.2817916987684985,9.472882264557033,9.206094591989913,9.199727647429121,8.902137388547208,6.69621343291632,1.2385399976278644,3.897962586775768,9.906135733738898,8.971545284470928,5.515161811100603,0.9095818733637651,1.6719551252914389,3.9171338970653844,4.372780384316912,2.2581294105415517,8.702837777064637,3.691817361627664,1.7553744317519193,0.6080451382748109,2.12856240724816,6.6743422310477785,9.26278367826811,2.903001440837997,1.278931752141882,5.4058026271346105,0.7487884760593722,9.274781418828713,9.06672813143066,3.730172623248605,8.107181903202328,9.22745740836478,2.2042047633602326,4.384425407862976,4.62024971264246,0.41591597349949994,9.448780058665005,7.369799515043265,1.1155474631655737,2.0691545606812456,6.485339025312995,4.955467245547961,3.6295783565293194,0.9420646460782889,7.553319623862374,9.820807655198314,2.1945858127387172,9.609174545205322,2.3721595810255556,6.929010343603707,9.940202510649408,6.044224630605221,8.1036217933621,7.2184474416761475,7.158184220273593,8.696530028551376,2.0182417195853164,2.654997490261831,9.165462469270853,4.831783356301762,0.5954776556206942,1.670516004372432,9.358655045298386,4.014658661076882,8.055371075589443,0.39656342813041756,3.385743889581667,0.9072860736860378,5.938147446049202,6.978775398184986,1.424270171540113,0.2675828756579979,5.574247142587701,6.085700271017397,6.676878426012256,5.486114640672193,6.616971284833738,7.372828544013592,4.9230692441842026,8.523832377166041,4.723636282302288,8.79637697844322,3.7329537803119783,1.2831752512837014,5.130080264625341,4.160629212217669,9.876473157354035,9.830504328256827,5.306556529209129,5.816599781160363,0.05436583166512632,1.6588466684841774,8.299911979277553,6.263034280857449,7.72659634091545,5.970234881860385,2.0256344441699605,7.313572620314035,0.696770466209522,2.4360219121456317,1.09955179167061,0.9666039664193415,4.588574330458789,0.12251611012109143,6.963199801822687,5.461601459601214,8.177002784006104,8.998957907770532,0.013724714296505791,8.527351051537064,6.764665206449862,2.179116624304415,6.633268078062164,7.926221642114806,5.187876320804082,2.316114325099167,0.7031246241164213,9.877065638623554,7.863323810417496,9.539994276190985,8.977538466882393,6.977876043419641,8.117110715090034,2.616082067434593,1.8116873469398176,7.489001668617053,8.979803860672838,5.188193747029092,0.9192854608033274,3.3528564631567837,1.9632890739904818,0.3363544099582916,6.518371922156794,4.001907210126231,8.432642845750866,6.374584546753173,5.863135283790864,4.584914050909444,0.1824978331537208,0.9115826699168339,5.489138612705426,8.42736532584879,3.274295624848155,1.3671307287829793,9.672939371245882,6.675885839896779,3.4897628967408933,6.003222968579144,0.40397959238395287,4.607934439107585,4.820849267576749,4.587661542544986,2.9019393302417074,5.445285924630696,5.959444591103646,3.647008168861914,5.663288458611467,7.504747724333642,5.831917300587496,4.210184800013752,7.073470783339121,7.569268680130298,1.9250099190240566,6.199724558150882,1.2224439111345153,3.6215177250603094,6.6099863168342745,3.62558136308869,9.461782278216335,1.7331711214952472,7.667955139972328,2.18378429364418,1.4440617359201025,7.5832641703472214,0.9589366947418754,7.524378123969813,3.5177114468880877,2.949261476103757,0.736020094249572,9.798556713027365,0.4102646155867129,5.8584924339511755,0.5001541864571102,7.259374873125241,1.163785595972061,3.6618526342163014,4.504033735271504,0.37314750933609586,4.958940524217892,4.741774780929852,5.582859858390008,3.182904385076031,6.424987839490073,7.398126961385859,5.851929881818508,8.809083085189604,6.260969213505811,4.936443805076193,9.242144776778808,8.963460721046907,6.329848164287714,6.464949549173339,1.3654777102265792,4.083364183113968,1.0537439732117193,7.06245159105347,7.022959179092099,1.3208300433300668,9.652527240142891,3.673455891669227,6.111785824959707,6.130351814182968,7.605078703676522,6.734228885846348,4.976581089307367,2.2552640452942008,1.000070315091861,7.651780132526217,5.720021136201568,0.12715742540696517,0.9110122037476254,1.0498723307775248,5.70962896975389,4.872238169385328,4.275715085741073,7.485080111103435,1.5694899723810574,7.401055334271277,9.838013164235527,3.739880146889425,6.4487801760788805,7.968805436209079,4.514106036418491,1.3468868032455228,4.365743958959039,0.0501259030419432,8.5908403977837,0.6470950347271498,5.783215727010752,1.962798116412745,0.9717273921244285,1.5769733809161834,0.6058078190282323,1.3513156575009588,7.233280239492103,9.739988144598104,5.782194344807871,6.646717217720878,8.28153457299376,3.306133016732896,9.007142800116272,6.541840809740535,2.3185293682712294,1.0679305590563282,5.146667598663744,7.725097421746937,8.17285322048716,1.532095983335764,2.270209813456503,1.053667941298615,6.47112649309869,1.790128599251224,0.45408213892398464,9.687572821967454,5.308633986584703,0.9268112433435849,4.892269137842905,5.515123422362277,7.245116480390221,6.044151842555602,0.7103197229664959,9.478870791138597,5.2073975443609495,7.699026669453904,3.275154699808743,2.0249393118620884,3.6397416008552517,6.309409640931745,6.072405136442085,7.99393470744291,7.98756707093089,6.453824791550517,6.150580578166892,4.764504571948941,3.063984385515747,8.036580246671072,0.11342347378655027,3.70684736718631,1.9306334187529761,2.489698328626492,9.165959413061112,2.3346182677741076,0.5739632985222665,1.5890184007050223,2.1288835535641026,8.99076078306697,3.831902174361481,6.510822955042135,7.691590001119385,6.33658955506076,6.504349059768466,6.827107712739551,1.8625096362943916,6.409505978094715,5.064392289237859,1.2940346996276286,8.765264496898794,7.039874694812527,3.4717106394706887,0.8899860525152536,0.517303930299875,0.9246594126591801,0.25339897527279165,7.938535788441097,3.932054514595679,4.799332128223486,2.459728543687051,3.9336893798311587,1.421446411167927,4.201353433767347,2.6138942681417254,1.2506017564355076,0.6818691715452885,0.528665019561726,1.2432052909899294,6.796558721894926,7.261282039324791,9.72423128913116,5.0420484417777445,9.446954816889933,6.1357407134908515,7.201717739890793,3.8661185087049676,7.367925770584531,3.5573449342870003,1.753528887529432,6.618211189213214,6.2109328080931006,9.782044390061156,7.537382871944871,4.598663105477208,6.600472843028248,2.187369471893481,7.473656388761278,5.7133070939663275,0.9853630762389898,7.69294961332826,9.738417207953955,4.879875315100168,9.123806478104411,5.251344688774471,1.5832766709877089,8.10742683081924,1.5969392411826366,7.349492701526971,2.0989539994298134,0.402584359294047,5.496956800114756,7.820913851089189,1.449826971613536,4.259754304848906,8.947125582791061,6.018588029929223,1.4328064147119257,4.4468217030722315,5.790555849605359,6.852018924698461,3.0565297227315313,0.6738330665497261,4.9018290007176,0.5228823926736381,3.1798136271057387,5.421187633078692,6.996338744371967,5.307726946740589,8.478051674341463,2.203237874585584,1.0865100844499342,0.7154361215158989,4.535083916322257,0.9084905458678783,2.228122187293585,5.383134075349357,2.8155011742275837,2.9643629186578258,2.1940906927071477,2.619416915291919,9.296070316758158,9.025009576172515,3.8843221439439835,5.738186039727687,0.6686228654375137,4.126151414423841,5.381170281786197,6.390461352417038,7.175155936834318,1.2479417174716145,1.16510314002379,5.4569196891308,4.519895412244602,9.315105637572302,9.337888707784161,2.916640179905979,6.462059572413508,4.175196371373819,4.370937993279598,0.30484860563968263,5.203830337651727,8.875451756232241,4.108458796556739,6.6251089031397425,6.5166651579355275,5.82492037984485,7.404755975957845,8.940684715125682,7.877485926660284,4.213221704390916,3.693024819064805,5.650192162648945,7.953699720572089,8.510577352288106,5.143496406128644,3.4447760497639646,5.931948888024557,1.2455712433970578,6.878788093115706,2.307885915000678,6.873149032519929,6.399328251401723,3.5919652834132867,5.960166385186603,1.904706948267243,0.516200013933602,8.458228999614324,8.08627508688014,0.4344186731831301,6.180616802349373,4.485700112875534,7.455199094948545,5.665913420789106,0.8431260876365743,3.499613788773365,3.142952362105614,3.059299148717826,9.7412436299032,2.346423305684555,5.487203402506635,3.4549864779542627,7.13415345574391,1.5201417460338174,9.387275169366099,6.712499756136867,5.619392639203259,7.350328901934294,8.006433744855133,1.1242475786144102,2.396160278194095,9.41732924176561,8.269252927053461,0.6807009744133585,5.0073597869869735,6.271222293495649,6.200674996341169,1.9726702500281845,1.986888134553525,0.8023687472746732,7.307196218180713,5.869436643818875,3.914031252545941,6.888568997093964,6.990086650603983,4.823414082618578,8.217614984092616,2.7494470809241456,3.910381875237351,4.885583554620005,7.952650089276504,4.258491411441179,6.029733937739459,8.771455244518483,6.64285074885726,2.1229389109775454,6.761670225619207,0.9743106026464587,6.550984468023896,8.54247126558622,4.213160088634989,2.136729432083102,4.59111388993925,9.64504972746246,5.590090768646913,0.2145650830646162,5.334747892471899,1.5885697406689692,3.9487308235955254,1.3702123349012207,6.136650521614678,7.151697882478759,5.103232029903079,4.138459187997702,7.480960639380699,9.908100306953552,6.4219151361869296,5.094964519191625,4.693090449550432,6.9959346742174136,9.441605476749107,9.070829704519326,7.677324341755174,3.419024112031085,6.914620439751045,4.137127031116216,1.8692228004224665,0.18226617976470183,7.783947691471344,5.102182736039778,1.4611560781973132,7.598787960266348,3.316965721914106,4.0419553556702255,3.553764558772967,9.786253756197016,1.5668810900398522,1.6837702323869441,4.099628815731473,4.085985053908118,5.262007523232711,1.9257583411912749,5.110071862040312,7.84395015016673,0.9974229622968334,5.279339753864618,0.34381520236816177,1.1951336849542693,4.870849267765828,3.1310427909627316,9.003642768688257,7.262834998415836,3.6317676240475407,6.974584476856258,9.2833100262477,9.962320990622398,8.2403915103923,8.116311865379888,2.600661562954966,3.2206789849455966,3.3042087348075477,5.757757422597177,6.413711180430246,0.5375499189959432,3.2286573006533716,2.575517952902305,9.706435244445967,0.1753127764187501,1.935216083592739,0.82640759419775,6.098730995100203,0.9392440992515094,8.641280901230054,2.6085843002019606,2.3372165345145524,8.838440792046272,7.033511708485807,3.8039001111075033,2.0725945962949464,6.116725081093852,6.247159598198218,5.11878838190577,1.1991256788266824,5.928082500741327,9.556529765919331,4.696420171679076,7.122352792546286,9.171320618754953,8.800005182658786,9.505043919615524,6.475800463098434,6.335005223031196,5.972859291030841,8.262176028093469,9.450249716688374,9.023894620599567,9.732161401411073,1.7319254127660921,0.8977646402940753,3.2771472492341793,1.9452058828817698,4.661342603370215,8.047426782693185,0.02477427305533908,0.4427695648773122,0.9559769422176112,6.8038030838026184,8.360689688002639,4.587518265130608,7.531226204000626,1.900682491564304,8.16648581346455,9.660577764968098,7.434918025784612,5.582116943096704,4.276053186180528,7.2921794301243175,1.5239672480477318,2.3187850007004664,4.076588852491152,9.044801536367514,8.786044564431345,6.946161766649212,4.563199443635332,4.083597081323003,7.613377882602999,2.55159133091707,3.1534693343584443,2.395816707799525,9.154459417983967,2.8630299203753804,7.134051576184516,2.411625721088141,5.3121376400631,8.828396431773335,6.752224686059538,9.237166966659332,9.43354369980675,4.500961647243998,5.854217868732113,5.866505579860197,9.74620738669857,6.369447693511521,0.13928767912130047,4.703883315630809,8.52411171728691,2.845660345031973,0.5116780723252701,3.701850899838025,9.237960736655527,7.981501741669749,9.189732491395025,3.956000984033409,6.2574411588723375,3.097115706779612,5.301016031719909,7.0544979596730535,9.392823755512095,3.2715551132137852,8.14360394590331,1.1798722831855346,3.6525935853404867,6.514163991966845,2.203482634310067,8.75621893432929,9.57713470454291,8.768593992196681,1.1947158195758911,6.716131849732121,9.01511778814504,2.6947391120492936,8.648083837456117,8.345021357481508,4.717234842122904,7.574871363552006,2.2028953361460557,1.521610320274157,4.84068697783974,4.386846617116626,7.919502450738118,1.4606806231657798,2.456324109447613,7.79179162923628,4.8380902597147335,3.1338962630854894,1.023871634879494,7.157368097329432,2.678579979892819,6.238659016775285,6.997155155306106,9.341809950332092,3.277425773417253,3.7708348305976456,0.5292662798529457,1.1051652184876581,5.042655965704764,5.250635103428703,6.728385007327393,9.08010241908068,0.8312899357916792,8.162150710403516,0.9637790287725989,0.7833575376408852,0.41380809998755264,7.174127899182725,3.2850048793649256,6.468103163832447,8.698268380523213,7.347765569711001,6.1873808568836015,0.4646872032318716,2.8692920243871245,7.392575991766033,4.039302647614491,8.502427340730685,5.5493589262535465,5.507307815821542,4.322309991213828,1.5242004601006287,4.458022356698855,6.482065657533819,6.5746689623403745,8.952533890961593,0.2534852909848806,5.4395824448170496,0.32801706779086337,5.479855659988168,3.350690000030452,9.633973834958056,8.903152184961895,7.0309613461039255,0.40410303435171047,4.467284936563444,7.668803459950254,2.4796005643739774,6.768311856376808,4.865936595317103,6.774962033432475,8.210666120974292,5.784373937559879,1.7961868354458543,2.6727692063075925,8.560775053893844,1.6544231657611586,8.60105653000074,6.375877015494622,7.718306215039973,2.864385108378289,6.838042169219096,5.935584784383398,5.050254008258817,0.279585501468933,4.01453549836952,9.542227728097,4.345772189596774,8.848943384538314,9.63426852821849,9.66131287122473,0.26792334585393984,1.4466519008328238,2.44342229208684,2.185590133288635,4.664379932327392,5.449452098074479,3.4084793544812597,8.558579953315462,3.0612131618021565,0.021800149629842558,3.1657669077339436,5.322096574822625,3.0220888239418384,9.848790726516523,0.21482186615212728,5.833082568426242,8.90574309032801,1.9343297811338689,3.9120152456944988,1.8845396231744838,7.659619025175688,1.0381176694680638,5.420466882715338,2.367786889559851,1.1229540165233798,5.7704625587400376,8.982221230600777,2.6442774873516726,3.5542885775976316,2.8798076102779535,9.672654580451118,9.637563436300354,0.36849063645604474,5.25890873592709,6.796582257945584,8.445352387758053,4.731891432466818,7.056285958083432,7.8863874812895585,3.576843584760562,1.4883979916769496,8.708437278746228,1.350015329469123,3.529735405743036,0.7972786893188855,0.4543575885358375,0.771759474274567,6.2787618249760815,0.5534365666795116,1.188566012300617,4.957909820955613,2.0402047109318397,6.440537055478757,2.948040939249502,0.5010993377738582,8.618770256539335,6.113607573079828,9.149329004415266,2.9614760204007293,9.111021267931463,1.5540930676369324,7.853785155439361,7.64922265858687,0.846706388138202,5.980186155900822,5.308235194976376,0.9656697897096245,8.657005432429099,6.777659192736181,4.300371541839829,7.796355230330483,8.775775682257402,5.276294813679591,5.383539065851713,8.899138264944927,8.310894728203191,6.207740992375513,4.339533954849324,9.443216638247831,2.344977693592062,4.303739104380288,5.324385031325053,2.2971717642482794,7.72903819878691,1.66257609988959,5.704148222158598,3.959106227602226,3.8604912573823755,0.10818880158088184,7.031330123226304,4.029830880794913,1.4061529530950034,8.429416280712221,8.297847034168498,8.087933629167509,5.769177466944915,2.8469350497213517,8.853339576610919,2.638367627900454,4.501563254603638,0.5495108440617635,6.401759048720047,4.780267058510955,3.7360352733661486,3.678107145573021,4.693595471690731,2.8946156478783767,1.8252585610581962,3.774281267105507,5.19513643425822,5.667138374167296,4.751093038121141,8.041382967532101,0.6358723237696384,9.135192348315305,0.19201370912749205,5.044065525211334,7.782743338260582,3.6053497964246803,5.315795506081976,6.475128180413091,1.3825285125552023,0.8646855683808452,6.22973581087776,6.550195508019217,6.183831034628621,1.9746541306187293,5.521043330971365,8.206135775372909,5.382470624892617,9.552145341189021,2.8771799329499146,5.902009154657368,1.440838418680822,4.959313473623347,9.68969578536859,5.682677476802568,1.7071860512918668,1.0046795947734566,2.5361475937468825,6.125782198156498,1.581381142851428,0.9557124644701964,4.257123919833337,2.1220790294596115,3.867520973286347,0.1805880129210491,8.796639817406394,1.4946842080227751,7.293944127685421,1.8437541902475163,7.901276910563126,7.119688509819042,4.184955909154066,1.8412984970200563,6.055682826396952,0.43366418956055974,9.300725677837887,5.8845545691352985,2.3018701772394423,9.0732049552034,1.3198559795002063,6.540381428733096,1.9077799120542394,7.6794733626368705,7.7783298665424265,4.7341617789258645,6.995962932172915,7.786186947490256,2.8162040753684225,5.864992777106761,6.033722325337436,3.9332369349887006,2.437290847546345,5.089660084208145,7.859900829371896,1.1756264647818149,1.5147900099882416,0.889609680405421,9.497461349083375,8.657569886207401,8.412890334581848,1.6666988048113174,1.7583025372506589,7.939936367459385,0.01321734497594429,4.8675189279300755,0.5895752492780937,3.1132800880707725,6.56475677827062,5.218045958128386,3.104977868377113,0.9677302791056974,4.81359943424391,3.5251705670186304,8.868804262599193,4.003173376740743,0.9829551528133929,4.801313659782542,9.84013555675277,1.6611690406781654,5.19952658913641,3.5791497732212543,2.4701371411719677,6.762693741669023,5.135223822571454,7.03897005736462,5.149973245905128,3.6365449843249054,9.406675200694513,2.0636025837131666,7.013751857783608,7.610056185062099,2.5423199910816106,1.1952452689145132,0.1921478668062948,2.8028793137947314,5.427496751434288,9.131030341705266,4.186871610708661,3.7889817134046764,4.031247529257955,7.679425943518288,0.9364436043373026,6.043336297303937,2.5403429532211907,0.27933751870728774,7.539422473799121,6.965800582672241,1.860837422608862,6.0084923028687385,5.757515957609042,4.052829525810388,9.298948117464253,7.495938815278508,0.7473314102094109,4.975082734509493,8.539697207585313,1.006686386183604,0.42224395948141535,1.3386339345123044,7.3636612648115305,1.5586962899625223,7.225386805772999,7.318017970922515,6.050857360166431,1.4636688590189273,5.313074749223183,5.421672118418752,4.175962155462116,7.575675194782283,5.501875215018721,1.5333097774803695,0.8153344804525486,9.840903248947706,0.20967773147132163,8.849657756677997,3.367534272241819,6.171137065790044,2.8872844335425185,6.424530127930806,1.154917486213003,8.252270944179793,0.26266282055080525,9.568992229155484,5.057151063848801,9.697985277836441,5.035194328405622,7.947313348328714,2.1055638843477844,5.970869735237868,9.36208751163804,3.255194416954411,0.019260265975590274,2.712299357258506,9.273460281535183,8.309932176684223,2.2268637305415497,2.6228832782858067,3.0868209581772064,7.431990300107811,2.808272741708758,8.070645510251325,3.4345494002067243,3.727252763708985,4.605581629472702,9.053016050831081,7.300197950125539,7.815640614243598,7.275077029691561,4.617126147476096,2.7343873479812366,6.633246249016709,2.5514549033265546,1.9097973977533955,8.548120048850858,8.854902016918754,7.75850619318509,5.698805523040896,8.31345393649633,7.715577599979095,8.303454976314976,1.7035379249010951,3.0581765050391443,1.4578852022336197,1.3098922073875008,7.874232786140784,5.782542571617447,5.697852057919723,7.645902848619166,4.9011756515247304,2.0206029769170817,6.669476121317245,4.357069877501693,4.068881502723998,0.04891002312762405,6.100807672330847,0.13659389119743404,4.519663884489122,5.516234469060118,5.737739670030656,2.925925253257753,8.410866583475592,9.468575597192277,9.966012295036071,1.968151277270117,0.6868933790010412,1.2019028955117383,1.5568455608228182,7.132187302017249,9.797378558492873,8.677552906602495,1.3233786539858206,9.144208591399718,4.153625721245351,3.015398341908883,3.278372051905868,6.438087416485313,1.134810906675231,3.3743875570738044,9.742808098469958,1.9063500332905214,7.424204511255765,9.200821728344497,9.117832249343543,3.1859325903760984,2.5607108639120324,1.5975431622884861,0.9445888395994617,6.375609828844039,0.6381506523214453,1.023343764300646,0.9770216159074152,2.635386287670186,1.7141527423133418,8.240609547704453,6.601076581896223,5.26099483388617,0.7675605505584182,1.4564386274350238,0.6205403712250601,9.878152204556802,4.8604656074044,2.579609721494869,9.038600992030009,9.228540749525765,5.489889520580865,7.995138859232166,7.316618371773665,8.593173702829727,8.414689087024747,3.352954596167974,9.145616520948638,0.2589971127938895,2.288233632801069,7.736461274894638,2.858652902513054,6.684027043116112,2.524732308242885,5.214580720456249,0.9557698029519679,8.247451475891204,2.443381314959947,5.435917966286992,4.142818788037495,9.908745266019043,3.7795218411272256,9.145681560313326,9.797793969368557,7.476152124754011,6.349170539511849,2.799118652517707,1.2657904413735876,5.288248957398208,2.739175938804318,5.505789935685486,5.331377992916941,6.313944629893639,4.117612201327232,6.794289012021128,6.964217516964972,6.016455604414839,1.056627208943245,3.5019308890449894,0.808329534143809,9.975551824027615,0.3121606674526023,6.743248458428827,0.4352754448040552,7.833282985563017,6.021755506312566,3.1344376173702324,1.8028029482717767,5.199715685804982,9.1991124282157,9.733163091071813,5.064040047826586,1.9510454327177273,3.910207603418443,8.941215232711913,3.279100501650122,1.8744848408990034,6.579874402384704,0.2924477916295809,0.11692027983102427,8.388484798979029,0.30203069060076526,5.304212033437313,5.406783752255933,0.35789492549312296,2.2456317447902263,4.752479250314768,3.261253679734184,8.568024117290312,1.240747281814678,2.985843880590785,7.120021257537431,0.7694679540026206,1.5334822432031214,6.9875427299268384,3.5146607153138887,7.31948811592491,9.980732508295592,1.3378269673431231,0.9911302832320024,1.3951862612139487,2.7191713086321756,3.4321242183702627,0.256494278858459,0.8850695629418526,1.5654098797400584,0.620685958656666,2.6410106726460016,9.297514771696513,8.053820378429826,0.23960404687177195,5.006082905656459,5.285068431997862,5.221495611363415,3.8522111405733437,9.68500235292701,2.268519235322475,8.304332697554342,7.210105990665259,2.00925933854031,1.658504274640944,6.034126254123059,6.460964961723339,7.025665631626355,3.2189531927779704,5.171967637436683,6.118739885112316,7.334993322259478,9.463776842935985,5.958212329091555,2.138687107765053,8.366936768576329,9.829881960763597,7.4084228412633335,4.338800232338734,0.7572992678454504,3.81869932826549,4.721207613409371,0.9160195664750648,0.5463333707786711,7.433034446477858,8.719245473645877,9.567042552865413,9.331243679539542,8.420767282579291,5.629237385175854,8.366857960552661,3.1633433148532375,5.094252874340838,2.9998265107081057,7.676214593927377,1.2685012280122876,7.004981332360658,4.873527199445089,8.87416292949084,9.207499317657682,2.7537513563480553,7.953281427987068,4.989804960721865,0.5816556184370769,7.574960404830548,9.008917244543053,7.165023224881244,4.590327028162312],\"type\":\"histogram\",\"xaxis\":\"x\",\"yaxis\":\"y\",\"xbins\":{\"end\":10,\"start\":0}},{\"marker\":{\"line\":{\"color\":\"black\",\"width\":1}},\"name\":\"B\",\"nbinsx\":15,\"x\":[4.9767774736508485,3.1001748191835947,3.9522171064910934,4.214392239209995,6.422901940620628,2.904405862118796,6.908046132020157,6.370326340277719,5.377432493870868,4.819139989297348,5.35449127289781,4.64238469031988,5.195448279310908,4.012198285996544,4.469641269222784,3.6147431766051907,5.4654100849331515,5.054103348169712,4.951813101972094,4.4140647952324255,5.29320439157655,6.685497357685646,2.0788103661465693,5.624995437764986,5.192198058720404,2.184499453750238,5.455341571698622,6.940890836545027,4.2084055905066595,6.252343214769715,6.544083746899538,5.796501353067079,6.397329093513344,3.6235062997819174,4.130226530269524,5.450791674176122,5.453425149329386,3.1400365624253386,5.79998683320332,6.01037077825127,4.166259382804848,4.280252672322846,3.8706307604091417,3.6248244888712104,7.054483652731636,5.144965919497535,5.365200030651515,5.273545506124472,4.431965886221029,3.7134498115857184,5.0747975067913,6.161544396817774,4.005168980547552,6.536648132453744,3.920400371687869,3.6587879701557298,8.879979513634524,4.507320631956534,4.885243372020776,5.721474962324042,6.4825964006118095,8.252177838576426,3.6244642564859317,5.114296415389645,3.7148614117650407,6.304975043058784,5.635548690104544,5.459344841755089,7.103747761870815,6.56616233350098,4.579852554088468,5.792002692258203,6.2399089104705485,5.251668796174587,4.794001653022181,4.578194709624025,6.42550312481171,2.774982628653243,4.397235380795801,6.156186833428276,5.906863252489448,3.386144785785177,6.953860387934307,4.918455809573606,2.6837552207699513,5.418267510679629,6.799057346864871,5.271390996306055,3.2473676662196054,3.982079483133349,6.376783663432848,5.2155655440364095,4.185038972284938,3.2832107972581106,5.084084031650806,5.191228182404801,2.557609653874829,4.3875909272199145,5.878847679137201,5.842419316113865,3.1898431401307064,4.267758708252352,4.166586155143366,6.697365876111485,3.4248868937190506,3.2453672492375185,6.189149317633701,5.281046029221972,8.18097699011309,5.260452162749238,5.959112938947489,4.925603268225687,5.5790766948943356,6.8851031901549495,5.897106897168082,5.531841665214923,6.374981964182919,5.082631771026807,4.889419967830577,6.686311788342806,6.566195934553256,2.980260065857738,3.8509651297975815,4.843290239952893,6.84578779305027,2.1512418898535257,3.8939933324727534,6.045019439726255,1.3386936561007472,5.950900591392793,4.260555952692816,4.458605639068065,4.914908107147195,6.847643146916422,2.480106734179363,4.2016160515424925,7.800912048979938,5.586329886279895,4.675482162758617,4.417713781992267,4.3082136685819625,2.7203035286764936,6.999951779564584,5.636188928428316,6.367498520497139,5.962765323242294,3.9260425216326187,6.679443709712573,5.212542471237679,5.801711970271969,6.453597136353064,5.6469697921721,0.7899772165302759,2.1869592857416533,5.023263802350725,3.039499631356035,4.156072662892756,5.240892989776842,4.94848981822419,3.547569007403714,5.308961972269947,3.3446297265168443,5.262314507943934,4.4275853219821775,5.629769228858525,6.668256944182188,4.090982266121492,6.914718842879029,5.7475644803636605,3.9077111470943837,3.364291681294447,4.03247996199268,5.139825616310128,5.79692778410966,5.0562970750947125,4.933035317360025,5.7950016355408,5.48852739553548,6.737673908410658,5.411251051070397,-0.7463238828523755,6.065748254892802,4.118193216965449,4.9219728602219845,5.000966469303932,4.491596493250357,5.4958072253293775,6.0844645020323345,5.985881508720684,7.923484392705509,4.302513071876065,7.086391290502139,4.3207205498409635,7.035496884146092,6.962193950746931,2.838525770723754,5.930528692378545,3.2560183732328465,5.686924655784894,6.291100773742551,6.87340691963732,2.1421406315697453,3.848038481624763,6.155857246202387,7.551179997152998,6.218554502166648,4.261283403364324,6.379366932450556,4.904058205289252,5.044297634627471,5.70828460662002,5.239238270577158,6.341455208388086,6.13124914658802,5.48184721014412,4.259917777197273,7.52297131281173,5.959034360383326,5.440510857282897,1.562609186743742,6.515660713050928,4.507316074246747,6.84164274832683,2.9395140908231916,6.32307019166444,4.93536084718791,5.838588511950421,4.233750329072157,6.836999964746765,6.49615682699975,4.819997011870356,4.115793184967479,5.641533886557808,3.847385289179235,5.102322963839761,3.4838734602303667,6.929335512448409,3.4668834023462085,5.472265057094869,5.15399395436998,3.837709404228003,6.65035667847193,8.544919372417477,6.78966542377699,4.390577969616152,5.5169125396530205,5.264600870721319,2.3903113558277056,4.6392620338842825,6.410403377985276,5.441760980675637,3.2231058438914943,7.13077067976875,5.55305272307647,5.417426327666856,4.62856734295694,5.537159812373546,2.6169965167632547,6.042847324827742,3.820511710304662,4.597603799848758,3.9667276217001994,4.135123628720082,5.079140185689397,3.3089800954160395,3.1233474514863975,3.597399540564246,7.083684274537028,4.411069792220459,3.0021478965007997,3.7004031710663825,5.780427054705936,3.7738115303133095,3.539983499013532,5.558871731995444,4.2252958158116884,3.158327564410607,2.876619123222349,4.693808748659783,4.498758979156312,3.7189644853835877,4.871607925612054,4.3449271677816235,2.7096725697744413,5.354741806262151,7.077487313006156,3.6265463069697965,4.380769349278552,4.287607755238781,6.218576363169833,6.229567312250685,6.150898686077614,6.665768632738999,4.22490445790085,4.889290390713953,5.874550928158486,5.273520266589999,3.7979779372453075,7.185455078946809,3.865290438157747,7.213085138147338,3.9691207415683945,7.468847034714823,5.595269478871013,2.7620324267439123,5.416029085337863,4.3998376214682065,4.983481608756335,4.381050040506661,5.669874207458618,6.925636917864155,4.492230755793717,4.3764347563785035,4.215366051687016,6.006054422509029,3.4459470124946323,6.243637928724681,5.9659951996342215,6.7185002745266225,2.9831631678425157,1.5564607895455271,3.3944030700039622,5.459066549729512,3.891506207156982,6.1639573344904655,3.808853553124093,7.31101832231853,3.730125499903866,4.423359849482465,5.649643107926645,4.063395184988133,7.002175948520704,6.84303591133825,5.836167899886525,6.255618559411124,4.064042011734928,6.302971015930219,5.895317885552416,3.7528043394938493,5.5902445246187344,4.743282604179049,5.3247311846290915,3.6189556202539412,4.444023894538207,3.0415090046735322,4.678538539555242,7.694796469089804,2.232711615452244,5.193088807210748,6.448921111517468,7.429311501621461,5.691227430477125,3.5902976679793848,3.881843257427178,4.518067498447723,5.906071943483726,4.966455840355461,4.664063337063771,2.9927649206242855,4.7276980328561375,4.2140497307080045,3.971356217245999,3.0231933279397936,5.248455553182351,5.592678001580902,4.1059274553653164,8.312164959025331,2.911660937055838,5.557244021914456,4.363435768962298,2.3525922359143867,5.366633455264411,4.538412504525109,3.4306173652694314,1.7019564915899004,6.5653880213053775,2.33659134037052,4.159030549372258,2.15089901746178,4.595727662894948,4.494383285191065,5.6337187709487715,6.8823880945389035,2.3484116442491207,6.045822191883117,4.6376494240842,5.8456209979463205,6.771895879806603,6.3775586275820935,6.727807226570269,3.003096145723851,6.084737673971497,6.301086240694595,2.5703210127163,3.939346778620396,4.106817687230786,4.537234965872383,6.473801589737897,6.2320130011505945,7.162541498523165,2.7146991899046595,5.432516278961017,4.617098811543874,3.925861739648946,4.64370246901565,5.343980271014935,3.5445993194179075,4.097578982262401,6.986875127174642,4.877246068292098,3.461883928248283,2.2640261142796154,4.12183327416204,3.7663691561613977,3.0353507849768153,2.8967103398222704,5.792139117131038,1.8414537586876816,2.444782004677879,4.535099560950351,4.2485826920195935,6.06102252075731,6.709534307302768,5.202781959779118,5.98118637707485,2.3080680367256603,7.562170140165986,3.8317013624187126,4.4776939107393705,1.198400026306837,4.091869965502508,3.2303797233039218,4.873277071405037,4.1589857601064155,4.453341761948387,4.623287396853259,6.809055474946789,6.0897631405076575,4.712587190395601,2.5211846315288344,3.5540569172835275,5.781190780844549,4.7571671745529445,5.837842416639722,4.013712411866185,6.269484438861019,5.903757666653043,9.254142817981768,4.765456092900287,6.126748956866,7.406802526307782,6.137517076792341,4.870753089866504,4.621040601750165,3.9460629043594158,6.295883111107686,5.019934253158631,4.64632078486711,6.314136259200803,5.108762449154021,0.8803200512836797,5.896168397722475,2.8830502160039684,6.115256188045496,5.862989726852842,7.046564129069802,7.310549257862618,6.3331801876195675,7.736825395438602,4.6318571497434355,3.910222000413818,7.1903508107013465,4.787284283539608,5.33087239535696,2.628392402531266,5.230928630798862,6.650303591153226,4.251454721200899,5.183824930872931,6.305627146125129,7.322194904434629,2.0838727124921137,1.9099536161096857,5.454708267906708,6.6107965142794685,4.897545950032849,5.853384276677303,5.800504170743051,3.640512536338079,6.526624697958649,4.372211520915719,5.240261900627751,5.3510703911350825,5.953030108709411,5.421858769444068,2.410955552576256,7.742764651634412,6.720919556876973,5.989378257044159,7.744736497229132,3.2409298504475705,7.642024746129341,4.93832299135065,6.483254502782848,6.13023789501262,2.9100246969568895,4.574671674675206,5.739285023823713,4.288249153704638,4.217974078874918,5.820027486686316,3.416617589461338,6.5768855619661375,7.400698698499524,5.7867300250502165,5.008416389299856,4.829011433037548,3.807774404082604,3.7362222204043127,2.2130599196295786,3.758354978218853,5.288658629916293,4.873885443686618,5.8400986358860605,5.183389240121437,7.783219568195504,6.35480985063726,6.699791413162231,3.226199541174169,2.906872880729124,3.042366145802614,4.342448875998939,4.515661847433525,6.571045552637342,6.632790706485045,6.231788080590583,5.740882612008608,5.778946323958095,5.118686393085556,4.053739851677153,4.951173691008771,4.316950376815743,5.736644724763036,5.4816359075833665,5.383590101175833,3.3932908321286672,6.480839261702831,6.791002633361428,5.002902693010633,5.354020570307061,5.867737000220128,4.228331916798021,5.847488754350575,6.58652024854284,5.888568891079336,4.556330148153286,5.851660394110003,5.941960760252929,7.218360831709502,6.974195839650317,8.543311701150602,5.767872794323564,1.867961401528257,4.9557135922443205,3.6678345305960884,6.903703350759649,3.43320640894462,3.9404486907215635,6.270569795834748,5.9224355108901054,4.229279280995251,4.005405925004162,4.649281900441231,1.3933885108722421,5.004641150511626,9.008684277877387,8.47087564870608,4.446899446116525,3.885181508693832,5.085726980241708,5.030052519153421,4.1090725215161665,5.161026011679507,5.837511490260935,4.849239520229098,5.171916155504357,6.141050669992737,4.031524489028212,4.1067218689428975,5.947307114472786,3.9545487458787107,4.706154356492463,6.330607937812557,5.192592795224013,5.063447504865313,7.2486147605988265,2.5861182915311334,7.087422974635777,3.96884089687736,6.154133747432169,3.5732668261758445,5.0322328802784995,5.604201759001997,7.64807251659815,5.79244075268309,3.217548832996796,4.8799064216951,3.0670457047094772,6.171495797193131,4.93379274688501,2.7223904932712446,4.496919634679187,5.3714769577884836,4.0089195347354565,4.941078110484246,6.759129830241754,3.2588692707999103,7.396864019601316,5.218588664764198,6.66519171822066,5.718141498253321,7.123819863149969,3.861215792576381,4.465958466636367,4.820602016105581,3.6487095667308136,5.280217492615571,5.821108539274686,5.468704955956061,6.0083813504691514,5.276964578424523,1.806388946996278,5.773409421796872,4.761421375225779,6.02060944842631,6.756118140993129,6.81167385468255,5.50999814559973,6.065449036394601,6.830706698365974,5.816105897362556,4.17626443233872,6.290589440638966,6.1379704694834345,5.6965345087034365,3.3056153016435665,3.15834358351329,2.1247864015785054,3.903940808452682,4.692591339237652,2.706174958571439,4.699465041857467,6.310805029010414,6.3216367177379755,5.864570084309198,4.246232962518616,4.6037791715016905,5.256554633604183,4.563347264879842,5.004723917029596,2.865524389096974,3.2485499898978536,3.278034954706898,5.306408368307548,3.3479275603240355,4.155818058586621,4.81378602408719,5.90376789193088,8.109841525489456,1.7382129394731196,5.802070195469743,5.463440007945666,6.900774272476875,7.954890504648181,5.920998257432567,4.763662961516125,6.918817754440919,4.5287694134431105,8.952398538904655,6.49557121553484,7.317445699333641,4.33721155212648,6.781066625729666,3.4046631516043813,5.5390105155107605,6.112256676796499,5.0963919701679,5.114238015279024,7.725452534496764,4.7531273136405465,4.98510397381915,1.6064630920188838,6.58238047475894,4.80841038963478,2.992663015508449,6.548924222887516,6.387316392047897,5.811746170282639,1.7738718634061543,3.8823266041153808,3.7488287320650455,4.333710584507207,4.716419566553273,5.937036373654717,6.798047548131985,7.1021374512127124,6.471770192364815,5.985182036749587,5.9674658404666365,5.663562996961717,3.6173168349288525,4.947668110601061,3.9601679838570742,4.247090354133895,6.255938061725917,5.1825285780378945,6.792363337832695,7.327166889878063,4.004658395392141,3.465393064363325,3.209893482409338,5.436401948860803,6.056149220266157,1.9210900192138745,5.061435371254547,4.6016495595296485,6.172527163116325,4.90097193662764,5.3195278829285,4.190774779816355,4.0097436260039965,3.709407207515895,3.882702555323244,2.0965639547909762,4.537001118437734,2.3608859926535066,5.154834159631344,5.26077588196134,3.9343843562507343,4.579852266328411,5.286729252995804,3.2942530467838,5.981124765360397,4.159936998535525,3.840492854483054,5.509818703189723,4.344929570994736,6.8104891315264355,6.4083952834156195,7.061080992172153,3.261249053831745,4.97119745974617,6.298843214610809,4.28171421127444,4.363656028718686,5.377404990083726,5.797077382354613,4.225557773321376,3.4147031537548926,4.362304145968485,2.1898875675777245,3.354186666004641,6.630826359697021,5.12296862988238,6.078729376165596,3.165821498657531,4.086228843770934,6.053994987166605,3.6049622920482287,5.840563180193126,5.713440632266602,3.0955371204162425,4.830228558408527,3.8139316304179505,4.310276422549633,3.4927421791924074,5.754922595930805,4.604341768678729,6.149762817744224,6.339885914381342,3.9861874847440255,1.172122578087249,3.927632208632215,6.160824633604481,4.975478566544727,4.535578554227053,4.211333161721656,7.879420918949514,6.799293922359218,5.849934578489699,5.494623821914696,0.9909040175686146,2.609697306342103,3.144060396717457,2.28464315200054,5.705454635372114,4.296121328156728,4.1990692289434435,7.007450232858808,4.786993191135495,4.543186466087004,5.533594321219428,4.941790605519749,3.4804364140074764,2.9711718596642407,3.8226874408913547,5.869072816932623,6.3250294455152,1.2683817632546326,6.2823456231674175,4.226282663065067,4.579376606221068,3.3347843760668985,6.558099033889848,7.374479843565866,7.1392970200809,4.823046603924885,6.011147692724274,3.9695353751092917,5.951386191494943,6.160160187702175,5.397503790442558,6.88782150196395,1.029813373233707,5.994684014520858,4.638847714064019,5.703243978389837,4.758568919354428,7.067975697154548,6.098859022950067,7.629035722591265,4.769115516597553,7.068427932262701,7.260542679930618,4.383104871826934,5.585223977754419,7.2677793548902745,3.335421924722411,5.7064215319963925,6.8518831099463755,4.968861659266729,4.868816327317188,2.2799795674301877,2.824910150491698,4.27916946674325,6.879286852029187,5.725686635202887,6.384050417687683,4.07193726770919,6.069244610068216,8.431658385484614,3.938532767120639,5.870931065017613,4.140794123252472,5.8348721482767365,3.163052111135262,6.675602960042969,2.568578532284865,4.569283582816316,7.878536054577683,6.971375691313638,4.381635737637037,6.127618132765279,3.537187346404171,6.120197557969065,5.367831141478051,5.6188256116683695,2.564051037948635,3.827510982798174,3.9297351018108415,3.722977333071105,6.1230891785504244,4.916550391487776,2.1817238547592277,6.312376911247161,4.632083197214289,7.840741652759707,6.990377539871459,5.909701350145049,3.7411523917224456,5.955254427031527,4.080454614751245,2.769282605591333,3.8491809725166504,1.9043292669672156,6.20576513508583,4.201197740842054,3.91917760462053,5.199311688999494,4.057793378360326,1.8086127937331806,4.208566913372591,5.566496872843269,6.316105526837327,5.672959897595586,7.994681177119938,4.957334629689011,4.935913898373818,3.4542255192997997,5.250181537813791,5.64702521327098,3.5639226115643403,5.296961922383428,6.5445604242942546,7.388578807982241,6.405012923230553,3.7243575825550446,3.3647863793301567,4.757763725952205,4.494999152379896,5.298235626153796,4.530023215499657,4.139651927958343,2.7752707527834226,4.6760189693948195,3.944575403211389,5.963980052711081,6.917685135967869,3.205041005577958,3.865607947097277,4.899476106253804,3.019389442162172,3.857783833015042,3.690986693992644,5.188309575579127,7.127248939546333,5.450740070614151,5.664625745812531,4.070332195728492,3.7254849664683176,5.208124187474666,3.006203086693196,5.8696985053494295,2.9731139677785894,3.4431734549414506,5.404286105095407,8.179598652208295,4.368372617070311,6.052559036961471,6.729525474930762,7.432733674844172,4.842526369112061,5.507507036070198,6.259125508929765,6.976567218476395,5.757056821054025,2.602687074512147,7.0171458425920665,3.832798928324793,2.911213165933173,3.3124733072452215,4.951856431936981,6.453093664386595,8.045085513454186,5.024010223007196,6.595019806722074,5.401401140413763,2.988234300537903,0.08439557483664206,1.358005281528257,4.655047965076911,4.254976736574357,5.5950835351168555,3.903530040382586,5.834381268316716,6.027699806251317,7.343302961662248,4.846279910501733,4.535693946668801,5.130000376286438,7.367479560366922,3.6400633433631913,4.926704968308135,7.982495256686367,4.781536287429018,2.679352176424671,3.9043026998624932,6.863749404086367,5.055259391684859,5.223296420692962,3.08704554987224,2.948101905241111,4.830251855273738,1.0809826539955187,4.801238866424019,7.957598514130042,6.78995156088046,7.508539725010074,3.032987293505415,2.9380454539202323,3.9657130039583204,2.725432449353586,5.536376900817817,6.516716821313878,4.873650110615551,7.149200928250982,5.1040284979888755,7.150283600891402,5.955311855455415,5.407282503542966,7.073703854191462,3.975658049199084,4.69517627289638,6.672010457743685,6.87265876916918,3.1366904917548224,6.480557235393244,5.198801897499892,2.9543430619868336,4.648166309548107,4.748632112734045,5.228085080817149,6.735218102612543,5.243372748950931,7.089977812652918,3.645158005908555,8.02199427605007,7.2574219763456504,4.823843264873033,3.7901797776692043,5.009326835957333,6.597934562011398,4.37227810673607,4.48284999773279,3.5198786813662593,5.116384214066504,2.0674008992536,4.779787946342703,5.499656366706348,5.535349840685054,5.89635759448641,-0.11198003236286347,5.303787523523759,2.8872521923531984,4.499169172284438,4.8305895665832495,7.863962564769459,5.137756585250362,3.9910901592105716,4.11081003252159,7.465292738510083,6.313482014816435,6.795660890286582,6.374364096518296,4.804195255908932,6.500142767081473,3.26861182235571,6.830437378823511,8.578141301952021,6.129681285420913,3.180206593901942,4.7886668728570605,2.7762211403678885,6.372681367154881,3.735335753016381,4.56734069400455,5.577469401686648,7.9787710517557215,6.561119121958998,5.857331205665684,4.593313485641903,6.850983943529522,5.778595551820507,4.484228103827205,4.460322955568906,5.841254989693461,5.912314590645236,3.9349523531648507,4.1358776577628955,6.462356833398429,2.7438713698713975,5.087779803365635,6.504717191367878,6.595512343497973,6.157874375396287,5.365041881627304,3.5564963883862015,2.4707521682314244,5.15633696490937,2.460064263288764,6.1589627533385185,2.8991707763093117,3.771096876223069,7.497758825040264,4.628577203813456,4.906291286037722,5.107541849349078,7.337731515189427,4.036607021153847,2.9330460747098224,5.034635796196671,4.706254458955153,3.409761529303892,5.593589677961406,5.609852200444318,3.7446755825817,5.590738567362964,4.468870228183153,4.586043247134257,4.506376082346018,2.9668955572186038,3.5333109962858895,2.636806079557882,5.5343611099923535,2.4840166269854915,3.769788642838232,1.7835193653765984,4.040440055930382,7.2371700393338,3.372459741617969,8.081506487534657,3.918377174215789,5.144292097352815,6.428582451922148,4.392745659574195,7.978926126270979,5.335919328209928,6.0499968246129106,4.6783082336873125,5.402926403869514,5.728886255620584,5.0868629744878175,6.697028657513375,3.391114872614329,2.1929248020486565,6.2219912570995906,5.393067324009519,7.703530977823233,6.107305529943719,6.2852677737391485,6.644208430998942,4.960742317721973,4.851593421044979,5.598467827739917,5.5140287573983615,4.51070731540705,4.658236727095927,4.532130386550691,2.871316961978122,4.037134569649051,5.389284068677024,3.2815970456360453,4.5807714587611486,1.3997883786202205,5.482212139000181,5.119523211681671,5.541252605684111,4.158431354015308,4.947736933345406,5.725535103136314,6.03846566609266,3.6884978690250465,5.282506492589939,3.7747453658943817,5.644683044778556,5.583565173775177,4.51400002964951,5.748297134868571,3.6970779912821174,4.8302247791496935,4.586636758742634,5.073399492891564,8.11586460293001,2.884150603314314,4.897487623481191,3.731663483938009,5.888585954759595,2.745236413572692,4.562184800111049,4.9032911084182365,5.25616909351058,4.252068619153375,5.80478230309945,6.005450997993342,8.330492397528438,7.354847370467062,3.7537590520316853,4.043158347043633,5.47370806918273,3.7313989614274528,3.9505661438168795,7.0053073433633095,3.3757070344997055,5.358806878403793,7.0491667043180275,6.051772611701031,2.1964336864645406,3.264750296458102,5.381056770333591,6.882357800590366,6.871654225233131,4.647793881069251,3.251351658093677,3.6895015636009028,3.750594967676782,7.8857475975734594,5.894065845977215,4.023889824470358,5.1486047364858925,5.196374919561366,6.240480368276084,5.630959326437243,1.9143971808442686,6.6492588681295315,5.760046714766569,3.8313126895615772,5.372748339042067,3.1374238198731614,5.830742932653022,6.75419120732853,2.2898944606402383,6.387613559167901,4.931737327178116,6.398861225608543,3.051673344951319,4.27509920641259,4.798582761701142,5.454447024160092,5.796269167996419,3.659407724010948,3.6325849396246292,4.472026476167576,6.007681412845462,3.6890026080549596,3.6599128454843584,4.569082879363277,6.007416945312053,6.727514804353293,5.699617743233546,5.298763857090519,6.0696736215041796,2.1822989358642495,4.082794818738607,4.935145615675626,5.496209990161337,6.9959834604504,4.916335478568225,5.28744164048904,5.623820379005461,4.760504037321455,5.704210146314928,5.901969187128283,3.0603721651388045,4.1415970029470985,3.8597263371362613,7.919870600274783,4.19424862776726,4.68929891192568,5.21893092828372,8.053175991963235,7.151280683869258,3.181472084015411,5.349645814004742,5.107818486304506,7.503630883681341,2.304273232607298,6.620628465828851,3.493654328702108,2.8666377566327323,4.931818178024031,6.973140508295696,5.714091885806908,7.410221614990808,3.9797985195961347,5.6201743600243965,3.4043471940149206,3.404123942922074,7.173092611017672,2.5817575425398473,4.810274838499369,7.506953236080539,5.326687810313531,3.7204702250466117,5.328050348409026,6.212383333345154,3.2833838505406283,7.661955918506363,8.123976124396798,2.6350125539390614,4.227057968046645,1.903541961246308,3.6382858031193104,6.0409724683113115,4.0659589427854925,6.246583549365804,5.229737305462278,4.59709532541045,7.6671269103162905,4.065195922903712,4.53949675111253,6.346724171080964,6.324661835899518,2.107199112258555,6.719193636135785,4.8204647401365195,5.338494875897397,3.285281320499168,4.725208219841489,6.769891141675684,8.247858567347466,4.281428738726705,6.5990479067913235,6.385269576359887,6.181140267383865,6.694022936880492,5.8216979625146745,3.0187744188863963,5.7825000596547556,6.044134297768084,5.403837506185692,5.110785783913194,4.738560406287222,3.623075363471289,5.938754854317965,6.6062997331818325,6.057130221969297,2.9572599273314886,3.0492606699810696,5.184719169905806,6.453704133481262,5.554685843916589,3.449736399324903,6.242678365862451,4.7995032217410944,4.2573984896855075,3.8238953065677252,4.445901193536037,3.712094224705016,5.153379374464598,2.391859269874537,6.855037179140648,5.42351327326058,3.630138448977827,3.5936682475800357,6.918085533281357,5.359344557235956,5.49212781570822,3.3625216477735598,4.841874907464588,6.189538557701129,3.6933891504801455,3.859017636066862,7.796065661919018,5.640938448634428,5.537886067732116,4.706099396192256,4.043711812207719,5.6525656906226525,4.393844617648807,5.481029486392009,7.116382129941631,7.39365550598758,5.886981074348577,4.765225879419817,4.688678432695295,5.5484746912251435,5.184617792047224,4.541420679850306,4.691189610044919,3.795329726190757,6.741292386766812,4.046111071915443,4.660524787091279,2.835132019109403,5.388004540478277,4.358770142136921,5.160089103469587,5.6772229282773585,6.698970253454608,6.1924249037543095,6.507071935750463,5.370048532172863,5.231727970309833,7.810446252976037,3.8784073488811392,4.883167101626814,3.9012628680285957,4.371977849925284,4.635594712709394,6.5256211184755974,1.9042020313478742,2.22448817918951,6.189227275785766,4.128567645901118,5.873093835688048,8.829886191275033,4.5442025491306435,4.779191198721315,4.795963817957558,4.536493274043555,4.28168106596645,4.900029348281338,4.69995141807035,5.4177899863384935,5.795232340157311,5.15146969428269,5.421419405344277,6.5390944993081455,5.472047167747803,3.2575660485911673,5.624995584787635,7.876551410332948,5.901951560673464,3.048170136495376,7.7143354724487025,3.061504330419821,2.0772062019964577,7.462999144005588,0.2444307238006287,1.0148627757237558,4.206942594171443,6.1009760651783616,3.7706816790101936,4.479124473436952,3.2736995050108355,3.1279591512901854,5.970042773842968,3.2718985787642967,5.7304668560568235,5.590759257277519,5.407758638916047,6.8373976316454605,5.102484742338721,5.806539074072015,1.8377816018979147,5.3095416431235325,7.615300956026243,3.537063392060203,7.658016274909887,5.250110911259651,8.144477528039303,6.523998452500013,5.682936510166156,2.2459364103018222,5.674377731120307,5.033577658592239,3.8713553488030925,7.558369636185111,5.109193257542195,4.075172142511695,5.682778414542372,4.379672145654175,3.0912226273536763,3.6652338580832566,3.9309316986325222,6.318250581832965,4.012340332792161,4.965500303843244,4.490109956239573,6.034163595147205,2.9131462645439945,3.0629592568563067,5.111237302910442,4.50252264467068,3.6269642308108176,5.032125423533189,5.363273787889072,4.191325458699859,3.862408537844808,6.767698165020549,4.461142512424207,5.765794845430222,2.9397231600251885,5.885869718400796,3.42153033298419,5.181151523256913,5.796890041305297,6.805736682944296,5.625269189700409,3.2920756438974017,4.120976999116945,4.214569376952923,3.8356210485998976,3.3231807097156567,5.4547883848038605,2.316439259416835,7.582007188220697,4.439198118377103,3.6000888412535703,2.4444048801679807,6.051132353410334,6.082803076897265,5.634863961374824,4.6752784316056895,4.2791206713060825,4.213589456465376,2.733085023052662,4.601156786084991,5.027416134037777,5.865475874366164,4.095847932094109,3.4292321341763605,4.738227180238692,3.1763865890915204,3.486113030384583,5.310434700463863,5.133893928432735,6.939973060917748,4.332691064933881,4.485823090988481],\"type\":\"histogram\",\"xaxis\":\"x2\",\"yaxis\":\"y2\",\"xbins\":{\"end\":10,\"start\":0}},{\"marker\":{\"line\":{\"color\":\"black\",\"width\":1}},\"name\":\"C\",\"nbinsx\":45,\"x\":[2.0045541107559033,2.219990798219571,2.4016512622840027,1.8445330091735674,1.5699303508994755,1.9115141810364427,2.185855378719515,1.4803890560488853,1.6189897846189232,1.630974980188111,1.7076676838463276,2.1020620981634957,2.081205075920758,2.064090375932206,1.6145735664777325,1.7362273435269275,2.186004994883408,2.0458845895741713,2.2583930603623434,2.1071678416818953,2.2650583472512955,1.6779738253082868,2.144249885128398,2.20807979287248,2.2185570843770575,1.902537920436322,2.254809777298635,1.7260352435753565,1.8330053895613285,1.6858540916749294,2.2559704099610256,2.195023150187321,2.01136344671824,2.1859731247903573,1.2731150958568356,2.0321546478957844,1.688950240712598,2.0847741390879753,1.7839452528094457,2.129176218960089,1.9344517195020199,1.7901244829680105,2.343786144915081,2.208905877365628,2.2372382882611634,2.257442917429812,1.659997204032601,1.7619116987007146,1.7295426831518224,2.1626946648034178,1.9848518902448178,1.5551487722511816,2.05896803111833,1.795800497496223,2.22430183525721,2.1070835646288733,1.9714286657332243,2.595932111510615,1.9447382414899506,2.3047529014069443,2.0285409387090594,2.349838649663714,1.9524873899661201,1.9635299711518908,1.860377100536887,1.9202071315309936,2.238256785464067,2.0778300438187953,1.8019911494387773,2.2812373589474886,1.8645596946966416,1.891844803392453,2.1749760818904456,1.641130201265001,2.055929416849463,1.7279864857724654,1.9512207524432903,2.1269212824129773,1.7444919698021062,1.848623287122747,1.95203247568267,1.8987278975698332,1.9580139980563647,2.005473117606649,2.000913827912451,1.7286784796240005,1.577668063185569,2.3526440220838807,1.7439528010928615,2.163258745651533,1.9746700636619954,1.924445784153374,1.6996614906472294,2.0263576084459607,2.0271991357056285,1.9451920616999634,2.4842956108263,2.0863731706832733,1.863569586865991,1.3733807310707786,2.3098036170521623,1.5579236131242336,2.077754812296906,2.3084071593657667,2.373455499594615,1.580462216851458,1.9610369773168594,2.1282661030130106,2.261544958975808,1.9191288205936603,1.9598666994943332,1.5806348126376482,2.0524573062688107,1.8604845342787997,2.1936442998393155,1.338003722547198,1.884942570799547,2.097168931874447,2.1476351174216606,2.1759456075128565,2.1087013790572064,2.037355248236542,1.6751728571236193,1.799990479214321,2.023845229720021,1.7033769778161116,2.0168914046330517,1.6367894945985917,2.2897039638468493,1.9892613365871366,2.0456689307109523,2.5373958732408517,1.7935452198980724,1.6828160153943996,2.1258679997218963,1.7635846267514192,2.0358642126587005,1.767749501153012,2.1006744656043606,2.1850569783983698,1.910544094996884,1.653681255657163,1.9436800680564041,2.10510890425264,1.3607261829900343,2.2528565733965626,1.7676853438782358,1.8546570609953026,2.466771282268012,1.7267293552769079,1.9366111946710312,1.7359124719421748,2.4868781394267483,1.7532279836456055,2.606779602798589,1.6595691570564282,1.8143697937684955,2.0909838371494125,2.0211558723729612,2.1466404805239225,2.0019476687058337,2.0828255786023244,2.1362264220214997,2.164716312806581,2.22663676146075,1.9027437502906717,2.1401711309501907,1.704211933581293,1.8752170263300292,2.1910841854714076,2.2026036460527227,2.358739097318727,2.0365842437871553,1.7948120410191857,1.8527034035610324,2.062010006304846,2.330903188731925,1.8557390892865082,1.7652629122709436,1.8425740577829044,2.2039322838553375,2.3021338495657875,2.1021878843737305,2.2400790288209342,1.7929499772244308,2.336612476072868,1.7187507944605014,2.0935802879634617,2.4714499299849844,1.9862382899824533,1.9671119469359941,1.8368086779477406,2.150636349946711,1.912198058347846,2.438715088562104,2.177157729907436,2.2632470702325915,2.0438006345832327,2.1783483569099937,1.9105803427109298,2.2907476407335294,1.6551740338052108,2.651720002876102,2.2290348581542045,1.6765509934071279,1.7815481832298357,2.2080164551298656,1.8673975726788832,2.0162637122487372,1.632130748929029,2.0347737265469092,2.1565908644464855,1.6449118854163238,1.3617731754422202,1.786887853011275,1.9035677474992085,1.5754581373055552,2.0642785588525068,1.8990477738789977,1.770522093227933,1.705993773179753,1.7932288176501372,1.7084995350470282,1.925688891921633,2.2380383069943766,2.133901333565695,1.624671281204724,1.869363768986251,1.764592429410885,2.374121188768817,2.4660926602599376,2.184558343606112,1.9056408224450807,1.722029850859365,1.5757948134898545,1.975994062580126,1.746304176856131,1.5226708740315424,2.2439574189928604,2.2496541039220777,2.172840663918068,1.6930912206452946,1.719302508090895,2.138603139130302,1.8219324958411405,1.9235139377110368,1.784637997444449,2.4990323577283036,2.096616700376775,2.211425381207293,1.796897658427732,1.7730989303073765,2.214923212254206,2.1184478891516827,1.858293978650372,1.997564621041313,2.0920214004389317,2.0783298669946055,2.3607961464952045,1.6778853419129827,1.8106955857221763,1.880721065620222,2.075189206436165,1.8874338389093308,1.9966148845941902,1.65270120086454,2.2382137920224547,1.962297423126109,1.5099551113701208,1.8809427366490619,2.0053517228058437,2.1266768383285424,2.083051607382357,2.0941640793808007,2.216585722340486,1.9827264351017568,2.1174348392601856,2.031216001984811,1.6099542982948685,2.0627635791626293,1.7231989431057728,1.9936660690625783,1.9096124305143825,1.9890135280562515,2.314414193862875,1.9018826332626366,2.346674305867741,2.3780484713656938,1.7606161177228374,2.0375417403418563,2.0147126922096574,1.6734522124031932,1.960341992832378,2.149154443792266,1.9458789260286948,2.2308701007231635,1.6470285091530912,2.342974152549999,2.469307966533788,2.106382512790903,2.317008139767558,1.5133810284828253,2.125027045610336,2.3993829455082594,1.5903703187176044,2.260152732877392,1.597706670263051,2.372007877777515,2.334185605419565,1.9500868387893833,1.7139834639052474,1.7568377470820793,1.6280137509012464,1.8212250115036124,2.013894816548963,1.7664832461514575,2.464952188900262,2.0762520593424996,1.8939325814441135,2.3048987285736215,2.3936233274270293,2.0476634206042563,2.1622235121994513,2.1275616541746833,1.8860166887812564,2.5192406562212493,1.69826592747521,1.8540039891441458,2.1790030029312826,2.1393951511956333,1.7313119302445323,1.75476512037102,1.6774845590174894,1.634076626968047,1.9687405284895356,1.7227540240264307,2.1112077584391957,1.7531577430498348,1.7809782390816866,2.1461743272491742,1.9399788470826707,2.0458632972601256,1.6094091780990607,1.703950841978175,1.7548117156841543,1.6911415168027806,1.8347342941715339,1.9379649192027244,1.5348641564981762,2.3279258115041355,1.8878241314653437,2.438184830213093,2.036378407941215,2.2798972809754976,2.187926709294044,2.2014435520302347,2.5984431654545492,1.9920387052887796,1.780109116082844,1.8142730701238192,1.9819838276016215,1.8962120097214883,1.9847497348606484,1.9835409073898302,1.6860641669853687,2.242232514758934,1.9666802978510802,1.8462660849511374,2.1205964060025164,1.8940279596416365,2.307041038471185,2.041855757602619,1.6994220240089126,1.567528759020271,1.8709073013175925,2.1984230188494074,2.126581819019439,1.626033649767181,2.1031806005576548,2.0238429656977965,1.8552278107998543,2.025381970206767,2.176857996887699,2.0298054133612995,1.7923942293548996,2.0662245182323327,1.748395971652421,2.2073412584100356,1.4820343550060633,2.055290774301645,2.3603126471325684,1.841741779013177,2.350562811742532,1.900394220192757,1.752661226069723,1.979773429350271,2.2439552900821713,1.6010711084846192,1.5994404180047215,1.797389231672834,1.5870240275511622,1.7814382707486436,1.796909435608565,1.8692666493605388,1.8788084910568181,1.9221316974665934,2.1246792658273277,2.0942695654569268,2.2748125534968366,1.8237896412102623,1.6793129866935697,2.3831669266702775,1.8387115832036471,2.3501196643678166,2.6088201079225857,2.259527854086787,2.0317975917631323,2.0460469180561796,2.523335422678943,1.8476439925681094,1.906199201919534,2.0451483390404097,2.162949677799307,2.178078089235875,1.7981082033022084,2.0813839549004816,1.794283572135693,2.576578151532923,2.281815564698358,1.9362131173771657,2.2679984411907244,2.0049580128914597,2.1003238913409077,1.9901144273667497,1.8819798616093055,1.9918567527690683,2.33502613505161,1.7513043306495444,1.6306349778152456,2.1097312872653453,2.2113238354416205,2.227218613742059,1.911951424293772,1.9889362222389908,2.189659132805036,1.774870980649764,1.5335530154198234,1.6371051334006863,2.1595379809877135,2.0756499304207776,2.2407053008130746,1.76794347050061,2.348153361317249,2.1434958563493485,1.327136399358011,1.8783370287624552,1.8878797061995438,1.777564091959492,1.8819425739796665,2.5086057127639974,1.8199952609040573,2.4736276509566526,2.260257092378718,1.921700003844937,2.13923619473742,1.9222003843784012,1.7102898007425054,2.1155464922837974,1.9937216313455624,1.7828694203307383,2.1029563459616254,1.946425893855814,1.5457904778372387,2.415187197106887,2.0464566438212164,1.8016443744168136,2.0560809417315395,1.4824586780451967,1.5947585730722924,2.4095941810585906,1.8346863380392207,2.2122123189146268,1.92403610685824,1.653984813747865,2.212503286440024,2.005518836825894,1.9446552804932227,2.198771955016987,2.4875301238451315,1.6514857806575314,1.769023269675029,1.7363668076085754,1.9633469485541963,2.113111130036771,1.7221395193826181,1.6030013747683494,2.607730715754644,1.8806994602963503,2.5218164054044863,1.8941193334691826,1.7958954845494806,1.8002962713477013,2.0599363296317916,2.2730464462388618,2.51178011671667,2.1096821799841194,1.9081973630989566,1.8391806767931955,2.25753708719497,2.094733938373679,2.3180709517022575,2.0570128470971105,2.191075351796274,1.5994744719445906,1.8375541843526553,1.9833102288651574,2.1502620106276655,2.3956085551218926,1.8554588619351267,1.9138149491576586,2.3363657867750196,2.1184468595248083,2.30761594166641,1.9551267177540714,2.034594749478393,1.5573602781143605,2.2112473051330377,2.2961030396202187,2.0404598356024883,2.120894182374602,2.1376270488123783,1.9225705500674501,2.054770609690937,1.9663958985027397,2.6170969926528063,2.0219497416357775,1.8059917358880198,2.0054973963380807,2.233357834478307,1.9085321215075663,2.134406556401771,1.849614368777522,1.7697402170390932,1.8144545227601752,1.6870489702719504,2.2133745815920656,2.2403351058909937,1.81123577699661,1.5943247846909534,1.7497164198430089,1.746561040641212,2.105224309804643,2.112482897990759,1.6049820157343495,2.132908095227021,2.0102819177666373,2.057914488038481,2.109883493561916,1.9864020280625647,1.836127449471307,2.02393900106207,1.9723242438939608,2.153261527317464,1.8560097117582606,1.7067822390118732,2.077452661635259,2.1895094576682976,1.9519931830630397,2.530252776191813,2.1007338952839314,2.4931180503391284,2.270511766415429,1.9852351688531304,2.200165540176698,2.003205431183272,1.8245603558720211,2.0292389216086675,1.866812504828461,1.95784078244201,1.9066523025555102,2.551305244082997,2.059800518952178,1.8269402161405461,2.4319306798248737,2.157979555721288,1.674616496226469,1.8885880158266857,1.9336415166726804,2.1908332332609524,2.527096222015957,2.994103483803738,1.8132765319052766,1.7590083660840523,1.8381288527186255,1.941005625739957,2.1040322916703795,2.125529418819335,2.0756562324525207,1.6474786836519026,2.078903134813409,1.4206445692241028,2.295276017307317,2.372855416246876,2.22886382271914,2.4260489861816725,2.2824226135746004,1.8080864802758234,2.2377743620603368,1.9524884944807661,1.4997109874667256,2.2133996901913653,1.9502838475781363,1.909598704236653,1.3773362509688267,2.2236315195208887,2.042051231699261,1.9618151053546098,1.6066972340909302,2.1544449203640172,2.012954046003828,2.3488663589475323,2.4378650769321273,1.867326302327056,1.9820033213487895,2.207226642740008,1.8113589751451578,2.181780755154169,2.098461225929001,2.1020497349620944,2.018344513874972,1.927893750103545,1.757349003668787,2.1177300342669447,2.254413086838091,2.2589796160997797,2.00908662362194,2.455690397376974,2.1369738716719704,2.009108574996258,2.2579792523677282,1.862865053398594,2.339386146343107,2.4029356139524314,1.4826350617292388,2.1695288264935892,1.7424862751962618,1.9331172401206231,2.0402777290626193,2.185267170048357,2.332027646710978,1.907965329971727,2.0041051422665346,1.290804958527771,2.4653908261452746,2.399314090438443,1.617797455797338,2.0955989817010265,1.6046467619157134,1.8812232368179558,1.9572632741057903,1.840573326910259,2.1020013146285397,1.9189948503491072,1.7829803997006135,1.7671063190210938,1.921874867115279,1.9863292325995552,1.7851295134235192,1.7577258684528099,2.332801586482438,2.2175555929644717,2.265762554036341,2.0479298908734593,1.6181577706037344,2.4245156984446403,2.2308129053437327,1.9895171549795436,1.8541444470257609,1.8937463693744352,2.215481368332315,1.983801285190899,1.8721480532833517,2.471196358311847,1.8363794109902423,2.221081821537429,2.215498368195378,1.8215737290595513,1.5756580529287332,2.0069082080449436,2.8502816602874406,1.6474316702254268,2.1587686695092265,1.6382561764745933,2.407265696067944,1.9014101001357726,2.019217807537878,2.1568774678303364,2.021506510283896,2.182960343589583,2.287346268143275,2.1294230774348084,2.101962557487796,2.2421667679934054,2.280317353206218,2.1125881463708067,1.8354144263715515,2.446711639218819,1.9466610573771266,1.6624522871277363,1.9995669297267702,1.8357755947723318,2.239174383736432,1.8905816392243364,2.2443601088587597,1.6561195337496466,1.8134423137310964,1.9342213807740283,2.2011949141260985,1.8781980037234083,1.695418820913907,2.2308224157848366,2.059908064730076,1.8738052061331583,1.8914936309490136,2.112907256901258,2.2953264461815297,2.281334891523931,1.779767741478337,1.607398538165428,2.0770856029204796,1.8521925330625426,2.2977671176372407,2.1425050461880923,1.8077195527065961,2.244945831180229,1.9718738643482676,2.082958497888854,1.9278908739375338,1.8417358148025131,2.2756220723448233,1.8195754198484708,2.2103083411051943,1.965798486665936,1.4851034401274017,1.456815308020492,1.7480901566674716,2.1674783167059357,2.0209015900589664,2.177754990911237,2.3083850060513695,7.5996986778281554,8.42216855788713,7.624441322633284,7.4502232881696315,8.28939949724865,7.925638024372693,7.82040588798933,8.254172380424698,8.764487145204477,7.792832512200092,8.356276338908625,7.978685506077281,7.927778282982575,7.769399540455666,7.115112729597074,8.479759098142415,7.52454409242425,8.693525615427511,8.831216555752599,8.705573426358727,7.864675285354378,8.589735735208224,7.6850468976073705,7.703201874209931,8.124183155136246,7.842554828130848,7.625678684524493,8.582975994426532,7.722893529659531,8.100234300067502,7.000603343532472,8.192941037250645,8.13818714471698,7.750368819354702,7.802939226545159,8.040952301037583,8.011143832742164,7.710271154304553,7.674074088946135,8.116645634580948,8.579832940512116,7.116605511057841,8.708347155422171,7.674270427666534,8.880056470265473,8.367107912476259,8.084328412857438,8.061641380893896,7.731487908654972,8.047121303534055,8.215413526547,8.394325121993521,7.825635186388053,7.927171607504598,7.998672693854686,7.750890674631475,6.349782387840987,8.1168953424482,8.610972925938166,8.458213374332184,8.338630143856323,8.632309502785922,8.4439795775683,8.252166232880114,8.233280910344746,7.5184156809884755,7.982270350451424,8.771006385231475,7.280413441745487,7.697869886567303,7.805900007657107,7.36777058903911,8.400624700462469,7.789866754204325,8.20800065214175,8.683110045506174,8.076598228300798,7.627282363280534,7.929487101525864,7.84962410779612,7.539379701109407,8.349189746926603,7.7906401007564785,7.724523805561211,8.443158042320611,7.539628695296931,9.129393267001502,8.285947558950795,7.965020820365018,8.213087036304028,7.601407071615128,8.365297831556578,8.606515395490362,8.25637695936638,7.179744534611965,8.133431338302156,8.184965323866516,7.727985124271299,8.274646808234307,7.557978879504198,8.67212822072093,7.856518124019995,8.025100563116796,8.304817380087814,8.135952837376353,7.475711095091132,8.134934264707315,7.754767576937,7.983129064567966,8.963611140908169,7.44652231548339,8.498774393312893,7.6859575826807935,8.428809904893825,8.057559438060272,7.499929699480645,8.166581833158366,8.0385628058997,8.56159548598117,8.87721275591981,8.036549056387958,7.455001760398002,8.37598062026483,7.98456218144406,9.263220955284607,8.184438395016207,8.265462438249616,7.598026363827141,6.53809340420168,7.89999793680097,6.954470420364801,7.745628314904493,8.614752299672482,8.51427050762407,7.304568524374625,7.899360707667788,8.71747695363296,7.320396192565121,7.153122815195041,7.981605589030134,8.086834938765271,8.32648460024745,7.911266118172978,8.535447526145902,7.595149359334619,8.302297787188898,8.027060792972051,9.000924058047046,8.932111826091463,7.9986216101251575,8.35933539882401,8.1941448652389,8.226179470159435,7.510735156610797,7.533419591425806,7.581922921255227,7.859268537420746,7.641458850564258,7.931819873367159,7.8985267939994195,8.66563954198278,8.10582481654759,8.187139935683529,8.53522585409675,7.886713719649864,6.717624069068951,7.9350930945043405,7.743905592683995,8.052918193728065,8.229786668208622,7.91566769118692,7.687428691130901,7.642977848193325,8.336695224342405,7.7958856595086035,8.46121633856662,8.826432359619723,7.675512243095682,7.011429977725592,7.94731853910483,9.230008429914152,7.900593708343588,7.6060220011682,7.64631909789931,8.112405068174146,8.016222550248388,8.084759199789021,8.453766235075937,8.330794122576133,9.072854425770329,8.266151821213299,7.9535600631167656,8.186211697129629,8.471396947007488,7.802476855352955,7.610548858193379,7.285242461413266,8.286735174395641,7.865061306380162,8.125699624020305,7.8155701497411165,8.669808668839273,8.26745742504929,7.943776869048351,7.3489147222230375,7.866499947221221,8.264704673942969,8.073429178759403,7.954630519793851,8.283075258128541,8.476764387574956,6.4315552530189155,8.480273934182499,7.563848433653907,8.239922006124916,8.356222698221629,8.018655939047537,7.9879233180455325,6.9379979646860015,7.773140152183933,8.762327771077564,7.334462282330664,7.972625866898559,8.862335596749292,8.762061097123881,7.49277749301048,8.637154053913077,8.586514292272971,8.467489461745394,7.515460824754028,8.462599033921293,8.288296344387646,7.737514031749471,7.852358817509625,8.170698224911439,7.376615385300985,6.885366858333774,7.561022055903376,8.03483511070461,9.053257208363785,9.02584805924424,8.199284393293507,8.12787904372017,7.787553588350942,7.71415699523531,7.031144524340309,7.233417841863751,7.264874795181882,7.985744090930168,7.6175207488561325,8.684968385490588,8.3998138032484,8.606894675195067,7.87174840305197,7.5544101705545295,7.6117102821780644,7.152528271537494,7.2851772686934835,8.424488587286838,7.285309859741639,8.349474863735049,7.933734286617724,7.969658665851899,7.776329061882966,8.833805922576152,8.273976066904911,7.577132227673421,8.363938606817861,7.727365112852469,7.438486596107088,7.812449806832091,8.093807109662189,8.419303123645426,8.17486493893071,7.358205130957047,7.93494683634147,8.203623468078499,8.728210221256248,8.043804807510956,7.699337933971008,7.343312887861126,7.089239970446091,8.501495959805029,7.392507823553413,8.636172556248976,7.798821389154346,8.027591659758604,7.558758031232586,8.298397286882011,7.268962096856155,7.703804341473038,8.611343313896827,8.114327564181394,8.185367787248024,8.207561846235297,7.717674470504979,8.81094319383847,8.468015958176183,8.464880966324625,8.342624179577033,8.395126057716094,8.342795403214502,7.766202873928792,8.911006093122635,7.506562059545283,8.087522187475885,6.8116303418258335,7.5992471130533925,7.420311971164905,8.027978830204338,6.467106620518605,8.444614880192422,7.86569524920071,8.243311280955139,7.702030013989184,8.346760812025192,7.685634570714859,7.5897982980873735,8.452383601106916,7.514397573331441,7.616596563620938,7.596595988748394,8.110921511034483,8.125295383953574,7.675799868666905,8.951348903044194,6.78142915526147,7.998887146578545,7.958932755584059,8.227991133635863,7.743320753356455,7.331842551097869,7.665329258121334,8.163116424644244,9.229692071427777,8.904433039416825,7.566020086602158,7.63610213471405,7.702825250189527,8.756859178020672,7.831128653369568,8.116888144995528,7.632786032133474,8.216468981486887,7.856301403600544,7.765214012269766,7.938680830732951,7.694497786180594,7.781646665671239,8.313114172223155,8.735540256385772,7.248688463374055,8.037345151933044,8.049647647770287,8.559018188519413,7.174886721796059,8.054737011600068,7.102633182583788,7.609572281846334,8.490690903412355,8.072248987160705,7.8421118366232765,8.43365776558755,8.0227886983367,8.870989723727265,7.850233714222068,7.425357907145228,8.432410871597463,8.19082291184072,8.499255932429657,8.043930608790143,7.659954366844992,8.214571034203422,7.433120286613059,8.287851280615499,7.867494832335318,8.275940579258783,8.489941852970011,7.985741478218612,7.928791031740894,7.505111327561189,7.491289433214102,6.9619519478886005,8.706992651174007,8.591980343659426,8.319094227165134,7.944592034263474,8.164761337826448,7.168068288275651,7.798244189943529,7.5024888445432865,8.368966689811687,7.972307198125015,7.946996507863654,7.788229074935041,7.309797844401896,8.755000652011935,9.119561138262961,7.951723225443239,9.409984012220281,8.044079652586245,8.590155137689475,9.059224674011018,8.149958594089084,6.9883485455556364,8.273319092998488,7.621335508295751,7.879502710634642,7.240400051263233,8.35998157087006,8.260392058275482,7.41638145743871,8.270462410898501,9.255551655380003,7.659679232417584,8.658485504161607,8.090033059283378,8.193723185758973,8.56953020652655,7.560619404755666,8.143819257417336,7.679909659807297,8.712183001636452,8.186081488487885,8.84589337149607,8.474994259384182,7.215921792810957,8.619270785956942,8.117706725426379,8.284757373807517,8.777997232343106,7.377975351882225,6.922160811428917,8.380469604626871,7.985859508895384,7.594195221701247,8.54153840539055,7.381095321845203,7.887860228639912,8.63712934995538,7.627508989894068,7.613294119931556,8.74058196190294,8.110852033809662,7.879765898324925,6.927089367973408,7.881816012838693,7.338103091165432,7.75494441898975,8.303498832024436,8.076388830466573,8.297666132970132,8.941427708552736,7.978864591392704,7.250545283104667,8.186658447276338,7.903443873623496,8.006783206385366,8.856775488381855,8.843292406400598,8.0621035687916,8.126274288957887,7.885915850824433,8.085524452189143,8.123065952733146,8.415299109401222,8.454270629714422,8.506291296133634,6.710867570178257,8.390367899138656,7.681571462678136,8.39177279460973,8.614612321659736,7.769219122821486,7.786424751225543,8.455111088434172,7.945593928823209,8.1045876143923,8.257324924920416,6.554758790541929,8.434376806160277,7.626692738014672,8.66025402622849,8.35912040857726,8.625670533789263,7.551659688789703,6.8362129148323865,7.600750862387826,8.28486948081985,9.129567761551005,8.064902715127685,7.87416858474783,8.470895682926754,7.6911168130952605,7.839150561125817,8.557066251431115,7.832927389116089,9.093384529108699,8.125189475535002,8.210310550166058,7.731024936335791,7.5883644782308,7.264738017092756,7.665957463672572,7.449420150622483,8.818125860443407,7.703197658980733,7.3098963614822186,8.882889601579155,7.169254187078007,8.340545957422009,7.832006581106621,7.17942894447107,8.273097036272947,8.287194155346047,7.5800100736993405,6.891494902415976,7.626470072506802,8.52807381192107,8.149495916436244,7.05037023940705,8.902018639026652,7.452481579494732,7.736414983999309,7.399574075663249,7.4441994403369165,8.008233719769327,8.413553999424323,7.816835227997719,7.559520621654985,7.81331396352352,7.978788290078142,8.407287137472633,9.007913948984728,8.201122888579178,8.041849549045166,8.667051130027167,7.583308528002087,8.540423061353446,8.287846735766761,8.725153089216896,7.921235501438422,8.460660333340355,8.0745438582275,7.740421689794406,7.032158920935071,8.252904096545707,8.3987146742919,7.791995678759905,7.952824236732611,7.901944627439905,8.190164656115691,8.031415891641462,8.899206321727409,8.63613578124633,8.06082318339077,7.770541965301134,7.47760414681332,7.9945677181309005,8.495196007973721,8.43451112484908,8.657045572839648,7.808881001086771,7.415704629638622,9.04843534596182,7.466655468229108,7.688400523655672,6.710753537441034,6.723733023944248,8.338441065308404,8.42246021596343,8.399858167960573,8.393438326292989,8.558986892559506,7.742913795595767,7.867114652126929,7.583593769929273,8.567295618992143,8.477097726051944,7.291361817222488,7.834906322347999,7.440788729014969,7.380101584722,7.50633516104688,7.55981412892389,7.645835314676477,8.242482828009859,7.740202897184422,9.103577214785082,7.365193602776656,7.747720076521688,7.350281768229817,7.885735574026469,7.4858386275845215,7.9292582067688215,8.143621193641826,7.494336125021327,8.27624217258499,8.199098225342137,8.39419894912227,8.53014474744885,8.324702682569981,7.3185263219354075,8.03744402502154,8.572473106990381,7.486611441344692,8.633736848014003,7.824419048474131,8.076705959711747,8.338492717341119,8.507988963956109,7.9374460137448875,7.512133839246393,7.742310044027064,9.200086334499666,8.953933104724086,7.825446936101378,7.099133235637297,7.684185449841772,7.427201305209023,7.528404105331709,7.788197185900768,8.619057220226988,8.042925258554567,9.049990868538577,7.699264682830886,8.274821454466293,6.981206706339707,9.084913249721543,7.931606798135287,8.927775261308234,7.213998232168021,7.487176075822078,8.425073787697281,8.406593313274863,8.434421653840614,8.050984352394416,8.486454443663636,7.673884879167571,8.102836499356778,7.522819076671461,7.116133986484449,7.350702974521633,8.1931988521489,7.879424901899537,7.317533991113146,9.24190081628211,7.362884170445291,7.88319855289886,6.90537077669463,8.924075347085074,7.655205645633296,7.647403501618032,7.944377478798946,8.165407308755746,8.740463301102286,7.7483055949035835,9.047479645123415,8.052351258456389,7.983672502683712,8.190043903545536,7.516788309482489,7.62239294870855,8.486573754435518,8.378911570593433,8.817799570982856,8.028965350528091,8.137025598990663,8.27091488800551,7.666753402155496,8.663394024839578,7.369763801400137,8.199847354979317,7.768651397425214,7.98619931157685,7.745561167612372,7.6856825345609305,8.682987107802754,7.68985928776449,7.5864086552400885,8.376657116435057,7.923792473422337,6.847832595974441,7.789286471877009,7.868893169721464,7.385780330293523,7.574908700271667,7.426614804364463,7.965068130506878,6.893541658246187,7.900551589299239,7.659728847668688,8.01770864375626,8.065312932075612,7.956205582099827,8.044368973174372,8.147484351025708,7.570754136358738,8.358009565246224,7.376906085371841,8.20927327723775,7.77674272923288,8.06624249148476,7.560134145785078,7.3293578057550794,7.715552309418432,7.675507020072182,8.355161693441003,7.380249368929597,7.804445638977374,7.8490090555364365,9.001618316006919,8.03062809746148,8.650689653070966,8.268650430211132,7.295665571648713,8.277599897078655,7.604736665100804,8.524237171993695,7.986967057634067,7.6823927410080985,8.82138010577634,8.66642131760716,8.311925862050204,7.805990379101793,7.235867754002356,7.766779270265593,7.52182176301006,8.268441304154015,7.628995652338548,7.744814822776895,8.440600137371185,7.238523219167087,7.082444902862474,7.237068918815471,7.336138222663828,7.788031506347474,8.176721221898585,7.87100182743499,7.609863071124054,8.203126210091977,8.449168328113547,9.043363559331741,7.953651843129957,7.817546101909949,8.244381406300185,7.84162685228182,7.454787592303261,8.008836202213123,7.706187059826461],\"type\":\"histogram\",\"xaxis\":\"x3\",\"yaxis\":\"y3\",\"xbins\":{\"end\":10,\"start\":0}},{\"marker\":{\"line\":{\"color\":\"black\",\"width\":1}},\"name\":\"D\",\"nbinsx\":15,\"x\":[6.353089945470574,6.075657176939433,6.234637739003148,6.136843623178371,5.490323160296228,6.271136401860637,5.831007116301721,5.435201113730857,5.818749945038462,6.529599415985712,6.075686750528246,5.699167260462256,6.152309422347421,6.182027948792515,5.5449163418241705,5.165619982607854,6.227606159893489,6.030417813652434,5.036640629302716,5.36329620845048,5.683172879500674,6.332497845027327,6.398329587311098,6.261380516511892,6.295793658706381,6.2388608720559935,5.138081656468333,5.992917491237347,6.843437665294175,5.779562264152514,5.755567434381229,5.783866014403168,5.780021726210364,5.807986058117851,6.115284797415717,5.027390121967931,6.611808410859811,4.6575588701416,6.4719769442700725,5.6590433005301835,4.874743734789969,4.882039581013098,7.2365657109689145,5.845098740545461,5.772167483023278,6.726210654915828,6.1532217436573475,5.860426275689229,5.967226031578437,5.611988215483982,5.2320771736964256,6.534362677449452,6.5184210095956026,5.79699611432694,6.444117935756619,6.335927468973504,5.801404893087798,5.718058785567194,5.888538198415407,5.4139942744281875,6.036760022447735,5.985344695235904,6.399362482928919,7.008312955118213,6.178189047986407,5.715063273470127,5.810820878037182,5.591695772096843,6.849055902652329,6.153891828877295,6.134403839830262,5.913132603263978,5.530601124540066,5.845335182535787,6.455198169246985,5.7229395092201045,5.720516573284751,6.8141139090708265,5.611110542205701,6.4071501523040775,6.1429867681947785,6.867759528268781,5.329313399687738,5.994985755239664,6.183971657090681,6.372264963612025,5.87421917102342,5.449320110124355,6.174594731361461,5.334456841270381,6.455081276989138,5.106022833157234,6.502601033015283,6.070234299767817,6.413362046653013,5.436284322303389,6.126777939180137,6.747862091019072,5.625164481711592,5.589044791749304,5.3212197082775985,5.446728954303939,5.855796093311591,6.123747093199823,6.23242180362728,5.587221138733389,5.433740654674918,5.671093611805065,5.590033707884915,6.642083247151339,5.523354080446521,6.134474386900395,5.900504956901987,6.141159180280069,6.6313236067318915,7.120230372751587,5.956159776516617,4.934632033253578,5.46125551146907,6.193308954673397,5.365148281873008,5.2827737981387495,6.281839152313777,5.632845686624697,6.689248432048769,5.923139911976959,5.830107764459497,6.429706885940686,5.395071118806419,6.205005750632118,6.850106159549652,6.971826167979264,6.065775754770247,7.231107316819703,5.522075503618989,6.467407878479774,6.907579077043103,5.748938646498388,6.003635946793689,5.24340028681388,6.461311374614448,6.05741646137286,5.985772408493695,5.516027768351727,5.842900800446148,5.829693189325184,5.882159414849464,6.795572925083035,5.729556060326209,6.297619440624193,6.034763592674033,5.947514242077119,6.232649393762148,5.762778590345066,5.922397869600134,5.701516751420213,6.190803557379816,5.78176532687308,5.677115611882387,6.111206942272119,5.37861747857264,5.818928548673601,5.489364520829129,6.787776330691938,5.6200664341448,5.146449690703461,5.8631396308740396,6.928534618236967,5.995937279497579,6.090480367243232,5.43562561814467,6.495678556998686,6.193084653651908,5.489106513008558,6.442718916302273,6.335764473917049,5.874574435850527,5.9489170069002375,5.657880336130207,5.7202874461349795,5.716086894201292,6.268294935589812,7.400423379934861,5.866989428997039,5.925317059740102,6.2278676252932605,5.779736973918009,5.698075810625192,6.266633948797261,6.482841177334173,5.777829732346517,6.476764457214847,6.260589473691366,6.465404705359291,5.468757454334651,5.52294954376985,5.711428061570246,5.332806375530818,5.1852301276659345,6.34425128387518,6.605464089030191,7.079172964505018,6.472896927907003,5.78440583001154,5.242714990641954,4.956332866759585,5.839364500398028,5.495352462937586,5.88283673805499,6.1711872931378595,6.080944189699207,5.896137204723493,6.161160127727959,6.067978706805805,6.043644096957795,5.883674607700433,5.289556938888699,5.821913453042172,5.463279406316833,4.719799388034254,5.175083090609114,6.084629700641253,5.262312501190006,5.961441314817061,5.765855706828929,5.133187722811327,7.007615647969574,5.750896915788551,6.316816666286754,6.1976140166207,5.899542079145526,5.6551533614319,6.427271642110652,6.602232641551444,6.633348080418931,5.013702708138894,6.607475725702961,5.972130136655485,6.4213485540239335,6.491790510608461,5.5655684438424995,5.879114895378592,5.680024298540946,5.429063443163719,6.410691394421354,6.319951912276802,5.607005747834575,5.8912239648552625,6.2251965205545154,5.058657525286656,6.710348637993092,6.181017019357605,5.820334348275032,5.88831781431412,6.539527086122849,6.229872279684662,6.1982602617118605,5.967334120203313,6.473249714561322,5.563801224243082,6.3331373126080885,5.812160484133633,5.242258148522014,4.8684028182647445,5.988194967541584,6.101907798478101,6.014807671518004,6.336309631578407,6.0047926995187275,6.3810041739928,5.40781045086984,4.989271924351074,5.782456607402288,6.009443861343613,5.8576643143523,5.403177779869763,5.958421775255013,5.960162520168612,6.411949170986543,5.917353602482654,6.081395693820799,5.643855865755988,7.187315886608616,6.064360806100806,5.3020248346374235,6.141150715706895,6.065891279316879,6.246706678512578,5.427397303732081,6.530663383062362,5.7813770940202245,6.6229029684561365,5.755809691881876,5.2228416883877555,5.923385733346104,6.119709031997979,5.605225290562068,5.686405463886605,6.172737894804855,5.376560268326708,5.826933435960744,6.7083584189526615,5.837788423108529,5.720507278662809,5.104753170746024,5.835196012325037,6.757572413559695,5.6535354171676815,5.468110334137161,5.147083553252965,6.147584089467032,6.572640684479194,5.708421100716151,5.766666062005894,5.541364390238428,6.033179763004912,6.3541308251096345,6.0414109860780165,6.2102646658112635,6.1932407075138975,5.77012119746821,5.879930122569977,5.754637053213078,6.161550317696538,5.643522990945217,5.567463112520788,6.4260993085892855,6.04637522663376,6.853419615171822,6.204874275725157,5.45076299260273,5.936238162035929,5.965509188460652,5.825827374820716,5.766791818125848,5.431623624523439,6.192924955853276,6.174818083331894,6.087827903459856,6.378763118204302,6.0077197784761545,6.556685019912406,6.838047366487615,5.127778237350897,5.254933323996683,5.946666693748358,5.88774951724442,6.26640915942725,5.3266738304151335,6.5011066462884415,5.502467624690728,5.16272701677275,6.411258960387933,6.100124445879308,5.551152950405715,6.087713449333802,6.405283096085053,5.585210516816418,5.746635339033432,6.181446361714232,5.56576147280305,4.788657292785134,5.761299410083615,6.734760098334603,6.021464863316107,5.827812229650222,5.836546687507369,6.341338458307776,5.766193973793576,5.360234456216185,6.460551733408703,6.10924320657026,5.720127505593137,6.133385888952354,6.448998750487264,5.87394896624114,5.592653426436703,5.630050199512054,6.078179381837281,5.902707925102528,4.984741073927669,5.099592539753131,6.391967444663738,5.988779544659224,5.419477853084259,5.691132110773884,5.869970201831629,5.42876295790318,5.840125672726937,5.363033674961916,6.321118459378243,5.567703097123731,6.247189756555227,5.9936892131676345,6.471689698768804,5.587201343567104,5.434366442211863,4.957444630591803,5.7384747756630015,5.285346983199308,6.031067396626646,5.382913745436478,6.478433145438949,6.006522182395666,6.125732966114155,5.909616841689965,6.195601383551778,5.799380678066218,6.072761063833439,5.944808740692129,5.710526687038474,6.584810882481596,5.988192546796024,5.61571558957121,6.124093657418587,6.228739146412756,7.294174925180327,6.022588557491696,5.724804531584937,5.972393386518187,6.193895396065894,5.642792075853196,5.831560761508183,5.717960920865417,6.34475909085803,6.1279576254679435,6.367762785832821,6.660625707936808,5.6223197141515655,5.217654050463066,6.397287267456616,7.236092648701927,6.653767679096919,6.042037952884333,5.9424180398696,5.7217710357838945,5.941931870775581,6.173279937517584,5.576994922649703,6.184600153187082,6.489576239884029,5.4355309367641995,5.421978794657844,6.5797773528461425,6.690711181316414,6.8722597207160945,6.297629212373264,6.076296899087615,5.751394579197319,6.228379593905301,5.178129568163149,6.222747932224501,6.2696966632283795,6.400839298891662,6.323633916734634,5.71006058592681,5.385020880514678,5.442271735850031,6.542938331580213,7.343611442293639,6.7345981337510334,6.177573802695954,6.0662925231795874,5.976767515494359,4.869637431274847,5.880388869503153,6.143961708731732,5.901625638746897,5.255864031403704,6.285358298506548,6.212412222648414,5.665239156313801,6.198507941385536,6.558447308055099,5.619549137675155,4.958744609313543,5.71128907892136,6.2255885641373805,5.315514979431279,5.969203168034197,6.016015168421224,6.752725105760008,6.2209185226799155,6.460166095374901,6.0183562992107005,5.973935325179745,6.005948049926638,6.8288150455003125,6.08491497261146,5.726949841715579,7.194736910138101,5.139194652125261,6.198031452677901,6.381946673970544,5.61574035609022,5.985446865687398,5.475257483179404,5.81403768086521,5.825768205248739,5.18878352923008,5.567958559099969,5.646193899854529,6.866428198509069,5.982484361478956,5.1327397271922885,6.160017106579029,5.6249333694755475,6.576375077896718,5.599106473863503,5.7240127841954855,6.265492802046973,5.57694794577923,5.997277252839395,6.6101086684791905,4.837146548335346,5.475570608446725,6.211035724824724,5.805730763326061,6.345894262572769,6.384640530612414,6.29132938249902,5.747181567709727,6.864743999681241,6.082695957960711,5.873697941539219,5.275794947026252,5.737241719242186,6.49548870870134,6.210280901619954,6.1996200155703205,6.277919033953876,5.953130848320059,6.439378630281716,6.81973889448108,6.102203516558813,5.601772300518053,5.7298524563022974,6.225404684196377,6.020171330054694,5.771016357101673,5.050897442134854,6.24838181679702,5.770679031534904,5.945710511895631,6.4196628438942165,6.042247933422303,6.911251609604988,5.5256249287561205,5.841325512759694,6.496024740595713,5.5148193394127984,5.642432152145445,5.377067877688649,5.939778953011645,5.222808160100847,7.185660059386155,5.491264134476513,6.260384055845458,6.065392815453133,5.816560429862833,6.093421748633406,6.654650807697478,6.070059795069021,6.305221970947316,6.718111830090758,5.9208683598469785,5.7654699996331855,6.276119903860227,5.556564177211974,5.865268532006026,6.602056220165522,5.510130042805646,6.338858605330551,5.784137505510425,6.151554906065227,6.472335761462637,5.668642103957483,6.7553082277792535,6.26950199081676,7.006807663667095,6.67549173975797,5.983954190238594,5.337885851019226,6.748843750936164,6.729261458595617,6.160490945655646,5.589778364100247,6.28265341591519,6.461186801283951,5.856138853501166,6.791812411648478,5.606345065522952,4.798192998541371,6.509430718026858,5.272206727421039,5.641339133792581,6.0742713308555505,5.344743164476706,6.704827737802231,5.477610149928787,6.470528666169542,6.306059553425467,5.37063726637159,5.821532107612383,6.200606060171949,6.199069207581293,5.870038540751124,6.64878137985283,5.957650029094522,6.369809323495683,5.883751117866862,5.698511754805732,5.257515854154903,5.9229324841197695,5.9576555504813875,6.4179493436381465,5.8260480989844075,5.195783724049368,5.796332633227172,5.624453878676202,4.962672168813795,6.63178262780578,6.083405193999745,5.9074528874424255,5.65131514519641,6.7118416343612655,6.447945331222889,6.633234670840191,6.061415137089752,5.5998373764748175,6.035928246645427,5.268415452894068,5.975928626752159,6.281428018207514,5.971703134264614,5.489867035952407,5.575606853798133,6.337712631968678,5.873812745046456,5.8999485275997126,6.317870785169505,6.277593278998929,6.066137215058738,6.726422894471594,6.270596616490529,6.804169333884958,5.158996761958864,6.016160309141644,6.043999721486896,5.370613755555019,5.584713740329719,6.8955534844160615,5.235696933673627,5.849774063121185,5.367029265273948,5.777890455592115,5.953822908959707,7.042435412655546,5.712983146214085,6.664212615591369,6.372928056391244,6.917455241309441,6.681971286669571,6.0699839142556815,7.642055618126547,5.800972435298531,5.792579460092373,6.034615181100635,6.726753604787154,6.0258025101588135,6.091277120092441,6.425906692250969,6.736407811716113,5.8105841403011445,6.081221141941433,6.1475068604912675,6.712739274021151,5.544972781754304,6.13396539256941,5.919722056803753,5.862803974729797,6.5720677998870105,6.619170938108564,5.558428891854584,5.583778907439796,5.404390807850748,6.8214901223695685,5.541696078732641,5.684370991036649,6.37575084934362,5.698617471652208,6.093867212398191,5.943423874437576,5.980613785684131,5.663651296961191,4.9419727105721165,6.220965397299461,5.894755294809297,5.09005068775396,4.997175009113887,6.054331451401707,6.37423099837621,5.957387820107322,6.753753031383412,6.976443297664044,5.806497407422852,5.519855333345337,5.406409615708208,5.431841823443836,5.763990900472947,6.107920710445349,6.228303103564687,5.739062088990765,5.695800668800986,6.653875112062954,5.921491316858852,5.956303033649937,5.400880309092605,6.097587360747847,5.867172072088366,5.740327845964185,5.5822740764746595,6.052258145620129,5.7948056480293975,6.372641576580125,5.371945209038893,6.32966257915094,5.1133256508088945,6.508024078523043,5.858666640918237,6.221635981323647,6.394403232217944,5.67024466627833,5.27791240768552,6.365833865581538,6.156213887418137,6.18760529443466,6.343290955213729,5.73295102475241,5.117182734577035,6.378637162448038,5.8988392375284695,5.277431184728174,5.646875495811567,6.527413303411089,6.00001493113382,6.760480622705858,6.070682688144526,5.287599105833955,6.336095939339018,5.997637524503916,6.073873695419582,6.544046490251147,6.544984195383972,6.028514179879753,5.6193070520485415,5.604067991467207,6.765180016216568,5.650189379662017,6.4038478261172,5.6447837418654805,5.952550431715531,5.442963286400907,5.3529568739520474,6.2148815438535,5.886718372175541,5.565387199162613,5.859652091618704,6.856708743181113,6.7128375392901845,6.039302107695284,6.805802040853551,6.092626254700007,5.883509215216957,6.1580677219018485,6.42880304423908,5.614233227249467,6.427120530442128,6.110947720942651,5.816773550509115,6.7656730142299555,5.723459077949972,5.653531259303261,5.885396001472467,5.911156011190363,5.87226639354444,7.256108824978661,6.00247523362192,6.031854133801931,5.65298683269821,6.246285466491207,5.884364377920414,4.954702611662771,6.841529101819068,5.837998189778168,6.7969193927738445,6.056415561832113,5.828740815208451,5.644787837255466,6.667954048507038,5.617393707325864,4.950216189410186,6.15412409115488,5.8842795742040135,6.678259865114405,5.927724080044684,6.0211340980067085,6.389535421596936,5.70293565687516,6.608739715047506,6.190561479697679,5.996946628602193,6.431269563203289,5.940689377272567,6.074624034541433,6.140394694376464,6.374556918066725,5.905668738093008,6.717424192472594,5.833004396299131,5.257802192905476,6.245999732415652,5.917352325679752,5.150230823567969,5.783911285526479,5.846141385381007,6.031219839509258,5.86375211708542,6.576400031040613,6.255886147534349,5.772516377984676,6.9564081450207045,5.7751015640298355,6.668686348451907,5.694565846434259,5.378646040065203,5.675689009737247,5.954194385719676,6.466334910973789,6.169954906952155,6.29300688285945,5.354022157810648,5.996137034884721,4.756151448918629,5.680291208938464,6.172185002652489,5.795271475837103,5.802948629185173,6.554354369995697,5.895224278743031,5.7488969847818145,6.317635064850201,6.186984925488803,5.646082453043913,7.078340914972598,6.229980312090523,6.067211041788196,5.309882810500936,6.135723106201359,6.187793502406057,6.800600486572702,5.658182226316227,6.137382467812698,5.587509981239653,5.971593378178427,5.725119894198776,6.2892957298838,5.90582011543334,5.78612967501198,5.381396216453157,7.182866120006622,6.340365522781524,5.689702783848274,6.312135129589276,6.258570414990201,6.058658078690641,6.33329725476848,5.940918330241316,6.981802396690886,5.086096699508046,6.246578382722964,7.1066777352714485,6.243111370019259,5.942699390609709,6.741521260298746,6.03701979332004,6.2753716693589405,6.03154026046289,6.359150131747793,6.361743309782376,6.549001143341687,5.847299733704169,5.964555256249715,4.994724158590229,5.624000248187784,5.888927027343291,5.479316982462607,6.22972496525006,4.813686313169749,6.9895745966954355,5.283418777796904,5.919565053913615,5.379296110966776,5.949883187931223,6.651162281516712,5.738610947658557,5.881461151487841,5.582836806944428,5.545103504907111,6.0649930793069196,5.818243428280103,7.207361848923366,5.414988085164323,5.973190177147511,5.7428526572853915,5.849604218256604,5.405387761181973,6.358619045031748,5.277054440321258,6.095494401032301,6.097467319957718,5.96994899922918,5.907867120843936,5.598892162261782,6.3008563226283805,6.611327608410931,6.192381638094649,6.275685447552002,5.315319329643073,6.588472656486132,5.869088219464235,5.679181778070882,5.815510001506128,7.420353448740901,5.67287844016083,6.401607514620644,6.2693294168608915,6.726084336059325,5.827183100588407,6.080105364253831,5.078207834374287,6.120806118376918,6.7101376191032625,5.739285371589768,6.032996785722174,5.989395626252187,6.182670184219452,6.2480641017047365,5.197484610446277,7.2592012390509915,6.060021763419589,5.7499317895944895,6.146455133793742,5.031032016243018,6.088276398479882,6.411607344634891,6.797915298746373,5.594285548696385,6.095669529921945,6.535818382694966,5.817434212953212,6.224306849260547,5.900499750540473,5.1846924594822665,5.495446692396745,6.60074958921593,6.2064934389330615,6.56638805739735,5.579004092517307,6.2414721056250135,6.477342656351484,5.795556750929909,5.969320920372626,5.34147683769663,5.449482846155181,5.39657866160778,6.07289291112894,6.58451007870935,5.420643353283666,6.3355581043267435,6.228644775726328,5.951452263391831,5.953094263381607,6.544378006163331,5.4074113025017665,5.995713384569789,5.741193405227005,5.927218300616319,6.224244925243677,6.289069998232926,5.354509445785808,5.785348804994294,5.6292858358536275,6.260361619104066,6.029056693962582,6.221889267535171,5.939382055355931,5.775350775691005,6.347482192237188,5.660906584374733,5.832890460534905,6.588675575487216,5.429206326737194,5.635989542751496,4.658592527347161,6.097750150324584,5.557777286811769,5.5899597796087095,5.996563108662113,5.809376861959003,5.46505964403321,6.0105715286003285,6.948591006326824,5.853739188499365,5.490549382832342,5.894915021759983,5.840901159095818,6.089113169457891,6.370701336075522,5.225071735383999,5.45647151987255,5.888072302001334,5.81546102509291,6.333851795897919,6.288042155159984,5.998851501254592,6.5189008879928,6.041973467512556,7.046195964956442,5.81951666644538,6.1684137065052935,6.068545324277431,6.409631565020284,6.143299833061894,6.208907569985788,6.287555324376684,5.9313880378732176,5.705764275420983,5.965039168663727,6.322521089715844,6.034867656760732,6.407366812654773,6.153837221829936,5.460191992345809,6.197346293065338,5.911509793671146,6.733211160283796,6.040880208393168,6.5205325069990865,5.445091044531807,6.020555845867823,5.3967724905682495,5.726144003032962,6.1195040900415405,6.1539254237330905,6.393162634397416,6.182368879221424,6.082531710796041,5.653985905574195,5.4781658901450365,5.350267798013956,5.3986042495017665,4.997637663596634,5.710202644016709,6.212347500603987,6.159565804135052,5.7933196246096825,6.177741751763518,5.61665609534185,6.751123232491571,6.450748222588563,5.965798871183707,6.16933930841532,6.810328937199605,6.675283462731858,6.142075853861954,7.044625342095458,6.3473126449267605,5.82110749839932,6.494499411911718,6.153581704789386,5.370648643149648,6.009145181972129,5.165008108282746,5.8651030410116185,5.858802722648981,6.430742911690229,6.798538041328776,6.953162148287796,6.007427212627411,6.091588006070084,6.054650334409495,6.707708614573226,6.379404385211996,5.988346688276804,7.265793614363155,6.055315238795475,5.737773063054102,6.714282287946063,5.948358514190173,6.411735003693982,5.423593259088103,5.044633857046577,6.390573575709845,5.38611352376961,6.50448696731011,6.799981658960444,5.770974205988042,5.670235723966356,6.040694654152796,6.344829427657709,5.7236613366325635,5.149767350350664,6.422279792948735,5.645662203995215,6.3190924453732,5.892029653993717,5.890627439082866,5.983563282590974,6.209000332847552,6.087760920093448,5.202566041683456,6.0351476561918584,5.530706929319983,6.0568154049335154,6.374761339730368,5.537670019502938,5.760101268770915,5.557296284803643,6.2490718592979215,5.7415776315091716,6.029618880916087,5.8579898427718575,5.919575745777261,6.010694371868444,6.38127030512505,5.97776364817364,5.978596896825591,5.029911064206575,6.383764610152987,4.706780432463482,6.292696424924552,6.206125616840335,5.747648483054523,6.85852650137744,7.006303735011874,6.281419867035062,6.457435978678987,6.690539872025529,6.491051737855674,5.5558419625483095,6.189723370464884,6.295280049128849,5.966590836546056,6.0207058569410865,5.931867746146145,7.15240662889289,5.943365082147063,6.180893478616193,5.898172919582058,6.052637530188335,6.377795111218658,5.351954924025045,5.673515442250772,6.112160464797584,5.782383949739111,5.176665533498243,6.594474910030025,5.853712978408949,6.125168868978388,5.66821783204486,6.095029527587615,6.319797769408094,5.036976614765303,6.326612923031725,5.503659287197017,5.481702233265226,6.279719840902389,5.705564364820894,5.778281266394265,5.958163504425285,5.859452006155991,5.98715726147088,6.024632710505195,6.602049621728656,5.7070920153209235,6.348793437355143,6.120042569566274,5.137311353134139,6.181870778264756,6.122298778972202,6.250743880264779,6.0369172989133455,5.926737089954181,5.565227310534977,5.84884182906359,5.870775232054989,6.137752247901189,6.059864449698888,5.636078802978307,6.970993916634676,5.624200785187816,6.812157166811405,6.8327383045259555,5.567117084379326,5.807486178125492,6.385224361380779,5.9742669355072,5.333682434956009,5.798538711244626,6.76458212772271,5.4028526298661435,5.199399381586634,6.592019032045827,6.079813442504181,5.29033187778032,5.297977265887934,6.3675945472623585,5.528683951118665,5.56503897421345,6.208406724999451,6.135817401443301,6.1898257337291485,5.961065798929904,6.406119511592713,5.803381445016207,5.433596005159392,5.050373153473662,5.635712181643019,5.532248351120809,5.110897467747406,5.925783699349288,6.304463355039474,5.399484114009241,6.362218875187195,6.0982076221915245,5.498189249762261,6.034943068195893,6.012849041321685,5.268211339818949,5.692524131823473,5.613034186746654,6.134191428481919,5.865482061426334,6.18083299416114,5.366886330137693,6.155600201556413,5.703930752973005,6.052601631836582,6.142220947922747,5.723286097958681,6.212595885945278,5.787307655330528,6.599595343545927,5.8412693726999825,7.208320349128971,5.4668819144403304,6.46887377383626,5.571151467709866,6.078132625948514,6.200789068454092,5.302512910148171,6.37101220160416,5.821416309821036,5.8099696454540855,5.97359438490731,5.487733274074913,6.78429418598225,5.88459723381595,5.144034616577644,6.335699823890092,6.644878390292799,6.904483632371259,5.860744299684831,6.687453119511562,6.405003343163935,5.948987139760369,5.623834691682262,5.406913206428206,6.22486410241857,6.614197533679486,6.730669873722459,6.113404043594251,6.46619802874527,6.098345144819225,5.496369407992899,5.939639862838898,6.31823525971266,6.604054668211922,5.514118535388961,6.30089402105566,5.630680223244459,5.973313964763266,5.991638915224113,5.237800071244928,5.884443778518149,6.060443932730685,6.053069570359516,6.4242368609039415,5.992662273315728,5.247972281398988,5.775958524708316,6.036853148581676,6.796188434430258,6.887460305363485,6.301023383815373,6.202151054483558,5.454320789361006,5.353068770678817,5.445284356070962,5.153890495262793,7.134106045556123,6.058568746379452,5.234734417041293,5.953970510478219,6.054454015248148,6.713645240662456,5.7783267843474055,6.064011864664519,5.485958591709762,5.35420069020725,6.471769213942512,5.641447397289025,5.887687019312843,6.524727398032606,6.292790890073719,5.657710029567111,5.9893008923894335,5.746863124993417,5.745069069937953,6.351508923936067,4.836681355085739,5.7734400807841295,6.340213859437637,5.43431859752178,6.383978364028193,6.351292511106489,4.7918028954214416,5.392391445870158,5.373729035222221,6.156727476916987,5.797931521291362,5.974530413165465,6.139272167955473,6.0015826574271065,5.469381369705224,5.41911216607977,6.043551555088175,5.491914077821611,6.180111024162253,6.268963763687809,6.187140544625766,6.31773963911969,6.190719735875607,5.781688913776673,5.706040359015568,5.878478743845829,6.323886446514669,6.187514175918175,6.909296775341613,6.095109571555322,5.96030087007589,6.224671893451538,5.603550083377861,6.499122584264183,5.54548497049281,5.947722212103872,5.5134116015051235,6.155363426356603,6.176826280860093,6.151155939779735,5.4250433850271245,6.242908854709352,5.250293580207672,5.935482430947425,5.521475319771895,6.39308166746832,6.3002028110943495,5.249706670596858,5.76279700711524,5.868495192252892,6.282493117548216,5.5531407690093575,5.893413024836337,5.869646132004361,5.602182659455826,5.548294144646483,7.0318930890451465,5.859642359876265,5.701882629704457,5.4587708759649605,5.365816446823044,5.753893690356293,5.263336134078809,5.318986140187337,5.295386197896819,6.608335715716093,5.549216905634524,5.916457091872369,6.308604144031336,6.1634045150175805,5.284015310034037,5.544383059062592,6.1771873801154475,6.476644297522084,5.998911707858149,5.668378088532004,6.413654579643063,6.2832610981296915,7.107269103498368,5.943818267671698,5.437259098342402,7.008441738767345,5.133897312433863,6.453800851668495,4.621355839223886,6.146775655898278,6.352787895068161,6.03437835678787,5.525585497691188,6.338641518731444,6.483215432358119,6.378784638291015,5.437116173784061,5.879689821185068,6.420830033784687,5.7680543207770745,4.938958854554248,5.980846358313298,5.949376764024773,6.161793387255175,6.338781839993546,5.991264850960609,6.77803982953183,5.896750355508204,6.765403855284503,5.91679845551632,6.027641180333708,5.429806793794217,6.196964608367559,5.672385901024901,5.874492881832443,5.7599190557478535,6.168716272966543,6.738478211025838,6.001786537712452,6.5000466514678195,6.150857282737013,5.77543241056188,5.602353682083711,6.402218033246521,6.649987901560235,6.126539865651458,5.958058546619722,5.642526306721568,5.483340929674991,5.600703477534055,6.0372308806117045,6.755564621931284,6.003861757230974,6.069586935258143,5.269645582941895,5.5770717125670775,5.746406682679309,6.220072212902839,5.468660798748447,6.282500247357845,6.213734403878898,5.407449063791645,6.873213903772321,6.458827105863106,6.055003825444012,6.0127647958471835,6.971910182870675,5.4072196672499295,5.715663124890733,6.554924492289333,6.180145077680573,5.497564609483633,6.5724032300689155,6.6615316502219875,6.447338973711496,6.93495761133494,6.424179154477807,6.116333858526321,5.629089354310408,6.080720675676206,5.665501292929884,6.31632471358198,6.769710316249882,5.715186403702615,6.945523162814467,4.965320066921315,6.816826194186154,6.0902832814756875,6.070181573495647,7.293603087898447,5.554470253524961,6.113546083066556,6.014636304638053],\"type\":\"histogram\",\"xaxis\":\"x4\",\"yaxis\":\"y4\",\"xbins\":{\"end\":10,\"start\":0}}],                        {\"template\":{\"data\":{\"histogram2dcontour\":[{\"type\":\"histogram2dcontour\",\"colorbar\":{\"outlinewidth\":0,\"ticks\":\"\"},\"colorscale\":[[0.0,\"#0d0887\"],[0.1111111111111111,\"#46039f\"],[0.2222222222222222,\"#7201a8\"],[0.3333333333333333,\"#9c179e\"],[0.4444444444444444,\"#bd3786\"],[0.5555555555555556,\"#d8576b\"],[0.6666666666666666,\"#ed7953\"],[0.7777777777777778,\"#fb9f3a\"],[0.8888888888888888,\"#fdca26\"],[1.0,\"#f0f921\"]]}],\"choropleth\":[{\"type\":\"choropleth\",\"colorbar\":{\"outlinewidth\":0,\"ticks\":\"\"}}],\"histogram2d\":[{\"type\":\"histogram2d\",\"colorbar\":{\"outlinewidth\":0,\"ticks\":\"\"},\"colorscale\":[[0.0,\"#0d0887\"],[0.1111111111111111,\"#46039f\"],[0.2222222222222222,\"#7201a8\"],[0.3333333333333333,\"#9c179e\"],[0.4444444444444444,\"#bd3786\"],[0.5555555555555556,\"#d8576b\"],[0.6666666666666666,\"#ed7953\"],[0.7777777777777778,\"#fb9f3a\"],[0.8888888888888888,\"#fdca26\"],[1.0,\"#f0f921\"]]}],\"heatmap\":[{\"type\":\"heatmap\",\"colorbar\":{\"outlinewidth\":0,\"ticks\":\"\"},\"colorscale\":[[0.0,\"#0d0887\"],[0.1111111111111111,\"#46039f\"],[0.2222222222222222,\"#7201a8\"],[0.3333333333333333,\"#9c179e\"],[0.4444444444444444,\"#bd3786\"],[0.5555555555555556,\"#d8576b\"],[0.6666666666666666,\"#ed7953\"],[0.7777777777777778,\"#fb9f3a\"],[0.8888888888888888,\"#fdca26\"],[1.0,\"#f0f921\"]]}],\"heatmapgl\":[{\"type\":\"heatmapgl\",\"colorbar\":{\"outlinewidth\":0,\"ticks\":\"\"},\"colorscale\":[[0.0,\"#0d0887\"],[0.1111111111111111,\"#46039f\"],[0.2222222222222222,\"#7201a8\"],[0.3333333333333333,\"#9c179e\"],[0.4444444444444444,\"#bd3786\"],[0.5555555555555556,\"#d8576b\"],[0.6666666666666666,\"#ed7953\"],[0.7777777777777778,\"#fb9f3a\"],[0.8888888888888888,\"#fdca26\"],[1.0,\"#f0f921\"]]}],\"contourcarpet\":[{\"type\":\"contourcarpet\",\"colorbar\":{\"outlinewidth\":0,\"ticks\":\"\"}}],\"contour\":[{\"type\":\"contour\",\"colorbar\":{\"outlinewidth\":0,\"ticks\":\"\"},\"colorscale\":[[0.0,\"#0d0887\"],[0.1111111111111111,\"#46039f\"],[0.2222222222222222,\"#7201a8\"],[0.3333333333333333,\"#9c179e\"],[0.4444444444444444,\"#bd3786\"],[0.5555555555555556,\"#d8576b\"],[0.6666666666666666,\"#ed7953\"],[0.7777777777777778,\"#fb9f3a\"],[0.8888888888888888,\"#fdca26\"],[1.0,\"#f0f921\"]]}],\"surface\":[{\"type\":\"surface\",\"colorbar\":{\"outlinewidth\":0,\"ticks\":\"\"},\"colorscale\":[[0.0,\"#0d0887\"],[0.1111111111111111,\"#46039f\"],[0.2222222222222222,\"#7201a8\"],[0.3333333333333333,\"#9c179e\"],[0.4444444444444444,\"#bd3786\"],[0.5555555555555556,\"#d8576b\"],[0.6666666666666666,\"#ed7953\"],[0.7777777777777778,\"#fb9f3a\"],[0.8888888888888888,\"#fdca26\"],[1.0,\"#f0f921\"]]}],\"mesh3d\":[{\"type\":\"mesh3d\",\"colorbar\":{\"outlinewidth\":0,\"ticks\":\"\"}}],\"scatter\":[{\"fillpattern\":{\"fillmode\":\"overlay\",\"size\":10,\"solidity\":0.2},\"type\":\"scatter\"}],\"parcoords\":[{\"type\":\"parcoords\",\"line\":{\"colorbar\":{\"outlinewidth\":0,\"ticks\":\"\"}}}],\"scatterpolargl\":[{\"type\":\"scatterpolargl\",\"marker\":{\"colorbar\":{\"outlinewidth\":0,\"ticks\":\"\"}}}],\"bar\":[{\"error_x\":{\"color\":\"#2a3f5f\"},\"error_y\":{\"color\":\"#2a3f5f\"},\"marker\":{\"line\":{\"color\":\"#E5ECF6\",\"width\":0.5},\"pattern\":{\"fillmode\":\"overlay\",\"size\":10,\"solidity\":0.2}},\"type\":\"bar\"}],\"scattergeo\":[{\"type\":\"scattergeo\",\"marker\":{\"colorbar\":{\"outlinewidth\":0,\"ticks\":\"\"}}}],\"scatterpolar\":[{\"type\":\"scatterpolar\",\"marker\":{\"colorbar\":{\"outlinewidth\":0,\"ticks\":\"\"}}}],\"histogram\":[{\"marker\":{\"pattern\":{\"fillmode\":\"overlay\",\"size\":10,\"solidity\":0.2}},\"type\":\"histogram\"}],\"scattergl\":[{\"type\":\"scattergl\",\"marker\":{\"colorbar\":{\"outlinewidth\":0,\"ticks\":\"\"}}}],\"scatter3d\":[{\"type\":\"scatter3d\",\"line\":{\"colorbar\":{\"outlinewidth\":0,\"ticks\":\"\"}},\"marker\":{\"colorbar\":{\"outlinewidth\":0,\"ticks\":\"\"}}}],\"scattermapbox\":[{\"type\":\"scattermapbox\",\"marker\":{\"colorbar\":{\"outlinewidth\":0,\"ticks\":\"\"}}}],\"scatterternary\":[{\"type\":\"scatterternary\",\"marker\":{\"colorbar\":{\"outlinewidth\":0,\"ticks\":\"\"}}}],\"scattercarpet\":[{\"type\":\"scattercarpet\",\"marker\":{\"colorbar\":{\"outlinewidth\":0,\"ticks\":\"\"}}}],\"carpet\":[{\"aaxis\":{\"endlinecolor\":\"#2a3f5f\",\"gridcolor\":\"white\",\"linecolor\":\"white\",\"minorgridcolor\":\"white\",\"startlinecolor\":\"#2a3f5f\"},\"baxis\":{\"endlinecolor\":\"#2a3f5f\",\"gridcolor\":\"white\",\"linecolor\":\"white\",\"minorgridcolor\":\"white\",\"startlinecolor\":\"#2a3f5f\"},\"type\":\"carpet\"}],\"table\":[{\"cells\":{\"fill\":{\"color\":\"#EBF0F8\"},\"line\":{\"color\":\"white\"}},\"header\":{\"fill\":{\"color\":\"#C8D4E3\"},\"line\":{\"color\":\"white\"}},\"type\":\"table\"}],\"barpolar\":[{\"marker\":{\"line\":{\"color\":\"#E5ECF6\",\"width\":0.5},\"pattern\":{\"fillmode\":\"overlay\",\"size\":10,\"solidity\":0.2}},\"type\":\"barpolar\"}],\"pie\":[{\"automargin\":true,\"type\":\"pie\"}]},\"layout\":{\"autotypenumbers\":\"strict\",\"colorway\":[\"#636efa\",\"#EF553B\",\"#00cc96\",\"#ab63fa\",\"#FFA15A\",\"#19d3f3\",\"#FF6692\",\"#B6E880\",\"#FF97FF\",\"#FECB52\"],\"font\":{\"color\":\"#2a3f5f\"},\"hovermode\":\"closest\",\"hoverlabel\":{\"align\":\"left\"},\"paper_bgcolor\":\"white\",\"plot_bgcolor\":\"#E5ECF6\",\"polar\":{\"bgcolor\":\"#E5ECF6\",\"angularaxis\":{\"gridcolor\":\"white\",\"linecolor\":\"white\",\"ticks\":\"\"},\"radialaxis\":{\"gridcolor\":\"white\",\"linecolor\":\"white\",\"ticks\":\"\"}},\"ternary\":{\"bgcolor\":\"#E5ECF6\",\"aaxis\":{\"gridcolor\":\"white\",\"linecolor\":\"white\",\"ticks\":\"\"},\"baxis\":{\"gridcolor\":\"white\",\"linecolor\":\"white\",\"ticks\":\"\"},\"caxis\":{\"gridcolor\":\"white\",\"linecolor\":\"white\",\"ticks\":\"\"}},\"coloraxis\":{\"colorbar\":{\"outlinewidth\":0,\"ticks\":\"\"}},\"colorscale\":{\"sequential\":[[0.0,\"#0d0887\"],[0.1111111111111111,\"#46039f\"],[0.2222222222222222,\"#7201a8\"],[0.3333333333333333,\"#9c179e\"],[0.4444444444444444,\"#bd3786\"],[0.5555555555555556,\"#d8576b\"],[0.6666666666666666,\"#ed7953\"],[0.7777777777777778,\"#fb9f3a\"],[0.8888888888888888,\"#fdca26\"],[1.0,\"#f0f921\"]],\"sequentialminus\":[[0.0,\"#0d0887\"],[0.1111111111111111,\"#46039f\"],[0.2222222222222222,\"#7201a8\"],[0.3333333333333333,\"#9c179e\"],[0.4444444444444444,\"#bd3786\"],[0.5555555555555556,\"#d8576b\"],[0.6666666666666666,\"#ed7953\"],[0.7777777777777778,\"#fb9f3a\"],[0.8888888888888888,\"#fdca26\"],[1.0,\"#f0f921\"]],\"diverging\":[[0,\"#8e0152\"],[0.1,\"#c51b7d\"],[0.2,\"#de77ae\"],[0.3,\"#f1b6da\"],[0.4,\"#fde0ef\"],[0.5,\"#f7f7f7\"],[0.6,\"#e6f5d0\"],[0.7,\"#b8e186\"],[0.8,\"#7fbc41\"],[0.9,\"#4d9221\"],[1,\"#276419\"]]},\"xaxis\":{\"gridcolor\":\"white\",\"linecolor\":\"white\",\"ticks\":\"\",\"title\":{\"standoff\":15},\"zerolinecolor\":\"white\",\"automargin\":true,\"zerolinewidth\":2},\"yaxis\":{\"gridcolor\":\"white\",\"linecolor\":\"white\",\"ticks\":\"\",\"title\":{\"standoff\":15},\"zerolinecolor\":\"white\",\"automargin\":true,\"zerolinewidth\":2},\"scene\":{\"xaxis\":{\"backgroundcolor\":\"#E5ECF6\",\"gridcolor\":\"white\",\"linecolor\":\"white\",\"showbackground\":true,\"ticks\":\"\",\"zerolinecolor\":\"white\",\"gridwidth\":2},\"yaxis\":{\"backgroundcolor\":\"#E5ECF6\",\"gridcolor\":\"white\",\"linecolor\":\"white\",\"showbackground\":true,\"ticks\":\"\",\"zerolinecolor\":\"white\",\"gridwidth\":2},\"zaxis\":{\"backgroundcolor\":\"#E5ECF6\",\"gridcolor\":\"white\",\"linecolor\":\"white\",\"showbackground\":true,\"ticks\":\"\",\"zerolinecolor\":\"white\",\"gridwidth\":2}},\"shapedefaults\":{\"line\":{\"color\":\"#2a3f5f\"}},\"annotationdefaults\":{\"arrowcolor\":\"#2a3f5f\",\"arrowhead\":0,\"arrowwidth\":1},\"geo\":{\"bgcolor\":\"white\",\"landcolor\":\"#E5ECF6\",\"subunitcolor\":\"white\",\"showland\":true,\"showlakes\":true,\"lakecolor\":\"white\"},\"title\":{\"x\":0.05},\"mapbox\":{\"style\":\"light\"}}},\"xaxis\":{\"anchor\":\"y\",\"domain\":[0.0,0.2125],\"title\":{\"text\":\"A\"},\"range\":[-0.5,10.5]},\"yaxis\":{\"anchor\":\"x\",\"domain\":[0.0,1.0]},\"xaxis2\":{\"anchor\":\"y2\",\"domain\":[0.2625,0.475],\"title\":{\"text\":\"B\"},\"range\":[-0.5,10.5]},\"yaxis2\":{\"anchor\":\"x2\",\"domain\":[0.0,1.0]},\"xaxis3\":{\"anchor\":\"y3\",\"domain\":[0.525,0.7375],\"title\":{\"text\":\"C\"},\"range\":[-0.5,10.5]},\"yaxis3\":{\"anchor\":\"x3\",\"domain\":[0.0,1.0]},\"xaxis4\":{\"anchor\":\"y4\",\"domain\":[0.7875,1.0],\"title\":{\"text\":\"D\"},\"range\":[-0.5,10.5]},\"yaxis4\":{\"anchor\":\"x4\",\"domain\":[0.0,1.0]},\"title\":{\"text\":\"Row of Histograms\"},\"height\":300,\"width\":750},                        {\"responsive\": true}                    ).then(function(){\n",
       "                            \n",
       "var gd = document.getElementById('6b87ba95-5e7a-4e5a-a3e9-66b270bcdd67');\n",
       "var x = new MutationObserver(function (mutations, observer) {{\n",
       "        var display = window.getComputedStyle(gd).display;\n",
       "        if (!display || display === 'none') {{\n",
       "            console.log([gd, 'removed!']);\n",
       "            Plotly.purge(gd);\n",
       "            observer.disconnect();\n",
       "        }}\n",
       "}});\n",
       "\n",
       "// Listen for the removal of the full notebook cells\n",
       "var notebookContainer = gd.closest('#notebook-container');\n",
       "if (notebookContainer) {{\n",
       "    x.observe(notebookContainer, {childList: true});\n",
       "}}\n",
       "\n",
       "// Listen for the clearing of the current output cell\n",
       "var outputEl = gd.closest('.output');\n",
       "if (outputEl) {{\n",
       "    x.observe(outputEl, {childList: true});\n",
       "}}\n",
       "\n",
       "                        })                };                });            </script>        </div>"
      ]
     },
     "metadata": {},
     "output_type": "display_data"
    }
   ],
   "source": [
    "from scipy import stats\n",
    "import plotly.graph_objects as go\n",
    "from plotly.subplots import make_subplots\n",
    "import numpy as np\n",
    "\n",
    "n = 1500\n",
    "data1 = stats.uniform.rvs(0, 10, size=n)\n",
    "data2 = stats.norm.rvs(5, 1.5, size=n)\n",
    "data3 = np.r_[stats.norm.rvs(2, 0.25, size=int(n/2)), stats.norm.rvs(8, 0.5, size=int(n/2))]\n",
    "data4 = stats.norm.rvs(6, 0.5, size=n)\n",
    "\n",
    "fig = make_subplots(rows=1, cols=4)\n",
    "\n",
    "fig.add_trace(go.Histogram(x=data1, name='A', nbinsx=30, marker=dict(line=dict(color='black', width=1))), row=1, col=1)\n",
    "fig.add_trace(go.Histogram(x=data2, name='B', nbinsx=15, marker=dict(line=dict(color='black', width=1))), row=1, col=2)\n",
    "fig.add_trace(go.Histogram(x=data3, name='C', nbinsx=45, marker=dict(line=dict(color='black', width=1))), row=1, col=3)\n",
    "fig.add_trace(go.Histogram(x=data4, name='D', nbinsx=15, marker=dict(line=dict(color='black', width=1))), row=1, col=4)\n",
    "\n",
    "fig.update_layout(height=300, width=750, title_text=\"Row of Histograms\")\n",
    "fig.update_xaxes(title_text=\"A\", row=1, col=1)\n",
    "fig.update_xaxes(title_text=\"B\", row=1, col=2)\n",
    "fig.update_xaxes(title_text=\"C\", row=1, col=3)\n",
    "fig.update_xaxes(title_text=\"D\", row=1, col=4)\n",
    "fig.update_xaxes(range=[-0.5, 10.5])\n",
    "\n",
    "for trace in fig.data:\n",
    "    trace.xbins = dict(start=0, end=10)\n",
    "    \n",
    "# This code was produced by just making requests to Microsoft Copilot\n",
    "# https://github.com/pointOfive/stat130chat130/blob/main/CHATLOG/wk3/COP/SLS/0001_concise_makeAplotV1.md\n",
    "\n",
    "fig.show() # USE `fig.show(renderer=\"png\")` FOR ALL GitHub and MarkUs SUBMISSIONS"
   ]
  },
  {
   "cell_type": "code",
   "execution_count": 23,
   "id": "15fa3f61",
   "metadata": {},
   "outputs": [],
   "source": [
    "# 4.1 A and C\n",
    "# 4.2 A and B\n",
    "# 4.3 A and C\n",
    "# 4.4 B and D\n"
   ]
  },
  {
   "cell_type": "code",
   "execution_count": 24,
   "id": "b0a2643f",
   "metadata": {},
   "outputs": [],
   "source": [
    "#  so unfortuannly, I sent a picutre of my graphs to chatgpt and asked it to imrpove it, and since I did that, apperntaly I cant\n",
    "# share my transcript of my chatbot becuase I sent a file pitcure to it??? I hope I still get the mark for it. I get this error\n",
    "# Unable to share conversation\n",
    "# Sharing conversations with user uploaded images is not yet supported.\n",
    "\n",
    "# This is my summary, hope this is good enough\n",
    "\n",
    "\n",
    "# In this chat, you initially asked for help marking the location (mean and median) and scale (range, interquartile range, and a range defined by two standard deviations from the mean) on Plotly histograms of flipper lengths for penguins. We worked on creating the visualizations using fig.add_hline(), fig.add_vline(), fig.add_hrect(), and fig.add_vrect() to add lines and shaded areas to the histograms for each penguin species. You then provided a screenshot of the result and asked for feedback on whether it met the requirements.\n",
    "\n",
    "# Next, you transitioned to using seaborn KDE plots instead of histograms to display the same data and asked for further improvements. We worked through generating the KDE plots with annotations for mean, median, and scale markers, similar to the Plotly histograms.\n",
    "\n",
    "# Later, you asked for an explanation of the code and how it worked, followed by a comparison of histograms, box plots, and KDEs. You shared your pros and cons for each visualization method, and I provided additional insights, agreeing with most of your points and adding my own pros and cons for each.\n",
    "\n",
    "# Finally, you asked about the meaning of \"explain your rationale for this preference,\" and I clarified that it refers to justifying or providing reasons for your choice.\n",
    "\n",
    "# Let me know if you need any more details or clarifications!\n"
   ]
  },
  {
   "cell_type": "code",
   "execution_count": 25,
   "id": "16eeba67",
   "metadata": {},
   "outputs": [
    {
     "name": "stdout",
     "output_type": "stream",
     "text": [
      "Missing values per column:\n",
      "restaurant id                      0\n",
      "category id                        0\n",
      "item id                            0\n",
      "serving size (oz)                355\n",
      "calories                           0\n",
      "calories from fat                490\n",
      "total fat (g)                      0\n",
      "total fat (% daily value)        490\n",
      "saturated fat (g)                113\n",
      "saturated fat (% daily value)    490\n",
      "trans fat (g)                    113\n",
      "cholesterol (mg)                 113\n",
      "cholesterol (% daily value)      490\n",
      "sodium (mg)                      113\n",
      "sodium (% daily value)           490\n",
      "carbohydrates (g)                  0\n",
      "carbohydrates (% daily value)    490\n",
      "dietary fiber (g)                  0\n",
      "dietary fiber (% daily value)    490\n",
      "sugars (g)                       113\n",
      "protein (g)                        0\n",
      "vitamin a (% daily value)        113\n",
      "vitamin c (% daily value)        113\n",
      "calcium (% daily value)          113\n",
      "iron (% daily value)             113\n",
      "dtype: int64\n",
      "Summary statistics:\n",
      "       restaurant id  category id     item id  serving size (oz)     calories  \\\n",
      "count          260.0   260.000000  260.000000         260.000000   260.000000   \n",
      "mean          1000.0   104.711538  129.500000          12.858032   368.269231   \n",
      "std              0.0     2.919357   75.199734           6.988335   240.269886   \n",
      "min           1000.0   100.000000    0.000000           1.000000     0.000000   \n",
      "25%           1000.0   102.000000   64.750000           6.975000   210.000000   \n",
      "50%           1000.0   106.000000  129.500000          12.000000   340.000000   \n",
      "75%           1000.0   107.000000  194.250000          16.000000   500.000000   \n",
      "max           1000.0   108.000000  259.000000          32.000000  1880.000000   \n",
      "\n",
      "       calories from fat  total fat (% daily value)  saturated fat (g)  \\\n",
      "count         260.000000                 260.000000         260.000000   \n",
      "mean          127.096154                  21.815385           6.007692   \n",
      "std           127.875914                  21.885199           5.321873   \n",
      "min             0.000000                   0.000000           0.000000   \n",
      "25%            20.000000                   3.750000           1.000000   \n",
      "50%           100.000000                  17.000000           5.000000   \n",
      "75%           200.000000                  35.000000          10.000000   \n",
      "max          1060.000000                 182.000000          20.000000   \n",
      "\n",
      "       saturated fat (% daily value)  trans fat (g)  ...  carbohydrates (g)  \\\n",
      "count                     260.000000     260.000000  ...         260.000000   \n",
      "mean                       29.965385       0.203846  ...          47.346154   \n",
      "std                        26.639209       0.429133  ...          28.252232   \n",
      "min                         0.000000       0.000000  ...           0.000000   \n",
      "25%                         4.750000       0.000000  ...          30.000000   \n",
      "50%                        24.000000       0.000000  ...          44.000000   \n",
      "75%                        48.000000       0.000000  ...          60.000000   \n",
      "max                       102.000000       2.500000  ...         141.000000   \n",
      "\n",
      "       carbohydrates (% daily value)  dietary fiber (g)  \\\n",
      "count                     260.000000         260.000000   \n",
      "mean                       15.780769           1.630769   \n",
      "std                         9.419544           1.567717   \n",
      "min                         0.000000           0.000000   \n",
      "25%                        10.000000           0.000000   \n",
      "50%                        15.000000           1.000000   \n",
      "75%                        20.000000           3.000000   \n",
      "max                        47.000000           7.000000   \n",
      "\n",
      "       dietary fiber (% daily value)  sugars (g)  protein (g)  \\\n",
      "count                     260.000000  260.000000   260.000000   \n",
      "mean                        6.530769   29.423077    13.338462   \n",
      "std                         6.307057   28.679797    11.426146   \n",
      "min                         0.000000    0.000000     0.000000   \n",
      "25%                         0.000000    5.750000     4.000000   \n",
      "50%                         5.000000   17.500000    12.000000   \n",
      "75%                        10.000000   48.000000    19.000000   \n",
      "max                        28.000000  128.000000    87.000000   \n",
      "\n",
      "       vitamin a (% daily value)  vitamin c (% daily value)  \\\n",
      "count                 260.000000                 260.000000   \n",
      "mean                   13.426923                   8.534615   \n",
      "std                    24.366381                  26.345542   \n",
      "min                     0.000000                   0.000000   \n",
      "25%                     2.000000                   0.000000   \n",
      "50%                     8.000000                   0.000000   \n",
      "75%                    15.000000                   4.000000   \n",
      "max                   170.000000                 240.000000   \n",
      "\n",
      "       calcium (% daily value)  iron (% daily value)  \n",
      "count               260.000000            260.000000  \n",
      "mean                 20.973077              7.734615  \n",
      "std                  17.019953              8.723263  \n",
      "min                   0.000000              0.000000  \n",
      "25%                   6.000000              0.000000  \n",
      "50%                  20.000000              4.000000  \n",
      "75%                  30.000000             15.000000  \n",
      "max                  70.000000             40.000000  \n",
      "\n",
      "[8 rows x 24 columns]\n"
     ]
    },
    {
     "data": {
      "image/png": "[encoded data removed]"
     },
     "metadata": {},
     "output_type": "display_data"
    },
    {
     "data": {
      "image/png": "[encoded data removed]"
     },
     "metadata": {},
     "output_type": "display_data"
    },
    {
     "data": {
      "image/png": "[encoded data removed]"
     },
     "metadata": {},
     "output_type": "display_data"
    },
    {
     "data": {
      "image/png": "[encoded data removed]"
     },
     "metadata": {},
     "output_type": "display_data"
    }
   ],
   "source": [
    "import pandas as pd\n",
    "import plotly.express as px\n",
    "\n",
    "# Load the dataset\n",
    "df = pd.read_csv(\"https://raw.githubusercontent.com/manuelamc14/fast-food-Nutritional-Database/main/Tables/nutrition.csv\")\n",
    "\n",
    "# 1. Assess missingness\n",
    "missing_values = df.isnull().sum()\n",
    "print(\"Missing values per column:\")\n",
    "print(missing_values)\n",
    "\n",
    "# Drop rows with missing data for simplicity in visualization\n",
    "df_clean = df.dropna()\n",
    "\n",
    "# Use .loc[] to avoid the SettingWithCopyWarning when converting to numeric\n",
    "df_clean.loc[:, 'total fat (g)'] = pd.to_numeric(df_clean['total fat (g)'], errors='coerce')\n",
    "df_clean.loc[:, 'carbohydrates (g)'] = pd.to_numeric(df_clean['carbohydrates (g)'], errors='coerce')\n",
    "df_clean.loc[:, 'protein (g)'] = pd.to_numeric(df_clean['protein (g)'], errors='coerce')\n",
    "df_clean.loc[:, 'calories'] = pd.to_numeric(df_clean['calories'], errors='coerce')\n",
    "\n",
    "# Drop any rows where conversions resulted in NaN\n",
    "df_clean = df_clean.dropna()\n",
    "\n",
    "# 2. Summary statistics\n",
    "print(\"Summary statistics:\")\n",
    "print(df_clean.describe())\n",
    "\n",
    "# 3. Distribution of calories\n",
    "fig_calories = px.histogram(df_clean, x=\"calories\", nbins=20, title=\"Distribution of Calories in Fast Food Items\")\n",
    "fig_calories.show(renderer=\"png\")\n",
    "\n",
    "# 4. Scatter plot for calories vs total fat\n",
    "fig_fat_calories = px.scatter(df_clean, x=\"calories\", y=\"total fat (g)\", title=\"Calories vs Total Fat in Fast Food Items\")\n",
    "fig_fat_calories.show(renderer=\"png\")\n",
    "\n",
    "# 5. Pie chart for average nutrient breakdown\n",
    "avg_nutrients = df_clean[['total fat (g)', 'carbohydrates (g)', 'protein (g)']].mean()\n",
    "fig_nutrients = px.pie(values=avg_nutrients, names=avg_nutrients.index, title=\"Average Nutrient Breakdown\")\n",
    "fig_nutrients.show(renderer=\"png\")\n",
    "\n",
    "# 6. Boxplot comparing calories across categories\n",
    "if 'category id' in df_clean.columns:\n",
    "    fig_boxplot = px.box(df_clean, x='category id', y='calories', title=\"Calories Across Food Categories\")\n",
    "    fig_boxplot.show(renderer=\"png\")\n",
    "else:\n",
    "    print(\"No 'category id' column found for boxplot comparison.\")\n"
   ]
  },
  {
   "cell_type": "code",
   "execution_count": 26,
   "id": "1b9853ec",
   "metadata": {},
   "outputs": [],
   "source": [
    "# #  this is the rest of my transcript, i really hope this is enough to get marks. \n",
    "# https://chatgpt.com/share/66f5faf1-0f8c-8000-842c-0f9639456f78\n",
    "#     This is my summary\n",
    "#     Goal: You wanted to ensure you meet the \"Evidence of meaningful activity for '6'\" criterion for a TUT activity, which involves finding a dataset, assessing missingness, summarizing, and visualizing variables, possibly comparing continuous variables across categories.\n",
    "\n",
    "# Dataset Selection: You provided a fast-food nutritional dataset from GitHub.\n",
    "\n",
    "# Analysis Steps:\n",
    "\n",
    "# Loading the Data: We loaded the dataset and previewed the columns and missing data.\n",
    "# Assessing Missingness: We calculated the number of missing values per column and dropped rows with missing data for simplicity.\n",
    "# Summary Statistics: We printed summary statistics for the cleaned dataset.\n",
    "# Visualizations:\n",
    "# A histogram for the distribution of calories.\n",
    "# A scatter plot to show the relationship between calories and total fat.\n",
    "# A pie chart for the average breakdown of macronutrients (fat, carbohydrates, protein).\n",
    "# A boxplot to compare calories across different food categories, if available.\n",
    "# Issue Encountered: There was an error due to mismatched column names (e.g., \"calories\" instead of \"Calories\"), which we fixed by using the correct column names from the dataset.\n",
    "\n",
    "# Next Steps: The code now successfully generates the visualizations, and the analysis meets the TUT activity criteria, including missingness assessment, summary statistics, and relevant visualizations."
   ]
  },
  {
   "cell_type": "code",
   "execution_count": null,
   "id": "28804f98",
   "metadata": {},
   "outputs": [],
   "source": []
  },
  {
   "cell_type": "code",
   "execution_count": null,
   "id": "9515bf47",
   "metadata": {},
   "outputs": [],
   "source": []
  },
  {
   "cell_type": "code",
   "execution_count": null,
   "id": "80d97498",
   "metadata": {},
   "outputs": [],
   "source": []
  },
  {
   "cell_type": "code",
   "execution_count": null,
   "id": "42bb84d5",
   "metadata": {},
   "outputs": [],
   "source": []
  },
  {
   "cell_type": "code",
   "execution_count": null,
   "id": "c178c7c3",
   "metadata": {},
   "outputs": [],
   "source": []
  },
  {
   "cell_type": "code",
   "execution_count": null,
   "id": "77268993",
   "metadata": {},
   "outputs": [],
   "source": []
  },
  {
   "cell_type": "code",
   "execution_count": null,
   "id": "a9fdc81b",
   "metadata": {},
   "outputs": [],
   "source": []
  },
  {
   "cell_type": "code",
   "execution_count": null,
   "id": "55c942ec",
   "metadata": {},
   "outputs": [],
   "source": []
  }
 ],
 "metadata": {
  "kernelspec": {
   "display_name": "Python 3 (ipykernel)",
   "language": "python",
   "name": "python3"
  },
  "language_info": {
   "codemirror_mode": {
    "name": "ipython",
    "version": 3
   },
   "file_extension": ".py",
   "mimetype": "text/x-python",
   "name": "python",
   "nbconvert_exporter": "python",
   "pygments_lexer": "ipython3",
   "version": "3.11.6"
  }
 },
 "nbformat": 4,
 "nbformat_minor": 5
}
