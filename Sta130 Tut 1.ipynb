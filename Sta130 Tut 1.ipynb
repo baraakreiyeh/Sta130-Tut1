{
 "cells": [
  {
   "cell_type": "code",
   "execution_count": 6,
   "id": "3106f3e3",
   "metadata": {},
   "outputs": [],
   "source": [
    "import pandas as pd"
   ]
  },
  {
   "cell_type": "code",
   "execution_count": 19,
   "id": "cb57a981",
   "metadata": {},
   "outputs": [],
   "source": [
    "url = \"https://raw.githubusercontent.com/KeithGalli/pandas/master/pokemon_data.csv\""
   ]
  },
  {
   "cell_type": "code",
   "execution_count": 20,
   "id": "c83a7569",
   "metadata": {
    "scrolled": false
   },
   "outputs": [],
   "source": [
    "x = pd.read_csv(url)"
   ]
  },
  {
   "cell_type": "code",
   "execution_count": 21,
   "id": "3a8a4b46",
   "metadata": {},
   "outputs": [
    {
     "name": "stdout",
     "output_type": "stream",
     "text": [
      "       #                   Name   Type 1  Type 2  HP  Attack  Defense  \\\n",
      "0      1              Bulbasaur    Grass  Poison  45      49       49   \n",
      "1      2                Ivysaur    Grass  Poison  60      62       63   \n",
      "2      3               Venusaur    Grass  Poison  80      82       83   \n",
      "3      3  VenusaurMega Venusaur    Grass  Poison  80     100      123   \n",
      "4      4             Charmander     Fire     NaN  39      52       43   \n",
      "..   ...                    ...      ...     ...  ..     ...      ...   \n",
      "795  719                Diancie     Rock   Fairy  50     100      150   \n",
      "796  719    DiancieMega Diancie     Rock   Fairy  50     160      110   \n",
      "797  720    HoopaHoopa Confined  Psychic   Ghost  80     110       60   \n",
      "798  720     HoopaHoopa Unbound  Psychic    Dark  80     160       60   \n",
      "799  721              Volcanion     Fire   Water  80     110      120   \n",
      "\n",
      "     Sp. Atk  Sp. Def  Speed  Generation  Legendary  \n",
      "0         65       65     45           1      False  \n",
      "1         80       80     60           1      False  \n",
      "2        100      100     80           1      False  \n",
      "3        122      120     80           1      False  \n",
      "4         60       50     65           1      False  \n",
      "..       ...      ...    ...         ...        ...  \n",
      "795      100      150     50           6       True  \n",
      "796      160      110    110           6       True  \n",
      "797      150      130     70           6       True  \n",
      "798      170      130     80           6       True  \n",
      "799      130       90     70           6       True  \n",
      "\n",
      "[800 rows x 12 columns]\n"
     ]
    }
   ],
   "source": [
    "print(x)"
   ]
  },
  {
   "cell_type": "code",
   "execution_count": 22,
   "id": "498e5e8e",
   "metadata": {},
   "outputs": [],
   "source": [
    "missing_counts = x.isnull().sum()"
   ]
  },
  {
   "cell_type": "code",
   "execution_count": 23,
   "id": "4d9cb381",
   "metadata": {},
   "outputs": [
    {
     "name": "stdout",
     "output_type": "stream",
     "text": [
      "#               0\n",
      "Name            0\n",
      "Type 1          0\n",
      "Type 2        386\n",
      "HP              0\n",
      "Attack          0\n",
      "Defense         0\n",
      "Sp. Atk         0\n",
      "Sp. Def         0\n",
      "Speed           0\n",
      "Generation      0\n",
      "Legendary       0\n",
      "dtype: int64\n"
     ]
    }
   ],
   "source": [
    "print(missing_counts)"
   ]
  },
  {
   "cell_type": "code",
   "execution_count": null,
   "id": "518517af",
   "metadata": {},
   "outputs": [],
   "source": [
    "https://chatgpt.com/share/66e48613-7f08-8000-976d-3d856e981535\n",
    "    "
   ]
  }
 ],
 "metadata": {
  "kernelspec": {
   "display_name": "Python 3 (ipykernel)",
   "language": "python",
   "name": "python3"
  },
  "language_info": {
   "codemirror_mode": {
    "name": "ipython",
    "version": 3
   },
   "file_extension": ".py",
   "mimetype": "text/x-python",
   "name": "python",
   "nbconvert_exporter": "python",
   "pygments_lexer": "ipython3",
   "version": "3.11.6"
  }
 },
 "nbformat": 4,
 "nbformat_minor": 5
}
